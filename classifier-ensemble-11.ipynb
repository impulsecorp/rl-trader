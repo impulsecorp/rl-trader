{
 "cells": [
  {
   "cell_type": "code",
   "execution_count": 1,
   "metadata": {
    "code_folding": [
     0
    ],
    "pycharm": {
     "is_executing": false
    }
   },
   "outputs": [
    {
     "name": "stdout",
     "output_type": "stream",
     "text": [
      "Populating the interactive namespace from numpy and matplotlib\n"
     ]
    },
    {
     "name": "stderr",
     "output_type": "stream",
     "text": [
      "Can not use cuDNN on context None: cannot compile with cuDNN. We got this error:\n",
      "b'/tmp/try_flags_6ci21qhj.c:4:10: fatal error: cudnn.h: No such file or directory\\n #include <cudnn.h>\\n          ^~~~~~~~~\\ncompilation terminated.\\n'\n",
      "Mapped name None to device cuda: GeForce GTX 1050 with Max-Q Design (0000:02:00.0)\n",
      "Using TensorFlow backend.\n"
     ]
    },
    {
     "name": "stdout",
     "output_type": "stream",
     "text": [
      "vizdoom could not be imported\n",
      "Pixiedust database opened successfully\n"
     ]
    },
    {
     "data": {
      "text/html": [
       "\n",
       "        <div style=\"margin:10px\">\n",
       "            <a href=\"https://github.com/ibm-watson-data-lab/pixiedust\" target=\"_new\">\n",
       "                <img src=\"https://github.com/ibm-watson-data-lab/pixiedust/raw/master/docs/_static/pd_icon32.png\" style=\"float:left;margin-right:10px\"/>\n",
       "            </a>\n",
       "            <span>Pixiedust version 1.1.17</span>\n",
       "        </div>\n",
       "        "
      ],
      "text/plain": [
       "<IPython.core.display.HTML object>"
      ]
     },
     "metadata": {},
     "output_type": "display_data"
    }
   ],
   "source": [
    "# all imports \n",
    "%pylab inline\n",
    "\n",
    "import os\n",
    "import sys\n",
    "import socket\n",
    "\n",
    "sys.path.append(\"/root\")\n",
    "sys.path.append(\"/home/peter\")\n",
    "sys.path.append(\"/home/peter/Desktop\")\n",
    "sys.path.append(\"/home/peter/Desktop/projects\")\n",
    "sys.path.append(\"/home/peter/Desktop/work\")\n",
    "sys.path.append(\"/home/peter/code/projects\")\n",
    "sys.path.append(\"/home/peter/code/work\")\n",
    "sys.path.append(\"/home/peter/code/common\")\n",
    "\n",
    "from ipywidgets import interact, interactive, fixed, IntSlider, FloatSlider\n",
    "from IPython.display import clear_output, display, HTML\n",
    "\n",
    "import cv2\n",
    "import os\n",
    "import pickle as pkl\n",
    "from sklearn import linear_model\n",
    "from sklearn.decomposition import PCA\n",
    "import random as rnd\n",
    "import numpy as np\n",
    "import matplotlib.pyplot as plt\n",
    "\n",
    "import theano.tensor as T\n",
    "import theano as th\n",
    "\n",
    "from aidevutil import *\n",
    "\n",
    "import cymysql as sql\n",
    "import pandas as pd\n",
    "from tqdm import tqdm_notebook as tqdm\n",
    "import datetime\n",
    "import time\n",
    "from trading_env import TradingEnv\n",
    "from numba import jit"
   ]
  },
  {
   "cell_type": "code",
   "execution_count": 2,
   "metadata": {
    "pycharm": {
     "is_executing": false
    }
   },
   "outputs": [],
   "source": [
    "np.random.seed()\n",
    "rnd.seed()"
   ]
  },
  {
   "cell_type": "code",
   "execution_count": 3,
   "metadata": {
    "pycharm": {
     "is_executing": false
    }
   },
   "outputs": [],
   "source": [
    "from sklearn.preprocessing import scale, robust_scale, normalize"
   ]
  },
  {
   "cell_type": "code",
   "execution_count": null,
   "metadata": {
    "pycharm": {
     "is_executing": false
    }
   },
   "outputs": [],
   "source": []
  },
  {
   "cell_type": "code",
   "execution_count": 4,
   "metadata": {
    "pycharm": {
     "is_executing": false
    }
   },
   "outputs": [],
   "source": [
    "dataname = 'eurusd_1h'\n",
    "\n",
    "input_source = np.load(\"data/data_%s.npy\" % dataname)\n",
    "to_predict = np.load(\"data/data_%s_targets.npy\" % dataname)\n",
    "\n",
    "to_predict = to_predict[3,:].reshape(-1)"
   ]
  },
  {
   "cell_type": "code",
   "execution_count": 5,
   "metadata": {
    "pycharm": {
     "is_executing": false
    }
   },
   "outputs": [
    {
     "data": {
      "text/plain": [
       "(320, 51348)"
      ]
     },
     "execution_count": 5,
     "metadata": {},
     "output_type": "execute_result"
    }
   ],
   "source": [
    "input_source.shape"
   ]
  },
  {
   "cell_type": "code",
   "execution_count": 6,
   "metadata": {
    "pycharm": {
     "is_executing": false
    }
   },
   "outputs": [],
   "source": [
    "input_source = input_source.T"
   ]
  },
  {
   "cell_type": "code",
   "execution_count": null,
   "metadata": {
    "pycharm": {
     "is_executing": false
    }
   },
   "outputs": [],
   "source": []
  },
  {
   "cell_type": "code",
   "execution_count": 7,
   "metadata": {
    "pycharm": {
     "is_executing": false
    }
   },
   "outputs": [],
   "source": [
    "is_orig = np.copy(input_source)\n",
    "cp = int(0.8*len(input_source))\n",
    "test_input_source = input_source[cp:, :]\n",
    "test_to_predict = to_predict[cp:]\n",
    "input_source = input_source[0:cp, :]\n",
    "to_predict = to_predict[0:cp]"
   ]
  },
  {
   "cell_type": "code",
   "execution_count": 8,
   "metadata": {
    "pycharm": {
     "is_executing": false
    }
   },
   "outputs": [],
   "source": [
    "test_input_source = test_input_source.T\n",
    "input_source = input_source.T"
   ]
  },
  {
   "cell_type": "code",
   "execution_count": 9,
   "metadata": {
    "pycharm": {
     "is_executing": false
    }
   },
   "outputs": [
    {
     "data": {
      "text/plain": [
       "((320, 41078), (320, 10270))"
      ]
     },
     "execution_count": 9,
     "metadata": {},
     "output_type": "execute_result"
    }
   ],
   "source": [
    "input_source.shape, test_input_source.shape"
   ]
  },
  {
   "cell_type": "code",
   "execution_count": null,
   "metadata": {
    "pycharm": {
     "is_executing": false
    }
   },
   "outputs": [],
   "source": []
  },
  {
   "cell_type": "code",
   "execution_count": 10,
   "metadata": {
    "pycharm": {
     "is_executing": false
    }
   },
   "outputs": [
    {
     "data": {
      "text/plain": [
       "array([1.3244 , 1.3238 , 1.3243 , 1.32365, 1.32435, 1.3241 , 1.3232 ,\n",
       "       1.3225 , 1.3218 , 1.322  , 1.3217 , 1.3223 , 1.3214 , 1.322  ,\n",
       "       1.3211 , 1.32   , 1.3187 , 1.3191 , 1.319  , 1.32075, 1.3215 ,\n",
       "       1.321  , 1.3215 , 1.323  , 1.3228 , 1.3227 , 1.3232 , 1.3234 ,\n",
       "       1.323  , 1.3226 , 1.3229 , 1.3236 , 1.3231 , 1.3234 , 1.3223 ,\n",
       "       1.3223 , 1.3221 , 1.3214 , 1.32285, 1.3234 , 1.3217 , 1.3223 ,\n",
       "       1.3221 , 1.3226 , 1.322  , 1.3213 , 1.31645, 1.3173 , 1.3175 ,\n",
       "       1.3181 ])"
      ]
     },
     "execution_count": 10,
     "metadata": {},
     "output_type": "execute_result"
    }
   ],
   "source": [
    "to_predict[0:50]"
   ]
  },
  {
   "cell_type": "code",
   "execution_count": 11,
   "metadata": {
    "pycharm": {
     "is_executing": false
    }
   },
   "outputs": [],
   "source": [
    "winlen = 1"
   ]
  },
  {
   "cell_type": "code",
   "execution_count": 12,
   "metadata": {
    "pycharm": {
     "is_executing": false
    }
   },
   "outputs": [],
   "source": [
    "sliding_window_jump = 1\n",
    "predict_time_ahead = 1\n",
    "binary = 1"
   ]
  },
  {
   "cell_type": "code",
   "execution_count": 13,
   "metadata": {
    "code_folding": [
     0
    ],
    "pycharm": {
     "is_executing": false
    }
   },
   "outputs": [],
   "source": [
    "def get_partitioned_counts(cl, rr, rt):\n",
    "    \" data, steps_forward, partition_num\"\n",
    "    cl = cl[rr:] - cl[0:-rr]\n",
    "    cl = hstack([[0]*rr, cl])\n",
    "    pdown = len(cl[cl < -rt])\n",
    "    pup = len(cl[cl > rt])\n",
    "    pmid = len(cl[(cl <= rt) & (cl >= -rt)])\n",
    "    return pup, pmid, pdown"
   ]
  },
  {
   "cell_type": "code",
   "execution_count": 14,
   "metadata": {
    "code_folding": [
     0
    ],
    "pycharm": {
     "is_executing": false
    }
   },
   "outputs": [],
   "source": [
    "def partition_data_num(cl, predict_ahead):\n",
    "    a=[]\n",
    "    b=[]\n",
    "    c=[]\n",
    "    ts = np.linspace(0.001, 100.0, 100000, )\n",
    "    for x in tqdm(ts):\n",
    "        au, am, ad = get_partitioned_counts(cl, predict_ahead, x)\n",
    "        a.append(au)\n",
    "        b.append(am)\n",
    "        c.append(ad)\n",
    "    a, b, c = array(a), array(b), array(c)\n",
    "    return ts[np.argmin(np.abs(a-b) + np.abs(a-c) + np.abs(b-c))]"
   ]
  },
  {
   "cell_type": "code",
   "execution_count": null,
   "metadata": {
    "pycharm": {
     "is_executing": false
    }
   },
   "outputs": [],
   "source": []
  },
  {
   "cell_type": "code",
   "execution_count": 15,
   "metadata": {
    "pycharm": {
     "is_executing": false
    }
   },
   "outputs": [],
   "source": [
    "# create training set\n",
    "if not binary:\n",
    "    sep = partition_data_num(to_predict, predict_time_ahead)\n",
    "    sep"
   ]
  },
  {
   "cell_type": "code",
   "execution_count": null,
   "metadata": {
    "pycharm": {
     "is_executing": false
    }
   },
   "outputs": [],
   "source": []
  },
  {
   "cell_type": "code",
   "execution_count": 16,
   "metadata": {
    "code_folding": [
     1
    ],
    "pycharm": {
     "is_executing": false
    }
   },
   "outputs": [],
   "source": [
    "#@jit\n",
    "def prepare_data(input_source, to_predict, binary=1, cpp=0.75):\n",
    "\n",
    "    x = []\n",
    "    y = []\n",
    "\n",
    "    ups = []\n",
    "    downs = []\n",
    "    mids = []\n",
    "\n",
    "    for i in range(0, input_source.shape[1]-(winlen+100), sliding_window_jump):\n",
    "        # form the input\n",
    "        txs = input_source[:, i:i+winlen]#.astype(np.float64)\n",
    "        #xs = scale(xs, axis=1)\n",
    "        xs = txs.ravel()\n",
    "\n",
    "        # for the output\n",
    "        now = to_predict[i+winlen-1]# close\n",
    "        future = to_predict[i+winlen+(predict_time_ahead-1)] # next close\n",
    "\n",
    "        ys = future-now\n",
    "        magn = abs(ys)\n",
    "\n",
    "        if not binary:\n",
    "            if magn < sep:\n",
    "                mids.append( (xs, (np.array([1]))) )\n",
    "            else:\n",
    "                if ys < 0:\n",
    "                    downs.append( (xs, (np.array([2]))) )\n",
    "                else:\n",
    "                    ups.append( (xs, (np.array([0]))) )\n",
    "        else:\n",
    "            if ys <= 0:\n",
    "                downs.append( (xs, (np.array([1]))) )\n",
    "            else:\n",
    "                ups.append( (xs, (np.array([0]))) )\n",
    "\n",
    "        #if (i%1000)==0:\n",
    "        #    clear_output(wait=True)\n",
    "        #    print('({}/{})'.format(i, input_source.shape[1]-winlen))\n",
    "\n",
    "    #print('Ups: {0} Mids: {1} Downs: {2}'.format(len(ups), len(mids), len(downs)))\n",
    "    #print('Separator: %3.5f' % sep)\n",
    "    #print()\n",
    "\n",
    "    if not binary:\n",
    "        samplesize = min(len(ups), len(downs), len(mids))\n",
    "        s1 = rnd.sample(ups, samplesize)\n",
    "        s2 = rnd.sample(downs, samplesize)\n",
    "        s3 = rnd.sample(mids, samplesize)\n",
    "        a = s1 + s2 + s3\n",
    "    else:\n",
    "        samplesize = min(len(ups), len(downs))\n",
    "        s1 = rnd.sample(ups, samplesize)\n",
    "        s2 = rnd.sample(downs, samplesize)\n",
    "        a = s1 + s2 \n",
    "    rnd.shuffle(a)\n",
    "    x = [x[0] for x in a]\n",
    "    y = [x[1] for x in a]\n",
    "\n",
    "    x = np.vstack(x)\n",
    "    y = np.vstack(y)\n",
    "    \n",
    "    x.shape = (x.shape[0], -1)\n",
    "    cutpoint = int(cpp * x.shape[0])\n",
    "    x_train = x[0:cutpoint]\n",
    "    x_test = x[cutpoint:]\n",
    "    y_train = y[0:cutpoint]\n",
    "    y_test = y[cutpoint:]\n",
    "    \n",
    "    return x_train, x_test, y_train.reshape(-1), y_test.reshape(-1)"
   ]
  },
  {
   "cell_type": "code",
   "execution_count": 17,
   "metadata": {
    "pycharm": {
     "is_executing": false
    }
   },
   "outputs": [],
   "source": [
    "#x_train, x_test, y_train, y_test = prepare_data(input_source, to_predict)"
   ]
  },
  {
   "cell_type": "code",
   "execution_count": null,
   "metadata": {
    "pycharm": {
     "is_executing": false
    }
   },
   "outputs": [],
   "source": []
  },
  {
   "cell_type": "code",
   "execution_count": null,
   "metadata": {
    "pycharm": {
     "is_executing": false
    }
   },
   "outputs": [],
   "source": []
  },
  {
   "cell_type": "code",
   "execution_count": null,
   "metadata": {
    "pycharm": {
     "is_executing": false
    }
   },
   "outputs": [],
   "source": []
  },
  {
   "cell_type": "code",
   "execution_count": null,
   "metadata": {
    "pycharm": {
     "is_executing": false
    }
   },
   "outputs": [],
   "source": []
  },
  {
   "cell_type": "code",
   "execution_count": 18,
   "metadata": {
    "pycharm": {
     "is_executing": false
    }
   },
   "outputs": [],
   "source": [
    "#matshow(x[400:500].T); colorbar();"
   ]
  },
  {
   "cell_type": "code",
   "execution_count": null,
   "metadata": {
    "pycharm": {
     "is_executing": false
    }
   },
   "outputs": [],
   "source": []
  },
  {
   "cell_type": "code",
   "execution_count": null,
   "metadata": {
    "pycharm": {
     "is_executing": false
    }
   },
   "outputs": [],
   "source": []
  },
  {
   "cell_type": "code",
   "execution_count": 19,
   "metadata": {
    "pycharm": {
     "is_executing": false
    }
   },
   "outputs": [],
   "source": [
    "from sklearn.ensemble import AdaBoostClassifier"
   ]
  },
  {
   "cell_type": "code",
   "execution_count": 20,
   "metadata": {
    "pycharm": {
     "is_executing": false
    }
   },
   "outputs": [],
   "source": [
    "# Classifiers\n",
    "from sklearn.neural_network import MLPClassifier\n",
    "from sklearn.neighbors import KNeighborsClassifier\n",
    "from sklearn.svm import SVC\n",
    "from sklearn.tree import DecisionTreeClassifier\n",
    "from sklearn.ensemble import RandomForestClassifier, AdaBoostClassifier, ExtraTreesClassifier, GradientBoostingClassifier \n",
    "from sklearn.naive_bayes import GaussianNB\n",
    "from sklearn.linear_model import LogisticRegression\n",
    "from xgboost import XGBClassifier\n",
    "from catboost import CatBoostClassifier"
   ]
  },
  {
   "cell_type": "code",
   "execution_count": 21,
   "metadata": {
    "pycharm": {
     "is_executing": false
    }
   },
   "outputs": [],
   "source": [
    "import sklearn as sk\n",
    "import time"
   ]
  },
  {
   "cell_type": "code",
   "execution_count": 22,
   "metadata": {},
   "outputs": [],
   "source": [
    "# Use skopt to find best parameters for the classifier\n",
    "#x_train, x_test, y_train, y_test = prepare_data(input_source, to_predict)"
   ]
  },
  {
   "cell_type": "code",
   "execution_count": 23,
   "metadata": {},
   "outputs": [],
   "source": [
    "from skopt.benchmarks import branin as branin\n",
    "from skopt.benchmarks import hart6 as hart6_\n",
    "from functools import partial\n",
    "from skopt.plots import plot_evaluations, plot_convergence\n",
    "from skopt.plots import plot_objective\n",
    "from skopt import gp_minimize, forest_minimize, dummy_minimize\n",
    "from skopt import callbacks\n",
    "#from skopt.callbacks import CheckpointSaver\n",
    "from skopt import load"
   ]
  },
  {
   "cell_type": "code",
   "execution_count": 24,
   "metadata": {
    "code_folding": [
     1,
     27
    ]
   },
   "outputs": [],
   "source": [
    "param_spaces = {}\n",
    "param_spaces['xgb'] = {'max_depth': {'space': [1, 2, 3],\n",
    "                                               'mut_prob': 0.15,\n",
    "                                               'default': 3},\n",
    "                                 'learning_rate': {'space': [0.01, 0.05, 0.1, 0.5],\n",
    "                                                   'mut_prob': 0.15,\n",
    "                                                   'default': 0.05},\n",
    "                                 'n_estimators': {'space': [10, 50, 100, 150, 200],\n",
    "                                                  'mut_prob': 0.15,\n",
    "                                                  'default': 50},\n",
    "                                 'min_child_weight': {'space': [1, 2, 3],\n",
    "                                                      'mut_prob': 0.15,\n",
    "                                                      'default': 5},\n",
    "                                 'subsample': {'space': [0.0, 0.8, 1.0],\n",
    "                                               'mut_prob': 0.15,\n",
    "                                               'default': 0.5},\n",
    "                                 'colsample_bytree': {'space': [0.0, 0.8, 1.0],\n",
    "                                                      'mut_prob': 0.15,\n",
    "                                                      'default': 0.5},\n",
    "                                   'colsample_bylevel': {'space': [0.0, 0.8, 1.0],\n",
    "                                                                  'mut_prob': 0.15,\n",
    "                                                                  'default': 0.5},\n",
    "                                   'colsample_bynode': {'space': [0.0, 0.8, 1.0],\n",
    "                                                                  'mut_prob': 0.15,\n",
    "                                                                  'default': 0.5},\n",
    "                                 }\n",
    "\n",
    "param_spaces['lgr'] = {'solver': {'space': ['newton-cg', 'lbfgs', 'liblinear', 'sag', 'saga'],\n",
    "                                                 'mut_prob': 0.15,\n",
    "                                                 'default': 'liblinear'},\n",
    "                                      'C': {'space': [0.0, 0.75, 0.95, 1.0],\n",
    "                                            'mut_prob': 0.15,\n",
    "                                            'default': 1.0},\n",
    "                                      'fit_intercept': {'space': [True, False],\n",
    "                                                        'mut_prob': 0.15,\n",
    "                                                        'default': True},\n",
    "                                      }"
   ]
  },
  {
   "cell_type": "code",
   "execution_count": 25,
   "metadata": {
    "code_folding": [
     0
    ]
   },
   "outputs": [],
   "source": [
    "# \n",
    "\n",
    "def optimize_classifier(classifier, cl, verbose=True):\n",
    "    order = sorted(list(param_spaces[classifier].keys()))\n",
    "\n",
    "    def testclf(args):\n",
    "        ps = {}\n",
    "        for a,o in zip(args,order):\n",
    "            sp = param_spaces[classifier][o]['space']\n",
    "            if isinstance(sp[0], int) and isinstance(sp[1], int):\n",
    "                ps[o] = a\n",
    "            elif isinstance(sp[0], float) and isinstance(sp[1], float):\n",
    "                ps[o] = a\n",
    "            else:\n",
    "                ps[o] = param_spaces[classifier][o]['space'][a]\n",
    "                \n",
    "        #clf = cl(**ps, n_jobs=8)\n",
    "        #clf.fit(x_train, y_train)\n",
    "        #sc = clf.score(x_test,y_test)\n",
    "        print('Trying:', str(ps))\n",
    "        num_clfs = 5\n",
    "        clfs = [cl(**ps, n_jobs=8) for x in range(num_clfs)]\n",
    "        scores_tr, scores_ts = [], []\n",
    "        for clf in tqdm(clfs):\n",
    "            x_train, x_test, y_train, y_test = prepare_data(input_source, to_predict)\n",
    "            clf.fit(x_train, y_train)\n",
    "            scores_tr.append(clf.score(x_train, y_train))\n",
    "            scores_ts.append(clf.score(x_test, y_test))\n",
    "        sc = mean(scores_ts)\n",
    "        return -sc\n",
    "    \n",
    "    bl = []\n",
    "    for o in order:\n",
    "        sp = param_spaces[classifier][o]['space']\n",
    "        if isinstance(sp[0], int) and isinstance(sp[1], int):\n",
    "            bl.append((sp[0], sp[-1]))\n",
    "        elif isinstance(sp[0], float) and isinstance(sp[1], float):\n",
    "            bl.append((sp[0], sp[-1]))\n",
    "        else:\n",
    "            bl.append( (0, len(sp)-1) )\n",
    "\n",
    "    res=None\n",
    "    try:\n",
    "        res = gp_minimize(testclf, bl, \n",
    "                          n_calls=150,\n",
    "                          n_random_starts=10, \n",
    "                          #callback=[checkpoint_saver],\n",
    "                          #noise=variance_data[classifier],\n",
    "                          verbose=verbose)\n",
    "    except KeyboardInterrupt:\n",
    "        pass#res = load(fname)\n",
    "    \n",
    "    except Exception as ex:\n",
    "        print(ex)\n",
    "        \n",
    "    a = list(zip(order,res.x))\n",
    "    na = []\n",
    "    for o, am in a:\n",
    "        sp = param_spaces[classifier][o]['space']\n",
    "        if isinstance(sp[0], int) and isinstance(sp[1], int):\n",
    "            na.append( [o, am] )\n",
    "        elif isinstance(sp[0], float) and isinstance(sp[1], float):\n",
    "            na.append( [o, am] )\n",
    "        else:\n",
    "            na.append( [o, param_spaces[classifier][o]['space'][am]] )\n",
    "        \n",
    "    return dict(na)"
   ]
  },
  {
   "cell_type": "code",
   "execution_count": 26,
   "metadata": {
    "scrolled": true
   },
   "outputs": [
    {
     "name": "stdout",
     "output_type": "stream",
     "text": [
      "Iteration No: 1 started. Evaluating function at random point.\n",
      "Trying: {'colsample_bylevel': 0.2647009326468088, 'colsample_bynode': 0.21135978095991542, 'colsample_bytree': 0.03298947136750364, 'learning_rate': 0.25062540529313876, 'max_depth': 3, 'min_child_weight': 3, 'n_estimators': 12, 'subsample': 0.5336792475211578}\n"
     ]
    },
    {
     "data": {
      "application/vnd.jupyter.widget-view+json": {
       "model_id": "e08f174fa5714e00870980fd92c65217",
       "version_major": 2,
       "version_minor": 0
      },
      "text/plain": [
       "HBox(children=(IntProgress(value=0, max=5), HTML(value='')))"
      ]
     },
     "metadata": {},
     "output_type": "display_data"
    },
    {
     "name": "stdout",
     "output_type": "stream",
     "text": [
      "\n",
      "Iteration No: 1 ended. Evaluation done at random point.\n",
      "Time taken: 4.2470\n",
      "Function value obtained: -0.5159\n",
      "Current minimum: -0.5159\n",
      "Iteration No: 2 started. Evaluating function at random point.\n",
      "Trying: {'colsample_bylevel': 0.7876414560548871, 'colsample_bynode': 0.9021758281039556, 'colsample_bytree': 0.9889110768385215, 'learning_rate': 0.20073779636401068, 'max_depth': 1, 'min_child_weight': 2, 'n_estimators': 92, 'subsample': 0.499573315151446}\n"
     ]
    },
    {
     "data": {
      "application/vnd.jupyter.widget-view+json": {
       "model_id": "b2a7eac6a85140e59180ea43df8bdafa",
       "version_major": 2,
       "version_minor": 0
      },
      "text/plain": [
       "HBox(children=(IntProgress(value=0, max=5), HTML(value='')))"
      ]
     },
     "metadata": {},
     "output_type": "display_data"
    },
    {
     "name": "stdout",
     "output_type": "stream",
     "text": [
      "\n",
      "Iteration No: 2 ended. Evaluation done at random point.\n",
      "Time taken: 16.6029\n",
      "Function value obtained: -0.5322\n",
      "Current minimum: -0.5322\n",
      "Iteration No: 3 started. Evaluating function at random point.\n",
      "Trying: {'colsample_bylevel': 0.8492562773102149, 'colsample_bynode': 0.08151047150748615, 'colsample_bytree': 0.9671613355874972, 'learning_rate': 0.10565996010194054, 'max_depth': 2, 'min_child_weight': 2, 'n_estimators': 183, 'subsample': 0.4375066157417552}\n"
     ]
    },
    {
     "data": {
      "application/vnd.jupyter.widget-view+json": {
       "model_id": "c1b0f4adfc13468db437bf833ea1d49e",
       "version_major": 2,
       "version_minor": 0
      },
      "text/plain": [
       "HBox(children=(IntProgress(value=0, max=5), HTML(value='')))"
      ]
     },
     "metadata": {},
     "output_type": "display_data"
    },
    {
     "name": "stdout",
     "output_type": "stream",
     "text": [
      "\n",
      "Iteration No: 3 ended. Evaluation done at random point.\n",
      "Time taken: 19.9751\n",
      "Function value obtained: -0.5295\n",
      "Current minimum: -0.5322\n",
      "Iteration No: 4 started. Evaluating function at random point.\n",
      "Trying: {'colsample_bylevel': 0.31365159906866774, 'colsample_bynode': 0.4969905641965646, 'colsample_bytree': 0.8630682874698672, 'learning_rate': 0.3455237387279191, 'max_depth': 3, 'min_child_weight': 3, 'n_estimators': 176, 'subsample': 0.5789087762953015}\n"
     ]
    },
    {
     "data": {
      "application/vnd.jupyter.widget-view+json": {
       "model_id": "89b3e8e4250a435887da26edb9bda0e3",
       "version_major": 2,
       "version_minor": 0
      },
      "text/plain": [
       "HBox(children=(IntProgress(value=0, max=5), HTML(value='')))"
      ]
     },
     "metadata": {},
     "output_type": "display_data"
    },
    {
     "name": "stdout",
     "output_type": "stream",
     "text": [
      "\n",
      "Iteration No: 4 ended. Evaluation done at random point.\n",
      "Time taken: 31.8804\n",
      "Function value obtained: -0.5166\n",
      "Current minimum: -0.5322\n",
      "Iteration No: 5 started. Evaluating function at random point.\n",
      "Trying: {'colsample_bylevel': 0.13364129620136003, 'colsample_bynode': 0.2565697722268417, 'colsample_bytree': 0.9000148413364671, 'learning_rate': 0.04131241312920707, 'max_depth': 2, 'min_child_weight': 2, 'n_estimators': 126, 'subsample': 0.7306202419259545}\n"
     ]
    },
    {
     "data": {
      "application/vnd.jupyter.widget-view+json": {
       "model_id": "843c03f0686f41f1964858f7858a3421",
       "version_major": 2,
       "version_minor": 0
      },
      "text/plain": [
       "HBox(children=(IntProgress(value=0, max=5), HTML(value='')))"
      ]
     },
     "metadata": {},
     "output_type": "display_data"
    },
    {
     "name": "stdout",
     "output_type": "stream",
     "text": [
      "\n",
      "Iteration No: 5 ended. Evaluation done at random point.\n",
      "Time taken: 12.2140\n",
      "Function value obtained: -0.5288\n",
      "Current minimum: -0.5322\n",
      "Iteration No: 6 started. Evaluating function at random point.\n",
      "Trying: {'colsample_bylevel': 0.9918112276803752, 'colsample_bynode': 0.5889086918077258, 'colsample_bytree': 0.9529967885691234, 'learning_rate': 0.43459335120476794, 'max_depth': 2, 'min_child_weight': 3, 'n_estimators': 51, 'subsample': 0.6252821779281932}\n"
     ]
    },
    {
     "data": {
      "application/vnd.jupyter.widget-view+json": {
       "model_id": "8e28452eb74949a2ae3814755093d1df",
       "version_major": 2,
       "version_minor": 0
      },
      "text/plain": [
       "HBox(children=(IntProgress(value=0, max=5), HTML(value='')))"
      ]
     },
     "metadata": {},
     "output_type": "display_data"
    },
    {
     "name": "stdout",
     "output_type": "stream",
     "text": [
      "\n",
      "Iteration No: 6 ended. Evaluation done at random point.\n",
      "Time taken: 20.7429\n",
      "Function value obtained: -0.5207\n",
      "Current minimum: -0.5322\n",
      "Iteration No: 7 started. Evaluating function at random point.\n",
      "Trying: {'colsample_bylevel': 0.8290032182538281, 'colsample_bynode': 0.8822807146414099, 'colsample_bytree': 0.28168923013775, 'learning_rate': 0.3188203564671216, 'max_depth': 2, 'min_child_weight': 2, 'n_estimators': 190, 'subsample': 0.06736025349195564}\n"
     ]
    },
    {
     "data": {
      "application/vnd.jupyter.widget-view+json": {
       "model_id": "2ed76be5bad14b8bb78f0baa4cb4e633",
       "version_major": 2,
       "version_minor": 0
      },
      "text/plain": [
       "HBox(children=(IntProgress(value=0, max=5), HTML(value='')))"
      ]
     },
     "metadata": {},
     "output_type": "display_data"
    },
    {
     "name": "stdout",
     "output_type": "stream",
     "text": [
      "\n",
      "Iteration No: 7 ended. Evaluation done at random point.\n",
      "Time taken: 18.1478\n",
      "Function value obtained: -0.5040\n",
      "Current minimum: -0.5322\n",
      "Iteration No: 8 started. Evaluating function at random point.\n",
      "Trying: {'colsample_bylevel': 0.17958889311528672, 'colsample_bynode': 0.8499867194052447, 'colsample_bytree': 0.9323519164845181, 'learning_rate': 0.4550449675693243, 'max_depth': 1, 'min_child_weight': 2, 'n_estimators': 172, 'subsample': 0.0325486143643361}\n"
     ]
    },
    {
     "data": {
      "application/vnd.jupyter.widget-view+json": {
       "model_id": "a21f47b083274e589c1d421371a0c360",
       "version_major": 2,
       "version_minor": 0
      },
      "text/plain": [
       "HBox(children=(IntProgress(value=0, max=5), HTML(value='')))"
      ]
     },
     "metadata": {},
     "output_type": "display_data"
    },
    {
     "name": "stdout",
     "output_type": "stream",
     "text": [
      "\n",
      "Iteration No: 8 ended. Evaluation done at random point.\n",
      "Time taken: 17.2881\n",
      "Function value obtained: -0.5076\n",
      "Current minimum: -0.5322\n",
      "Iteration No: 9 started. Evaluating function at random point.\n",
      "Trying: {'colsample_bylevel': 0.5851738046598263, 'colsample_bynode': 0.022989088355421353, 'colsample_bytree': 0.9331978413341459, 'learning_rate': 0.06002719445435995, 'max_depth': 2, 'min_child_weight': 2, 'n_estimators': 122, 'subsample': 0.09345281707449339}\n"
     ]
    },
    {
     "data": {
      "application/vnd.jupyter.widget-view+json": {
       "model_id": "11e0cdfc1dac42898128d79c4f9ca759",
       "version_major": 2,
       "version_minor": 0
      },
      "text/plain": [
       "HBox(children=(IntProgress(value=0, max=5), HTML(value='')))"
      ]
     },
     "metadata": {},
     "output_type": "display_data"
    },
    {
     "name": "stdout",
     "output_type": "stream",
     "text": [
      "\n",
      "Iteration No: 9 ended. Evaluation done at random point.\n",
      "Time taken: 11.3298\n",
      "Function value obtained: -0.5213\n",
      "Current minimum: -0.5322\n",
      "Iteration No: 10 started. Evaluating function at random point.\n",
      "Trying: {'colsample_bylevel': 0.08271687351345682, 'colsample_bynode': 0.5011186773582548, 'colsample_bytree': 0.9355131396985131, 'learning_rate': 0.418463448399504, 'max_depth': 3, 'min_child_weight': 3, 'n_estimators': 115, 'subsample': 0.377421155364572}\n"
     ]
    },
    {
     "data": {
      "application/vnd.jupyter.widget-view+json": {
       "model_id": "523f00c01ace43bcb082147967753e6a",
       "version_major": 2,
       "version_minor": 0
      },
      "text/plain": [
       "HBox(children=(IntProgress(value=0, max=5), HTML(value='')))"
      ]
     },
     "metadata": {},
     "output_type": "display_data"
    },
    {
     "name": "stdout",
     "output_type": "stream",
     "text": [
      "\n",
      "Iteration No: 10 ended. Evaluation done at random point.\n",
      "Time taken: 13.8253\n",
      "Function value obtained: -0.5134\n",
      "Current minimum: -0.5322\n",
      "Iteration No: 11 started. Searching for the next optimal point.\n",
      "Trying: {'colsample_bylevel': 1.0, 'colsample_bynode': 0.0, 'colsample_bytree': 1.0, 'learning_rate': 0.01, 'max_depth': 1, 'min_child_weight': 3, 'n_estimators': 10, 'subsample': 1.0}\n"
     ]
    },
    {
     "data": {
      "application/vnd.jupyter.widget-view+json": {
       "model_id": "622be1b6013a44c7a34c5a56133709a1",
       "version_major": 2,
       "version_minor": 0
      },
      "text/plain": [
       "HBox(children=(IntProgress(value=0, max=5), HTML(value='')))"
      ]
     },
     "metadata": {},
     "output_type": "display_data"
    },
    {
     "name": "stdout",
     "output_type": "stream",
     "text": [
      "\n",
      "Iteration No: 11 ended. Search finished for the next optimal point.\n",
      "Time taken: 5.1992\n",
      "Function value obtained: -0.5158\n",
      "Current minimum: -0.5322\n",
      "Iteration No: 12 started. Searching for the next optimal point.\n",
      "Trying: {'colsample_bylevel': 1.0, 'colsample_bynode': 0.0, 'colsample_bytree': 1.0, 'learning_rate': 0.01, 'max_depth': 1, 'min_child_weight': 1, 'n_estimators': 10, 'subsample': 0.5405099874072254}\n"
     ]
    },
    {
     "data": {
      "application/vnd.jupyter.widget-view+json": {
       "model_id": "f16542972cdd440d9ad85d0f554fe52b",
       "version_major": 2,
       "version_minor": 0
      },
      "text/plain": [
       "HBox(children=(IntProgress(value=0, max=5), HTML(value='')))"
      ]
     },
     "metadata": {},
     "output_type": "display_data"
    },
    {
     "name": "stdout",
     "output_type": "stream",
     "text": [
      "\n",
      "Iteration No: 12 ended. Search finished for the next optimal point.\n",
      "Time taken: 5.0746\n",
      "Function value obtained: -0.5154\n",
      "Current minimum: -0.5322\n",
      "Iteration No: 13 started. Searching for the next optimal point.\n",
      "Trying: {'colsample_bylevel': 0.11456977224799073, 'colsample_bynode': 0.9281882661473573, 'colsample_bytree': 0.0545354905923099, 'learning_rate': 0.018678743823315944, 'max_depth': 2, 'min_child_weight': 1, 'n_estimators': 25, 'subsample': 0.9902101095154544}\n"
     ]
    },
    {
     "data": {
      "application/vnd.jupyter.widget-view+json": {
       "model_id": "f08f5375928b49d987f8480838325670",
       "version_major": 2,
       "version_minor": 0
      },
      "text/plain": [
       "HBox(children=(IntProgress(value=0, max=5), HTML(value='')))"
      ]
     },
     "metadata": {},
     "output_type": "display_data"
    },
    {
     "name": "stdout",
     "output_type": "stream",
     "text": [
      "\n",
      "Iteration No: 13 ended. Search finished for the next optimal point.\n",
      "Time taken: 5.8843\n",
      "Function value obtained: -0.5168\n",
      "Current minimum: -0.5322\n",
      "Iteration No: 14 started. Searching for the next optimal point.\n",
      "Trying: {'colsample_bylevel': 0.09929302650800267, 'colsample_bynode': 0.9057564913120799, 'colsample_bytree': 0.012446606788728557, 'learning_rate': 0.012568270771734957, 'max_depth': 1, 'min_child_weight': 1, 'n_estimators': 57, 'subsample': 0.3755919746093148}\n"
     ]
    },
    {
     "data": {
      "application/vnd.jupyter.widget-view+json": {
       "model_id": "46f05046c08944ef869e6dbce04df791",
       "version_major": 2,
       "version_minor": 0
      },
      "text/plain": [
       "HBox(children=(IntProgress(value=0, max=5), HTML(value='')))"
      ]
     },
     "metadata": {},
     "output_type": "display_data"
    },
    {
     "name": "stdout",
     "output_type": "stream",
     "text": [
      "\n",
      "Iteration No: 14 ended. Search finished for the next optimal point.\n",
      "Time taken: 7.2753\n",
      "Function value obtained: -0.5194\n",
      "Current minimum: -0.5322\n",
      "Iteration No: 15 started. Searching for the next optimal point.\n",
      "Trying: {'colsample_bylevel': 0.9260928917606341, 'colsample_bynode': 0.025247527960062584, 'colsample_bytree': 0.0028035760969720163, 'learning_rate': 0.02011964576519662, 'max_depth': 3, 'min_child_weight': 3, 'n_estimators': 168, 'subsample': 0.297745494311399}\n"
     ]
    },
    {
     "data": {
      "application/vnd.jupyter.widget-view+json": {
       "model_id": "a3778057aae64fcca0feaa410ce1b87b",
       "version_major": 2,
       "version_minor": 0
      },
      "text/plain": [
       "HBox(children=(IntProgress(value=0, max=5), HTML(value='')))"
      ]
     },
     "metadata": {},
     "output_type": "display_data"
    },
    {
     "name": "stdout",
     "output_type": "stream",
     "text": [
      "\n",
      "Iteration No: 15 ended. Search finished for the next optimal point.\n",
      "Time taken: 13.9066\n",
      "Function value obtained: -0.5166\n",
      "Current minimum: -0.5322\n",
      "Iteration No: 16 started. Searching for the next optimal point.\n",
      "Trying: {'colsample_bylevel': 0.9031124110691341, 'colsample_bynode': 0.6832807743377369, 'colsample_bytree': 0.03043503802828674, 'learning_rate': 0.493500003120266, 'max_depth': 1, 'min_child_weight': 1, 'n_estimators': 18, 'subsample': 0.14636353171920494}\n"
     ]
    },
    {
     "data": {
      "application/vnd.jupyter.widget-view+json": {
       "model_id": "adad808809cf4095971755218d311f2b",
       "version_major": 2,
       "version_minor": 0
      },
      "text/plain": [
       "HBox(children=(IntProgress(value=0, max=5), HTML(value='')))"
      ]
     },
     "metadata": {},
     "output_type": "display_data"
    },
    {
     "name": "stdout",
     "output_type": "stream",
     "text": [
      "\n",
      "Iteration No: 16 ended. Search finished for the next optimal point.\n",
      "Time taken: 6.4004\n",
      "Function value obtained: -0.5173\n",
      "Current minimum: -0.5322\n",
      "Iteration No: 17 started. Searching for the next optimal point.\n",
      "Trying: {'colsample_bylevel': 0.6763960882175842, 'colsample_bynode': 0.019945726422609947, 'colsample_bytree': 0.9732669789875927, 'learning_rate': 0.4956696006842451, 'max_depth': 1, 'min_child_weight': 1, 'n_estimators': 42, 'subsample': 0.8453256665255364}\n"
     ]
    },
    {
     "data": {
      "application/vnd.jupyter.widget-view+json": {
       "model_id": "22b27b0d41f24f2a8a643af55b433555",
       "version_major": 2,
       "version_minor": 0
      },
      "text/plain": [
       "HBox(children=(IntProgress(value=0, max=5), HTML(value='')))"
      ]
     },
     "metadata": {},
     "output_type": "display_data"
    },
    {
     "name": "stdout",
     "output_type": "stream",
     "text": [
      "\n",
      "Iteration No: 17 ended. Search finished for the next optimal point.\n",
      "Time taken: 6.8608\n",
      "Function value obtained: -0.5280\n",
      "Current minimum: -0.5322\n",
      "Iteration No: 18 started. Searching for the next optimal point.\n",
      "Trying: {'colsample_bylevel': 0.04853455123372609, 'colsample_bynode': 0.8666302775719452, 'colsample_bytree': 0.11328431763512128, 'learning_rate': 0.4744907181235875, 'max_depth': 1, 'min_child_weight': 1, 'n_estimators': 200, 'subsample': 0.98774239252563}\n"
     ]
    },
    {
     "data": {
      "application/vnd.jupyter.widget-view+json": {
       "model_id": "47741bccdec1498283b7cc477d908f2d",
       "version_major": 2,
       "version_minor": 0
      },
      "text/plain": [
       "HBox(children=(IntProgress(value=0, max=5), HTML(value='')))"
      ]
     },
     "metadata": {},
     "output_type": "display_data"
    },
    {
     "name": "stdout",
     "output_type": "stream",
     "text": [
      "\n",
      "Iteration No: 18 ended. Search finished for the next optimal point.\n",
      "Time taken: 16.4729\n",
      "Function value obtained: -0.5238\n",
      "Current minimum: -0.5322\n",
      "Iteration No: 19 started. Searching for the next optimal point.\n",
      "Trying: {'colsample_bylevel': 1.0, 'colsample_bynode': 0.0, 'colsample_bytree': 1.0, 'learning_rate': 0.01, 'max_depth': 1, 'min_child_weight': 1, 'n_estimators': 200, 'subsample': 1.0}\n"
     ]
    },
    {
     "data": {
      "application/vnd.jupyter.widget-view+json": {
       "model_id": "7810e5e4d4594931a59956d89155e188",
       "version_major": 2,
       "version_minor": 0
      },
      "text/plain": [
       "HBox(children=(IntProgress(value=0, max=5), HTML(value='')))"
      ]
     },
     "metadata": {},
     "output_type": "display_data"
    },
    {
     "name": "stdout",
     "output_type": "stream",
     "text": [
      "\n",
      "Iteration No: 19 ended. Search finished for the next optimal point.\n",
      "Time taken: 15.1381\n",
      "Function value obtained: -0.5209\n",
      "Current minimum: -0.5322\n",
      "Iteration No: 20 started. Searching for the next optimal point.\n",
      "Trying: {'colsample_bylevel': 1.0, 'colsample_bynode': 1.0, 'colsample_bytree': 1.0, 'learning_rate': 0.01, 'max_depth': 1, 'min_child_weight': 2, 'n_estimators': 10, 'subsample': 1.0}\n"
     ]
    },
    {
     "data": {
      "application/vnd.jupyter.widget-view+json": {
       "model_id": "8966a41957ce4add8989c6f2013a46d8",
       "version_major": 2,
       "version_minor": 0
      },
      "text/plain": [
       "HBox(children=(IntProgress(value=0, max=5), HTML(value='')))"
      ]
     },
     "metadata": {},
     "output_type": "display_data"
    },
    {
     "name": "stdout",
     "output_type": "stream",
     "text": [
      "\n",
      "Iteration No: 20 ended. Search finished for the next optimal point.\n",
      "Time taken: 7.9817\n",
      "Function value obtained: -0.5337\n",
      "Current minimum: -0.5337\n",
      "Iteration No: 21 started. Searching for the next optimal point.\n",
      "Trying: {'colsample_bylevel': 1.0, 'colsample_bynode': 0.0, 'colsample_bytree': 1.0, 'learning_rate': 0.5, 'max_depth': 3, 'min_child_weight': 1, 'n_estimators': 200, 'subsample': 1.0}\n"
     ]
    },
    {
     "data": {
      "application/vnd.jupyter.widget-view+json": {
       "model_id": "86c472c0d0f04648b04a2f21ae24da83",
       "version_major": 2,
       "version_minor": 0
      },
      "text/plain": [
       "HBox(children=(IntProgress(value=0, max=5), HTML(value='')))"
      ]
     },
     "metadata": {},
     "output_type": "display_data"
    },
    {
     "name": "stdout",
     "output_type": "stream",
     "text": [
      "\n",
      "Iteration No: 21 ended. Search finished for the next optimal point.\n",
      "Time taken: 16.6967\n",
      "Function value obtained: -0.5167\n",
      "Current minimum: -0.5337\n",
      "Iteration No: 22 started. Searching for the next optimal point.\n",
      "Trying: {'colsample_bylevel': 0.972280861655391, 'colsample_bynode': 0.17635918819022114, 'colsample_bytree': 0.020956320108619256, 'learning_rate': 0.3957124309140667, 'max_depth': 3, 'min_child_weight': 3, 'n_estimators': 15, 'subsample': 0.9865681094764885}\n"
     ]
    },
    {
     "data": {
      "application/vnd.jupyter.widget-view+json": {
       "model_id": "e4394a06a40c42409b66235bc865e62d",
       "version_major": 2,
       "version_minor": 0
      },
      "text/plain": [
       "HBox(children=(IntProgress(value=0, max=5), HTML(value='')))"
      ]
     },
     "metadata": {},
     "output_type": "display_data"
    },
    {
     "name": "stdout",
     "output_type": "stream",
     "text": [
      "\n",
      "Iteration No: 22 ended. Search finished for the next optimal point.\n",
      "Time taken: 6.0031\n",
      "Function value obtained: -0.5147\n",
      "Current minimum: -0.5337\n",
      "Iteration No: 23 started. Searching for the next optimal point.\n",
      "Trying: {'colsample_bylevel': 1.0, 'colsample_bynode': 0.5622090971914586, 'colsample_bytree': 1.0, 'learning_rate': 0.17216961200098024, 'max_depth': 1, 'min_child_weight': 3, 'n_estimators': 200, 'subsample': 1.0}\n"
     ]
    },
    {
     "data": {
      "application/vnd.jupyter.widget-view+json": {
       "model_id": "9c01ca7e94f64d3c8458f3272b3fdf68",
       "version_major": 2,
       "version_minor": 0
      },
      "text/plain": [
       "HBox(children=(IntProgress(value=0, max=5), HTML(value='')))"
      ]
     },
     "metadata": {},
     "output_type": "display_data"
    },
    {
     "name": "stdout",
     "output_type": "stream",
     "text": [
      "\n",
      "Iteration No: 23 ended. Search finished for the next optimal point.\n",
      "Time taken: 42.6339\n",
      "Function value obtained: -0.5304\n",
      "Current minimum: -0.5337\n",
      "Iteration No: 24 started. Searching for the next optimal point.\n",
      "Trying: {'colsample_bylevel': 0.0, 'colsample_bynode': 0.0, 'colsample_bytree': 1.0, 'learning_rate': 0.5, 'max_depth': 1, 'min_child_weight': 3, 'n_estimators': 200, 'subsample': 0.5353718299302315}\n"
     ]
    },
    {
     "data": {
      "application/vnd.jupyter.widget-view+json": {
       "model_id": "d81243a2da1c48dd833363f4a72d309d",
       "version_major": 2,
       "version_minor": 0
      },
      "text/plain": [
       "HBox(children=(IntProgress(value=0, max=5), HTML(value='')))"
      ]
     },
     "metadata": {},
     "output_type": "display_data"
    },
    {
     "name": "stdout",
     "output_type": "stream",
     "text": [
      "\n",
      "Iteration No: 24 ended. Search finished for the next optimal point.\n",
      "Time taken: 16.9135\n",
      "Function value obtained: -0.5240\n",
      "Current minimum: -0.5337\n",
      "Iteration No: 25 started. Searching for the next optimal point.\n",
      "Trying: {'colsample_bylevel': 0.0, 'colsample_bynode': 1.0, 'colsample_bytree': 1.0, 'learning_rate': 0.5, 'max_depth': 1, 'min_child_weight': 2, 'n_estimators': 10, 'subsample': 1.0}\n"
     ]
    },
    {
     "data": {
      "application/vnd.jupyter.widget-view+json": {
       "model_id": "9fea07c75d984ae1b30c910ca3f4747e",
       "version_major": 2,
       "version_minor": 0
      },
      "text/plain": [
       "HBox(children=(IntProgress(value=0, max=5), HTML(value='')))"
      ]
     },
     "metadata": {},
     "output_type": "display_data"
    },
    {
     "name": "stdout",
     "output_type": "stream",
     "text": [
      "\n",
      "Iteration No: 25 ended. Search finished for the next optimal point.\n",
      "Time taken: 5.7096\n",
      "Function value obtained: -0.5228\n",
      "Current minimum: -0.5337\n",
      "Iteration No: 26 started. Searching for the next optimal point.\n",
      "Trying: {'colsample_bylevel': 1.0, 'colsample_bynode': 1.0, 'colsample_bytree': 1.0, 'learning_rate': 0.01, 'max_depth': 1, 'min_child_weight': 3, 'n_estimators': 200, 'subsample': 0.8117785219343854}\n"
     ]
    },
    {
     "data": {
      "application/vnd.jupyter.widget-view+json": {
       "model_id": "7af0eda4134d4f67968e8802526ee02e",
       "version_major": 2,
       "version_minor": 0
      },
      "text/plain": [
       "HBox(children=(IntProgress(value=0, max=5), HTML(value='')))"
      ]
     },
     "metadata": {},
     "output_type": "display_data"
    },
    {
     "name": "stdout",
     "output_type": "stream",
     "text": [
      "\n",
      "Iteration No: 26 ended. Search finished for the next optimal point.\n",
      "Time taken: 57.7552\n",
      "Function value obtained: -0.5291\n",
      "Current minimum: -0.5337\n",
      "Iteration No: 27 started. Searching for the next optimal point.\n",
      "Trying: {'colsample_bylevel': 0.8904139793790153, 'colsample_bynode': 0.012103357463919665, 'colsample_bytree': 0.9572613854873364, 'learning_rate': 0.3887333896605728, 'max_depth': 1, 'min_child_weight': 3, 'n_estimators': 94, 'subsample': 0.01954477771824448}\n"
     ]
    },
    {
     "data": {
      "application/vnd.jupyter.widget-view+json": {
       "model_id": "abfcc31c05fd47b7825399eaa722bfbd",
       "version_major": 2,
       "version_minor": 0
      },
      "text/plain": [
       "HBox(children=(IntProgress(value=0, max=5), HTML(value='')))"
      ]
     },
     "metadata": {},
     "output_type": "display_data"
    },
    {
     "name": "stdout",
     "output_type": "stream",
     "text": [
      "\n",
      "Iteration No: 27 ended. Search finished for the next optimal point.\n",
      "Time taken: 12.1019\n",
      "Function value obtained: -0.5069\n",
      "Current minimum: -0.5337\n",
      "Iteration No: 28 started. Searching for the next optimal point.\n",
      "Trying: {'colsample_bylevel': 0.0, 'colsample_bynode': 0.0, 'colsample_bytree': 1.0, 'learning_rate': 0.01, 'max_depth': 2, 'min_child_weight': 1, 'n_estimators': 200, 'subsample': 1.0}\n"
     ]
    },
    {
     "data": {
      "application/vnd.jupyter.widget-view+json": {
       "model_id": "44f3aa4a025d443f97550ac94c40a81d",
       "version_major": 2,
       "version_minor": 0
      },
      "text/plain": [
       "HBox(children=(IntProgress(value=0, max=5), HTML(value='')))"
      ]
     },
     "metadata": {},
     "output_type": "display_data"
    },
    {
     "name": "stdout",
     "output_type": "stream",
     "text": [
      "\n",
      "Iteration No: 28 ended. Search finished for the next optimal point.\n",
      "Time taken: 17.2910\n",
      "Function value obtained: -0.5166\n",
      "Current minimum: -0.5337\n",
      "Iteration No: 29 started. Searching for the next optimal point.\n",
      "Trying: {'colsample_bylevel': 0.8674127445151273, 'colsample_bynode': 0.984386597874676, 'colsample_bytree': 0.1437886850386532, 'learning_rate': 0.16232390789294462, 'max_depth': 1, 'min_child_weight': 1, 'n_estimators': 190, 'subsample': 0.7035954804154138}\n"
     ]
    },
    {
     "data": {
      "application/vnd.jupyter.widget-view+json": {
       "model_id": "10f3fd8a49dd4ba9bee5739a5966643c",
       "version_major": 2,
       "version_minor": 0
      },
      "text/plain": [
       "HBox(children=(IntProgress(value=0, max=5), HTML(value='')))"
      ]
     },
     "metadata": {},
     "output_type": "display_data"
    },
    {
     "name": "stdout",
     "output_type": "stream",
     "text": [
      "\n",
      "Iteration No: 29 ended. Search finished for the next optimal point.\n",
      "Time taken: 20.7882\n",
      "Function value obtained: -0.5304\n",
      "Current minimum: -0.5337\n",
      "Iteration No: 30 started. Searching for the next optimal point.\n",
      "Trying: {'colsample_bylevel': 0.08540369927999016, 'colsample_bynode': 0.9073010677630576, 'colsample_bytree': 0.07916058167985131, 'learning_rate': 0.46720805270136473, 'max_depth': 1, 'min_child_weight': 1, 'n_estimators': 200, 'subsample': 0.6878671970568941}\n"
     ]
    },
    {
     "data": {
      "application/vnd.jupyter.widget-view+json": {
       "model_id": "cc2a863f237d420ba755e32811926fab",
       "version_major": 2,
       "version_minor": 0
      },
      "text/plain": [
       "HBox(children=(IntProgress(value=0, max=5), HTML(value='')))"
      ]
     },
     "metadata": {},
     "output_type": "display_data"
    },
    {
     "name": "stdout",
     "output_type": "stream",
     "text": [
      "\n",
      "Iteration No: 30 ended. Search finished for the next optimal point.\n",
      "Time taken: 16.2542\n",
      "Function value obtained: -0.5192\n",
      "Current minimum: -0.5337\n",
      "Iteration No: 31 started. Searching for the next optimal point.\n",
      "Trying: {'colsample_bylevel': 1.0, 'colsample_bynode': 0.6638075624060937, 'colsample_bytree': 1.0, 'learning_rate': 0.01, 'max_depth': 1, 'min_child_weight': 1, 'n_estimators': 200, 'subsample': 0.8310052785406441}\n"
     ]
    },
    {
     "data": {
      "application/vnd.jupyter.widget-view+json": {
       "model_id": "a7f60c24d918498697ad9c7cb0c97182",
       "version_major": 2,
       "version_minor": 0
      },
      "text/plain": [
       "HBox(children=(IntProgress(value=0, max=5), HTML(value='')))"
      ]
     },
     "metadata": {},
     "output_type": "display_data"
    },
    {
     "name": "stdout",
     "output_type": "stream",
     "text": [
      "\n",
      "Iteration No: 31 ended. Search finished for the next optimal point.\n",
      "Time taken: 48.8113\n",
      "Function value obtained: -0.5363\n",
      "Current minimum: -0.5363\n",
      "Iteration No: 32 started. Searching for the next optimal point.\n",
      "Trying: {'colsample_bylevel': 0.9828345547762778, 'colsample_bynode': 0.04423532033193001, 'colsample_bytree': 0.33096714878278727, 'learning_rate': 0.4664232609129721, 'max_depth': 3, 'min_child_weight': 2, 'n_estimators': 173, 'subsample': 0.008032490860814036}\n"
     ]
    },
    {
     "data": {
      "application/vnd.jupyter.widget-view+json": {
       "model_id": "85072d8614b54251b57289b372621392",
       "version_major": 2,
       "version_minor": 0
      },
      "text/plain": [
       "HBox(children=(IntProgress(value=0, max=5), HTML(value='')))"
      ]
     },
     "metadata": {},
     "output_type": "display_data"
    },
    {
     "name": "stdout",
     "output_type": "stream",
     "text": [
      "\n",
      "Iteration No: 32 ended. Search finished for the next optimal point.\n",
      "Time taken: 14.3914\n",
      "Function value obtained: -0.5023\n",
      "Current minimum: -0.5363\n",
      "Iteration No: 33 started. Searching for the next optimal point.\n",
      "Trying: {'colsample_bylevel': 0.5184991382224134, 'colsample_bynode': 0.9255859194079455, 'colsample_bytree': 0.998744193472513, 'learning_rate': 0.01460367806156317, 'max_depth': 3, 'min_child_weight': 1, 'n_estimators': 197, 'subsample': 0.30310578293193763}\n"
     ]
    },
    {
     "data": {
      "application/vnd.jupyter.widget-view+json": {
       "model_id": "a158b50446d34920a25fb8f3cb4653f8",
       "version_major": 2,
       "version_minor": 0
      },
      "text/plain": [
       "HBox(children=(IntProgress(value=0, max=5), HTML(value='')))"
      ]
     },
     "metadata": {},
     "output_type": "display_data"
    },
    {
     "name": "stdout",
     "output_type": "stream",
     "text": [
      "\n",
      "Iteration No: 33 ended. Search finished for the next optimal point.\n",
      "Time taken: 57.6943\n",
      "Function value obtained: -0.5341\n",
      "Current minimum: -0.5363\n",
      "Iteration No: 34 started. Searching for the next optimal point.\n",
      "Trying: {'colsample_bylevel': 0.9227906662697597, 'colsample_bynode': 0.9456291524523607, 'colsample_bytree': 0.9925880146225179, 'learning_rate': 0.07495795721149615, 'max_depth': 3, 'min_child_weight': 2, 'n_estimators': 166, 'subsample': 0.6447209095163743}\n"
     ]
    },
    {
     "data": {
      "application/vnd.jupyter.widget-view+json": {
       "model_id": "896217a08e454c3e8a4e06e957c3f105",
       "version_major": 2,
       "version_minor": 0
      },
      "text/plain": [
       "HBox(children=(IntProgress(value=0, max=5), HTML(value='')))"
      ]
     },
     "metadata": {},
     "output_type": "display_data"
    },
    {
     "name": "stdout",
     "output_type": "stream",
     "text": [
      "\n",
      "Iteration No: 34 ended. Search finished for the next optimal point.\n",
      "Time taken: 104.6212\n",
      "Function value obtained: -0.5294\n",
      "Current minimum: -0.5363\n",
      "Iteration No: 35 started. Searching for the next optimal point.\n",
      "Trying: {'colsample_bylevel': 0.0, 'colsample_bynode': 1.0, 'colsample_bytree': 1.0, 'learning_rate': 0.01, 'max_depth': 1, 'min_child_weight': 1, 'n_estimators': 200, 'subsample': 1.0}\n"
     ]
    },
    {
     "data": {
      "application/vnd.jupyter.widget-view+json": {
       "model_id": "49b04854aa544661bf328108a0a0654d",
       "version_major": 2,
       "version_minor": 0
      },
      "text/plain": [
       "HBox(children=(IntProgress(value=0, max=5), HTML(value='')))"
      ]
     },
     "metadata": {},
     "output_type": "display_data"
    },
    {
     "name": "stdout",
     "output_type": "stream",
     "text": [
      "\n",
      "Iteration No: 35 ended. Search finished for the next optimal point.\n",
      "Time taken: 16.1500\n",
      "Function value obtained: -0.5168\n",
      "Current minimum: -0.5363\n",
      "Iteration No: 36 started. Searching for the next optimal point.\n",
      "Trying: {'colsample_bylevel': 0.03288133578094344, 'colsample_bynode': 0.2255249810563092, 'colsample_bytree': 0.7291012258433076, 'learning_rate': 0.010254798527202458, 'max_depth': 3, 'min_child_weight': 1, 'n_estimators': 89, 'subsample': 0.03165362098952985}\n"
     ]
    },
    {
     "data": {
      "application/vnd.jupyter.widget-view+json": {
       "model_id": "6736cbade8c44375b3ab5e5133320855",
       "version_major": 2,
       "version_minor": 0
      },
      "text/plain": [
       "HBox(children=(IntProgress(value=0, max=5), HTML(value='')))"
      ]
     },
     "metadata": {},
     "output_type": "display_data"
    },
    {
     "name": "stdout",
     "output_type": "stream",
     "text": [
      "\n",
      "Iteration No: 36 ended. Search finished for the next optimal point.\n",
      "Time taken: 9.1984\n",
      "Function value obtained: -0.5164\n",
      "Current minimum: -0.5363\n",
      "Iteration No: 37 started. Searching for the next optimal point.\n",
      "Trying: {'colsample_bylevel': 0.9723189487361227, 'colsample_bynode': 0.9795444541777019, 'colsample_bytree': 0.9311721096932848, 'learning_rate': 0.07176966776999724, 'max_depth': 1, 'min_child_weight': 1, 'n_estimators': 146, 'subsample': 0.46885868480715265}\n"
     ]
    },
    {
     "data": {
      "application/vnd.jupyter.widget-view+json": {
       "model_id": "dd320d0a5e0143208be41cbbaf06a923",
       "version_major": 2,
       "version_minor": 0
      },
      "text/plain": [
       "HBox(children=(IntProgress(value=0, max=5), HTML(value='')))"
      ]
     },
     "metadata": {},
     "output_type": "display_data"
    },
    {
     "name": "stdout",
     "output_type": "stream",
     "text": [
      "\n",
      "Iteration No: 37 ended. Search finished for the next optimal point.\n",
      "Time taken: 37.5717\n",
      "Function value obtained: -0.5325\n",
      "Current minimum: -0.5363\n",
      "Iteration No: 38 started. Searching for the next optimal point.\n",
      "Trying: {'colsample_bylevel': 0.09870756351194934, 'colsample_bynode': 0.9604091798812666, 'colsample_bytree': 0.7632833200429322, 'learning_rate': 0.018345368708350275, 'max_depth': 1, 'min_child_weight': 2, 'n_estimators': 36, 'subsample': 0.027644949382542923}\n"
     ]
    },
    {
     "data": {
      "application/vnd.jupyter.widget-view+json": {
       "model_id": "fb1b249476f347ba980873ef5e39b139",
       "version_major": 2,
       "version_minor": 0
      },
      "text/plain": [
       "HBox(children=(IntProgress(value=0, max=5), HTML(value='')))"
      ]
     },
     "metadata": {},
     "output_type": "display_data"
    },
    {
     "name": "stdout",
     "output_type": "stream",
     "text": [
      "\n",
      "Iteration No: 38 ended. Search finished for the next optimal point.\n",
      "Time taken: 6.7568\n",
      "Function value obtained: -0.5197\n",
      "Current minimum: -0.5363\n",
      "Iteration No: 39 started. Searching for the next optimal point.\n",
      "Trying: {'colsample_bylevel': 0.607986375921096, 'colsample_bynode': 0.5962032652002706, 'colsample_bytree': 1.0, 'learning_rate': 0.0958827196219338, 'max_depth': 1, 'min_child_weight': 1, 'n_estimators': 200, 'subsample': 1.0}\n"
     ]
    },
    {
     "data": {
      "application/vnd.jupyter.widget-view+json": {
       "model_id": "d683535fb34a4826bfb74f88ef0c0b67",
       "version_major": 2,
       "version_minor": 0
      },
      "text/plain": [
       "HBox(children=(IntProgress(value=0, max=5), HTML(value='')))"
      ]
     },
     "metadata": {},
     "output_type": "display_data"
    },
    {
     "name": "stdout",
     "output_type": "stream",
     "text": [
      "\n",
      "Iteration No: 39 ended. Search finished for the next optimal point.\n",
      "Time taken: 35.5771\n",
      "Function value obtained: -0.5305\n",
      "Current minimum: -0.5363\n",
      "Iteration No: 40 started. Searching for the next optimal point.\n",
      "Trying: {'colsample_bylevel': 0.9912781137598241, 'colsample_bynode': 0.9074973926685794, 'colsample_bytree': 0.729289556142275, 'learning_rate': 0.03281565701176084, 'max_depth': 1, 'min_child_weight': 3, 'n_estimators': 52, 'subsample': 0.05721984066919829}\n"
     ]
    },
    {
     "data": {
      "application/vnd.jupyter.widget-view+json": {
       "model_id": "5c78660986b1422e8724fccd71f7e014",
       "version_major": 2,
       "version_minor": 0
      },
      "text/plain": [
       "HBox(children=(IntProgress(value=0, max=5), HTML(value='')))"
      ]
     },
     "metadata": {},
     "output_type": "display_data"
    },
    {
     "name": "stdout",
     "output_type": "stream",
     "text": [
      "\n",
      "Iteration No: 40 ended. Search finished for the next optimal point.\n",
      "Time taken: 12.9165\n",
      "Function value obtained: -0.5283\n",
      "Current minimum: -0.5363\n",
      "Iteration No: 41 started. Searching for the next optimal point.\n",
      "Trying: {'colsample_bylevel': 1.0, 'colsample_bynode': 0.6739215516326902, 'colsample_bytree': 1.0, 'learning_rate': 0.06522874698285543, 'max_depth': 3, 'min_child_weight': 1, 'n_estimators': 10, 'subsample': 0.6300540526559211}\n"
     ]
    },
    {
     "data": {
      "application/vnd.jupyter.widget-view+json": {
       "model_id": "022a622d6efd4575b2e7f11f019d53dc",
       "version_major": 2,
       "version_minor": 0
      },
      "text/plain": [
       "HBox(children=(IntProgress(value=0, max=5), HTML(value='')))"
      ]
     },
     "metadata": {},
     "output_type": "display_data"
    },
    {
     "name": "stdout",
     "output_type": "stream",
     "text": [
      "\n",
      "Iteration No: 41 ended. Search finished for the next optimal point.\n",
      "Time taken: 12.5347\n",
      "Function value obtained: -0.5308\n",
      "Current minimum: -0.5363\n",
      "Iteration No: 42 started. Searching for the next optimal point.\n",
      "Trying: {'colsample_bylevel': 1.0, 'colsample_bynode': 1.0, 'colsample_bytree': 1.0, 'learning_rate': 0.13939590315872036, 'max_depth': 1, 'min_child_weight': 1, 'n_estimators': 200, 'subsample': 1.0}\n"
     ]
    },
    {
     "data": {
      "application/vnd.jupyter.widget-view+json": {
       "model_id": "4a3f6f3f68f44a36927b8792b645deea",
       "version_major": 2,
       "version_minor": 0
      },
      "text/plain": [
       "HBox(children=(IntProgress(value=0, max=5), HTML(value='')))"
      ]
     },
     "metadata": {},
     "output_type": "display_data"
    },
    {
     "name": "stdout",
     "output_type": "stream",
     "text": [
      "\n",
      "Iteration No: 42 ended. Search finished for the next optimal point.\n",
      "Time taken: 61.1184\n",
      "Function value obtained: -0.5319\n",
      "Current minimum: -0.5363\n",
      "Iteration No: 43 started. Searching for the next optimal point.\n",
      "Trying: {'colsample_bylevel': 0.794172276117659, 'colsample_bynode': 0.6946318689795904, 'colsample_bytree': 1.0, 'learning_rate': 0.07986804301236045, 'max_depth': 1, 'min_child_weight': 1, 'n_estimators': 200, 'subsample': 0.6048637485958761}\n"
     ]
    },
    {
     "data": {
      "application/vnd.jupyter.widget-view+json": {
       "model_id": "57041404521b46bca920ad9cb72ebf86",
       "version_major": 2,
       "version_minor": 0
      },
      "text/plain": [
       "HBox(children=(IntProgress(value=0, max=5), HTML(value='')))"
      ]
     },
     "metadata": {},
     "output_type": "display_data"
    },
    {
     "name": "stdout",
     "output_type": "stream",
     "text": [
      "\n",
      "Iteration No: 43 ended. Search finished for the next optimal point.\n",
      "Time taken: 34.4954\n",
      "Function value obtained: -0.5287\n",
      "Current minimum: -0.5363\n",
      "Iteration No: 44 started. Searching for the next optimal point.\n",
      "Trying: {'colsample_bylevel': 0.9786250929671346, 'colsample_bynode': 0.9916916613538034, 'colsample_bytree': 0.6324386891382132, 'learning_rate': 0.4907194644913962, 'max_depth': 1, 'min_child_weight': 1, 'n_estimators': 126, 'subsample': 0.9164300643286126}\n"
     ]
    },
    {
     "data": {
      "application/vnd.jupyter.widget-view+json": {
       "model_id": "4c095c1a25c041e393adfc945e203f46",
       "version_major": 2,
       "version_minor": 0
      },
      "text/plain": [
       "HBox(children=(IntProgress(value=0, max=5), HTML(value='')))"
      ]
     },
     "metadata": {},
     "output_type": "display_data"
    },
    {
     "name": "stdout",
     "output_type": "stream",
     "text": [
      "\n",
      "Iteration No: 44 ended. Search finished for the next optimal point.\n",
      "Time taken: 36.4480\n",
      "Function value obtained: -0.5251\n",
      "Current minimum: -0.5363\n",
      "Iteration No: 45 started. Searching for the next optimal point.\n",
      "Trying: {'colsample_bylevel': 0.0, 'colsample_bynode': 0.0, 'colsample_bytree': 1.0, 'learning_rate': 0.2805532441763777, 'max_depth': 1, 'min_child_weight': 1, 'n_estimators': 68, 'subsample': 1.0}\n"
     ]
    },
    {
     "data": {
      "application/vnd.jupyter.widget-view+json": {
       "model_id": "33446a5365644fd6b4539198e8088bbe",
       "version_major": 2,
       "version_minor": 0
      },
      "text/plain": [
       "HBox(children=(IntProgress(value=0, max=5), HTML(value='')))"
      ]
     },
     "metadata": {},
     "output_type": "display_data"
    },
    {
     "name": "stdout",
     "output_type": "stream",
     "text": [
      "\n",
      "Iteration No: 45 ended. Search finished for the next optimal point.\n",
      "Time taken: 8.1915\n",
      "Function value obtained: -0.5188\n",
      "Current minimum: -0.5363\n",
      "Iteration No: 46 started. Searching for the next optimal point.\n",
      "Trying: {'colsample_bylevel': 0.024744772948411826, 'colsample_bynode': 0.14548353417787843, 'colsample_bytree': 0.1267558043402485, 'learning_rate': 0.49625283035987017, 'max_depth': 1, 'min_child_weight': 2, 'n_estimators': 139, 'subsample': 0.998967515696876}\n"
     ]
    },
    {
     "data": {
      "application/vnd.jupyter.widget-view+json": {
       "model_id": "19b37d490e9544b8a2bc44fccc637584",
       "version_major": 2,
       "version_minor": 0
      },
      "text/plain": [
       "HBox(children=(IntProgress(value=0, max=5), HTML(value='')))"
      ]
     },
     "metadata": {},
     "output_type": "display_data"
    },
    {
     "name": "stdout",
     "output_type": "stream",
     "text": [
      "\n",
      "Iteration No: 46 ended. Search finished for the next optimal point.\n",
      "Time taken: 11.4743\n",
      "Function value obtained: -0.5204\n",
      "Current minimum: -0.5363\n",
      "Iteration No: 47 started. Searching for the next optimal point.\n",
      "Trying: {'colsample_bylevel': 0.9195435419403287, 'colsample_bynode': 0.9361882889840605, 'colsample_bytree': 0.9303122806380174, 'learning_rate': 0.47728038012631924, 'max_depth': 3, 'min_child_weight': 2, 'n_estimators': 142, 'subsample': 0.9364632721663155}\n"
     ]
    },
    {
     "data": {
      "application/vnd.jupyter.widget-view+json": {
       "model_id": "31d7f92da9b041d49ae94aa14b13062a",
       "version_major": 2,
       "version_minor": 0
      },
      "text/plain": [
       "HBox(children=(IntProgress(value=0, max=5), HTML(value='')))"
      ]
     },
     "metadata": {},
     "output_type": "display_data"
    },
    {
     "name": "stdout",
     "output_type": "stream",
     "text": [
      "\n",
      "Iteration No: 47 ended. Search finished for the next optimal point.\n",
      "Time taken: 102.7538\n",
      "Function value obtained: -0.5181\n",
      "Current minimum: -0.5363\n",
      "Iteration No: 48 started. Searching for the next optimal point.\n",
      "Trying: {'colsample_bylevel': 1.0, 'colsample_bynode': 1.0, 'colsample_bytree': 1.0, 'learning_rate': 0.12215167405553785, 'max_depth': 1, 'min_child_weight': 3, 'n_estimators': 200, 'subsample': 0.6570413695449979}\n"
     ]
    },
    {
     "data": {
      "application/vnd.jupyter.widget-view+json": {
       "model_id": "14d3242b6f7d485b8c23089529110908",
       "version_major": 2,
       "version_minor": 0
      },
      "text/plain": [
       "HBox(children=(IntProgress(value=0, max=5), HTML(value='')))"
      ]
     },
     "metadata": {},
     "output_type": "display_data"
    },
    {
     "name": "stdout",
     "output_type": "stream",
     "text": [
      "\n",
      "Iteration No: 48 ended. Search finished for the next optimal point.\n",
      "Time taken: 53.7238\n",
      "Function value obtained: -0.5291\n",
      "Current minimum: -0.5363\n",
      "Iteration No: 49 started. Searching for the next optimal point.\n",
      "Trying: {'colsample_bylevel': 0.8548211094516187, 'colsample_bynode': 0.9997380150085737, 'colsample_bytree': 0.7530112506293182, 'learning_rate': 0.1307753177403781, 'max_depth': 3, 'min_child_weight': 1, 'n_estimators': 24, 'subsample': 0.06284323716270791}\n"
     ]
    },
    {
     "data": {
      "application/vnd.jupyter.widget-view+json": {
       "model_id": "da30503a1675497e82c0747edf718cbb",
       "version_major": 2,
       "version_minor": 0
      },
      "text/plain": [
       "HBox(children=(IntProgress(value=0, max=5), HTML(value='')))"
      ]
     },
     "metadata": {},
     "output_type": "display_data"
    },
    {
     "name": "stdout",
     "output_type": "stream",
     "text": [
      "\n",
      "Iteration No: 49 ended. Search finished for the next optimal point.\n",
      "Time taken: 9.4983\n",
      "Function value obtained: -0.5214\n",
      "Current minimum: -0.5363\n",
      "Iteration No: 50 started. Searching for the next optimal point.\n",
      "Trying: {'colsample_bylevel': 0.8617649096995798, 'colsample_bynode': 0.9820655278293865, 'colsample_bytree': 0.714403508880981, 'learning_rate': 0.1538226277633787, 'max_depth': 3, 'min_child_weight': 2, 'n_estimators': 76, 'subsample': 0.9559190108052105}\n"
     ]
    },
    {
     "data": {
      "application/vnd.jupyter.widget-view+json": {
       "model_id": "b04b82d589744429ad50884b2f28cf2c",
       "version_major": 2,
       "version_minor": 0
      },
      "text/plain": [
       "HBox(children=(IntProgress(value=0, max=5), HTML(value='')))"
      ]
     },
     "metadata": {},
     "output_type": "display_data"
    },
    {
     "name": "stdout",
     "output_type": "stream",
     "text": [
      "\n",
      "Iteration No: 50 ended. Search finished for the next optimal point.\n",
      "Time taken: 42.0730\n",
      "Function value obtained: -0.5263\n",
      "Current minimum: -0.5363\n",
      "Iteration No: 51 started. Searching for the next optimal point.\n",
      "Trying: {'colsample_bylevel': 0.4582411257177167, 'colsample_bynode': 0.9894962538589198, 'colsample_bytree': 0.9959183844435199, 'learning_rate': 0.3422936945794319, 'max_depth': 1, 'min_child_weight': 1, 'n_estimators': 43, 'subsample': 0.9935780156311663}\n"
     ]
    },
    {
     "data": {
      "application/vnd.jupyter.widget-view+json": {
       "model_id": "554b2709224041ffb602bbbf43735795",
       "version_major": 2,
       "version_minor": 0
      },
      "text/plain": [
       "HBox(children=(IntProgress(value=0, max=5), HTML(value='')))"
      ]
     },
     "metadata": {},
     "output_type": "display_data"
    },
    {
     "name": "stdout",
     "output_type": "stream",
     "text": [
      "\n",
      "Iteration No: 51 ended. Search finished for the next optimal point.\n",
      "Time taken: 11.0827\n",
      "Function value obtained: -0.5303\n",
      "Current minimum: -0.5363\n",
      "Iteration No: 52 started. Searching for the next optimal point.\n",
      "Trying: {'colsample_bylevel': 1.0, 'colsample_bynode': 1.0, 'colsample_bytree': 1.0, 'learning_rate': 0.13361250683132822, 'max_depth': 1, 'min_child_weight': 1, 'n_estimators': 10, 'subsample': 0.699609521605395}\n"
     ]
    },
    {
     "data": {
      "application/vnd.jupyter.widget-view+json": {
       "model_id": "1053c423010c45a48e0a1f827c009f77",
       "version_major": 2,
       "version_minor": 0
      },
      "text/plain": [
       "HBox(children=(IntProgress(value=0, max=5), HTML(value='')))"
      ]
     },
     "metadata": {},
     "output_type": "display_data"
    },
    {
     "name": "stdout",
     "output_type": "stream",
     "text": [
      "\n",
      "Iteration No: 52 ended. Search finished for the next optimal point.\n",
      "Time taken: 7.2451\n",
      "Function value obtained: -0.5296\n",
      "Current minimum: -0.5363\n",
      "Iteration No: 53 started. Searching for the next optimal point.\n",
      "Trying: {'colsample_bylevel': 0.9623571374650614, 'colsample_bynode': 0.9836023611051138, 'colsample_bytree': 0.0004486526703129102, 'learning_rate': 0.013185615180899564, 'max_depth': 3, 'min_child_weight': 3, 'n_estimators': 156, 'subsample': 0.15895160561912627}\n"
     ]
    },
    {
     "data": {
      "application/vnd.jupyter.widget-view+json": {
       "model_id": "aac426f2010b483084dbac5749aff977",
       "version_major": 2,
       "version_minor": 0
      },
      "text/plain": [
       "HBox(children=(IntProgress(value=0, max=5), HTML(value='')))"
      ]
     },
     "metadata": {},
     "output_type": "display_data"
    },
    {
     "name": "stdout",
     "output_type": "stream",
     "text": [
      "\n",
      "Iteration No: 53 ended. Search finished for the next optimal point.\n",
      "Time taken: 15.0634\n",
      "Function value obtained: -0.5199\n",
      "Current minimum: -0.5363\n",
      "Iteration No: 54 started. Searching for the next optimal point.\n",
      "Trying: {'colsample_bylevel': 1.0, 'colsample_bynode': 1.0, 'colsample_bytree': 1.0, 'learning_rate': 0.12181742113157835, 'max_depth': 1, 'min_child_weight': 3, 'n_estimators': 200, 'subsample': 0.6728004084135026}\n"
     ]
    },
    {
     "data": {
      "application/vnd.jupyter.widget-view+json": {
       "model_id": "bd7349c9e81a422187e2dc5c98f4d1ea",
       "version_major": 2,
       "version_minor": 0
      },
      "text/plain": [
       "HBox(children=(IntProgress(value=0, max=5), HTML(value='')))"
      ]
     },
     "metadata": {},
     "output_type": "display_data"
    },
    {
     "name": "stdout",
     "output_type": "stream",
     "text": [
      "\n",
      "Iteration No: 54 ended. Search finished for the next optimal point.\n",
      "Time taken: 58.4713\n",
      "Function value obtained: -0.5306\n",
      "Current minimum: -0.5363\n",
      "Iteration No: 55 started. Searching for the next optimal point.\n",
      "Trying: {'colsample_bylevel': 0.8131321670860258, 'colsample_bynode': 0.8177275204754275, 'colsample_bytree': 0.9166579962335011, 'learning_rate': 0.3119396761010829, 'max_depth': 1, 'min_child_weight': 3, 'n_estimators': 199, 'subsample': 0.9785339522114822}\n"
     ]
    },
    {
     "data": {
      "application/vnd.jupyter.widget-view+json": {
       "model_id": "c84211d1c357419da5b17dd45f85f07d",
       "version_major": 2,
       "version_minor": 0
      },
      "text/plain": [
       "HBox(children=(IntProgress(value=0, max=5), HTML(value='')))"
      ]
     },
     "metadata": {},
     "output_type": "display_data"
    },
    {
     "name": "stdout",
     "output_type": "stream",
     "text": [
      "\n",
      "Iteration No: 55 ended. Search finished for the next optimal point.\n",
      "Time taken: 41.0817\n",
      "Function value obtained: -0.5292\n",
      "Current minimum: -0.5363\n",
      "Iteration No: 56 started. Searching for the next optimal point.\n",
      "Trying: {'colsample_bylevel': 1.0, 'colsample_bynode': 0.6843570249661077, 'colsample_bytree': 1.0, 'learning_rate': 0.12692647823419986, 'max_depth': 1, 'min_child_weight': 1, 'n_estimators': 200, 'subsample': 0.6982379849654368}\n"
     ]
    },
    {
     "data": {
      "application/vnd.jupyter.widget-view+json": {
       "model_id": "22c3658d63d047acace187fb872e9510",
       "version_major": 2,
       "version_minor": 0
      },
      "text/plain": [
       "HBox(children=(IntProgress(value=0, max=5), HTML(value='')))"
      ]
     },
     "metadata": {},
     "output_type": "display_data"
    },
    {
     "name": "stdout",
     "output_type": "stream",
     "text": [
      "\n",
      "Iteration No: 56 ended. Search finished for the next optimal point.\n",
      "Time taken: 41.6161\n",
      "Function value obtained: -0.5296\n",
      "Current minimum: -0.5363\n",
      "Iteration No: 57 started. Searching for the next optimal point.\n",
      "Trying: {'colsample_bylevel': 0.9382770080362824, 'colsample_bynode': 0.9524633923472997, 'colsample_bytree': 0.7458573572080508, 'learning_rate': 0.19246493339672285, 'max_depth': 3, 'min_child_weight': 1, 'n_estimators': 21, 'subsample': 0.9928504374651467}\n"
     ]
    },
    {
     "data": {
      "application/vnd.jupyter.widget-view+json": {
       "model_id": "8338749e57134aa3b5ab98f125b43c34",
       "version_major": 2,
       "version_minor": 0
      },
      "text/plain": [
       "HBox(children=(IntProgress(value=0, max=5), HTML(value='')))"
      ]
     },
     "metadata": {},
     "output_type": "display_data"
    },
    {
     "name": "stdout",
     "output_type": "stream",
     "text": [
      "\n",
      "Iteration No: 57 ended. Search finished for the next optimal point.\n",
      "Time taken: 15.8259\n",
      "Function value obtained: -0.5277\n",
      "Current minimum: -0.5363\n",
      "Iteration No: 58 started. Searching for the next optimal point.\n",
      "Trying: {'colsample_bylevel': 0.4665166770417649, 'colsample_bynode': 0.8752921444498493, 'colsample_bytree': 0.9291018508525436, 'learning_rate': 0.014059271116181878, 'max_depth': 3, 'min_child_weight': 3, 'n_estimators': 110, 'subsample': 0.8430179385307198}\n"
     ]
    },
    {
     "data": {
      "application/vnd.jupyter.widget-view+json": {
       "model_id": "f5c0764fd86b4032b12eb9f0108c07a9",
       "version_major": 2,
       "version_minor": 0
      },
      "text/plain": [
       "HBox(children=(IntProgress(value=0, max=5), HTML(value='')))"
      ]
     },
     "metadata": {},
     "output_type": "display_data"
    },
    {
     "name": "stdout",
     "output_type": "stream",
     "text": [
      "\n",
      "Iteration No: 58 ended. Search finished for the next optimal point.\n",
      "Time taken: 39.0495\n",
      "Function value obtained: -0.5317\n",
      "Current minimum: -0.5363\n",
      "Iteration No: 59 started. Searching for the next optimal point.\n",
      "Trying: {'colsample_bylevel': 0.8256621036746744, 'colsample_bynode': 0.9871439769290585, 'colsample_bytree': 0.9460980256251655, 'learning_rate': 0.02058331031914829, 'max_depth': 3, 'min_child_weight': 3, 'n_estimators': 197, 'subsample': 0.6650766614872342}\n"
     ]
    },
    {
     "data": {
      "application/vnd.jupyter.widget-view+json": {
       "model_id": "ecf625f781554cc094ef1f0a839a79fd",
       "version_major": 2,
       "version_minor": 0
      },
      "text/plain": [
       "HBox(children=(IntProgress(value=0, max=5), HTML(value='')))"
      ]
     },
     "metadata": {},
     "output_type": "display_data"
    },
    {
     "name": "stdout",
     "output_type": "stream",
     "text": [
      "\n",
      "Iteration No: 59 ended. Search finished for the next optimal point.\n",
      "Time taken: 107.2034\n",
      "Function value obtained: -0.5301\n",
      "Current minimum: -0.5363\n",
      "Iteration No: 60 started. Searching for the next optimal point.\n",
      "Trying: {'colsample_bylevel': 0.7353981082422678, 'colsample_bynode': 1.0, 'colsample_bytree': 1.0, 'learning_rate': 0.01, 'max_depth': 1, 'min_child_weight': 1, 'n_estimators': 10, 'subsample': 0.6240864590492369}\n"
     ]
    },
    {
     "data": {
      "application/vnd.jupyter.widget-view+json": {
       "model_id": "b0cd3987731a4ef0bb02358410a774a7",
       "version_major": 2,
       "version_minor": 0
      },
      "text/plain": [
       "HBox(children=(IntProgress(value=0, max=5), HTML(value='')))"
      ]
     },
     "metadata": {},
     "output_type": "display_data"
    },
    {
     "name": "stdout",
     "output_type": "stream",
     "text": [
      "\n",
      "Iteration No: 60 ended. Search finished for the next optimal point.\n",
      "Time taken: 6.8440\n",
      "Function value obtained: -0.5324\n",
      "Current minimum: -0.5363\n",
      "Iteration No: 61 started. Searching for the next optimal point.\n",
      "Trying: {'colsample_bylevel': 0.23175231965028037, 'colsample_bynode': 0.04741869644826459, 'colsample_bytree': 0.8918454995292382, 'learning_rate': 0.49051550132483474, 'max_depth': 3, 'min_child_weight': 1, 'n_estimators': 105, 'subsample': 0.9353170903725335}\n"
     ]
    },
    {
     "data": {
      "application/vnd.jupyter.widget-view+json": {
       "model_id": "1228cbf62d294e43b1967af462bb6530",
       "version_major": 2,
       "version_minor": 0
      },
      "text/plain": [
       "HBox(children=(IntProgress(value=0, max=5), HTML(value='')))"
      ]
     },
     "metadata": {},
     "output_type": "display_data"
    },
    {
     "name": "stdout",
     "output_type": "stream",
     "text": [
      "\n",
      "Iteration No: 61 ended. Search finished for the next optimal point.\n",
      "Time taken: 11.5425\n",
      "Function value obtained: -0.5166\n",
      "Current minimum: -0.5363\n",
      "Iteration No: 62 started. Searching for the next optimal point.\n",
      "Trying: {'colsample_bylevel': 1.0, 'colsample_bynode': 1.0, 'colsample_bytree': 1.0, 'learning_rate': 0.01, 'max_depth': 3, 'min_child_weight': 1, 'n_estimators': 200, 'subsample': 0.9726043201146155}\n"
     ]
    },
    {
     "data": {
      "application/vnd.jupyter.widget-view+json": {
       "model_id": "1cb98fbcaa3445029a00ed0b841b8825",
       "version_major": 2,
       "version_minor": 0
      },
      "text/plain": [
       "HBox(children=(IntProgress(value=0, max=5), HTML(value='')))"
      ]
     },
     "metadata": {},
     "output_type": "display_data"
    },
    {
     "name": "stdout",
     "output_type": "stream",
     "text": [
      "\n",
      "Iteration No: 62 ended. Search finished for the next optimal point.\n",
      "Time taken: 167.6947\n",
      "Function value obtained: -0.5324\n",
      "Current minimum: -0.5363\n",
      "Iteration No: 63 started. Searching for the next optimal point.\n",
      "Trying: {'colsample_bylevel': 0.9266119030101041, 'colsample_bynode': 0.9007178514395732, 'colsample_bytree': 0.040090059208383606, 'learning_rate': 0.019957191326607265, 'max_depth': 1, 'min_child_weight': 1, 'n_estimators': 12, 'subsample': 0.977740121268924}\n"
     ]
    },
    {
     "data": {
      "application/vnd.jupyter.widget-view+json": {
       "model_id": "e870f12e784945d88b4911838b7ddb01",
       "version_major": 2,
       "version_minor": 0
      },
      "text/plain": [
       "HBox(children=(IntProgress(value=0, max=5), HTML(value='')))"
      ]
     },
     "metadata": {},
     "output_type": "display_data"
    },
    {
     "name": "stdout",
     "output_type": "stream",
     "text": [
      "\n",
      "Iteration No: 63 ended. Search finished for the next optimal point.\n",
      "Time taken: 6.0533\n",
      "Function value obtained: -0.5196\n",
      "Current minimum: -0.5363\n",
      "Iteration No: 64 started. Searching for the next optimal point.\n",
      "Trying: {'colsample_bylevel': 1.0, 'colsample_bynode': 1.0, 'colsample_bytree': 1.0, 'learning_rate': 0.01, 'max_depth': 3, 'min_child_weight': 1, 'n_estimators': 200, 'subsample': 0.5331844000399449}\n"
     ]
    },
    {
     "data": {
      "application/vnd.jupyter.widget-view+json": {
       "model_id": "8cffb68975e14df2904ee598bc15a89c",
       "version_major": 2,
       "version_minor": 0
      },
      "text/plain": [
       "HBox(children=(IntProgress(value=0, max=5), HTML(value='')))"
      ]
     },
     "metadata": {},
     "output_type": "display_data"
    },
    {
     "name": "stdout",
     "output_type": "stream",
     "text": [
      "\n",
      "Iteration No: 64 ended. Search finished for the next optimal point.\n",
      "Time taken: 140.0094\n",
      "Function value obtained: -0.5330\n",
      "Current minimum: -0.5363\n",
      "Iteration No: 65 started. Searching for the next optimal point.\n",
      "Trying: {'colsample_bylevel': 0.9657772446907504, 'colsample_bynode': 0.9546558465025461, 'colsample_bytree': 0.9516556730900563, 'learning_rate': 0.04846408804470618, 'max_depth': 3, 'min_child_weight': 3, 'n_estimators': 93, 'subsample': 0.9857238029768366}\n"
     ]
    },
    {
     "data": {
      "application/vnd.jupyter.widget-view+json": {
       "model_id": "5055876ce67f4d739a067d620c0f874f",
       "version_major": 2,
       "version_minor": 0
      },
      "text/plain": [
       "HBox(children=(IntProgress(value=0, max=5), HTML(value='')))"
      ]
     },
     "metadata": {},
     "output_type": "display_data"
    },
    {
     "name": "stdout",
     "output_type": "stream",
     "text": [
      "\n",
      "Iteration No: 65 ended. Search finished for the next optimal point.\n",
      "Time taken: 73.6682\n",
      "Function value obtained: -0.5310\n",
      "Current minimum: -0.5363\n",
      "Iteration No: 66 started. Searching for the next optimal point.\n",
      "Trying: {'colsample_bylevel': 0.0030279766958691843, 'colsample_bynode': 0.8954678909287843, 'colsample_bytree': 0.9701937368251058, 'learning_rate': 0.01683888495619318, 'max_depth': 3, 'min_child_weight': 3, 'n_estimators': 29, 'subsample': 0.26269407201069267}\n"
     ]
    },
    {
     "data": {
      "application/vnd.jupyter.widget-view+json": {
       "model_id": "430c39b3146249f88144b1a1f2c93a16",
       "version_major": 2,
       "version_minor": 0
      },
      "text/plain": [
       "HBox(children=(IntProgress(value=0, max=5), HTML(value='')))"
      ]
     },
     "metadata": {},
     "output_type": "display_data"
    },
    {
     "name": "stdout",
     "output_type": "stream",
     "text": [
      "\n",
      "Iteration No: 66 ended. Search finished for the next optimal point.\n",
      "Time taken: 7.3641\n",
      "Function value obtained: -0.5210\n",
      "Current minimum: -0.5363\n",
      "Iteration No: 67 started. Searching for the next optimal point.\n",
      "Trying: {'colsample_bylevel': 0.9805066746515853, 'colsample_bynode': 0.07191192119421343, 'colsample_bytree': 0.8819385274339574, 'learning_rate': 0.04293269881639042, 'max_depth': 3, 'min_child_weight': 1, 'n_estimators': 129, 'subsample': 0.9820199361127993}\n"
     ]
    },
    {
     "data": {
      "application/vnd.jupyter.widget-view+json": {
       "model_id": "c89f259a6d9a4b558cde6497eb253a9d",
       "version_major": 2,
       "version_minor": 0
      },
      "text/plain": [
       "HBox(children=(IntProgress(value=0, max=5), HTML(value='')))"
      ]
     },
     "metadata": {},
     "output_type": "display_data"
    },
    {
     "name": "stdout",
     "output_type": "stream",
     "text": [
      "\n",
      "Iteration No: 67 ended. Search finished for the next optimal point.\n",
      "Time taken: 20.8547\n",
      "Function value obtained: -0.5337\n",
      "Current minimum: -0.5363\n",
      "Iteration No: 68 started. Searching for the next optimal point.\n",
      "Trying: {'colsample_bylevel': 0.638598199374311, 'colsample_bynode': 0.9170067876117919, 'colsample_bytree': 0.9374829649904092, 'learning_rate': 0.014615370595522658, 'max_depth': 1, 'min_child_weight': 1, 'n_estimators': 188, 'subsample': 0.04762066473278094}\n"
     ]
    },
    {
     "data": {
      "application/vnd.jupyter.widget-view+json": {
       "model_id": "2da2de3012dd40e8bf1f221339a47a04",
       "version_major": 2,
       "version_minor": 0
      },
      "text/plain": [
       "HBox(children=(IntProgress(value=0, max=5), HTML(value='')))"
      ]
     },
     "metadata": {},
     "output_type": "display_data"
    },
    {
     "name": "stdout",
     "output_type": "stream",
     "text": [
      "\n",
      "Iteration No: 68 ended. Search finished for the next optimal point.\n",
      "Time taken: 22.0991\n",
      "Function value obtained: -0.5290\n",
      "Current minimum: -0.5363\n",
      "Iteration No: 69 started. Searching for the next optimal point.\n",
      "Trying: {'colsample_bylevel': 0.8254449457458678, 'colsample_bynode': 0.2702929638278149, 'colsample_bytree': 0.9391354060822696, 'learning_rate': 0.03270884313659181, 'max_depth': 3, 'min_child_weight': 3, 'n_estimators': 39, 'subsample': 0.9592349653308259}\n"
     ]
    },
    {
     "data": {
      "application/vnd.jupyter.widget-view+json": {
       "model_id": "e6aef8a4cb6948cf8e4e4ab1f565e192",
       "version_major": 2,
       "version_minor": 0
      },
      "text/plain": [
       "HBox(children=(IntProgress(value=0, max=5), HTML(value='')))"
      ]
     },
     "metadata": {},
     "output_type": "display_data"
    },
    {
     "name": "stdout",
     "output_type": "stream",
     "text": [
      "\n",
      "Iteration No: 69 ended. Search finished for the next optimal point.\n",
      "Time taken: 13.9172\n",
      "Function value obtained: -0.5311\n",
      "Current minimum: -0.5363\n",
      "Iteration No: 70 started. Searching for the next optimal point.\n",
      "Trying: {'colsample_bylevel': 1.0, 'colsample_bynode': 0.5472291527745178, 'colsample_bytree': 1.0, 'learning_rate': 0.01, 'max_depth': 3, 'min_child_weight': 1, 'n_estimators': 200, 'subsample': 0.7500416812949623}\n"
     ]
    },
    {
     "data": {
      "application/vnd.jupyter.widget-view+json": {
       "model_id": "45be1b7cb5fc4109ae3763478f387730",
       "version_major": 2,
       "version_minor": 0
      },
      "text/plain": [
       "HBox(children=(IntProgress(value=0, max=5), HTML(value='')))"
      ]
     },
     "metadata": {},
     "output_type": "display_data"
    },
    {
     "name": "stdout",
     "output_type": "stream",
     "text": [
      "\n",
      "Iteration No: 70 ended. Search finished for the next optimal point.\n",
      "Time taken: 92.5200\n",
      "Function value obtained: -0.5317\n",
      "Current minimum: -0.5363\n",
      "Iteration No: 71 started. Searching for the next optimal point.\n",
      "Trying: {'colsample_bylevel': 1.0, 'colsample_bynode': 0.6493799142728628, 'colsample_bytree': 1.0, 'learning_rate': 0.01, 'max_depth': 3, 'min_child_weight': 1, 'n_estimators': 200, 'subsample': 1.0}\n"
     ]
    },
    {
     "data": {
      "application/vnd.jupyter.widget-view+json": {
       "model_id": "4bb6cb65559e499e99ca8d7e897c6ad5",
       "version_major": 2,
       "version_minor": 0
      },
      "text/plain": [
       "HBox(children=(IntProgress(value=0, max=5), HTML(value='')))"
      ]
     },
     "metadata": {},
     "output_type": "display_data"
    },
    {
     "name": "stdout",
     "output_type": "stream",
     "text": [
      "\n",
      "Iteration No: 71 ended. Search finished for the next optimal point.\n",
      "Time taken: 113.9532\n",
      "Function value obtained: -0.5318\n",
      "Current minimum: -0.5363\n",
      "Iteration No: 72 started. Searching for the next optimal point.\n",
      "Trying: {'colsample_bylevel': 0.06452735559300861, 'colsample_bynode': 0.019907275857672272, 'colsample_bytree': 0.9814763434826012, 'learning_rate': 0.1559674758982566, 'max_depth': 3, 'min_child_weight': 2, 'n_estimators': 130, 'subsample': 0.9579035092018843}\n"
     ]
    },
    {
     "data": {
      "application/vnd.jupyter.widget-view+json": {
       "model_id": "afe78ba00d704d658b82e05cdb590a45",
       "version_major": 2,
       "version_minor": 0
      },
      "text/plain": [
       "HBox(children=(IntProgress(value=0, max=5), HTML(value='')))"
      ]
     },
     "metadata": {},
     "output_type": "display_data"
    },
    {
     "name": "stdout",
     "output_type": "stream",
     "text": [
      "\n",
      "Iteration No: 72 ended. Search finished for the next optimal point.\n",
      "Time taken: 16.1162\n",
      "Function value obtained: -0.5210\n",
      "Current minimum: -0.5363\n",
      "Iteration No: 73 started. Searching for the next optimal point.\n",
      "Trying: {'colsample_bylevel': 1.0, 'colsample_bynode': 1.0, 'colsample_bytree': 1.0, 'learning_rate': 0.01, 'max_depth': 2, 'min_child_weight': 1, 'n_estimators': 200, 'subsample': 0.6152905710191419}\n"
     ]
    },
    {
     "data": {
      "application/vnd.jupyter.widget-view+json": {
       "model_id": "a3b9eab00b794201879542f7806b9072",
       "version_major": 2,
       "version_minor": 0
      },
      "text/plain": [
       "HBox(children=(IntProgress(value=0, max=5), HTML(value='')))"
      ]
     },
     "metadata": {},
     "output_type": "display_data"
    },
    {
     "name": "stdout",
     "output_type": "stream",
     "text": [
      "\n",
      "Iteration No: 73 ended. Search finished for the next optimal point.\n",
      "Time taken: 111.3750\n",
      "Function value obtained: -0.5313\n",
      "Current minimum: -0.5363\n",
      "Iteration No: 74 started. Searching for the next optimal point.\n",
      "Trying: {'colsample_bylevel': 0.7337222758843057, 'colsample_bynode': 0.6280407578391075, 'colsample_bytree': 1.0, 'learning_rate': 0.01, 'max_depth': 3, 'min_child_weight': 1, 'n_estimators': 200, 'subsample': 0.716610281217031}\n"
     ]
    },
    {
     "data": {
      "application/vnd.jupyter.widget-view+json": {
       "model_id": "6f4c1cf366c0448aae4bd26cfe5abc85",
       "version_major": 2,
       "version_minor": 0
      },
      "text/plain": [
       "HBox(children=(IntProgress(value=0, max=5), HTML(value='')))"
      ]
     },
     "metadata": {},
     "output_type": "display_data"
    },
    {
     "name": "stdout",
     "output_type": "stream",
     "text": [
      "\n",
      "Iteration No: 74 ended. Search finished for the next optimal point.\n",
      "Time taken: 82.5089\n",
      "Function value obtained: -0.5349\n",
      "Current minimum: -0.5363\n",
      "Iteration No: 75 started. Searching for the next optimal point.\n",
      "Trying: {'colsample_bylevel': 0.9934129820808476, 'colsample_bynode': 0.08787476487342351, 'colsample_bytree': 0.8878575489620258, 'learning_rate': 0.4889987763917152, 'max_depth': 1, 'min_child_weight': 3, 'n_estimators': 195, 'subsample': 0.9303369372954973}\n"
     ]
    },
    {
     "data": {
      "application/vnd.jupyter.widget-view+json": {
       "model_id": "7fde799b1baa4b6b914a083c8c34bfbf",
       "version_major": 2,
       "version_minor": 0
      },
      "text/plain": [
       "HBox(children=(IntProgress(value=0, max=5), HTML(value='')))"
      ]
     },
     "metadata": {},
     "output_type": "display_data"
    },
    {
     "name": "stdout",
     "output_type": "stream",
     "text": [
      "\n",
      "Iteration No: 75 ended. Search finished for the next optimal point.\n",
      "Time taken: 22.8862\n",
      "Function value obtained: -0.5287\n",
      "Current minimum: -0.5363\n",
      "Iteration No: 76 started. Searching for the next optimal point.\n",
      "Trying: {'colsample_bylevel': 1.0, 'colsample_bynode': 0.5860059968926453, 'colsample_bytree': 1.0, 'learning_rate': 0.01, 'max_depth': 3, 'min_child_weight': 1, 'n_estimators': 200, 'subsample': 0.6621551129363497}\n"
     ]
    },
    {
     "data": {
      "application/vnd.jupyter.widget-view+json": {
       "model_id": "d6173190010b46d3b2abb726145e89f4",
       "version_major": 2,
       "version_minor": 0
      },
      "text/plain": [
       "HBox(children=(IntProgress(value=0, max=5), HTML(value='')))"
      ]
     },
     "metadata": {},
     "output_type": "display_data"
    },
    {
     "name": "stdout",
     "output_type": "stream",
     "text": [
      "\n",
      "Iteration No: 76 ended. Search finished for the next optimal point.\n",
      "Time taken: 102.5803\n",
      "Function value obtained: -0.5321\n",
      "Current minimum: -0.5363\n",
      "Iteration No: 77 started. Searching for the next optimal point.\n",
      "Trying: {'colsample_bylevel': 0.15198107165768995, 'colsample_bynode': 0.9013059312640018, 'colsample_bytree': 0.9366183005065399, 'learning_rate': 0.16672968898069399, 'max_depth': 3, 'min_child_weight': 1, 'n_estimators': 151, 'subsample': 0.8515150151126383}\n"
     ]
    },
    {
     "data": {
      "application/vnd.jupyter.widget-view+json": {
       "model_id": "ccee7b82b1a54bfabcd9d3dc9b06c006",
       "version_major": 2,
       "version_minor": 0
      },
      "text/plain": [
       "HBox(children=(IntProgress(value=0, max=5), HTML(value='')))"
      ]
     },
     "metadata": {},
     "output_type": "display_data"
    },
    {
     "name": "stdout",
     "output_type": "stream",
     "text": [
      "\n",
      "Iteration No: 77 ended. Search finished for the next optimal point.\n",
      "Time taken: 25.2679\n",
      "Function value obtained: -0.5215\n",
      "Current minimum: -0.5363\n",
      "Iteration No: 78 started. Searching for the next optimal point.\n",
      "Trying: {'colsample_bylevel': 0.9479254099001043, 'colsample_bynode': 0.9081484323162414, 'colsample_bytree': 0.9220406527684674, 'learning_rate': 0.4897958286702901, 'max_depth': 1, 'min_child_weight': 2, 'n_estimators': 42, 'subsample': 0.9258273799126036}\n"
     ]
    },
    {
     "data": {
      "application/vnd.jupyter.widget-view+json": {
       "model_id": "20c6c45d173348289ebcb41258562b2d",
       "version_major": 2,
       "version_minor": 0
      },
      "text/plain": [
       "HBox(children=(IntProgress(value=0, max=5), HTML(value='')))"
      ]
     },
     "metadata": {},
     "output_type": "display_data"
    },
    {
     "name": "stdout",
     "output_type": "stream",
     "text": [
      "\n",
      "Iteration No: 78 ended. Search finished for the next optimal point.\n",
      "Time taken: 14.1500\n",
      "Function value obtained: -0.5311\n",
      "Current minimum: -0.5363\n",
      "Iteration No: 79 started. Searching for the next optimal point.\n",
      "Trying: {'colsample_bylevel': 0.7406324591206085, 'colsample_bynode': 0.6411537952586187, 'colsample_bytree': 1.0, 'learning_rate': 0.01, 'max_depth': 3, 'min_child_weight': 1, 'n_estimators': 10, 'subsample': 0.7106914983012692}\n"
     ]
    },
    {
     "data": {
      "application/vnd.jupyter.widget-view+json": {
       "model_id": "d3ca8ba1a05341108ed38b575031af67",
       "version_major": 2,
       "version_minor": 0
      },
      "text/plain": [
       "HBox(children=(IntProgress(value=0, max=5), HTML(value='')))"
      ]
     },
     "metadata": {},
     "output_type": "display_data"
    },
    {
     "name": "stdout",
     "output_type": "stream",
     "text": [
      "\n",
      "Iteration No: 79 ended. Search finished for the next optimal point.\n",
      "Time taken: 8.6781\n",
      "Function value obtained: -0.5343\n",
      "Current minimum: -0.5363\n",
      "Iteration No: 80 started. Searching for the next optimal point.\n",
      "Trying: {'colsample_bylevel': 0.7366627121725631, 'colsample_bynode': 0.6370531410578774, 'colsample_bytree': 1.0, 'learning_rate': 0.01, 'max_depth': 3, 'min_child_weight': 1, 'n_estimators': 10, 'subsample': 0.7113249177714414}\n"
     ]
    },
    {
     "data": {
      "application/vnd.jupyter.widget-view+json": {
       "model_id": "f9abdb8aeab442ddb2ce4c93653fa736",
       "version_major": 2,
       "version_minor": 0
      },
      "text/plain": [
       "HBox(children=(IntProgress(value=0, max=5), HTML(value='')))"
      ]
     },
     "metadata": {},
     "output_type": "display_data"
    },
    {
     "name": "stdout",
     "output_type": "stream",
     "text": [
      "\n",
      "Iteration No: 80 ended. Search finished for the next optimal point.\n",
      "Time taken: 8.7465\n",
      "Function value obtained: -0.5330\n",
      "Current minimum: -0.5363\n",
      "Iteration No: 81 started. Searching for the next optimal point.\n",
      "Trying: {'colsample_bylevel': 0.9407526761966563, 'colsample_bynode': 0.13636731134247462, 'colsample_bytree': 0.19671887912045566, 'learning_rate': 0.4793697283867482, 'max_depth': 1, 'min_child_weight': 2, 'n_estimators': 138, 'subsample': 0.9978220416085078}\n"
     ]
    },
    {
     "data": {
      "application/vnd.jupyter.widget-view+json": {
       "model_id": "87fcadb376c640f98457b5a034327ffe",
       "version_major": 2,
       "version_minor": 0
      },
      "text/plain": [
       "HBox(children=(IntProgress(value=0, max=5), HTML(value='')))"
      ]
     },
     "metadata": {},
     "output_type": "display_data"
    },
    {
     "name": "stdout",
     "output_type": "stream",
     "text": [
      "\n",
      "Iteration No: 81 ended. Search finished for the next optimal point.\n",
      "Time taken: 11.8060\n",
      "Function value obtained: -0.5260\n",
      "Current minimum: -0.5363\n",
      "Iteration No: 82 started. Searching for the next optimal point.\n",
      "Trying: {'colsample_bylevel': 0.9943130463007944, 'colsample_bynode': 0.8542391376472949, 'colsample_bytree': 0.05834262243979228, 'learning_rate': 0.49134763043839347, 'max_depth': 1, 'min_child_weight': 1, 'n_estimators': 174, 'subsample': 0.9680030244793416}\n"
     ]
    },
    {
     "data": {
      "application/vnd.jupyter.widget-view+json": {
       "model_id": "55469f9383774e2d91df5f8dfa039ba5",
       "version_major": 2,
       "version_minor": 0
      },
      "text/plain": [
       "HBox(children=(IntProgress(value=0, max=5), HTML(value='')))"
      ]
     },
     "metadata": {},
     "output_type": "display_data"
    },
    {
     "name": "stdout",
     "output_type": "stream",
     "text": [
      "\n",
      "Iteration No: 82 ended. Search finished for the next optimal point.\n",
      "Time taken: 14.4531\n",
      "Function value obtained: -0.5235\n",
      "Current minimum: -0.5363\n",
      "Iteration No: 83 started. Searching for the next optimal point.\n",
      "Trying: {'colsample_bylevel': 0.999047778502275, 'colsample_bynode': 0.26236372979733097, 'colsample_bytree': 0.9912536250785854, 'learning_rate': 0.20541398726822072, 'max_depth': 3, 'min_child_weight': 1, 'n_estimators': 17, 'subsample': 0.9438872337196473}\n"
     ]
    },
    {
     "data": {
      "application/vnd.jupyter.widget-view+json": {
       "model_id": "6d0711933d5740148ee6d8c4dbea1775",
       "version_major": 2,
       "version_minor": 0
      },
      "text/plain": [
       "HBox(children=(IntProgress(value=0, max=5), HTML(value='')))"
      ]
     },
     "metadata": {},
     "output_type": "display_data"
    },
    {
     "name": "stdout",
     "output_type": "stream",
     "text": [
      "\n",
      "Iteration No: 83 ended. Search finished for the next optimal point.\n",
      "Time taken: 10.7253\n",
      "Function value obtained: -0.5292\n",
      "Current minimum: -0.5363\n",
      "Iteration No: 84 started. Searching for the next optimal point.\n",
      "Trying: {'colsample_bylevel': 0.48473399720538135, 'colsample_bynode': 0.4429690392705108, 'colsample_bytree': 0.9798400554407349, 'learning_rate': 0.48382929459441676, 'max_depth': 1, 'min_child_weight': 1, 'n_estimators': 86, 'subsample': 0.9833583451444086}\n"
     ]
    },
    {
     "data": {
      "application/vnd.jupyter.widget-view+json": {
       "model_id": "5fa4065a3cd140a0b0f247d4f62245ea",
       "version_major": 2,
       "version_minor": 0
      },
      "text/plain": [
       "HBox(children=(IntProgress(value=0, max=5), HTML(value='')))"
      ]
     },
     "metadata": {},
     "output_type": "display_data"
    },
    {
     "name": "stdout",
     "output_type": "stream",
     "text": [
      "\n",
      "Iteration No: 84 ended. Search finished for the next optimal point.\n",
      "Time taken: 13.7369\n",
      "Function value obtained: -0.5301\n",
      "Current minimum: -0.5363\n",
      "Iteration No: 85 started. Searching for the next optimal point.\n",
      "Trying: {'colsample_bylevel': 0.005327290309638078, 'colsample_bynode': 0.012630464857234517, 'colsample_bytree': 0.9835830297241515, 'learning_rate': 0.19485200964094737, 'max_depth': 1, 'min_child_weight': 2, 'n_estimators': 47, 'subsample': 0.1633852711664048}\n"
     ]
    },
    {
     "data": {
      "application/vnd.jupyter.widget-view+json": {
       "model_id": "cae377352a6d400883cd5e51cfeea6d2",
       "version_major": 2,
       "version_minor": 0
      },
      "text/plain": [
       "HBox(children=(IntProgress(value=0, max=5), HTML(value='')))"
      ]
     },
     "metadata": {},
     "output_type": "display_data"
    },
    {
     "name": "stdout",
     "output_type": "stream",
     "text": [
      "\n",
      "Iteration No: 85 ended. Search finished for the next optimal point.\n",
      "Time taken: 10.3950\n",
      "Function value obtained: -0.5183\n",
      "Current minimum: -0.5363\n",
      "Iteration No: 86 started. Searching for the next optimal point.\n",
      "Trying: {'colsample_bylevel': 0.994036979838905, 'colsample_bynode': 0.9494333319300726, 'colsample_bytree': 0.9997913486548159, 'learning_rate': 0.03384322286691959, 'max_depth': 2, 'min_child_weight': 1, 'n_estimators': 75, 'subsample': 0.008679348071783501}\n"
     ]
    },
    {
     "data": {
      "application/vnd.jupyter.widget-view+json": {
       "model_id": "a623fd686860497396c46739fbb7aa06",
       "version_major": 2,
       "version_minor": 0
      },
      "text/plain": [
       "HBox(children=(IntProgress(value=0, max=5), HTML(value='')))"
      ]
     },
     "metadata": {},
     "output_type": "display_data"
    },
    {
     "name": "stdout",
     "output_type": "stream",
     "text": [
      "\n",
      "Iteration No: 86 ended. Search finished for the next optimal point.\n",
      "Time taken: 16.5993\n",
      "Function value obtained: -0.5180\n",
      "Current minimum: -0.5363\n",
      "Iteration No: 87 started. Searching for the next optimal point.\n",
      "Trying: {'colsample_bylevel': 0.7476035474683399, 'colsample_bynode': 1.0, 'colsample_bytree': 1.0, 'learning_rate': 0.01, 'max_depth': 2, 'min_child_weight': 1, 'n_estimators': 200, 'subsample': 0.6856779902759468}\n"
     ]
    },
    {
     "data": {
      "application/vnd.jupyter.widget-view+json": {
       "model_id": "083ccc441583484bbe69895a0e69544f",
       "version_major": 2,
       "version_minor": 0
      },
      "text/plain": [
       "HBox(children=(IntProgress(value=0, max=5), HTML(value='')))"
      ]
     },
     "metadata": {},
     "output_type": "display_data"
    },
    {
     "name": "stdout",
     "output_type": "stream",
     "text": [
      "\n",
      "Iteration No: 87 ended. Search finished for the next optimal point.\n",
      "Time taken: 91.3027\n",
      "Function value obtained: -0.5317\n",
      "Current minimum: -0.5363\n",
      "Iteration No: 88 started. Searching for the next optimal point.\n",
      "Trying: {'colsample_bylevel': 0.7218530014673593, 'colsample_bynode': 0.615772434196335, 'colsample_bytree': 1.0, 'learning_rate': 0.01, 'max_depth': 3, 'min_child_weight': 1, 'n_estimators': 200, 'subsample': 0.760207006319043}\n"
     ]
    },
    {
     "data": {
      "application/vnd.jupyter.widget-view+json": {
       "model_id": "0d6e612fd0e54931be58945a5f249ef5",
       "version_major": 2,
       "version_minor": 0
      },
      "text/plain": [
       "HBox(children=(IntProgress(value=0, max=5), HTML(value='')))"
      ]
     },
     "metadata": {},
     "output_type": "display_data"
    },
    {
     "name": "stdout",
     "output_type": "stream",
     "text": [
      "\n",
      "Iteration No: 88 ended. Search finished for the next optimal point.\n",
      "Time taken: 85.1391\n",
      "Function value obtained: -0.5317\n",
      "Current minimum: -0.5363\n",
      "Iteration No: 89 started. Searching for the next optimal point.\n",
      "Trying: {'colsample_bylevel': 0.760973317622555, 'colsample_bynode': 0.08731494341769509, 'colsample_bytree': 0.938395113427408, 'learning_rate': 0.027440618874831048, 'max_depth': 3, 'min_child_weight': 1, 'n_estimators': 40, 'subsample': 0.05425651183273007}\n"
     ]
    },
    {
     "data": {
      "application/vnd.jupyter.widget-view+json": {
       "model_id": "c57f85e7159d4deea3e72bb1cd568847",
       "version_major": 2,
       "version_minor": 0
      },
      "text/plain": [
       "HBox(children=(IntProgress(value=0, max=5), HTML(value='')))"
      ]
     },
     "metadata": {},
     "output_type": "display_data"
    },
    {
     "name": "stdout",
     "output_type": "stream",
     "text": [
      "\n",
      "Iteration No: 89 ended. Search finished for the next optimal point.\n",
      "Time taken: 7.8042\n",
      "Function value obtained: -0.5203\n",
      "Current minimum: -0.5363\n",
      "Iteration No: 90 started. Searching for the next optimal point.\n",
      "Trying: {'colsample_bylevel': 1.0, 'colsample_bynode': 1.0, 'colsample_bytree': 1.0, 'learning_rate': 0.01, 'max_depth': 3, 'min_child_weight': 1, 'n_estimators': 200, 'subsample': 1.0}\n"
     ]
    },
    {
     "data": {
      "application/vnd.jupyter.widget-view+json": {
       "model_id": "27c9ab1c5dd34213b5df29467cc8f2b6",
       "version_major": 2,
       "version_minor": 0
      },
      "text/plain": [
       "HBox(children=(IntProgress(value=0, max=5), HTML(value='')))"
      ]
     },
     "metadata": {},
     "output_type": "display_data"
    },
    {
     "name": "stdout",
     "output_type": "stream",
     "text": [
      "\n",
      "Iteration No: 90 ended. Search finished for the next optimal point.\n",
      "Time taken: 172.4315\n",
      "Function value obtained: -0.5326\n",
      "Current minimum: -0.5363\n",
      "Iteration No: 91 started. Searching for the next optimal point.\n",
      "Trying: {'colsample_bylevel': 0.8294853497266002, 'colsample_bynode': 1.0, 'colsample_bytree': 1.0, 'learning_rate': 0.01, 'max_depth': 2, 'min_child_weight': 1, 'n_estimators': 10, 'subsample': 0.7023352685086306}\n"
     ]
    },
    {
     "data": {
      "application/vnd.jupyter.widget-view+json": {
       "model_id": "5c25f36844d5411d83a5e3ef7522244e",
       "version_major": 2,
       "version_minor": 0
      },
      "text/plain": [
       "HBox(children=(IntProgress(value=0, max=5), HTML(value='')))"
      ]
     },
     "metadata": {},
     "output_type": "display_data"
    },
    {
     "name": "stdout",
     "output_type": "stream",
     "text": [
      "\n",
      "Iteration No: 91 ended. Search finished for the next optimal point.\n",
      "Time taken: 9.7143\n",
      "Function value obtained: -0.5311\n",
      "Current minimum: -0.5363\n",
      "Iteration No: 92 started. Searching for the next optimal point.\n",
      "Trying: {'colsample_bylevel': 0.00462872291857841, 'colsample_bynode': 0.9963412798603825, 'colsample_bytree': 0.8028513564392079, 'learning_rate': 0.02932522481952172, 'max_depth': 3, 'min_child_weight': 3, 'n_estimators': 185, 'subsample': 0.9558046225132822}\n"
     ]
    },
    {
     "data": {
      "application/vnd.jupyter.widget-view+json": {
       "model_id": "f03b115ac60342b58ae3f694f4f560a4",
       "version_major": 2,
       "version_minor": 0
      },
      "text/plain": [
       "HBox(children=(IntProgress(value=0, max=5), HTML(value='')))"
      ]
     },
     "metadata": {},
     "output_type": "display_data"
    },
    {
     "name": "stdout",
     "output_type": "stream",
     "text": [
      "\n",
      "Iteration No: 92 ended. Search finished for the next optimal point.\n",
      "Time taken: 18.9540\n",
      "Function value obtained: -0.5191\n",
      "Current minimum: -0.5363\n",
      "Iteration No: 93 started. Searching for the next optimal point.\n",
      "Trying: {'colsample_bylevel': 0.760862744201086, 'colsample_bynode': 0.6342901928765023, 'colsample_bytree': 1.0, 'learning_rate': 0.01, 'max_depth': 3, 'min_child_weight': 1, 'n_estimators': 200, 'subsample': 0.7629732632745715}\n"
     ]
    },
    {
     "data": {
      "application/vnd.jupyter.widget-view+json": {
       "model_id": "f6ec176c2bd246edb6abf8a036407516",
       "version_major": 2,
       "version_minor": 0
      },
      "text/plain": [
       "HBox(children=(IntProgress(value=0, max=5), HTML(value='')))"
      ]
     },
     "metadata": {},
     "output_type": "display_data"
    },
    {
     "name": "stdout",
     "output_type": "stream",
     "text": [
      "\n",
      "Iteration No: 93 ended. Search finished for the next optimal point.\n",
      "Time taken: 93.2763\n",
      "Function value obtained: -0.5305\n",
      "Current minimum: -0.5363\n",
      "Iteration No: 94 started. Searching for the next optimal point.\n",
      "Trying: {'colsample_bylevel': 1.0, 'colsample_bynode': 1.0, 'colsample_bytree': 1.0, 'learning_rate': 0.01, 'max_depth': 3, 'min_child_weight': 1, 'n_estimators': 10, 'subsample': 0.8467274000205557}\n"
     ]
    },
    {
     "data": {
      "application/vnd.jupyter.widget-view+json": {
       "model_id": "650e960fac3b4b8c87d594a0824768bd",
       "version_major": 2,
       "version_minor": 0
      },
      "text/plain": [
       "HBox(children=(IntProgress(value=0, max=5), HTML(value='')))"
      ]
     },
     "metadata": {},
     "output_type": "display_data"
    },
    {
     "name": "stdout",
     "output_type": "stream",
     "text": [
      "\n",
      "Iteration No: 94 ended. Search finished for the next optimal point.\n",
      "Time taken: 14.3314\n",
      "Function value obtained: -0.5307\n",
      "Current minimum: -0.5363\n",
      "Iteration No: 95 started. Searching for the next optimal point.\n",
      "Trying: {'colsample_bylevel': 0.24727144833599118, 'colsample_bynode': 0.01879069339780293, 'colsample_bytree': 0.07017959823422805, 'learning_rate': 0.013799242758866171, 'max_depth': 3, 'min_child_weight': 1, 'n_estimators': 118, 'subsample': 0.8805721918916865}\n"
     ]
    },
    {
     "data": {
      "application/vnd.jupyter.widget-view+json": {
       "model_id": "00d0642e959a423b92a45c87dd120b55",
       "version_major": 2,
       "version_minor": 0
      },
      "text/plain": [
       "HBox(children=(IntProgress(value=0, max=5), HTML(value='')))"
      ]
     },
     "metadata": {},
     "output_type": "display_data"
    },
    {
     "name": "stdout",
     "output_type": "stream",
     "text": [
      "\n",
      "Iteration No: 95 ended. Search finished for the next optimal point.\n",
      "Time taken: 12.3047\n",
      "Function value obtained: -0.5217\n",
      "Current minimum: -0.5363\n",
      "Iteration No: 96 started. Searching for the next optimal point.\n",
      "Trying: {'colsample_bylevel': 0.07309522923106461, 'colsample_bynode': 0.0543328206801771, 'colsample_bytree': 0.040395245965570654, 'learning_rate': 0.4976670917641208, 'max_depth': 2, 'min_child_weight': 1, 'n_estimators': 26, 'subsample': 0.015136670842774595}\n"
     ]
    },
    {
     "data": {
      "application/vnd.jupyter.widget-view+json": {
       "model_id": "f121d70d9de64a0fa036467e9352332b",
       "version_major": 2,
       "version_minor": 0
      },
      "text/plain": [
       "HBox(children=(IntProgress(value=0, max=5), HTML(value='')))"
      ]
     },
     "metadata": {},
     "output_type": "display_data"
    },
    {
     "name": "stdout",
     "output_type": "stream",
     "text": [
      "\n",
      "Iteration No: 96 ended. Search finished for the next optimal point.\n",
      "Time taken: 6.7872\n",
      "Function value obtained: -0.4972\n",
      "Current minimum: -0.5363\n",
      "Iteration No: 97 started. Searching for the next optimal point.\n",
      "Trying: {'colsample_bylevel': 0.02426894933059221, 'colsample_bynode': 0.007512125446404229, 'colsample_bytree': 0.6487351522888355, 'learning_rate': 0.026044898573216388, 'max_depth': 1, 'min_child_weight': 3, 'n_estimators': 86, 'subsample': 0.32449662084516}\n"
     ]
    },
    {
     "data": {
      "application/vnd.jupyter.widget-view+json": {
       "model_id": "273dc491f3b64dfd9beefbf624e8b8d1",
       "version_major": 2,
       "version_minor": 0
      },
      "text/plain": [
       "HBox(children=(IntProgress(value=0, max=5), HTML(value='')))"
      ]
     },
     "metadata": {},
     "output_type": "display_data"
    },
    {
     "name": "stdout",
     "output_type": "stream",
     "text": [
      "\n",
      "Iteration No: 97 ended. Search finished for the next optimal point.\n",
      "Time taken: 11.5285\n",
      "Function value obtained: -0.5200\n",
      "Current minimum: -0.5363\n",
      "Iteration No: 98 started. Searching for the next optimal point.\n",
      "Trying: {'colsample_bylevel': 0.3675959082902985, 'colsample_bynode': 0.9825449266156864, 'colsample_bytree': 0.9490465555753216, 'learning_rate': 0.01746262635064796, 'max_depth': 1, 'min_child_weight': 3, 'n_estimators': 63, 'subsample': 0.5249358155309579}\n"
     ]
    },
    {
     "data": {
      "application/vnd.jupyter.widget-view+json": {
       "model_id": "c6eaa56000d54f06b389d5bc37db419d",
       "version_major": 2,
       "version_minor": 0
      },
      "text/plain": [
       "HBox(children=(IntProgress(value=0, max=5), HTML(value='')))"
      ]
     },
     "metadata": {},
     "output_type": "display_data"
    },
    {
     "name": "stdout",
     "output_type": "stream",
     "text": [
      "\n",
      "Iteration No: 98 ended. Search finished for the next optimal point.\n",
      "Time taken: 16.6216\n",
      "Function value obtained: -0.5326\n",
      "Current minimum: -0.5363\n",
      "Iteration No: 99 started. Searching for the next optimal point.\n",
      "Trying: {'colsample_bylevel': 0.9090652897049628, 'colsample_bynode': 0.9912780712441868, 'colsample_bytree': 0.995101776698117, 'learning_rate': 0.4836744744183813, 'max_depth': 1, 'min_child_weight': 3, 'n_estimators': 20, 'subsample': 0.6303427426576999}\n"
     ]
    },
    {
     "data": {
      "application/vnd.jupyter.widget-view+json": {
       "model_id": "f2fddc5f45b443bcbc7bdca79245aa1d",
       "version_major": 2,
       "version_minor": 0
      },
      "text/plain": [
       "HBox(children=(IntProgress(value=0, max=5), HTML(value='')))"
      ]
     },
     "metadata": {},
     "output_type": "display_data"
    },
    {
     "name": "stdout",
     "output_type": "stream",
     "text": [
      "\n",
      "Iteration No: 99 ended. Search finished for the next optimal point.\n",
      "Time taken: 10.5262\n",
      "Function value obtained: -0.5324\n",
      "Current minimum: -0.5363\n",
      "Iteration No: 100 started. Searching for the next optimal point.\n",
      "Trying: {'colsample_bylevel': 0.6714428867510759, 'colsample_bynode': 1.0, 'colsample_bytree': 1.0, 'learning_rate': 0.01, 'max_depth': 1, 'min_child_weight': 3, 'n_estimators': 200, 'subsample': 0.5451714097167322}\n"
     ]
    },
    {
     "data": {
      "application/vnd.jupyter.widget-view+json": {
       "model_id": "dbf7d037e72748e0aede71cb65666470",
       "version_major": 2,
       "version_minor": 0
      },
      "text/plain": [
       "HBox(children=(IntProgress(value=0, max=5), HTML(value='')))"
      ]
     },
     "metadata": {},
     "output_type": "display_data"
    },
    {
     "name": "stdout",
     "output_type": "stream",
     "text": [
      "\n",
      "Iteration No: 100 ended. Search finished for the next optimal point.\n",
      "Time taken: 43.3748\n",
      "Function value obtained: -0.5322\n",
      "Current minimum: -0.5363\n",
      "Iteration No: 101 started. Searching for the next optimal point.\n",
      "Trying: {'colsample_bylevel': 0.7724943663794951, 'colsample_bynode': 0.08204707157835402, 'colsample_bytree': 0.8991947920031585, 'learning_rate': 0.01674583029952421, 'max_depth': 3, 'min_child_weight': 2, 'n_estimators': 97, 'subsample': 0.9949723899777116}\n"
     ]
    },
    {
     "data": {
      "application/vnd.jupyter.widget-view+json": {
       "model_id": "48bd0d280d13498ba9324e6187762997",
       "version_major": 2,
       "version_minor": 0
      },
      "text/plain": [
       "HBox(children=(IntProgress(value=0, max=5), HTML(value='')))"
      ]
     },
     "metadata": {},
     "output_type": "display_data"
    },
    {
     "name": "stdout",
     "output_type": "stream",
     "text": [
      "\n",
      "Iteration No: 101 ended. Search finished for the next optimal point.\n",
      "Time taken: 16.9197\n",
      "Function value obtained: -0.5293\n",
      "Current minimum: -0.5363\n",
      "Iteration No: 102 started. Searching for the next optimal point.\n",
      "Trying: {'colsample_bylevel': 0.40071798642844336, 'colsample_bynode': 0.9735313800657825, 'colsample_bytree': 0.9751286081726317, 'learning_rate': 0.4506396078392677, 'max_depth': 1, 'min_child_weight': 3, 'n_estimators': 184, 'subsample': 0.7384807377533553}\n"
     ]
    },
    {
     "data": {
      "application/vnd.jupyter.widget-view+json": {
       "model_id": "c814bb0bbc5442a39f8e4375fd1dc745",
       "version_major": 2,
       "version_minor": 0
      },
      "text/plain": [
       "HBox(children=(IntProgress(value=0, max=5), HTML(value='')))"
      ]
     },
     "metadata": {},
     "output_type": "display_data"
    },
    {
     "name": "stdout",
     "output_type": "stream",
     "text": [
      "\n",
      "Iteration No: 102 ended. Search finished for the next optimal point.\n",
      "Time taken: 33.6976\n",
      "Function value obtained: -0.5241\n",
      "Current minimum: -0.5363\n",
      "Iteration No: 103 started. Searching for the next optimal point.\n",
      "Trying: {'colsample_bylevel': 0.7215175332797705, 'colsample_bynode': 1.0, 'colsample_bytree': 1.0, 'learning_rate': 0.01, 'max_depth': 1, 'min_child_weight': 1, 'n_estimators': 200, 'subsample': 0.5404420644156436}\n"
     ]
    },
    {
     "data": {
      "application/vnd.jupyter.widget-view+json": {
       "model_id": "570f69e92c2f429faa5b3b6543ddbe40",
       "version_major": 2,
       "version_minor": 0
      },
      "text/plain": [
       "HBox(children=(IntProgress(value=0, max=5), HTML(value='')))"
      ]
     },
     "metadata": {},
     "output_type": "display_data"
    },
    {
     "name": "stdout",
     "output_type": "stream",
     "text": [
      "\n",
      "Iteration No: 103 ended. Search finished for the next optimal point.\n",
      "Time taken: 43.8589\n",
      "Function value obtained: -0.5313\n",
      "Current minimum: -0.5363\n",
      "Iteration No: 104 started. Searching for the next optimal point.\n",
      "Trying: {'colsample_bylevel': 1.0, 'colsample_bynode': 1.0, 'colsample_bytree': 1.0, 'learning_rate': 0.01, 'max_depth': 3, 'min_child_weight': 1, 'n_estimators': 200, 'subsample': 0.772286592761397}\n"
     ]
    },
    {
     "data": {
      "application/vnd.jupyter.widget-view+json": {
       "model_id": "7279bf8455994dc1b733d621ba037ade",
       "version_major": 2,
       "version_minor": 0
      },
      "text/plain": [
       "HBox(children=(IntProgress(value=0, max=5), HTML(value='')))"
      ]
     },
     "metadata": {},
     "output_type": "display_data"
    },
    {
     "name": "stdout",
     "output_type": "stream",
     "text": [
      "\n",
      "Iteration No: 104 ended. Search finished for the next optimal point.\n",
      "Time taken: 159.2952\n",
      "Function value obtained: -0.5314\n",
      "Current minimum: -0.5363\n",
      "Iteration No: 105 started. Searching for the next optimal point.\n",
      "Trying: {'colsample_bylevel': 0.9935790879148158, 'colsample_bynode': 0.9068118092354279, 'colsample_bytree': 0.9449025287728082, 'learning_rate': 0.4816978973882727, 'max_depth': 1, 'min_child_weight': 1, 'n_estimators': 86, 'subsample': 0.5454037826730904}\n"
     ]
    },
    {
     "data": {
      "application/vnd.jupyter.widget-view+json": {
       "model_id": "5a472db98b094e3c8e14b5845c2e1cd6",
       "version_major": 2,
       "version_minor": 0
      },
      "text/plain": [
       "HBox(children=(IntProgress(value=0, max=5), HTML(value='')))"
      ]
     },
     "metadata": {},
     "output_type": "display_data"
    },
    {
     "name": "stdout",
     "output_type": "stream",
     "text": [
      "\n",
      "Iteration No: 105 ended. Search finished for the next optimal point.\n",
      "Time taken: 23.6977\n",
      "Function value obtained: -0.5233\n",
      "Current minimum: -0.5363\n",
      "Iteration No: 106 started. Searching for the next optimal point.\n",
      "Trying: {'colsample_bylevel': 0.911249521523127, 'colsample_bynode': 0.317511348864655, 'colsample_bytree': 0.2258613342404105, 'learning_rate': 0.01110357243628544, 'max_depth': 1, 'min_child_weight': 1, 'n_estimators': 35, 'subsample': 0.011231099267958735}\n"
     ]
    },
    {
     "data": {
      "application/vnd.jupyter.widget-view+json": {
       "model_id": "bfedff444f314e158a51f6f469f36760",
       "version_major": 2,
       "version_minor": 0
      },
      "text/plain": [
       "HBox(children=(IntProgress(value=0, max=5), HTML(value='')))"
      ]
     },
     "metadata": {},
     "output_type": "display_data"
    },
    {
     "name": "stdout",
     "output_type": "stream",
     "text": [
      "\n",
      "Iteration No: 106 ended. Search finished for the next optimal point.\n",
      "Time taken: 7.6859\n",
      "Function value obtained: -0.5150\n",
      "Current minimum: -0.5363\n",
      "Iteration No: 107 started. Searching for the next optimal point.\n",
      "Trying: {'colsample_bylevel': 0.0077916130307625914, 'colsample_bynode': 0.7334127485074731, 'colsample_bytree': 0.9604065475466362, 'learning_rate': 0.4997951252894585, 'max_depth': 3, 'min_child_weight': 2, 'n_estimators': 163, 'subsample': 0.9794809971747875}\n"
     ]
    },
    {
     "data": {
      "application/vnd.jupyter.widget-view+json": {
       "model_id": "c12f30193b2f496a89e389eea26a2f08",
       "version_major": 2,
       "version_minor": 0
      },
      "text/plain": [
       "HBox(children=(IntProgress(value=0, max=5), HTML(value='')))"
      ]
     },
     "metadata": {},
     "output_type": "display_data"
    },
    {
     "name": "stdout",
     "output_type": "stream",
     "text": [
      "\n",
      "Iteration No: 107 ended. Search finished for the next optimal point.\n",
      "Time taken: 16.2502\n",
      "Function value obtained: -0.5154\n",
      "Current minimum: -0.5363\n",
      "Iteration No: 108 started. Searching for the next optimal point.\n",
      "Trying: {'colsample_bylevel': 0.4612530368204767, 'colsample_bynode': 0.22848932305754993, 'colsample_bytree': 0.9847127129509754, 'learning_rate': 0.01089978549346025, 'max_depth': 3, 'min_child_weight': 2, 'n_estimators': 13, 'subsample': 0.4541291153120669}\n"
     ]
    },
    {
     "data": {
      "application/vnd.jupyter.widget-view+json": {
       "model_id": "f7a7bd71bf0e460fa965ae551e6f53bf",
       "version_major": 2,
       "version_minor": 0
      },
      "text/plain": [
       "HBox(children=(IntProgress(value=0, max=5), HTML(value='')))"
      ]
     },
     "metadata": {},
     "output_type": "display_data"
    },
    {
     "name": "stdout",
     "output_type": "stream",
     "text": [
      "\n",
      "Iteration No: 108 ended. Search finished for the next optimal point.\n",
      "Time taken: 7.6285\n",
      "Function value obtained: -0.5275\n",
      "Current minimum: -0.5363\n",
      "Iteration No: 109 started. Searching for the next optimal point.\n",
      "Trying: {'colsample_bylevel': 0.9718610005683725, 'colsample_bynode': 0.024287148698652346, 'colsample_bytree': 0.9591816944371979, 'learning_rate': 0.3525353639438093, 'max_depth': 1, 'min_child_weight': 1, 'n_estimators': 60, 'subsample': 0.6563797865940895}\n"
     ]
    },
    {
     "data": {
      "application/vnd.jupyter.widget-view+json": {
       "model_id": "77df81beeacb460daf054c203be0d123",
       "version_major": 2,
       "version_minor": 0
      },
      "text/plain": [
       "HBox(children=(IntProgress(value=0, max=5), HTML(value='')))"
      ]
     },
     "metadata": {},
     "output_type": "display_data"
    },
    {
     "name": "stdout",
     "output_type": "stream",
     "text": [
      "\n",
      "Iteration No: 109 ended. Search finished for the next optimal point.\n",
      "Time taken: 9.0979\n",
      "Function value obtained: -0.5264\n",
      "Current minimum: -0.5363\n",
      "Iteration No: 110 started. Searching for the next optimal point.\n",
      "Trying: {'colsample_bylevel': 0.20752966585785498, 'colsample_bynode': 0.99791007926288, 'colsample_bytree': 0.9939643674763882, 'learning_rate': 0.18254562824820084, 'max_depth': 1, 'min_child_weight': 1, 'n_estimators': 183, 'subsample': 0.33547002065751746}\n"
     ]
    },
    {
     "data": {
      "application/vnd.jupyter.widget-view+json": {
       "model_id": "aede763154094b51afe1319d5fd72209",
       "version_major": 2,
       "version_minor": 0
      },
      "text/plain": [
       "HBox(children=(IntProgress(value=0, max=5), HTML(value='')))"
      ]
     },
     "metadata": {},
     "output_type": "display_data"
    },
    {
     "name": "stdout",
     "output_type": "stream",
     "text": [
      "\n",
      "Iteration No: 110 ended. Search finished for the next optimal point.\n",
      "Time taken: 20.5861\n",
      "Function value obtained: -0.5231\n",
      "Current minimum: -0.5363\n",
      "Iteration No: 111 started. Searching for the next optimal point.\n",
      "Trying: {'colsample_bylevel': 0.8560290058495924, 'colsample_bynode': 1.0, 'colsample_bytree': 1.0, 'learning_rate': 0.01, 'max_depth': 3, 'min_child_weight': 3, 'n_estimators': 10, 'subsample': 0.7320208496482065}\n"
     ]
    },
    {
     "data": {
      "application/vnd.jupyter.widget-view+json": {
       "model_id": "894f9f43d5ae420686f6b10db06b2d28",
       "version_major": 2,
       "version_minor": 0
      },
      "text/plain": [
       "HBox(children=(IntProgress(value=0, max=5), HTML(value='')))"
      ]
     },
     "metadata": {},
     "output_type": "display_data"
    },
    {
     "name": "stdout",
     "output_type": "stream",
     "text": [
      "\n",
      "Iteration No: 111 ended. Search finished for the next optimal point.\n",
      "Time taken: 12.3024\n",
      "Function value obtained: -0.5316\n",
      "Current minimum: -0.5363\n",
      "Iteration No: 112 started. Searching for the next optimal point.\n",
      "Trying: {'colsample_bylevel': 0.9717713229430406, 'colsample_bynode': 0.6893929630651336, 'colsample_bytree': 0.9991884215230753, 'learning_rate': 0.4990292767432783, 'max_depth': 1, 'min_child_weight': 3, 'n_estimators': 32, 'subsample': 0.9612184833886435}\n"
     ]
    },
    {
     "data": {
      "application/vnd.jupyter.widget-view+json": {
       "model_id": "f0aee30cbf9e4561ade61eca033ec6b8",
       "version_major": 2,
       "version_minor": 0
      },
      "text/plain": [
       "HBox(children=(IntProgress(value=0, max=5), HTML(value='')))"
      ]
     },
     "metadata": {},
     "output_type": "display_data"
    },
    {
     "name": "stdout",
     "output_type": "stream",
     "text": [
      "\n",
      "Iteration No: 112 ended. Search finished for the next optimal point.\n",
      "Time taken: 12.3958\n",
      "Function value obtained: -0.5316\n",
      "Current minimum: -0.5363\n",
      "Iteration No: 113 started. Searching for the next optimal point.\n",
      "Trying: {'colsample_bylevel': 0.7958252823991592, 'colsample_bynode': 1.0, 'colsample_bytree': 1.0, 'learning_rate': 0.01, 'max_depth': 2, 'min_child_weight': 3, 'n_estimators': 200, 'subsample': 0.6681020907301594}\n"
     ]
    },
    {
     "data": {
      "application/vnd.jupyter.widget-view+json": {
       "model_id": "4c57bcb52bb3445e8d50a4220b43df28",
       "version_major": 2,
       "version_minor": 0
      },
      "text/plain": [
       "HBox(children=(IntProgress(value=0, max=5), HTML(value='')))"
      ]
     },
     "metadata": {},
     "output_type": "display_data"
    },
    {
     "name": "stdout",
     "output_type": "stream",
     "text": [
      "\n",
      "Iteration No: 113 ended. Search finished for the next optimal point.\n",
      "Time taken: 89.6185\n",
      "Function value obtained: -0.5293\n",
      "Current minimum: -0.5363\n",
      "Iteration No: 114 started. Searching for the next optimal point.\n",
      "Trying: {'colsample_bylevel': 0.8626399321961348, 'colsample_bynode': 0.625557506328127, 'colsample_bytree': 1.0, 'learning_rate': 0.01, 'max_depth': 3, 'min_child_weight': 3, 'n_estimators': 200, 'subsample': 0.7772909358814601}\n"
     ]
    },
    {
     "data": {
      "application/vnd.jupyter.widget-view+json": {
       "model_id": "601e64ba91584016a6d0a47b989fe946",
       "version_major": 2,
       "version_minor": 0
      },
      "text/plain": [
       "HBox(children=(IntProgress(value=0, max=5), HTML(value='')))"
      ]
     },
     "metadata": {},
     "output_type": "display_data"
    },
    {
     "name": "stdout",
     "output_type": "stream",
     "text": [
      "\n",
      "Iteration No: 114 ended. Search finished for the next optimal point.\n",
      "Time taken: 92.1344\n",
      "Function value obtained: -0.5288\n",
      "Current minimum: -0.5363\n",
      "Iteration No: 115 started. Searching for the next optimal point.\n",
      "Trying: {'colsample_bylevel': 1.0, 'colsample_bynode': 1.0, 'colsample_bytree': 1.0, 'learning_rate': 0.01, 'max_depth': 3, 'min_child_weight': 1, 'n_estimators': 10, 'subsample': 0.7943186772034331}\n"
     ]
    },
    {
     "data": {
      "application/vnd.jupyter.widget-view+json": {
       "model_id": "f6c652c88b6644eca1bde891264564fb",
       "version_major": 2,
       "version_minor": 0
      },
      "text/plain": [
       "HBox(children=(IntProgress(value=0, max=5), HTML(value='')))"
      ]
     },
     "metadata": {},
     "output_type": "display_data"
    },
    {
     "name": "stdout",
     "output_type": "stream",
     "text": [
      "\n",
      "Iteration No: 115 ended. Search finished for the next optimal point.\n",
      "Time taken: 13.4375\n",
      "Function value obtained: -0.5328\n",
      "Current minimum: -0.5363\n",
      "Iteration No: 116 started. Searching for the next optimal point.\n",
      "Trying: {'colsample_bylevel': 0.9948313227989278, 'colsample_bynode': 0.06085941798402296, 'colsample_bytree': 0.7854511851599731, 'learning_rate': 0.04343878795170454, 'max_depth': 3, 'min_child_weight': 3, 'n_estimators': 150, 'subsample': 0.96716298557206}\n"
     ]
    },
    {
     "data": {
      "application/vnd.jupyter.widget-view+json": {
       "model_id": "7739cc9585e746b8a277de12f04dc694",
       "version_major": 2,
       "version_minor": 0
      },
      "text/plain": [
       "HBox(children=(IntProgress(value=0, max=5), HTML(value='')))"
      ]
     },
     "metadata": {},
     "output_type": "display_data"
    },
    {
     "name": "stdout",
     "output_type": "stream",
     "text": [
      "\n",
      "Iteration No: 116 ended. Search finished for the next optimal point.\n",
      "Time taken: 23.5983\n",
      "Function value obtained: -0.5289\n",
      "Current minimum: -0.5363\n",
      "Iteration No: 117 started. Searching for the next optimal point.\n",
      "Trying: {'colsample_bylevel': 0.5617256623104209, 'colsample_bynode': 0.0888927886497224, 'colsample_bytree': 0.8642398091448875, 'learning_rate': 0.48758603383703075, 'max_depth': 1, 'min_child_weight': 1, 'n_estimators': 180, 'subsample': 0.9339333929153085}\n"
     ]
    },
    {
     "data": {
      "application/vnd.jupyter.widget-view+json": {
       "model_id": "a7e10dbf4fce44a2a5e9b6f6eab41aad",
       "version_major": 2,
       "version_minor": 0
      },
      "text/plain": [
       "HBox(children=(IntProgress(value=0, max=5), HTML(value='')))"
      ]
     },
     "metadata": {},
     "output_type": "display_data"
    },
    {
     "name": "stdout",
     "output_type": "stream",
     "text": [
      "\n",
      "Iteration No: 117 ended. Search finished for the next optimal point.\n",
      "Time taken: 17.2740\n",
      "Function value obtained: -0.5218\n",
      "Current minimum: -0.5363\n",
      "Iteration No: 118 started. Searching for the next optimal point.\n",
      "Trying: {'colsample_bylevel': 0.94413814545429, 'colsample_bynode': 0.46121112453016, 'colsample_bytree': 0.9996523313676412, 'learning_rate': 0.01965600740688539, 'max_depth': 2, 'min_child_weight': 3, 'n_estimators': 143, 'subsample': 0.5238079550622813}\n"
     ]
    },
    {
     "data": {
      "application/vnd.jupyter.widget-view+json": {
       "model_id": "a8ba9a35285f4514b66c94ad5fb5a81b",
       "version_major": 2,
       "version_minor": 0
      },
      "text/plain": [
       "HBox(children=(IntProgress(value=0, max=5), HTML(value='')))"
      ]
     },
     "metadata": {},
     "output_type": "display_data"
    },
    {
     "name": "stdout",
     "output_type": "stream",
     "text": [
      "\n",
      "Iteration No: 118 ended. Search finished for the next optimal point.\n",
      "Time taken: 47.2289\n",
      "Function value obtained: -0.5354\n",
      "Current minimum: -0.5363\n",
      "Iteration No: 119 started. Searching for the next optimal point.\n",
      "Trying: {'colsample_bylevel': 1.0, 'colsample_bynode': 0.5525800592289566, 'colsample_bytree': 1.0, 'learning_rate': 0.01, 'max_depth': 3, 'min_child_weight': 3, 'n_estimators': 10, 'subsample': 0.7034756116616541}\n"
     ]
    },
    {
     "data": {
      "application/vnd.jupyter.widget-view+json": {
       "model_id": "af63d35bb6064108810c8d75f6c9e8e0",
       "version_major": 2,
       "version_minor": 0
      },
      "text/plain": [
       "HBox(children=(IntProgress(value=0, max=5), HTML(value='')))"
      ]
     },
     "metadata": {},
     "output_type": "display_data"
    },
    {
     "name": "stdout",
     "output_type": "stream",
     "text": [
      "\n",
      "Iteration No: 119 ended. Search finished for the next optimal point.\n",
      "Time taken: 11.6871\n",
      "Function value obtained: -0.5340\n",
      "Current minimum: -0.5363\n",
      "Iteration No: 120 started. Searching for the next optimal point.\n",
      "Trying: {'colsample_bylevel': 0.9217048135035854, 'colsample_bynode': 0.6157383626762281, 'colsample_bytree': 0.9975205218774301, 'learning_rate': 0.20612490876147846, 'max_depth': 2, 'min_child_weight': 1, 'n_estimators': 198, 'subsample': 0.9803595251466884}\n"
     ]
    },
    {
     "data": {
      "application/vnd.jupyter.widget-view+json": {
       "model_id": "d7ec4e22eaa94f2bb1ab05425da92a9a",
       "version_major": 2,
       "version_minor": 0
      },
      "text/plain": [
       "HBox(children=(IntProgress(value=0, max=5), HTML(value='')))"
      ]
     },
     "metadata": {},
     "output_type": "display_data"
    },
    {
     "name": "stdout",
     "output_type": "stream",
     "text": [
      "\n",
      "Iteration No: 120 ended. Search finished for the next optimal point.\n",
      "Time taken: 73.5732\n",
      "Function value obtained: -0.5240\n",
      "Current minimum: -0.5363\n",
      "Iteration No: 121 started. Searching for the next optimal point.\n",
      "Trying: {'colsample_bylevel': 1.0, 'colsample_bynode': 0.5501897861677226, 'colsample_bytree': 1.0, 'learning_rate': 0.01, 'max_depth': 3, 'min_child_weight': 3, 'n_estimators': 10, 'subsample': 0.6918768595539923}\n"
     ]
    },
    {
     "data": {
      "application/vnd.jupyter.widget-view+json": {
       "model_id": "c7d76ee9876843658824884c249292ec",
       "version_major": 2,
       "version_minor": 0
      },
      "text/plain": [
       "HBox(children=(IntProgress(value=0, max=5), HTML(value='')))"
      ]
     },
     "metadata": {},
     "output_type": "display_data"
    },
    {
     "name": "stdout",
     "output_type": "stream",
     "text": [
      "\n",
      "Iteration No: 121 ended. Search finished for the next optimal point.\n",
      "Time taken: 10.6607\n",
      "Function value obtained: -0.5329\n",
      "Current minimum: -0.5363\n",
      "Iteration No: 122 started. Searching for the next optimal point.\n",
      "Trying: {'colsample_bylevel': 1.0, 'colsample_bynode': 0.5482133559293677, 'colsample_bytree': 1.0, 'learning_rate': 0.01, 'max_depth': 3, 'min_child_weight': 1, 'n_estimators': 10, 'subsample': 0.6862120342406482}\n"
     ]
    },
    {
     "data": {
      "application/vnd.jupyter.widget-view+json": {
       "model_id": "878d62c7b2f74e4594071f89fbd3b1de",
       "version_major": 2,
       "version_minor": 0
      },
      "text/plain": [
       "HBox(children=(IntProgress(value=0, max=5), HTML(value='')))"
      ]
     },
     "metadata": {},
     "output_type": "display_data"
    },
    {
     "name": "stdout",
     "output_type": "stream",
     "text": [
      "\n",
      "Iteration No: 122 ended. Search finished for the next optimal point.\n",
      "Time taken: 10.4891\n",
      "Function value obtained: -0.5320\n",
      "Current minimum: -0.5363\n",
      "Iteration No: 123 started. Searching for the next optimal point.\n",
      "Trying: {'colsample_bylevel': 1.0, 'colsample_bynode': 1.0, 'colsample_bytree': 1.0, 'learning_rate': 0.01, 'max_depth': 1, 'min_child_weight': 3, 'n_estimators': 10, 'subsample': 0.5343429587378989}\n"
     ]
    },
    {
     "data": {
      "application/vnd.jupyter.widget-view+json": {
       "model_id": "a8efe8bccedf4f8f9e3469ae058e1e98",
       "version_major": 2,
       "version_minor": 0
      },
      "text/plain": [
       "HBox(children=(IntProgress(value=0, max=5), HTML(value='')))"
      ]
     },
     "metadata": {},
     "output_type": "display_data"
    },
    {
     "name": "stdout",
     "output_type": "stream",
     "text": [
      "\n",
      "Iteration No: 123 ended. Search finished for the next optimal point.\n",
      "Time taken: 8.7793\n",
      "Function value obtained: -0.5309\n",
      "Current minimum: -0.5363\n",
      "Iteration No: 124 started. Searching for the next optimal point.\n",
      "Trying: {'colsample_bylevel': 1.0, 'colsample_bynode': 0.5374461937198326, 'colsample_bytree': 1.0, 'learning_rate': 0.01, 'max_depth': 3, 'min_child_weight': 1, 'n_estimators': 200, 'subsample': 0.68178898576519}\n"
     ]
    },
    {
     "data": {
      "application/vnd.jupyter.widget-view+json": {
       "model_id": "f6f591c6b0ae432c8fe6888a341a86fc",
       "version_major": 2,
       "version_minor": 0
      },
      "text/plain": [
       "HBox(children=(IntProgress(value=0, max=5), HTML(value='')))"
      ]
     },
     "metadata": {},
     "output_type": "display_data"
    },
    {
     "name": "stdout",
     "output_type": "stream",
     "text": [
      "\n",
      "Iteration No: 124 ended. Search finished for the next optimal point.\n",
      "Time taken: 104.9417\n",
      "Function value obtained: -0.5296\n",
      "Current minimum: -0.5363\n",
      "Iteration No: 125 started. Searching for the next optimal point.\n",
      "Trying: {'colsample_bylevel': 0.9850062573677905, 'colsample_bynode': 0.023803681080288304, 'colsample_bytree': 0.8390143830227462, 'learning_rate': 0.02122381488168216, 'max_depth': 3, 'min_child_weight': 2, 'n_estimators': 32, 'subsample': 0.5887274613942702}\n"
     ]
    },
    {
     "data": {
      "application/vnd.jupyter.widget-view+json": {
       "model_id": "8931767961d74a549a63dd53103e9ac5",
       "version_major": 2,
       "version_minor": 0
      },
      "text/plain": [
       "HBox(children=(IntProgress(value=0, max=5), HTML(value='')))"
      ]
     },
     "metadata": {},
     "output_type": "display_data"
    },
    {
     "name": "stdout",
     "output_type": "stream",
     "text": [
      "\n",
      "Iteration No: 125 ended. Search finished for the next optimal point.\n",
      "Time taken: 8.8795\n",
      "Function value obtained: -0.5250\n",
      "Current minimum: -0.5363\n",
      "Iteration No: 126 started. Searching for the next optimal point.\n",
      "Trying: {'colsample_bylevel': 0.8864884659670051, 'colsample_bynode': 0.9393035420332684, 'colsample_bytree': 0.9251078614981015, 'learning_rate': 0.49813155952704297, 'max_depth': 3, 'min_child_weight': 1, 'n_estimators': 88, 'subsample': 0.17271125166620852}\n"
     ]
    },
    {
     "data": {
      "application/vnd.jupyter.widget-view+json": {
       "model_id": "8971a5f3a9f744b488802a1e0c6cea01",
       "version_major": 2,
       "version_minor": 0
      },
      "text/plain": [
       "HBox(children=(IntProgress(value=0, max=5), HTML(value='')))"
      ]
     },
     "metadata": {},
     "output_type": "display_data"
    },
    {
     "name": "stdout",
     "output_type": "stream",
     "text": [
      "\n",
      "Iteration No: 126 ended. Search finished for the next optimal point.\n",
      "Time taken: 31.8282\n",
      "Function value obtained: -0.5086\n",
      "Current minimum: -0.5363\n",
      "Iteration No: 127 started. Searching for the next optimal point.\n",
      "Trying: {'colsample_bylevel': 1.0, 'colsample_bynode': 1.0, 'colsample_bytree': 1.0, 'learning_rate': 0.01, 'max_depth': 1, 'min_child_weight': 3, 'n_estimators': 10, 'subsample': 0.5472483812104846}\n"
     ]
    },
    {
     "data": {
      "application/vnd.jupyter.widget-view+json": {
       "model_id": "eeca2b2432e5485ea93d6aceb4687592",
       "version_major": 2,
       "version_minor": 0
      },
      "text/plain": [
       "HBox(children=(IntProgress(value=0, max=5), HTML(value='')))"
      ]
     },
     "metadata": {},
     "output_type": "display_data"
    },
    {
     "name": "stdout",
     "output_type": "stream",
     "text": [
      "\n",
      "Iteration No: 127 ended. Search finished for the next optimal point.\n",
      "Time taken: 9.9654\n",
      "Function value obtained: -0.5366\n",
      "Current minimum: -0.5366\n",
      "Iteration No: 128 started. Searching for the next optimal point.\n",
      "Trying: {'colsample_bylevel': 1.0, 'colsample_bynode': 1.0, 'colsample_bytree': 1.0, 'learning_rate': 0.01, 'max_depth': 1, 'min_child_weight': 3, 'n_estimators': 10, 'subsample': 0.5423767961298932}\n"
     ]
    },
    {
     "data": {
      "application/vnd.jupyter.widget-view+json": {
       "model_id": "c511a9514252452d84542cdaefb3ff42",
       "version_major": 2,
       "version_minor": 0
      },
      "text/plain": [
       "HBox(children=(IntProgress(value=0, max=5), HTML(value='')))"
      ]
     },
     "metadata": {},
     "output_type": "display_data"
    },
    {
     "name": "stdout",
     "output_type": "stream",
     "text": [
      "\n",
      "Iteration No: 128 ended. Search finished for the next optimal point.\n",
      "Time taken: 11.1200\n",
      "Function value obtained: -0.5342\n",
      "Current minimum: -0.5366\n",
      "Iteration No: 129 started. Searching for the next optimal point.\n",
      "Trying: {'colsample_bylevel': 1.0, 'colsample_bynode': 1.0, 'colsample_bytree': 1.0, 'learning_rate': 0.01, 'max_depth': 1, 'min_child_weight': 3, 'n_estimators': 10, 'subsample': 0.5426088257016748}\n"
     ]
    },
    {
     "data": {
      "application/vnd.jupyter.widget-view+json": {
       "model_id": "45332ba3b0fd48f7bd768aa3a4db213a",
       "version_major": 2,
       "version_minor": 0
      },
      "text/plain": [
       "HBox(children=(IntProgress(value=0, max=5), HTML(value='')))"
      ]
     },
     "metadata": {},
     "output_type": "display_data"
    },
    {
     "name": "stdout",
     "output_type": "stream",
     "text": [
      "\n",
      "Iteration No: 129 ended. Search finished for the next optimal point.\n",
      "Time taken: 8.8618\n",
      "Function value obtained: -0.5340\n",
      "Current minimum: -0.5366\n",
      "Iteration No: 130 started. Searching for the next optimal point.\n",
      "Trying: {'colsample_bylevel': 0.9662852558010171, 'colsample_bynode': 0.4249695638372719, 'colsample_bytree': 0.8620882824445477, 'learning_rate': 0.032444476897882546, 'max_depth': 2, 'min_child_weight': 2, 'n_estimators': 16, 'subsample': 0.9330237866682686}\n"
     ]
    },
    {
     "data": {
      "application/vnd.jupyter.widget-view+json": {
       "model_id": "a48a2d149945468a905b736a72bc2ebe",
       "version_major": 2,
       "version_minor": 0
      },
      "text/plain": [
       "HBox(children=(IntProgress(value=0, max=5), HTML(value='')))"
      ]
     },
     "metadata": {},
     "output_type": "display_data"
    },
    {
     "name": "stdout",
     "output_type": "stream",
     "text": [
      "\n",
      "Iteration No: 130 ended. Search finished for the next optimal point.\n",
      "Time taken: 10.8924\n",
      "Function value obtained: -0.5298\n",
      "Current minimum: -0.5366\n",
      "Iteration No: 131 started. Searching for the next optimal point.\n",
      "Trying: {'colsample_bylevel': 0.9961104342618545, 'colsample_bynode': 0.028998954822241026, 'colsample_bytree': 0.8193339292238274, 'learning_rate': 0.4877731424859958, 'max_depth': 2, 'min_child_weight': 2, 'n_estimators': 51, 'subsample': 0.9422872642321336}\n"
     ]
    },
    {
     "data": {
      "application/vnd.jupyter.widget-view+json": {
       "model_id": "ac99deab8f554e30937a7b29dc8e3ce5",
       "version_major": 2,
       "version_minor": 0
      },
      "text/plain": [
       "HBox(children=(IntProgress(value=0, max=5), HTML(value='')))"
      ]
     },
     "metadata": {},
     "output_type": "display_data"
    },
    {
     "name": "stdout",
     "output_type": "stream",
     "text": [
      "\n",
      "Iteration No: 131 ended. Search finished for the next optimal point.\n",
      "Time taken: 10.6275\n",
      "Function value obtained: -0.5302\n",
      "Current minimum: -0.5366\n",
      "Iteration No: 132 started. Searching for the next optimal point.\n",
      "Trying: {'colsample_bylevel': 1.0, 'colsample_bynode': 1.0, 'colsample_bytree': 1.0, 'learning_rate': 0.01, 'max_depth': 1, 'min_child_weight': 3, 'n_estimators': 10, 'subsample': 0.5417959265969386}\n"
     ]
    },
    {
     "data": {
      "application/vnd.jupyter.widget-view+json": {
       "model_id": "d40b69b9741f42b1a9d3a5918a19e18d",
       "version_major": 2,
       "version_minor": 0
      },
      "text/plain": [
       "HBox(children=(IntProgress(value=0, max=5), HTML(value='')))"
      ]
     },
     "metadata": {},
     "output_type": "display_data"
    },
    {
     "name": "stdout",
     "output_type": "stream",
     "text": [
      "\n",
      "Iteration No: 132 ended. Search finished for the next optimal point.\n",
      "Time taken: 9.1364\n",
      "Function value obtained: -0.5332\n",
      "Current minimum: -0.5366\n",
      "Iteration No: 133 started. Searching for the next optimal point.\n",
      "Trying: {'colsample_bylevel': 0.9874211289189477, 'colsample_bynode': 0.4279200098481536, 'colsample_bytree': 0.9847102724396571, 'learning_rate': 0.4984278091781576, 'max_depth': 2, 'min_child_weight': 2, 'n_estimators': 187, 'subsample': 0.9848845006594699}\n"
     ]
    },
    {
     "data": {
      "application/vnd.jupyter.widget-view+json": {
       "model_id": "94c0ff203800482a91cd3a7807b14c42",
       "version_major": 2,
       "version_minor": 0
      },
      "text/plain": [
       "HBox(children=(IntProgress(value=0, max=5), HTML(value='')))"
      ]
     },
     "metadata": {},
     "output_type": "display_data"
    },
    {
     "name": "stdout",
     "output_type": "stream",
     "text": [
      "\n",
      "Iteration No: 133 ended. Search finished for the next optimal point.\n",
      "Time taken: 60.9109\n",
      "Function value obtained: -0.5229\n",
      "Current minimum: -0.5366\n",
      "Iteration No: 134 started. Searching for the next optimal point.\n",
      "Trying: {'colsample_bylevel': 1.0, 'colsample_bynode': 0.7316412523128734, 'colsample_bytree': 1.0, 'learning_rate': 0.01, 'max_depth': 2, 'min_child_weight': 3, 'n_estimators': 10, 'subsample': 0.597941889111398}\n"
     ]
    },
    {
     "data": {
      "application/vnd.jupyter.widget-view+json": {
       "model_id": "c4d3a5893b8e4c8f9ba862918ba1fcea",
       "version_major": 2,
       "version_minor": 0
      },
      "text/plain": [
       "HBox(children=(IntProgress(value=0, max=5), HTML(value='')))"
      ]
     },
     "metadata": {},
     "output_type": "display_data"
    },
    {
     "name": "stdout",
     "output_type": "stream",
     "text": [
      "\n",
      "Iteration No: 134 ended. Search finished for the next optimal point.\n",
      "Time taken: 10.1773\n",
      "Function value obtained: -0.5338\n",
      "Current minimum: -0.5366\n",
      "Iteration No: 135 started. Searching for the next optimal point.\n",
      "Trying: {'colsample_bylevel': 0.020807284610710134, 'colsample_bynode': 0.578982054469177, 'colsample_bytree': 0.9889266166219818, 'learning_rate': 0.01577136601988558, 'max_depth': 1, 'min_child_weight': 3, 'n_estimators': 56, 'subsample': 0.5884893475238216}\n"
     ]
    },
    {
     "data": {
      "application/vnd.jupyter.widget-view+json": {
       "model_id": "ecc97091172944b5baa265ce2d15c944",
       "version_major": 2,
       "version_minor": 0
      },
      "text/plain": [
       "HBox(children=(IntProgress(value=0, max=5), HTML(value='')))"
      ]
     },
     "metadata": {},
     "output_type": "display_data"
    },
    {
     "name": "stdout",
     "output_type": "stream",
     "text": [
      "\n",
      "Iteration No: 135 ended. Search finished for the next optimal point.\n",
      "Time taken: 10.1620\n",
      "Function value obtained: -0.5223\n",
      "Current minimum: -0.5366\n",
      "Iteration No: 136 started. Searching for the next optimal point.\n",
      "Trying: {'colsample_bylevel': 1.0, 'colsample_bynode': 1.0, 'colsample_bytree': 1.0, 'learning_rate': 0.01, 'max_depth': 1, 'min_child_weight': 1, 'n_estimators': 10, 'subsample': 0.5387022519371367}\n"
     ]
    },
    {
     "data": {
      "application/vnd.jupyter.widget-view+json": {
       "model_id": "c733e006b37f4426a20fe8e514945c72",
       "version_major": 2,
       "version_minor": 0
      },
      "text/plain": [
       "HBox(children=(IntProgress(value=0, max=5), HTML(value='')))"
      ]
     },
     "metadata": {},
     "output_type": "display_data"
    },
    {
     "name": "stdout",
     "output_type": "stream",
     "text": [
      "\n",
      "Iteration No: 136 ended. Search finished for the next optimal point.\n",
      "Time taken: 9.2312\n",
      "Function value obtained: -0.5333\n",
      "Current minimum: -0.5366\n",
      "Iteration No: 137 started. Searching for the next optimal point.\n",
      "Trying: {'colsample_bylevel': 1.0, 'colsample_bynode': 1.0, 'colsample_bytree': 1.0, 'learning_rate': 0.01, 'max_depth': 1, 'min_child_weight': 1, 'n_estimators': 10, 'subsample': 0.5401282514647499}\n"
     ]
    },
    {
     "data": {
      "application/vnd.jupyter.widget-view+json": {
       "model_id": "92c19f22f6b545a9a65ebf46b36872f3",
       "version_major": 2,
       "version_minor": 0
      },
      "text/plain": [
       "HBox(children=(IntProgress(value=0, max=5), HTML(value='')))"
      ]
     },
     "metadata": {},
     "output_type": "display_data"
    },
    {
     "name": "stdout",
     "output_type": "stream",
     "text": [
      "\n",
      "Iteration No: 137 ended. Search finished for the next optimal point.\n",
      "Time taken: 10.2590\n",
      "Function value obtained: -0.5311\n",
      "Current minimum: -0.5366\n",
      "Iteration No: 138 started. Searching for the next optimal point.\n",
      "Trying: {'colsample_bylevel': 0.9787758726726012, 'colsample_bynode': 0.03997783895768681, 'colsample_bytree': 0.9290674309886217, 'learning_rate': 0.4950403162116974, 'max_depth': 1, 'min_child_weight': 3, 'n_estimators': 176, 'subsample': 0.8548633224322758}\n"
     ]
    },
    {
     "data": {
      "application/vnd.jupyter.widget-view+json": {
       "model_id": "812b10112a994d40a69782261f5b7c55",
       "version_major": 2,
       "version_minor": 0
      },
      "text/plain": [
       "HBox(children=(IntProgress(value=0, max=5), HTML(value='')))"
      ]
     },
     "metadata": {},
     "output_type": "display_data"
    },
    {
     "name": "stdout",
     "output_type": "stream",
     "text": [
      "\n",
      "Iteration No: 138 ended. Search finished for the next optimal point.\n",
      "Time taken: 18.3651\n",
      "Function value obtained: -0.5243\n",
      "Current minimum: -0.5366\n",
      "Iteration No: 139 started. Searching for the next optimal point.\n",
      "Trying: {'colsample_bylevel': 0.8338796734003084, 'colsample_bynode': 0.1450391823059536, 'colsample_bytree': 0.9556924144001101, 'learning_rate': 0.012268898275019145, 'max_depth': 3, 'min_child_weight': 3, 'n_estimators': 85, 'subsample': 0.010280238409284938}\n"
     ]
    },
    {
     "data": {
      "application/vnd.jupyter.widget-view+json": {
       "model_id": "2fc7471cbdc445d6a821dfa42f839ea7",
       "version_major": 2,
       "version_minor": 0
      },
      "text/plain": [
       "HBox(children=(IntProgress(value=0, max=5), HTML(value='')))"
      ]
     },
     "metadata": {},
     "output_type": "display_data"
    },
    {
     "name": "stdout",
     "output_type": "stream",
     "text": [
      "\n",
      "Iteration No: 139 ended. Search finished for the next optimal point.\n",
      "Time taken: 13.9877\n",
      "Function value obtained: -0.5166\n",
      "Current minimum: -0.5366\n",
      "Iteration No: 140 started. Searching for the next optimal point.\n",
      "Trying: {'colsample_bylevel': 0.9902015254595692, 'colsample_bynode': 0.5861302612379561, 'colsample_bytree': 0.00465937901393454, 'learning_rate': 0.2860561115404576, 'max_depth': 1, 'min_child_weight': 2, 'n_estimators': 77, 'subsample': 0.999907389437304}\n"
     ]
    },
    {
     "data": {
      "application/vnd.jupyter.widget-view+json": {
       "model_id": "b3922616e1a84777989b46b7909155fe",
       "version_major": 2,
       "version_minor": 0
      },
      "text/plain": [
       "HBox(children=(IntProgress(value=0, max=5), HTML(value='')))"
      ]
     },
     "metadata": {},
     "output_type": "display_data"
    },
    {
     "name": "stdout",
     "output_type": "stream",
     "text": [
      "\n",
      "Iteration No: 140 ended. Search finished for the next optimal point.\n",
      "Time taken: 11.1153\n",
      "Function value obtained: -0.5210\n",
      "Current minimum: -0.5366\n",
      "Iteration No: 141 started. Searching for the next optimal point.\n",
      "Trying: {'colsample_bylevel': 0.9928404113746534, 'colsample_bynode': 0.9470996741149934, 'colsample_bytree': 0.999542012117286, 'learning_rate': 0.013970635703782253, 'max_depth': 1, 'min_child_weight': 2, 'n_estimators': 134, 'subsample': 0.11317419349775029}\n"
     ]
    },
    {
     "data": {
      "application/vnd.jupyter.widget-view+json": {
       "model_id": "17b20af61d45412fa99dd1e2d0ac0a07",
       "version_major": 2,
       "version_minor": 0
      },
      "text/plain": [
       "HBox(children=(IntProgress(value=0, max=5), HTML(value='')))"
      ]
     },
     "metadata": {},
     "output_type": "display_data"
    },
    {
     "name": "stdout",
     "output_type": "stream",
     "text": [
      "\n",
      "Iteration No: 141 ended. Search finished for the next optimal point.\n",
      "Time taken: 26.6963\n",
      "Function value obtained: -0.5294\n",
      "Current minimum: -0.5366\n",
      "Iteration No: 142 started. Searching for the next optimal point.\n",
      "Trying: {'colsample_bylevel': 0.9086540486674132, 'colsample_bynode': 0.9986269932739601, 'colsample_bytree': 0.9311359291837763, 'learning_rate': 0.3080098821311391, 'max_depth': 1, 'min_child_weight': 3, 'n_estimators': 15, 'subsample': 0.9487886981849187}\n"
     ]
    },
    {
     "data": {
      "application/vnd.jupyter.widget-view+json": {
       "model_id": "fb56cb2d51a542db85d69c0021b10b5b",
       "version_major": 2,
       "version_minor": 0
      },
      "text/plain": [
       "HBox(children=(IntProgress(value=0, max=5), HTML(value='')))"
      ]
     },
     "metadata": {},
     "output_type": "display_data"
    },
    {
     "name": "stdout",
     "output_type": "stream",
     "text": [
      "\n",
      "Iteration No: 142 ended. Search finished for the next optimal point.\n",
      "Time taken: 11.6018\n",
      "Function value obtained: -0.5278\n",
      "Current minimum: -0.5366\n",
      "Iteration No: 143 started. Searching for the next optimal point.\n",
      "Trying: {'colsample_bylevel': 1.0, 'colsample_bynode': 1.0, 'colsample_bytree': 1.0, 'learning_rate': 0.01, 'max_depth': 2, 'min_child_weight': 3, 'n_estimators': 10, 'subsample': 0.6543218277857171}\n"
     ]
    },
    {
     "data": {
      "application/vnd.jupyter.widget-view+json": {
       "model_id": "d9e8a90e42514d4ca72ae8fe7941e122",
       "version_major": 2,
       "version_minor": 0
      },
      "text/plain": [
       "HBox(children=(IntProgress(value=0, max=5), HTML(value='')))"
      ]
     },
     "metadata": {},
     "output_type": "display_data"
    },
    {
     "name": "stdout",
     "output_type": "stream",
     "text": [
      "\n",
      "Iteration No: 143 ended. Search finished for the next optimal point.\n",
      "Time taken: 12.6949\n",
      "Function value obtained: -0.5309\n",
      "Current minimum: -0.5366\n",
      "Iteration No: 144 started. Searching for the next optimal point.\n",
      "Trying: {'colsample_bylevel': 0.8920321778263941, 'colsample_bynode': 0.1330253963437306, 'colsample_bytree': 0.009205206636706433, 'learning_rate': 0.030037494891739368, 'max_depth': 3, 'min_child_weight': 1, 'n_estimators': 172, 'subsample': 0.9889754557119526}\n"
     ]
    },
    {
     "data": {
      "application/vnd.jupyter.widget-view+json": {
       "model_id": "97fed696c42948b99820de40f44d4aa8",
       "version_major": 2,
       "version_minor": 0
      },
      "text/plain": [
       "HBox(children=(IntProgress(value=0, max=5), HTML(value='')))"
      ]
     },
     "metadata": {},
     "output_type": "display_data"
    },
    {
     "name": "stdout",
     "output_type": "stream",
     "text": [
      "\n",
      "Iteration No: 144 ended. Search finished for the next optimal point.\n",
      "Time taken: 18.9870\n",
      "Function value obtained: -0.5204\n",
      "Current minimum: -0.5366\n",
      "Iteration No: 145 started. Searching for the next optimal point.\n",
      "Trying: {'colsample_bylevel': 0.04028957799368039, 'colsample_bynode': 0.9618834978176077, 'colsample_bytree': 0.8633024741426304, 'learning_rate': 0.0151286361152634, 'max_depth': 1, 'min_child_weight': 3, 'n_estimators': 169, 'subsample': 0.01553932499063471}\n"
     ]
    },
    {
     "data": {
      "application/vnd.jupyter.widget-view+json": {
       "model_id": "55dc7bd21bf8474ba68646abc66cade5",
       "version_major": 2,
       "version_minor": 0
      },
      "text/plain": [
       "HBox(children=(IntProgress(value=0, max=5), HTML(value='')))"
      ]
     },
     "metadata": {},
     "output_type": "display_data"
    },
    {
     "name": "stdout",
     "output_type": "stream",
     "text": [
      "\n",
      "Iteration No: 145 ended. Search finished for the next optimal point.\n",
      "Time taken: 16.4623\n",
      "Function value obtained: -0.5288\n",
      "Current minimum: -0.5366\n",
      "Iteration No: 146 started. Searching for the next optimal point.\n",
      "Trying: {'colsample_bylevel': 1.0, 'colsample_bynode': 1.0, 'colsample_bytree': 1.0, 'learning_rate': 0.01, 'max_depth': 1, 'min_child_weight': 1, 'n_estimators': 200, 'subsample': 0.5036405340320408}\n"
     ]
    },
    {
     "data": {
      "application/vnd.jupyter.widget-view+json": {
       "model_id": "b1e4a72bd40d431c82dbdbac654f92fa",
       "version_major": 2,
       "version_minor": 0
      },
      "text/plain": [
       "HBox(children=(IntProgress(value=0, max=5), HTML(value='')))"
      ]
     },
     "metadata": {},
     "output_type": "display_data"
    },
    {
     "name": "stdout",
     "output_type": "stream",
     "text": [
      "\n",
      "Iteration No: 146 ended. Search finished for the next optimal point.\n",
      "Time taken: 57.8984\n",
      "Function value obtained: -0.5321\n",
      "Current minimum: -0.5366\n",
      "Iteration No: 147 started. Searching for the next optimal point.\n",
      "Trying: {'colsample_bylevel': 1.0, 'colsample_bynode': 1.0, 'colsample_bytree': 1.0, 'learning_rate': 0.01, 'max_depth': 2, 'min_child_weight': 3, 'n_estimators': 10, 'subsample': 0.665080028017425}\n"
     ]
    },
    {
     "data": {
      "application/vnd.jupyter.widget-view+json": {
       "model_id": "ee236cd84c454ae785519966d9f4bf68",
       "version_major": 2,
       "version_minor": 0
      },
      "text/plain": [
       "HBox(children=(IntProgress(value=0, max=5), HTML(value='')))"
      ]
     },
     "metadata": {},
     "output_type": "display_data"
    },
    {
     "name": "stdout",
     "output_type": "stream",
     "text": [
      "\n",
      "Iteration No: 147 ended. Search finished for the next optimal point.\n",
      "Time taken: 13.2623\n",
      "Function value obtained: -0.5331\n",
      "Current minimum: -0.5366\n",
      "Iteration No: 148 started. Searching for the next optimal point.\n",
      "Trying: {'colsample_bylevel': 1.0, 'colsample_bynode': 1.0, 'colsample_bytree': 1.0, 'learning_rate': 0.01, 'max_depth': 2, 'min_child_weight': 1, 'n_estimators': 10, 'subsample': 0.6570163111373695}\n"
     ]
    },
    {
     "data": {
      "application/vnd.jupyter.widget-view+json": {
       "model_id": "f260618a501a41bd81d1ad1da969de4d",
       "version_major": 2,
       "version_minor": 0
      },
      "text/plain": [
       "HBox(children=(IntProgress(value=0, max=5), HTML(value='')))"
      ]
     },
     "metadata": {},
     "output_type": "display_data"
    },
    {
     "name": "stdout",
     "output_type": "stream",
     "text": [
      "\n",
      "Iteration No: 148 ended. Search finished for the next optimal point.\n",
      "Time taken: 14.5902\n",
      "Function value obtained: -0.5289\n",
      "Current minimum: -0.5366\n",
      "Iteration No: 149 started. Searching for the next optimal point.\n",
      "Trying: {'colsample_bylevel': 0.9399041783294253, 'colsample_bynode': 0.006096836751358416, 'colsample_bytree': 0.9305924160436891, 'learning_rate': 0.06298217815219265, 'max_depth': 2, 'min_child_weight': 1, 'n_estimators': 57, 'subsample': 0.5467518004480189}\n"
     ]
    },
    {
     "data": {
      "application/vnd.jupyter.widget-view+json": {
       "model_id": "adabb57e24e64cc789676943f5dbd823",
       "version_major": 2,
       "version_minor": 0
      },
      "text/plain": [
       "HBox(children=(IntProgress(value=0, max=5), HTML(value='')))"
      ]
     },
     "metadata": {},
     "output_type": "display_data"
    },
    {
     "name": "stdout",
     "output_type": "stream",
     "text": [
      "\n",
      "Iteration No: 149 ended. Search finished for the next optimal point.\n",
      "Time taken: 10.7773\n",
      "Function value obtained: -0.5179\n",
      "Current minimum: -0.5366\n",
      "Iteration No: 150 started. Searching for the next optimal point.\n",
      "Trying: {'colsample_bylevel': 1.0, 'colsample_bynode': 0.7518594438884121, 'colsample_bytree': 1.0, 'learning_rate': 0.01, 'max_depth': 3, 'min_child_weight': 3, 'n_estimators': 10, 'subsample': 0.8708456535703901}\n"
     ]
    },
    {
     "data": {
      "application/vnd.jupyter.widget-view+json": {
       "model_id": "04806f7f2a304d718aca6f7473efa031",
       "version_major": 2,
       "version_minor": 0
      },
      "text/plain": [
       "HBox(children=(IntProgress(value=0, max=5), HTML(value='')))"
      ]
     },
     "metadata": {},
     "output_type": "display_data"
    },
    {
     "name": "stdout",
     "output_type": "stream",
     "text": [
      "\n",
      "Iteration No: 150 ended. Search finished for the next optimal point.\n",
      "Time taken: 13.6684\n",
      "Function value obtained: -0.5314\n",
      "Current minimum: -0.5366\n"
     ]
    }
   ],
   "source": [
    "d = {}#optimize_classifier('xgb', XGBClassifier, verbose=1)"
   ]
  },
  {
   "cell_type": "code",
   "execution_count": null,
   "metadata": {},
   "outputs": [],
   "source": []
  },
  {
   "cell_type": "code",
   "execution_count": null,
   "metadata": {},
   "outputs": [],
   "source": []
  },
  {
   "cell_type": "code",
   "execution_count": 27,
   "metadata": {
    "pycharm": {
     "is_executing": false
    }
   },
   "outputs": [],
   "source": [
    "num_clfs = 1\n",
    "clfs = []"
   ]
  },
  {
   "cell_type": "code",
   "execution_count": 28,
   "metadata": {
    "pycharm": {
     "is_executing": false
    },
    "scrolled": true
   },
   "outputs": [
    {
     "data": {
      "application/vnd.jupyter.widget-view+json": {
       "model_id": "516a8153ca5c45ddbdb94981b3b9ed26",
       "version_major": 2,
       "version_minor": 0
      },
      "text/plain": [
       "HBox(children=(IntProgress(value=0, max=50), HTML(value='')))"
      ]
     },
     "metadata": {},
     "output_type": "display_data"
    },
    {
     "name": "stdout",
     "output_type": "stream",
     "text": [
      "\n",
      "CPU times: user 5min 36s, sys: 9.03 s, total: 5min 45s\n",
      "Wall time: 1min 11s\n"
     ]
    }
   ],
   "source": [
    "%%time\n",
    "scores_tr = []\n",
    "scores_ts = []\n",
    "try:\n",
    "    for clf in tqdm(range(num_clfs)):\n",
    "        clf = XGBClassifier(**d, n_jobs=8)\n",
    "        x_train, x_test, y_train, y_test = prepare_data(input_source, to_predict)\n",
    "        clf.fit(x_train, y_train)\n",
    "        clfs.append(clf)\n",
    "        scores_tr.append(clf.score(x_train, y_train))\n",
    "        scores_ts.append(clf.score(x_test, y_test))\n",
    "except KeyboardInterrupt:\n",
    "    pass"
   ]
  },
  {
   "cell_type": "code",
   "execution_count": 29,
   "metadata": {
    "pycharm": {
     "is_executing": false
    }
   },
   "outputs": [
    {
     "data": {
      "image/png": "[encoded data removed]",
      "text/plain": [
       "<Figure size 432x288 with 1 Axes>"
      ]
     },
     "metadata": {
      "needs_background": "light"
     },
     "output_type": "display_data"
    }
   ],
   "source": [
    "hist(scores_tr, 20);"
   ]
  },
  {
   "cell_type": "code",
   "execution_count": 30,
   "metadata": {},
   "outputs": [
    {
     "data": {
      "text/plain": [
       "0.5347080232138759"
      ]
     },
     "execution_count": 30,
     "metadata": {},
     "output_type": "execute_result"
    }
   ],
   "source": [
    "mean(scores_tr)"
   ]
  },
  {
   "cell_type": "code",
   "execution_count": 31,
   "metadata": {
    "pycharm": {
     "is_executing": false
    }
   },
   "outputs": [
    {
     "data": {
      "image/png": "[encoded data removed]",
      "text/plain": [
       "<Figure size 432x288 with 1 Axes>"
      ]
     },
     "metadata": {
      "needs_background": "light"
     },
     "output_type": "display_data"
    }
   ],
   "source": [
    "hist(scores_ts, 20);"
   ]
  },
  {
   "cell_type": "code",
   "execution_count": 32,
   "metadata": {},
   "outputs": [
    {
     "data": {
      "text/plain": [
       "0.5327294187075833"
      ]
     },
     "execution_count": 32,
     "metadata": {},
     "output_type": "execute_result"
    }
   ],
   "source": [
    "mean(scores_ts)"
   ]
  },
  {
   "cell_type": "code",
   "execution_count": 33,
   "metadata": {
    "pycharm": {
     "is_executing": false
    }
   },
   "outputs": [],
   "source": [
    "# Here the model is saved\n",
    "#pkl.dump(clf, open('test.pkl','wb'))"
   ]
  },
  {
   "cell_type": "code",
   "execution_count": null,
   "metadata": {},
   "outputs": [],
   "source": []
  },
  {
   "cell_type": "code",
   "execution_count": 34,
   "metadata": {},
   "outputs": [
    {
     "data": {
      "text/plain": [
       "((320, 41078), (41078,), (320, 10270), (10270,))"
      ]
     },
     "execution_count": 34,
     "metadata": {},
     "output_type": "execute_result"
    }
   ],
   "source": [
    "input_source.shape, to_predict.shape, test_input_source.shape, test_to_predict.shape"
   ]
  },
  {
   "cell_type": "code",
   "execution_count": null,
   "metadata": {},
   "outputs": [],
   "source": []
  },
  {
   "cell_type": "code",
   "execution_count": null,
   "metadata": {},
   "outputs": [],
   "source": []
  },
  {
   "cell_type": "code",
   "execution_count": 35,
   "metadata": {},
   "outputs": [],
   "source": [
    "traded_amt = 100\n",
    "commission = 0\n",
    "slippage = 0\n",
    "initial_balance = 100000000"
   ]
  },
  {
   "cell_type": "code",
   "execution_count": null,
   "metadata": {},
   "outputs": [],
   "source": []
  },
  {
   "cell_type": "code",
   "execution_count": 36,
   "metadata": {
    "code_folding": [
     0
    ]
   },
   "outputs": [],
   "source": [
    "def plot_backtest(datapair, clfs):\n",
    "    input_source, to_predict = datapair\n",
    "    bars_per_episode = len(to_predict) - 1000\n",
    "    env = TradingEnv(input_source.T, to_predict,\n",
    "                     winlen=winlen, bars_per_episode=bars_per_episode, traded_amt=traded_amt,\n",
    "                     commission=commission, slippage=slippage,\n",
    "                     initial_balance=initial_balance,\n",
    "                     reward_type='cur_balance',\n",
    "                     min_ratio_trades = 20,\n",
    "                     max_position_time = 0,\n",
    "                     )\n",
    "    observation = env.reset()\n",
    "    done = False\n",
    "    navs = []\n",
    "    acts = []\n",
    "    try:\n",
    "        for i in tqdm(range(env.bars_per_episode)):\n",
    "            aa = [clf.predict([observation]) for clf in clfs]\n",
    "            aa = [int(a) for a in aa]\n",
    "            # get the average\n",
    "            a = round(mean(aa))\n",
    "            if not binary:\n",
    "                if   a == 0: # up\n",
    "                    action = 0 # buy\n",
    "                elif a == 1: # mid \n",
    "                    action = 3 # do nothing\n",
    "                elif a == 2: # down\n",
    "                    action = 1 # sell\n",
    "            else:\n",
    "                if   a == 0: # up\n",
    "                    action = 0 # buy\n",
    "                elif a == 1: # down\n",
    "                    action = 1 # sell\n",
    "            acts.append(action)\n",
    "            observation, reward, done, info = env.step(action)\n",
    "            if done:\n",
    "                break\n",
    "    except KeyboardInterrupt:\n",
    "        pass\n",
    "    navs = env.returns\n",
    "    kl = []\n",
    "    t = 0\n",
    "    for n in navs:\n",
    "        t = t + n\n",
    "        kl.append(t)\n",
    "    plt.plot(kl)\n",
    "    plt.show()"
   ]
  },
  {
   "cell_type": "code",
   "execution_count": 37,
   "metadata": {},
   "outputs": [
    {
     "data": {
      "application/vnd.jupyter.widget-view+json": {
       "model_id": "18a89e89095a423c8b26e8c7f4c93d8c",
       "version_major": 2,
       "version_minor": 0
      },
      "text/plain": [
       "HBox(children=(IntProgress(value=0, max=40078), HTML(value='')))"
      ]
     },
     "metadata": {},
     "output_type": "display_data"
    },
    {
     "name": "stdout",
     "output_type": "stream",
     "text": [
      "\n"
     ]
    },
    {
     "data": {
      "image/png": "[encoded data removed]",
      "text/plain": [
       "<Figure size 432x288 with 1 Axes>"
      ]
     },
     "metadata": {
      "needs_background": "light"
     },
     "output_type": "display_data"
    }
   ],
   "source": [
    "plot_backtest((input_source, to_predict), clfs)"
   ]
  },
  {
   "cell_type": "code",
   "execution_count": 38,
   "metadata": {},
   "outputs": [
    {
     "data": {
      "application/vnd.jupyter.widget-view+json": {
       "model_id": "7cf7f61618724a5a911a0061f372a181",
       "version_major": 2,
       "version_minor": 0
      },
      "text/plain": [
       "HBox(children=(IntProgress(value=0, max=9270), HTML(value='')))"
      ]
     },
     "metadata": {},
     "output_type": "display_data"
    },
    {
     "name": "stdout",
     "output_type": "stream",
     "text": [
      "\n"
     ]
    },
    {
     "data": {
      "image/png": "[encoded data removed]",
      "text/plain": [
       "<Figure size 432x288 with 1 Axes>"
      ]
     },
     "metadata": {
      "needs_background": "light"
     },
     "output_type": "display_data"
    }
   ],
   "source": [
    "plot_backtest((test_input_source, test_to_predict), clfs)"
   ]
  },
  {
   "cell_type": "code",
   "execution_count": null,
   "metadata": {},
   "outputs": [],
   "source": []
  },
  {
   "cell_type": "code",
   "execution_count": null,
   "metadata": {},
   "outputs": [],
   "source": []
  },
  {
   "cell_type": "code",
   "execution_count": null,
   "metadata": {},
   "outputs": [],
   "source": []
  },
  {
   "cell_type": "code",
   "execution_count": null,
   "metadata": {},
   "outputs": [],
   "source": []
  },
  {
   "cell_type": "code",
   "execution_count": null,
   "metadata": {},
   "outputs": [],
   "source": []
  },
  {
   "cell_type": "code",
   "execution_count": null,
   "metadata": {},
   "outputs": [],
   "source": []
  },
  {
   "cell_type": "code",
   "execution_count": null,
   "metadata": {},
   "outputs": [],
   "source": []
  },
  {
   "cell_type": "code",
   "execution_count": null,
   "metadata": {},
   "outputs": [],
   "source": []
  },
  {
   "cell_type": "code",
   "execution_count": null,
   "metadata": {},
   "outputs": [],
   "source": []
  }
 ],
 "metadata": {
  "kernelspec": {
   "display_name": "Python 3",
   "language": "python",
   "name": "python3"
  },
  "language_info": {
   "codemirror_mode": {
    "name": "ipython",
    "version": 3
   },
   "file_extension": ".py",
   "mimetype": "text/x-python",
   "name": "python",
   "nbconvert_exporter": "python",
   "pygments_lexer": "ipython3",
   "version": "3.6.8"
  },
  "pycharm": {
   "stem_cell": {
    "cell_type": "raw",
    "metadata": {
     "collapsed": false
    },
    "source": []
   }
  },
  "toc": {
   "base_numbering": 1,
   "nav_menu": {},
   "number_sections": true,
   "sideBar": true,
   "skip_h1_title": false,
   "title_cell": "Table of Contents",
   "title_sidebar": "Contents",
   "toc_cell": false,
   "toc_position": {},
   "toc_section_display": true,
   "toc_window_display": false
  }
 },
 "nbformat": 4,
 "nbformat_minor": 1
}
