{
 "cells": [
  {
   "cell_type": "code",
   "execution_count": 1,
   "metadata": {
    "code_folding": [
     0
    ]
   },
   "outputs": [
    {
     "name": "stdout",
     "output_type": "stream",
     "text": [
      "Populating the interactive namespace from numpy and matplotlib\n"
     ]
    },
    {
     "name": "stderr",
     "output_type": "stream",
     "text": [
      "Using cuDNN version 7600 on context None\n",
      "Mapped name None to device cuda: GeForce GTX 1080 (0000:01:00.0)\n",
      "Using Theano backend.\n"
     ]
    },
    {
     "name": "stdout",
     "output_type": "stream",
     "text": [
      "vizdoom could not be imported\n"
     ]
    }
   ],
   "source": [
    "# all imports \n",
    "%pylab inline\n",
    "\n",
    "import os\n",
    "import sys\n",
    "import socket\n",
    "\n",
    "sys.path.append(\"/root\")\n",
    "sys.path.append(\"/home/peter\")\n",
    "sys.path.append(\"/home/peter/Desktop\")\n",
    "sys.path.append(\"/home/peter/Desktop/projects\")\n",
    "sys.path.append(\"/home/peter/Desktop/work\")\n",
    "sys.path.append(\"/home/peter/code/projects\")\n",
    "sys.path.append(\"/home/peter/code/work\")\n",
    "sys.path.append(\"/home/peter/code/common\")\n",
    "\n",
    "from ipywidgets import interact, interactive, fixed, IntSlider, FloatSlider\n",
    "from IPython.display import clear_output, display, HTML\n",
    "\n",
    "import cv2\n",
    "import os\n",
    "import pickle as pkl\n",
    "from sklearn import linear_model\n",
    "from sklearn.decomposition import PCA\n",
    "import random as rnd\n",
    "import numpy as np\n",
    "import matplotlib.pyplot as plt\n",
    "\n",
    "import theano.tensor as T\n",
    "import theano as th\n",
    "\n",
    "from aidevutil import *\n",
    "\n",
    "import cymysql as sql\n",
    "import pandas as pd\n",
    "from tqdm import tqdm_notebook as tqdm\n",
    "import datetime\n",
    "import time\n",
    "from sklearn.preprocessing import scale, robust_scale, normalize\n",
    "from trading_env import TradingEnv\n",
    "from skrules import SkopeRules\n",
    "from sklearn.metrics import precision_recall_curve"
   ]
  },
  {
   "cell_type": "code",
   "execution_count": null,
   "metadata": {},
   "outputs": [],
   "source": []
  },
  {
   "cell_type": "code",
   "execution_count": null,
   "metadata": {},
   "outputs": [],
   "source": []
  },
  {
   "cell_type": "code",
   "execution_count": 2,
   "metadata": {},
   "outputs": [],
   "source": [
    "input_source = np.load(open('data_btc_1h.npy','rb'))\n",
    "to_predict = np.load(open('data_btc_1h_targets.npy','rb'))\n",
    "\n",
    "to_predict = to_predict[3,:].reshape(-1)"
   ]
  },
  {
   "cell_type": "code",
   "execution_count": 3,
   "metadata": {},
   "outputs": [
    {
     "data": {
      "text/plain": [
       "(176, 16900)"
      ]
     },
     "execution_count": 3,
     "metadata": {},
     "output_type": "execute_result"
    }
   ],
   "source": [
    "input_source.shape"
   ]
  },
  {
   "cell_type": "code",
   "execution_count": 4,
   "metadata": {},
   "outputs": [],
   "source": [
    "input_source = input_source.T"
   ]
  },
  {
   "cell_type": "code",
   "execution_count": null,
   "metadata": {},
   "outputs": [],
   "source": []
  },
  {
   "cell_type": "code",
   "execution_count": 5,
   "metadata": {},
   "outputs": [],
   "source": [
    "is_orig = np.copy(input_source)\n",
    "cp = int(0.8*len(input_source))\n",
    "test_input_source = input_source[cp:, :]\n",
    "test_to_predict = to_predict[cp:]\n",
    "input_source = input_source[0:cp, :]\n",
    "to_predict = to_predict[0:cp]"
   ]
  },
  {
   "cell_type": "code",
   "execution_count": 6,
   "metadata": {},
   "outputs": [],
   "source": [
    "test_input_source = test_input_source.T\n",
    "input_source = input_source.T"
   ]
  },
  {
   "cell_type": "code",
   "execution_count": 7,
   "metadata": {},
   "outputs": [
    {
     "data": {
      "text/plain": [
       "((176, 13520), (176, 3380))"
      ]
     },
     "execution_count": 7,
     "metadata": {},
     "output_type": "execute_result"
    }
   ],
   "source": [
    "input_source.shape, test_input_source.shape"
   ]
  },
  {
   "cell_type": "code",
   "execution_count": null,
   "metadata": {},
   "outputs": [],
   "source": []
  },
  {
   "cell_type": "code",
   "execution_count": 8,
   "metadata": {},
   "outputs": [
    {
     "data": {
      "text/plain": [
       "array([2541.67, 2561.88, 2561.11, 2565.42, 2564.37, 2564.66, 2566.99,\n",
       "       2572.95, 2559.39, 2555.95, 2549.65, 2548.63, 2553.98, 2554.6 ,\n",
       "       2553.34, 2552.78, 2552.33, 2556.92, 2559.32, 2555.67, 2553.79,\n",
       "       2539.82, 2542.72, 2538.99, 2535.  , 2522.98, 2508.99, 2497.15,\n",
       "       2517.  , 2514.86, 2511.02, 2512.94, 2516.73, 2516.29, 2515.91,\n",
       "       2515.  , 2517.83, 2514.75, 2494.88, 2470.  , 2430.73, 2403.21,\n",
       "       2383.14, 2412.81, 2420.19, 2399.22, 2404.61, 2390.  , 2341.31,\n",
       "       2332.92])"
      ]
     },
     "execution_count": 8,
     "metadata": {},
     "output_type": "execute_result"
    }
   ],
   "source": [
    "to_predict[0:50]"
   ]
  },
  {
   "cell_type": "code",
   "execution_count": 9,
   "metadata": {},
   "outputs": [],
   "source": [
    "winlen = 1"
   ]
  },
  {
   "cell_type": "code",
   "execution_count": 10,
   "metadata": {},
   "outputs": [],
   "source": [
    "sliding_window_jump = 1\n",
    "predict_time_ahead = 1"
   ]
  },
  {
   "cell_type": "code",
   "execution_count": 11,
   "metadata": {
    "code_folding": [
     0
    ]
   },
   "outputs": [],
   "source": [
    "def get_partitioned_counts(cl, rr, rt):\n",
    "    \" data, steps_forward, partition_num\"\n",
    "    cl = cl[rr:] - cl[0:-rr]\n",
    "    cl = hstack([[0]*rr, cl])\n",
    "    pdown = len(cl[cl < -rt])\n",
    "    pup = len(cl[cl > rt])\n",
    "    pmid = len(cl[(cl <= rt) & (cl >= -rt)])\n",
    "    return pup, pmid, pdown"
   ]
  },
  {
   "cell_type": "code",
   "execution_count": 12,
   "metadata": {
    "code_folding": [
     0
    ]
   },
   "outputs": [],
   "source": [
    "def partition_data_num(cl, predict_ahead):\n",
    "    a=[]\n",
    "    b=[]\n",
    "    c=[]\n",
    "    ts = np.linspace(0.001, 10.0, 100000, )\n",
    "    for x in tqdm(ts):\n",
    "        au, am, ad = get_partitioned_counts(cl, predict_ahead, x)\n",
    "        a.append(au)\n",
    "        b.append(am)\n",
    "        c.append(ad)\n",
    "    a, b, c = array(a), array(b), array(c)\n",
    "    return ts[np.argmin(np.abs(a-b) + np.abs(a-c) + np.abs(b-c))]"
   ]
  },
  {
   "cell_type": "code",
   "execution_count": null,
   "metadata": {},
   "outputs": [],
   "source": []
  },
  {
   "cell_type": "code",
   "execution_count": 13,
   "metadata": {},
   "outputs": [
    {
     "data": {
      "text/plain": [
       "10.8"
      ]
     },
     "execution_count": 13,
     "metadata": {},
     "output_type": "execute_result"
    }
   ],
   "source": [
    "# create training set\n",
    "sep = 10.8#partition_data_num(to_predict, predict_time_ahead)\n",
    "sep"
   ]
  },
  {
   "cell_type": "code",
   "execution_count": null,
   "metadata": {},
   "outputs": [],
   "source": []
  },
  {
   "cell_type": "code",
   "execution_count": 14,
   "metadata": {
    "code_folding": [
     7
    ]
   },
   "outputs": [],
   "source": [
    "def prepare_data(input_source, to_predict):\n",
    "    x = []\n",
    "    y = []\n",
    "\n",
    "    ups = []\n",
    "    downs = []\n",
    "    mids = []\n",
    "\n",
    "    for i in range(0, input_source.shape[1]-(winlen+100), sliding_window_jump):\n",
    "        # form the input\n",
    "        xs = input_source[:, i:i+winlen]\n",
    "        #xs = scale(xs, axis=1)\n",
    "        xs = xs.ravel()\n",
    "\n",
    "        # for the output\n",
    "        now = to_predict[i+winlen-1].ravel() # close\n",
    "        future = to_predict[i+winlen+(predict_time_ahead-1)].ravel() # next close\n",
    "\n",
    "        ys = future-now\n",
    "        magn = abs(ys)\n",
    "\n",
    "        if magn < sep:\n",
    "            mids.append( (xs, (np.array([1]))) )\n",
    "        else:\n",
    "            if ys < 0:\n",
    "                downs.append( (xs, (np.array([2]))) )\n",
    "            else:\n",
    "                ups.append( (xs, (np.array([0]))) )\n",
    "\n",
    "        #if (i%1000)==0:\n",
    "        #    clear_output(wait=True)\n",
    "        #    print('({}/{})'.format(i, input_source.shape[1]-winlen))\n",
    "\n",
    "    #print('Ups: {0} Mids: {1} Downs: {2}'.format(len(ups), len(mids), len(downs)))\n",
    "    #print('Separator: %3.5f' % sep)\n",
    "    #print()\n",
    "\n",
    "    samplesize = min(len(ups), len(downs), len(mids))\n",
    "    s1 = rnd.sample(ups, samplesize)\n",
    "    s2 = rnd.sample(downs, samplesize)\n",
    "    s3 = rnd.sample(mids, samplesize)\n",
    "    a = s1 + s2 + s3\n",
    "    rnd.shuffle(a)\n",
    "    x = [x[0] for x in a]\n",
    "    y = [x[1] for x in a]\n",
    "\n",
    "    x = np.vstack(x)\n",
    "    y = np.vstack(y)\n",
    "    \n",
    "    x.shape = (x.shape[0], -1)\n",
    "    cutpoint = int(0.8 * x.shape[0])\n",
    "    x_train = x[0:cutpoint]\n",
    "    x_test = x[cutpoint:]\n",
    "    y_train = y[0:cutpoint]\n",
    "    y_test = y[cutpoint:]\n",
    "    \n",
    "    return x_train, x_test, y_train, y_test"
   ]
  },
  {
   "cell_type": "code",
   "execution_count": 15,
   "metadata": {},
   "outputs": [],
   "source": [
    "x_train, x_test, y_train, y_test = prepare_data(input_source, to_predict)"
   ]
  },
  {
   "cell_type": "code",
   "execution_count": null,
   "metadata": {},
   "outputs": [],
   "source": []
  },
  {
   "cell_type": "code",
   "execution_count": null,
   "metadata": {},
   "outputs": [],
   "source": []
  },
  {
   "cell_type": "code",
   "execution_count": 16,
   "metadata": {},
   "outputs": [],
   "source": [
    "feature_names = ['feature_'+str(i) for i in range(input_source.shape[0])]\n",
    "skr = SkopeRules(max_depth_duplication=2,\n",
    "                 n_estimators=30,\n",
    "                 precision_min=0.3,\n",
    "                 recall_min=0.1,\n",
    "                 feature_names=feature_names)"
   ]
  },
  {
   "cell_type": "code",
   "execution_count": 17,
   "metadata": {},
   "outputs": [
    {
     "name": "stdout",
     "output_type": "stream",
     "text": [
      "Rules for dataset:\n",
      "('feature_26 <= 0.526180773973465 and feature_70 > -0.37955600023269653 and feature_81 > -0.5292375683784485', (0.7335513659099654, 0.6892624728850325, 1))\n",
      "('feature_21 > -0.6473398208618164 and feature_26 <= 0.6348899900913239 and feature_30 > -0.34182173013687134', (0.7383697813121273, 0.6696718355571583, 1))\n",
      "('feature_21 <= 0.5816715955734253 and feature_30 > -0.33584725856781006 and feature_99 > -0.36799387633800507', (0.7440514469453376, 0.6284627919608908, 1))\n",
      "('feature_26 <= 0.6940873265266418 and feature_29 > -0.1932835951447487 and feature_3 > -0.28305938839912415', (0.7407486631016043, 0.6278100072516316, 1))\n",
      "('feature_13 > -3.512663722038269 and feature_30 <= -0.2350311204791069 and feature_62 <= 2.1339255571365356', (0.5272331154684096, 0.1746031746031746, 1))\n",
      "('feature_25 > -1.7771132588386536 and feature_30 <= -0.2392001375555992 and feature_82 > -2.4791996479034424', (0.5561561561561561, 0.16754116157047222, 1))\n",
      "('feature_40 > -3.126358389854431 and feature_57 <= 1.1098984479904175 and feature_70 <= -0.31086236238479614', (0.5333723653395784, 0.16390788053256566, 1))\n",
      "('feature_26 > 0.5366310477256775 and feature_30 > -0.34182173013687134 and feature_72 > -0.49304288625717163', (0.5989159891598916, 0.12019579405366207, 1))\n",
      "\n"
     ]
    }
   ],
   "source": [
    "skr.fit(x_train, y_train)\n",
    "rules = skr.rules_[0:10]\n",
    "print(\"Rules for dataset:\")\n",
    "for rule in rules:\n",
    "    print(rule)\n",
    "print()"
   ]
  },
  {
   "cell_type": "code",
   "execution_count": null,
   "metadata": {},
   "outputs": [],
   "source": []
  },
  {
   "cell_type": "code",
   "execution_count": null,
   "metadata": {},
   "outputs": [],
   "source": []
  },
  {
   "cell_type": "code",
   "execution_count": null,
   "metadata": {},
   "outputs": [],
   "source": []
  },
  {
   "cell_type": "code",
   "execution_count": null,
   "metadata": {},
   "outputs": [],
   "source": []
  },
  {
   "cell_type": "code",
   "execution_count": null,
   "metadata": {},
   "outputs": [],
   "source": []
  },
  {
   "cell_type": "code",
   "execution_count": null,
   "metadata": {},
   "outputs": [],
   "source": []
  },
  {
   "cell_type": "code",
   "execution_count": 20,
   "metadata": {},
   "outputs": [
    {
     "data": {
      "text/plain": [
       "array([7., 8., 8., ..., 8., 4., 7.])"
      ]
     },
     "execution_count": 20,
     "metadata": {},
     "output_type": "execute_result"
    }
   ],
   "source": [
    "y_score = skr.score_top_rules(x_test) # Get a risk score for each test example\n",
    "#precision, recall, _ = precision_recall_curve(y_test, y_score)\n",
    "#plt.plot(recall, precision)\n",
    "#plt.xlabel('Recall')\n",
    "#plt.ylabel('Precision')\n",
    "#plt.title('Precision Recall curve')\n",
    "#plt.show()\n",
    "y_score"
   ]
  },
  {
   "cell_type": "code",
   "execution_count": 22,
   "metadata": {},
   "outputs": [
    {
     "data": {
      "image/png": "[encoded data removed]",
      "text/plain": [
       "<Figure size 432x288 with 1 Axes>"
      ]
     },
     "metadata": {
      "needs_background": "light"
     },
     "output_type": "display_data"
    }
   ],
   "source": [
    "hist(y_score);"
   ]
  },
  {
   "cell_type": "code",
   "execution_count": 24,
   "metadata": {},
   "outputs": [
    {
     "data": {
      "image/png": "[encoded data removed]",
      "text/plain": [
       "<Figure size 432x288 with 1 Axes>"
      ]
     },
     "metadata": {
      "needs_background": "light"
     },
     "output_type": "display_data"
    }
   ],
   "source": [
    "t = skr.predict(x_test)\n",
    "hist(t);"
   ]
  },
  {
   "cell_type": "code",
   "execution_count": null,
   "metadata": {},
   "outputs": [],
   "source": []
  },
  {
   "cell_type": "code",
   "execution_count": null,
   "metadata": {},
   "outputs": [],
   "source": [
    "from sklearn.ensemble import AdaBoostClassifier"
   ]
  },
  {
   "cell_type": "code",
   "execution_count": null,
   "metadata": {
    "code_folding": [
     0
    ]
   },
   "outputs": [],
   "source": [
    "# Classifiers\n",
    "from sklearn.neural_network import MLPClassifier\n",
    "from sklearn.neighbors import KNeighborsClassifier\n",
    "from sklearn.svm import SVC\n",
    "from sklearn.tree import DecisionTreeClassifier\n",
    "from sklearn.ensemble import RandomForestClassifier, AdaBoostClassifier, ExtraTreesClassifier, GradientBoostingClassifier \n",
    "from sklearn.naive_bayes import GaussianNB\n",
    "#from xgboost import XGBClassifier\n",
    "from sklearn.linear_model import LogisticRegression\n",
    "from xgboost import XGBClassifier"
   ]
  },
  {
   "cell_type": "code",
   "execution_count": null,
   "metadata": {},
   "outputs": [],
   "source": [
    "import sklearn as sk\n",
    "import time"
   ]
  },
  {
   "cell_type": "code",
   "execution_count": null,
   "metadata": {},
   "outputs": [],
   "source": [
    "clf = LogisticRegression()"
   ]
  },
  {
   "cell_type": "code",
   "execution_count": null,
   "metadata": {},
   "outputs": [],
   "source": [
    "%%time\n",
    "\n",
    "clf.fit(x_train, y_train)"
   ]
  },
  {
   "cell_type": "code",
   "execution_count": null,
   "metadata": {},
   "outputs": [],
   "source": [
    "clf.score(x_train, y_train)"
   ]
  },
  {
   "cell_type": "code",
   "execution_count": null,
   "metadata": {},
   "outputs": [],
   "source": [
    "clf.score(x_test, y_test)"
   ]
  },
  {
   "cell_type": "code",
   "execution_count": null,
   "metadata": {},
   "outputs": [],
   "source": []
  },
  {
   "cell_type": "code",
   "execution_count": null,
   "metadata": {},
   "outputs": [],
   "source": []
  },
  {
   "cell_type": "code",
   "execution_count": null,
   "metadata": {},
   "outputs": [],
   "source": []
  },
  {
   "cell_type": "code",
   "execution_count": null,
   "metadata": {},
   "outputs": [],
   "source": [
    "input_source.shape, to_predict.shape, test_input_source.shape, test_to_predict.shape"
   ]
  },
  {
   "cell_type": "code",
   "execution_count": null,
   "metadata": {},
   "outputs": [],
   "source": []
  },
  {
   "cell_type": "code",
   "execution_count": null,
   "metadata": {},
   "outputs": [],
   "source": []
  },
  {
   "cell_type": "code",
   "execution_count": null,
   "metadata": {},
   "outputs": [],
   "source": [
    "traded_amt = 100\n",
    "commission = 0\n",
    "slippage = 0\n",
    "initial_balance = 100000000"
   ]
  },
  {
   "cell_type": "code",
   "execution_count": null,
   "metadata": {},
   "outputs": [],
   "source": []
  },
  {
   "cell_type": "code",
   "execution_count": null,
   "metadata": {
    "code_folding": [
     0
    ]
   },
   "outputs": [],
   "source": [
    "def plot_backtest(datapair, clf): \n",
    "    input_source, to_predict = datapair\n",
    "    bars_per_episode = len(to_predict) - 1000\n",
    "    env = TradingEnv(input_source.T, to_predict,\n",
    "                     winlen=winlen, bars_per_episode=bars_per_episode, traded_amt=traded_amt,\n",
    "                     commission=commission, slippage=slippage,\n",
    "                     initial_balance=initial_balance,\n",
    "                     reward_type='cur_balance',\n",
    "                     min_ratio_trades = 20,\n",
    "                     max_position_time = 0,\n",
    "                     )\n",
    "    observation = env.reset()\n",
    "    done = False\n",
    "    navs = []\n",
    "    acts = []\n",
    "    for i in tqdm(range(env.bars_per_episode)):\n",
    "        a = clf.predict([observation])\n",
    "        a = int(a)\n",
    "        if   a == 0: # up\n",
    "            action = 0 # buy\n",
    "        elif a == 1: # mid \n",
    "            action = 3 # do nothing\n",
    "        elif a == 2: # down\n",
    "            action = 1 # sell\n",
    "        acts.append(action)\n",
    "        observation, reward, done, info = env.step(action)\n",
    "        if done:\n",
    "            break\n",
    "    navs = env.returns\n",
    "    kl = []\n",
    "    t = 0\n",
    "    for n in navs:\n",
    "        t = t + n\n",
    "        kl.append(t)\n",
    "    plt.plot(kl)\n",
    "    plt.show()"
   ]
  },
  {
   "cell_type": "code",
   "execution_count": null,
   "metadata": {},
   "outputs": [],
   "source": [
    "plot_backtest((input_source, to_predict), clf)"
   ]
  },
  {
   "cell_type": "code",
   "execution_count": null,
   "metadata": {},
   "outputs": [],
   "source": [
    "plot_backtest((test_input_source, test_to_predict), clf)"
   ]
  },
  {
   "cell_type": "code",
   "execution_count": null,
   "metadata": {},
   "outputs": [],
   "source": []
  },
  {
   "cell_type": "code",
   "execution_count": null,
   "metadata": {},
   "outputs": [],
   "source": []
  },
  {
   "cell_type": "code",
   "execution_count": null,
   "metadata": {},
   "outputs": [],
   "source": []
  },
  {
   "cell_type": "code",
   "execution_count": null,
   "metadata": {},
   "outputs": [],
   "source": []
  },
  {
   "cell_type": "code",
   "execution_count": null,
   "metadata": {},
   "outputs": [],
   "source": []
  },
  {
   "cell_type": "code",
   "execution_count": null,
   "metadata": {},
   "outputs": [],
   "source": []
  },
  {
   "cell_type": "code",
   "execution_count": null,
   "metadata": {},
   "outputs": [],
   "source": []
  },
  {
   "cell_type": "code",
   "execution_count": null,
   "metadata": {},
   "outputs": [],
   "source": []
  },
  {
   "cell_type": "code",
   "execution_count": null,
   "metadata": {},
   "outputs": [],
   "source": []
  }
 ],
 "metadata": {
  "kernelspec": {
   "display_name": "Python 3",
   "language": "python",
   "name": "python3"
  },
  "language_info": {
   "codemirror_mode": {
    "name": "ipython",
    "version": 3
   },
   "file_extension": ".py",
   "mimetype": "text/x-python",
   "name": "python",
   "nbconvert_exporter": "python",
   "pygments_lexer": "ipython3",
   "version": "3.6.8"
  },
  "toc": {
   "base_numbering": 1,
   "nav_menu": {},
   "number_sections": true,
   "sideBar": true,
   "skip_h1_title": false,
   "title_cell": "Table of Contents",
   "title_sidebar": "Contents",
   "toc_cell": false,
   "toc_position": {},
   "toc_section_display": true,
   "toc_window_display": false
  }
 },
 "nbformat": 4,
 "nbformat_minor": 1
}
