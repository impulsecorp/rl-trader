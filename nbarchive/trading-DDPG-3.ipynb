{
 "cells": [
  {
   "cell_type": "code",
   "execution_count": 1,
   "metadata": {},
   "outputs": [
    {
     "name": "stdout",
     "output_type": "stream",
     "text": [
      "Populating the interactive namespace from numpy and matplotlib\n"
     ]
    }
   ],
   "source": [
    "%pylab inline \n"
   ]
  },
  {
   "cell_type": "code",
   "execution_count": 2,
   "metadata": {},
   "outputs": [
    {
     "name": "stderr",
     "output_type": "stream",
     "text": [
      "Using TensorFlow backend.\n"
     ]
    }
   ],
   "source": [
    "import gym\n",
    "from gym import error, spaces, utils\n",
    "from gym.utils import seeding\n",
    "from collections import Counter\n",
    "import time\n",
    "import progressbar as pb\n",
    "from tqdm import tqdm\n",
    "import os\n",
    "import shutil\n",
    "from empyrical import sortino_ratio, calmar_ratio, omega_ratio\n",
    "from stable_baselines.common.policies import MlpPolicy, MlpLstmPolicy\n",
    "from stable_baselines.common.vec_env import SubprocVecEnv, VecEnv, VecEnvWrapper\n",
    "from stable_baselines import A2C, PPO2\n",
    "from stable_baselines.common.vec_env import DummyVecEnv\n",
    "\n",
    "import progressbar as pb\n",
    "\n",
    "from keras.models import Sequential, Model\n",
    "from keras.layers import Dense, Activation, Flatten, LSTM, Reshape, Dropout, Input, Concatenate\n",
    "from keras.optimizers import Adam\n",
    "\n",
    "from rl.agents.cem import CEMAgent \n",
    "from rl.agents.ddpg import DDPGAgent\n",
    "from rl.policy import BoltzmannQPolicy\n",
    "from rl.memory import SequentialMemory, EpisodeParameterMemory\n",
    "from rl.processors import WhiteningNormalizerProcessor\n",
    "from rl.agents import DDPGAgent\n",
    "from rl.memory import SequentialMemory\n",
    "from rl.random import OrnsteinUhlenbeckProcess\n",
    "\n",
    "from trading_env import TradingEnv"
   ]
  },
  {
   "cell_type": "code",
   "execution_count": 3,
   "metadata": {},
   "outputs": [],
   "source": [
    "# load the market data\n",
    "input_source = np.load(open('data_eurusd2.npy','rb'))\n",
    "to_predict = np.load(open('data_eurusd2_targets.npy','rb'))\n",
    "\n",
    "to_predict = to_predict[3,:].reshape(-1)\n",
    "\n",
    "input_source = input_source.T"
   ]
  },
  {
   "cell_type": "code",
   "execution_count": 4,
   "metadata": {},
   "outputs": [],
   "source": [
    "is_orig = np.copy(input_source)\n",
    "cp = int(0.8*len(input_source))\n",
    "test_input_source = input_source[cp:, :]\n",
    "test_to_predict = to_predict[cp:]\n",
    "input_source = input_source[0:cp, :]\n",
    "to_predict = to_predict[0:cp]"
   ]
  },
  {
   "cell_type": "code",
   "execution_count": 5,
   "metadata": {},
   "outputs": [],
   "source": [
    "bars_per_episode = 1000\n",
    "winlen = 1\n",
    "traded_amt = 1000\n",
    "commission = 0\n",
    "slippage = 0.0"
   ]
  },
  {
   "cell_type": "code",
   "execution_count": 6,
   "metadata": {},
   "outputs": [],
   "source": [
    "# multiprocess environment\n",
    "#n_cpu = 16\n",
    "#env = SubprocVecEnv([lambda: TradingEnv() for i in range(n_cpu)])\n",
    "env = TradingEnv(input_source, to_predict,\n",
    "                 winlen=winlen, bars_per_episode=bars_per_episode, traded_amt=traded_amt,\n",
    "                 commission=commission, slippage=slippage,\n",
    "                 reward_type='cur_balance',\n",
    "                 min_ratio_trades = 20,\n",
    "                 max_position_time = 30,\n",
    "                 )"
   ]
  },
  {
   "cell_type": "code",
   "execution_count": 7,
   "metadata": {},
   "outputs": [
    {
     "name": "stderr",
     "output_type": "stream",
     "text": [
      "WARNING: Logging before flag parsing goes to stderr.\n",
      "W0711 16:21:57.269747 140498664552256 deprecation_wrapper.py:119] From /usr/local/lib/python3.6/dist-packages/keras/backend/tensorflow_backend.py:74: The name tf.get_default_graph is deprecated. Please use tf.compat.v1.get_default_graph instead.\n",
      "\n",
      "W0711 16:21:57.271239 140498664552256 deprecation_wrapper.py:119] From /usr/local/lib/python3.6/dist-packages/keras/backend/tensorflow_backend.py:517: The name tf.placeholder is deprecated. Please use tf.compat.v1.placeholder instead.\n",
      "\n",
      "W0711 16:21:57.277593 140498664552256 deprecation_wrapper.py:119] From /usr/local/lib/python3.6/dist-packages/keras/backend/tensorflow_backend.py:4138: The name tf.random_uniform is deprecated. Please use tf.random.uniform instead.\n",
      "\n"
     ]
    },
    {
     "name": "stdout",
     "output_type": "stream",
     "text": [
      "_________________________________________________________________\n",
      "Layer (type)                 Output Shape              Param #   \n",
      "=================================================================\n",
      "reshape_1 (Reshape)          (None, 181)               0         \n",
      "_________________________________________________________________\n",
      "dense_1 (Dense)              (None, 32)                5824      \n",
      "_________________________________________________________________\n",
      "dense_2 (Dense)              (None, 32)                1056      \n",
      "_________________________________________________________________\n",
      "dense_3 (Dense)              (None, 32)                1056      \n",
      "_________________________________________________________________\n",
      "activation_1 (Activation)    (None, 32)                0         \n",
      "_________________________________________________________________\n",
      "dense_4 (Dense)              (None, 3)                 99        \n",
      "=================================================================\n",
      "Total params: 8,035\n",
      "Trainable params: 8,035\n",
      "Non-trainable params: 0\n",
      "_________________________________________________________________\n",
      "None\n",
      "__________________________________________________________________________________________________\n",
      "Layer (type)                    Output Shape         Param #     Connected to                     \n",
      "==================================================================================================\n",
      "observation_input (InputLayer)  (None, 1, 181)       0                                            \n",
      "__________________________________________________________________________________________________\n",
      "flatten_1 (Flatten)             (None, 181)          0           observation_input[0][0]          \n",
      "__________________________________________________________________________________________________\n",
      "dense_5 (Dense)                 (None, 64)           11648       flatten_1[0][0]                  \n",
      "__________________________________________________________________________________________________\n",
      "activation_2 (Activation)       (None, 64)           0           dense_5[0][0]                    \n",
      "__________________________________________________________________________________________________\n",
      "action_input (InputLayer)       (None, 3)            0                                            \n",
      "__________________________________________________________________________________________________\n",
      "concatenate_1 (Concatenate)     (None, 67)           0           activation_2[0][0]               \n",
      "                                                                 action_input[0][0]               \n",
      "__________________________________________________________________________________________________\n",
      "dense_6 (Dense)                 (None, 64)           4352        concatenate_1[0][0]              \n",
      "__________________________________________________________________________________________________\n",
      "activation_3 (Activation)       (None, 64)           0           dense_6[0][0]                    \n",
      "__________________________________________________________________________________________________\n",
      "dense_7 (Dense)                 (None, 1)            65          activation_3[0][0]               \n",
      "__________________________________________________________________________________________________\n",
      "activation_4 (Activation)       (None, 1)            0           dense_7[0][0]                    \n",
      "==================================================================================================\n",
      "Total params: 16,065\n",
      "Trainable params: 16,065\n",
      "Non-trainable params: 0\n",
      "__________________________________________________________________________________________________\n",
      "None\n"
     ]
    }
   ],
   "source": [
    "# Next, we build a very simple model.\n",
    "actor = Sequential()\n",
    "actor.add(Reshape(env.observation_space.shape, input_shape=(1,) + env.observation_space.shape))\n",
    "#actor.add(LSTM(16))\n",
    "#actor.add(Dropout(0.5))\n",
    "actor.add(Dense(32))\n",
    "actor.add(Dense(32))\n",
    "actor.add(Dense(32))\n",
    "actor.add(Activation('relu'))\n",
    "actor.add(Dense(env.action_space.n, activation='tanh'))\n",
    "print(actor.summary())\n",
    "\n",
    "action_input = Input(shape=(env.action_space.n,), name='action_input')\n",
    "observation_input = Input(shape=(1,) + env.observation_space.shape, name='observation_input')\n",
    "flattened_observation = Flatten()(observation_input)\n",
    "x = Dense(64)(flattened_observation)\n",
    "x = Activation('relu')(x)\n",
    "x = Concatenate()([x, action_input])\n",
    "x = Dense(64)(x)\n",
    "x = Activation('relu')(x)\n",
    "x = Dense(1)(x)\n",
    "x = Activation('linear')(x)\n",
    "critic = Model(inputs=[action_input, observation_input], outputs=x)\n",
    "print(critic.summary())"
   ]
  },
  {
   "cell_type": "code",
   "execution_count": 8,
   "metadata": {},
   "outputs": [
    {
     "name": "stderr",
     "output_type": "stream",
     "text": [
      "W0711 16:21:57.421003 140498664552256 deprecation_wrapper.py:119] From /usr/local/lib/python3.6/dist-packages/keras/backend/tensorflow_backend.py:174: The name tf.get_default_session is deprecated. Please use tf.compat.v1.get_default_session instead.\n",
      "\n",
      "W0711 16:21:57.421578 140498664552256 deprecation_wrapper.py:119] From /usr/local/lib/python3.6/dist-packages/keras/backend/tensorflow_backend.py:181: The name tf.ConfigProto is deprecated. Please use tf.compat.v1.ConfigProto instead.\n",
      "\n",
      "W0711 16:21:57.558951 140498664552256 deprecation_wrapper.py:119] From /usr/local/lib/python3.6/dist-packages/keras/optimizers.py:790: The name tf.train.Optimizer is deprecated. Please use tf.compat.v1.train.Optimizer instead.\n",
      "\n"
     ]
    }
   ],
   "source": [
    "memory = SequentialMemory(limit=10000, window_length=1)\n",
    "random_process = OrnsteinUhlenbeckProcess(size=env.action_space.n, theta=.15, mu=0., sigma=.1)\n",
    "agent = DDPGAgent(nb_actions=env.action_space.n, actor=actor, critic=critic, critic_action_input=action_input,\n",
    "                  memory=memory, nb_steps_warmup_critic=10, nb_steps_warmup_actor=10,\n",
    "                  random_process=random_process, gamma=.99, target_model_update=1e-3,\n",
    "                  processor=WhiteningNormalizerProcessor()\n",
    "                 )\n",
    "agent.compile([Adam(lr=1e-4), Adam(lr=1e-3)], metrics=['mae'])"
   ]
  },
  {
   "cell_type": "code",
   "execution_count": 9,
   "metadata": {},
   "outputs": [
    {
     "name": "stdout",
     "output_type": "stream",
     "text": [
      "Training for 500000 steps ...\n",
      "Interval 1 (0 steps performed)\n",
      "10000/10000 [==============================] - 34s 3ms/step - reward: -0.0126\n",
      "10 episodes - episode_reward: -12.617 [-195.980, 142.880] - loss: 0.712 - mean_absolute_error: 0.772 - mean_q: 0.502\n",
      "\n",
      "Interval 2 (10000 steps performed)\n",
      "10000/10000 [==============================] - 38s 4ms/step - reward: 0.0346\n",
      "10 episodes - episode_reward: 34.637 [-456.350, 479.280] - loss: 2.358 - mean_absolute_error: 1.342 - mean_q: 0.859\n",
      "\n",
      "Interval 3 (20000 steps performed)\n",
      "10000/10000 [==============================] - 39s 4ms/step - reward: 0.0648\n",
      "10 episodes - episode_reward: 64.802 [-247.100, 217.850] - loss: 3.161 - mean_absolute_error: 1.414 - mean_q: 2.441\n",
      "\n",
      "Interval 4 (30000 steps performed)\n",
      "10000/10000 [==============================] - 39s 4ms/step - reward: 0.1464\n",
      "10 episodes - episode_reward: 146.431 [-75.930, 369.820] - loss: 2.650 - mean_absolute_error: 1.276 - mean_q: 3.308\n",
      "\n",
      "Interval 5 (40000 steps performed)\n",
      "10000/10000 [==============================] - 37s 4ms/step - reward: 0.1840\n",
      "10 episodes - episode_reward: 183.992 [-348.940, 498.100] - loss: 2.665 - mean_absolute_error: 1.353 - mean_q: 4.400\n",
      "\n",
      "Interval 6 (50000 steps performed)\n",
      "10000/10000 [==============================] - 39s 4ms/step - reward: 0.0685\n",
      "10 episodes - episode_reward: 68.511 [-253.510, 292.870] - loss: 3.213 - mean_absolute_error: 1.373 - mean_q: 4.514\n",
      "\n",
      "Interval 7 (60000 steps performed)\n",
      "10000/10000 [==============================] - 39s 4ms/step - reward: 0.1186\n",
      "10 episodes - episode_reward: 118.587 [-45.220, 279.510] - loss: 3.219 - mean_absolute_error: 1.321 - mean_q: 5.357\n",
      "\n",
      "Interval 8 (70000 steps performed)\n",
      "10000/10000 [==============================] - 39s 4ms/step - reward: 0.0286\n",
      "10 episodes - episode_reward: 28.569 [-248.150, 179.730] - loss: 2.351 - mean_absolute_error: 1.260 - mean_q: 5.950\n",
      "\n",
      "Interval 9 (80000 steps performed)\n",
      "10000/10000 [==============================] - 41s 4ms/step - reward: 0.2279\n",
      "10 episodes - episode_reward: 227.895 [66.250, 492.910] - loss: 3.003 - mean_absolute_error: 1.365 - mean_q: 6.189\n",
      "\n",
      "Interval 10 (90000 steps performed)\n",
      "10000/10000 [==============================] - 40s 4ms/step - reward: 0.2503\n",
      "10 episodes - episode_reward: 250.328 [-143.500, 821.750] - loss: 4.452 - mean_absolute_error: 1.740 - mean_q: 8.157\n",
      "\n",
      "Interval 11 (100000 steps performed)\n",
      "10000/10000 [==============================] - 41s 4ms/step - reward: 0.0502\n",
      "10 episodes - episode_reward: 50.187 [-440.370, 237.870] - loss: 3.607 - mean_absolute_error: 1.554 - mean_q: 8.158\n",
      "\n",
      "Interval 12 (110000 steps performed)\n",
      "10000/10000 [==============================] - 38s 4ms/step - reward: 0.0513\n",
      "10 episodes - episode_reward: 51.304 [-272.330, 297.750] - loss: 4.279 - mean_absolute_error: 1.667 - mean_q: 7.514\n",
      "\n",
      "Interval 13 (120000 steps performed)\n",
      "10000/10000 [==============================] - 37s 4ms/step - reward: 0.0883\n",
      "10 episodes - episode_reward: 88.253 [-78.660, 637.400] - loss: 5.055 - mean_absolute_error: 1.738 - mean_q: 7.643\n",
      "\n",
      "Interval 14 (130000 steps performed)\n",
      "10000/10000 [==============================] - 36s 4ms/step - reward: 0.0393\n",
      "10 episodes - episode_reward: 39.328 [-210.990, 424.320] - loss: 5.487 - mean_absolute_error: 1.598 - mean_q: 8.465\n",
      "\n",
      "Interval 15 (140000 steps performed)\n",
      "10000/10000 [==============================] - 37s 4ms/step - reward: 0.1460\n",
      "10 episodes - episode_reward: 145.991 [-163.510, 1028.990] - loss: 5.714 - mean_absolute_error: 1.837 - mean_q: 8.553\n",
      "\n",
      "Interval 16 (150000 steps performed)\n",
      "10000/10000 [==============================] - 36s 4ms/step - reward: 0.0641\n",
      "10 episodes - episode_reward: 64.065 [-150.590, 226.290] - loss: 4.130 - mean_absolute_error: 1.438 - mean_q: 9.740\n",
      "\n",
      "Interval 17 (160000 steps performed)\n",
      "10000/10000 [==============================] - 39s 4ms/step - reward: 0.0231\n",
      "10 episodes - episode_reward: 23.122 [-28.920, 125.370] - loss: 1.983 - mean_absolute_error: 0.969 - mean_q: 9.668\n",
      "\n",
      "Interval 18 (170000 steps performed)\n",
      "10000/10000 [==============================] - 37s 4ms/step - reward: 0.1870\n",
      "10 episodes - episode_reward: 187.022 [-11.400, 748.030] - loss: 0.466 - mean_absolute_error: 0.542 - mean_q: 8.988\n",
      "\n",
      "Interval 19 (180000 steps performed)\n",
      "10000/10000 [==============================] - 34s 3ms/step - reward: 0.1280\n",
      "10 episodes - episode_reward: 127.973 [-32.280, 246.170] - loss: 1.701 - mean_absolute_error: 0.980 - mean_q: 10.250\n",
      "\n",
      "Interval 20 (190000 steps performed)\n",
      "10000/10000 [==============================] - 33s 3ms/step - reward: 0.1263\n",
      "10 episodes - episode_reward: 126.256 [29.700, 221.210] - loss: 1.330 - mean_absolute_error: 0.906 - mean_q: 10.168\n",
      "\n",
      "Interval 21 (200000 steps performed)\n",
      "10000/10000 [==============================] - 36s 4ms/step - reward: 0.1325\n",
      "10 episodes - episode_reward: 132.482 [-40.020, 303.830] - loss: 1.270 - mean_absolute_error: 0.910 - mean_q: 10.663\n",
      "\n",
      "Interval 22 (210000 steps performed)\n",
      "10000/10000 [==============================] - 38s 4ms/step - reward: 0.1192\n",
      "10 episodes - episode_reward: 119.211 [23.660, 269.310] - loss: 2.066 - mean_absolute_error: 1.128 - mean_q: 11.269\n",
      "\n",
      "Interval 23 (220000 steps performed)\n",
      "10000/10000 [==============================] - 37s 4ms/step - reward: 0.1290\n",
      "10 episodes - episode_reward: 129.006 [-18.140, 530.550] - loss: 2.276 - mean_absolute_error: 1.110 - mean_q: 11.804\n",
      "\n",
      "Interval 24 (230000 steps performed)\n",
      "10000/10000 [==============================] - 40s 4ms/step - reward: 0.1286\n",
      "10 episodes - episode_reward: 128.650 [6.020, 506.140] - loss: 2.196 - mean_absolute_error: 1.046 - mean_q: 11.632\n",
      "\n",
      "Interval 25 (240000 steps performed)\n",
      "10000/10000 [==============================] - 34s 3ms/step - reward: 0.0369\n",
      "10 episodes - episode_reward: 36.868 [-30.990, 126.080] - loss: 1.207 - mean_absolute_error: 0.814 - mean_q: 10.923\n",
      "\n",
      "Interval 26 (250000 steps performed)\n",
      "10000/10000 [==============================] - 35s 3ms/step - reward: 0.2306\n",
      "10 episodes - episode_reward: 230.623 [-35.940, 642.860] - loss: 3.170 - mean_absolute_error: 1.134 - mean_q: 11.351\n",
      "\n",
      "Interval 27 (260000 steps performed)\n",
      "10000/10000 [==============================] - 35s 4ms/step - reward: 0.1103\n",
      "10 episodes - episode_reward: 110.296 [-14.140, 408.180] - loss: 2.129 - mean_absolute_error: 1.072 - mean_q: 11.820\n",
      "\n",
      "Interval 28 (270000 steps performed)\n",
      "10000/10000 [==============================] - 37s 4ms/step - reward: 0.0935\n",
      "10 episodes - episode_reward: 93.536 [-63.030, 304.020] - loss: 1.696 - mean_absolute_error: 1.053 - mean_q: 11.606\n",
      "\n",
      "Interval 29 (280000 steps performed)\n",
      "10000/10000 [==============================] - 39s 4ms/step - reward: 0.1249\n",
      "10 episodes - episode_reward: 124.853 [-53.980, 535.300] - loss: 3.063 - mean_absolute_error: 1.293 - mean_q: 12.415\n",
      "\n",
      "Interval 30 (290000 steps performed)\n",
      "10000/10000 [==============================] - 43s 4ms/step - reward: 0.1546\n",
      "10 episodes - episode_reward: 154.574 [7.010, 544.920] - loss: 3.677 - mean_absolute_error: 1.442 - mean_q: 12.409\n",
      "\n",
      "Interval 31 (300000 steps performed)\n",
      "10000/10000 [==============================] - 42s 4ms/step - reward: 0.1182\n",
      "10 episodes - episode_reward: 118.210 [-27.510, 648.510] - loss: 2.542 - mean_absolute_error: 1.225 - mean_q: 12.576\n",
      "\n",
      "Interval 32 (310000 steps performed)\n",
      "10000/10000 [==============================] - 41s 4ms/step - reward: 0.0751\n",
      "10 episodes - episode_reward: 75.056 [-81.160, 269.100] - loss: 3.278 - mean_absolute_error: 1.079 - mean_q: 12.803\n",
      "\n",
      "Interval 33 (320000 steps performed)\n",
      "10000/10000 [==============================] - 39s 4ms/step - reward: 0.0685\n",
      "10 episodes - episode_reward: 68.516 [-291.230, 397.580] - loss: 2.575 - mean_absolute_error: 1.264 - mean_q: 12.712\n",
      "\n",
      "Interval 34 (330000 steps performed)\n",
      "10000/10000 [==============================] - 40s 4ms/step - reward: 0.0320\n",
      "10 episodes - episode_reward: 31.969 [-283.710, 270.720] - loss: 4.737 - mean_absolute_error: 1.586 - mean_q: 12.727\n",
      "\n",
      "Interval 35 (340000 steps performed)\n",
      "10000/10000 [==============================] - 37s 4ms/step - reward: 0.0372\n",
      "10 episodes - episode_reward: 37.174 [-75.470, 253.610] - loss: 3.753 - mean_absolute_error: 1.309 - mean_q: 13.265\n",
      "\n",
      "Interval 36 (350000 steps performed)\n"
     ]
    },
    {
     "name": "stdout",
     "output_type": "stream",
     "text": [
      "10000/10000 [==============================] - 35s 4ms/step - reward: 0.0413\n",
      "10 episodes - episode_reward: 41.258 [-12.210, 180.680] - loss: 0.891 - mean_absolute_error: 0.737 - mean_q: 12.459\n",
      "\n",
      "Interval 37 (360000 steps performed)\n",
      "10000/10000 [==============================] - 35s 3ms/step - reward: 0.0331\n",
      "10 episodes - episode_reward: 33.074 [-13.570, 114.870] - loss: 0.538 - mean_absolute_error: 0.547 - mean_q: 11.618\n",
      "\n",
      "Interval 38 (370000 steps performed)\n",
      "10000/10000 [==============================] - 34s 3ms/step - reward: 0.0280\n",
      "10 episodes - episode_reward: 28.026 [-123.660, 219.900] - loss: 0.507 - mean_absolute_error: 0.524 - mean_q: 10.685\n",
      "\n",
      "Interval 39 (380000 steps performed)\n",
      "10000/10000 [==============================] - 36s 4ms/step - reward: 0.0478\n",
      "10 episodes - episode_reward: 47.841 [-4.920, 116.760] - loss: 0.549 - mean_absolute_error: 0.589 - mean_q: 10.527\n",
      "\n",
      "Interval 40 (390000 steps performed)\n",
      "10000/10000 [==============================] - 35s 3ms/step - reward: 0.0642\n",
      "10 episodes - episode_reward: 64.159 [-27.120, 234.330] - loss: 0.454 - mean_absolute_error: 0.532 - mean_q: 10.021\n",
      "\n",
      "Interval 41 (400000 steps performed)\n",
      "10000/10000 [==============================] - 35s 3ms/step - reward: 0.0688\n",
      "10 episodes - episode_reward: 68.829 [-79.350, 224.040] - loss: 0.741 - mean_absolute_error: 0.649 - mean_q: 9.941\n",
      "\n",
      "Interval 42 (410000 steps performed)\n",
      "10000/10000 [==============================] - 37s 4ms/step - reward: 0.0594\n",
      "10 episodes - episode_reward: 59.388 [-20.110, 191.840] - loss: 1.061 - mean_absolute_error: 0.674 - mean_q: 9.854\n",
      "\n",
      "Interval 43 (420000 steps performed)\n",
      "10000/10000 [==============================] - 37s 4ms/step - reward: 0.0443\n",
      "10 episodes - episode_reward: 44.292 [-50.840, 467.990] - loss: 1.590 - mean_absolute_error: 0.917 - mean_q: 9.640\n",
      "\n",
      "Interval 44 (430000 steps performed)\n",
      "10000/10000 [==============================] - 37s 4ms/step - reward: 0.0450\n",
      "10 episodes - episode_reward: 44.960 [-21.880, 214.610] - loss: 1.644 - mean_absolute_error: 0.911 - mean_q: 9.161\n",
      "\n",
      "Interval 45 (440000 steps performed)\n",
      "10000/10000 [==============================] - 37s 4ms/step - reward: 0.1111\n",
      "10 episodes - episode_reward: 111.077 [-14.830, 403.150] - loss: 0.983 - mean_absolute_error: 0.764 - mean_q: 9.640\n",
      "\n",
      "Interval 46 (450000 steps performed)\n",
      "10000/10000 [==============================] - 37s 4ms/step - reward: 0.0436\n",
      "10 episodes - episode_reward: 43.614 [-126.770, 284.670] - loss: 0.926 - mean_absolute_error: 0.782 - mean_q: 9.747\n",
      "\n",
      "Interval 47 (460000 steps performed)\n",
      "10000/10000 [==============================] - 37s 4ms/step - reward: 0.1475\n",
      "10 episodes - episode_reward: 147.479 [-20.560, 376.990] - loss: 2.325 - mean_absolute_error: 1.293 - mean_q: 10.389\n",
      "\n",
      "Interval 48 (470000 steps performed)\n",
      "10000/10000 [==============================] - 37s 4ms/step - reward: 0.1336\n",
      "10 episodes - episode_reward: 133.649 [41.630, 236.010] - loss: 1.651 - mean_absolute_error: 1.120 - mean_q: 11.602\n",
      "\n",
      "Interval 49 (480000 steps performed)\n",
      "10000/10000 [==============================] - 38s 4ms/step - reward: 0.2019\n",
      "10 episodes - episode_reward: 201.882 [-96.960, 777.720] - loss: 2.407 - mean_absolute_error: 1.175 - mean_q: 12.006\n",
      "\n",
      "Interval 50 (490000 steps performed)\n",
      "10000/10000 [==============================] - 37s 4ms/step - reward: 0.1326\n",
      "done, took 1868.633 seconds\n"
     ]
    }
   ],
   "source": [
    "# training is here\n",
    "h = agent.fit(env, nb_steps=500000, nb_max_episode_steps=bars_per_episode, visualize=False, verbose=1)\n",
    "rewards = h.history['episode_reward']"
   ]
  },
  {
   "cell_type": "code",
   "execution_count": 10,
   "metadata": {},
   "outputs": [
    {
     "data": {
      "image/png": "[encoded data removed]",
      "text/plain": [
       "<Figure size 432x288 with 1 Axes>"
      ]
     },
     "metadata": {
      "needs_background": "light"
     },
     "output_type": "display_data"
    }
   ],
   "source": [
    "plot(rewards);"
   ]
  },
  {
   "cell_type": "code",
   "execution_count": null,
   "metadata": {},
   "outputs": [],
   "source": []
  },
  {
   "cell_type": "code",
   "execution_count": null,
   "metadata": {},
   "outputs": [],
   "source": []
  },
  {
   "cell_type": "code",
   "execution_count": 15,
   "metadata": {},
   "outputs": [
    {
     "data": {
      "image/png": "[encoded data removed]",
      "text/plain": [
       "<Figure size 432x288 with 1 Axes>"
      ]
     },
     "metadata": {
      "needs_background": "light"
     },
     "output_type": "display_data"
    }
   ],
   "source": [
    "env = TradingEnv(test_input_source, test_to_predict,\n",
    "                 winlen=winlen, bars_per_episode=bars_per_episode, traded_amt=traded_amt,\n",
    "                 commission=commission, slippage=slippage,\n",
    "                 reward_type='cur_balance',\n",
    "                 min_ratio_trades = 20,\n",
    "                 max_position_time = 30,\n",
    "                 )\n",
    "# visualize the behavior for one random episode\n",
    "bars_per_episode = 1000\n",
    "\n",
    "observation = env.reset()\n",
    "done = False\n",
    "navs = []\n",
    "while not done:\n",
    "    action = agent.forward(observation)\n",
    "    observation, reward, done, info = env.step(action)\n",
    "navs = env.returns\n",
    "\n",
    "kl = []\n",
    "t = 0\n",
    "for n in navs:\n",
    "    t += n\n",
    "    kl.append(t)\n",
    "plot(kl);"
   ]
  },
  {
   "cell_type": "code",
   "execution_count": 12,
   "metadata": {},
   "outputs": [
    {
     "name": "stderr",
     "output_type": "stream",
     "text": [
      " 32% (3219 of 10000) |######             | Elapsed Time: 0:19:15 ETA:   0:47:06"
     ]
    },
    {
     "name": "stdout",
     "output_type": "stream",
     "text": [
      "Profit likelihood: 45.169%\n"
     ]
    },
    {
     "data": {
      "image/png": "[encoded data removed]",
      "text/plain": [
       "<Figure size 432x288 with 1 Axes>"
      ]
     },
     "metadata": {
      "needs_background": "light"
     },
     "output_type": "display_data"
    }
   ],
   "source": [
    "# calculate the likelihood of success for any given episode\n",
    "try:\n",
    "    # calculate the likelihood of success for any given episode\n",
    "    l = 10000\n",
    "    krl = []\n",
    "    p = pb.ProgressBar(max_value=l)\n",
    "    for i in range(l):\n",
    "        p.update(i)\n",
    "        observation = env.reset()\n",
    "        done = False\n",
    "        navs = []\n",
    "        while not done:\n",
    "            action = agent.forward(observation)\n",
    "            observation, reward, done, info = env.step(action)\n",
    "        krl.append(sum(env.returns))\n",
    "    p.finish()\n",
    "except KeyboardInterrupt:\n",
    "    pass\n",
    "\n",
    "krl = np.array(krl)\n",
    "print('Profit likelihood: %3.3f%%' % (100*(sum(krl > 0) / len(krl))))\n",
    "\n",
    "hist(krl);"
   ]
  },
  {
   "cell_type": "code",
   "execution_count": null,
   "metadata": {},
   "outputs": [],
   "source": []
  },
  {
   "cell_type": "code",
   "execution_count": null,
   "metadata": {},
   "outputs": [],
   "source": []
  },
  {
   "cell_type": "code",
   "execution_count": null,
   "metadata": {},
   "outputs": [],
   "source": []
  },
  {
   "cell_type": "code",
   "execution_count": null,
   "metadata": {},
   "outputs": [],
   "source": []
  },
  {
   "cell_type": "code",
   "execution_count": null,
   "metadata": {},
   "outputs": [],
   "source": []
  },
  {
   "cell_type": "code",
   "execution_count": null,
   "metadata": {},
   "outputs": [],
   "source": []
  },
  {
   "cell_type": "code",
   "execution_count": null,
   "metadata": {},
   "outputs": [],
   "source": []
  }
 ],
 "metadata": {
  "kernelspec": {
   "display_name": "Python 3",
   "language": "python",
   "name": "python3"
  },
  "language_info": {
   "codemirror_mode": {
    "name": "ipython",
    "version": 3
   },
   "file_extension": ".py",
   "mimetype": "text/x-python",
   "name": "python",
   "nbconvert_exporter": "python",
   "pygments_lexer": "ipython3",
   "version": "3.6.7"
  },
  "toc": {
   "base_numbering": 1,
   "nav_menu": {},
   "number_sections": true,
   "sideBar": true,
   "skip_h1_title": false,
   "title_cell": "Table of Contents",
   "title_sidebar": "Contents",
   "toc_cell": false,
   "toc_position": {},
   "toc_section_display": true,
   "toc_window_display": false
  }
 },
 "nbformat": 4,
 "nbformat_minor": 4
}
