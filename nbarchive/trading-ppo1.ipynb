{
 "cells": [
  {
   "cell_type": "code",
   "execution_count": 2,
   "metadata": {},
   "outputs": [
    {
     "name": "stdout",
     "output_type": "stream",
     "text": [
      "Populating the interactive namespace from numpy and matplotlib\n"
     ]
    }
   ],
   "source": [
    "%pylab inline \n",
    "\n",
    "import gym\n",
    "from gym import error, spaces, utils\n",
    "from gym.utils import seeding\n",
    "from collections import Counter\n",
    "import time\n",
    "import progressbar as pb\n",
    "\n",
    "from keras.models import Sequential\n",
    "from keras.layers import Dense, Activation, Flatten\n",
    "from keras.optimizers import Adam\n",
    "\n",
    "from rl.agents.dqn import DQNAgent \n",
    "from rl.policy import BoltzmannQPolicy\n",
    "from rl.memory import SequentialMemory"
   ]
  },
  {
   "cell_type": "code",
   "execution_count": null,
   "metadata": {},
   "outputs": [],
   "source": []
  },
  {
   "cell_type": "code",
   "execution_count": 3,
   "metadata": {},
   "outputs": [],
   "source": [
    "# load the market data\n",
    "input_source = np.load(open('../deep_learning_trader/NEAT/data_spy.npy','rb'))\n",
    "to_predict = np.load(open('../deep_learning_trader/NEAT/data_spy_targets.npy','rb'))"
   ]
  },
  {
   "cell_type": "code",
   "execution_count": null,
   "metadata": {},
   "outputs": [],
   "source": []
  },
  {
   "cell_type": "code",
   "execution_count": 4,
   "metadata": {},
   "outputs": [
    {
     "data": {
      "text/plain": [
       "(123883, 105)"
      ]
     },
     "execution_count": 4,
     "metadata": {},
     "output_type": "execute_result"
    }
   ],
   "source": [
    "input_source = input_source.T\n",
    "input_source.shape"
   ]
  },
  {
   "cell_type": "code",
   "execution_count": null,
   "metadata": {},
   "outputs": [],
   "source": []
  },
  {
   "cell_type": "code",
   "execution_count": 15,
   "metadata": {},
   "outputs": [],
   "source": [
    "bars_per_episode = 1000\n",
    "\n",
    "class TradingEnv(gym.Env):\n",
    "    \n",
    "    \"\"\" This gym implements a simple trading environment for reinforcement learning. \"\"\"\n",
    "    \n",
    "    metadata = {'render.modes': ['human']}\n",
    "    \n",
    "    def __init__(self):\n",
    "        self.action_space = spaces.Discrete( 3 )\n",
    "        self.observation_space= spaces.Box( np.min(input_source, axis=0), \n",
    "                                            np.max(input_source, axis=0) )\n",
    "        self.reset()\n",
    "        \n",
    "    def _configure(self, display=None):\n",
    "        self.display = display\n",
    "\n",
    "    def _seed(self, seed=None):\n",
    "        self.np_random, seed = seeding.np_random(seed)\n",
    "        return [seed]\n",
    "\n",
    "    def step(self, action):\n",
    "        \n",
    "        assert self.action_space.contains(action), \"%r (%s) invalid\" % (action, type(action))\n",
    "        \n",
    "        if self.idx < self.end_idx:\n",
    "            self.idx += 1\n",
    "            done = False\n",
    "        else:\n",
    "            done = True\n",
    "        \n",
    "        info = {}\n",
    "        \n",
    "        observation = input_source[self.idx, :]\n",
    "        \n",
    "        reward = 0\n",
    "        \n",
    "        # execute the action and get the reward\n",
    "        if action == 0: # buy \n",
    "            reward = (to_predict[self.idx] - to_predict[self.idx-1])*10000\n",
    "        if action == 1: # sell\n",
    "            reward = (to_predict[self.idx-1] - to_predict[self.idx])*10000\n",
    "        \n",
    "        return observation, reward, done, info\n",
    "  \n",
    "    def reset(self):\n",
    "        # reset and return first observation\n",
    "        self.idx = np.random.randint(0, input_source.shape[0] - bars_per_episode )\n",
    "        self.end_idx = self.idx + bars_per_episode\n",
    "        return input_source[self.idx, :]\n",
    "    \n",
    "    def _render(self, mode='human', close=False):\n",
    "        #... TODO\n",
    "        pass        "
   ]
  },
  {
   "cell_type": "code",
   "execution_count": 16,
   "metadata": {},
   "outputs": [],
   "source": [
    "env = TradingEnv()"
   ]
  },
  {
   "cell_type": "code",
   "execution_count": null,
   "metadata": {},
   "outputs": [],
   "source": []
  },
  {
   "cell_type": "code",
   "execution_count": null,
   "metadata": {},
   "outputs": [],
   "source": []
  },
  {
   "cell_type": "code",
   "execution_count": 17,
   "metadata": {},
   "outputs": [],
   "source": [
    "model = Sequential()\n",
    "model.add(Flatten(input_shape=(1,) + env.observation_space.shape))\n",
    "model.add(Dense(64))\n",
    "model.add(Activation('relu'))\n",
    "model.add(Dense(32))\n",
    "model.add(Activation('relu'))\n",
    "model.add(Dense(16))\n",
    "model.add(Activation('relu'))\n",
    "model.add(Dense(8))\n",
    "model.add(Activation('relu'))\n",
    "model.add(Dense(env.action_space.n, activation='linear'))\n",
    "\n",
    "memory = SequentialMemory(limit=10000, window_length=1)\n",
    "policy = BoltzmannQPolicy()\n",
    "dqn = DQNAgent(model=model, \n",
    "               nb_actions=env.action_space.n, \n",
    "               memory=memory, \n",
    "               nb_steps_warmup=10,\n",
    "               enable_double_dqn=True, \n",
    "               enable_dueling_network=True, \n",
    "               dueling_type='avg', \n",
    "               target_model_update=1e-2, \n",
    "               policy=policy)\n",
    "dqn.compile(Adam(lr=0.002), metrics=['mae'])"
   ]
  },
  {
   "cell_type": "code",
   "execution_count": null,
   "metadata": {},
   "outputs": [],
   "source": []
  },
  {
   "cell_type": "code",
   "execution_count": null,
   "metadata": {},
   "outputs": [
    {
     "name": "stdout",
     "output_type": "stream",
     "text": [
      "Training for 50000 steps ...\n",
      "Interval 1 (0 steps performed)\n",
      "10000/10000 [==============================] - 86s 9ms/step - reward: 0.0239\n",
      "10 episodes - episode_reward: 23.850 [-63.500, 177.700] - loss: 4.579 - mean_absolute_error: 2.478 - mean_q: 3.148\n",
      "\n",
      "Interval 2 (10000 steps performed)\n",
      "10000/10000 [==============================] - 39s 4ms/step - reward: 0.0796\n",
      "10 episodes - episode_reward: 79.610 [11.500, 176.600] - loss: 4.362 - mean_absolute_error: 3.662 - mean_q: 4.916\n",
      "\n",
      "Interval 3 (20000 steps performed)\n",
      "10000/10000 [==============================] - 40s 4ms/step - reward: 0.0013\n",
      "10 episodes - episode_reward: 1.350 [-146.500, 84.400] - loss: 5.289 - mean_absolute_error: 5.735 - mean_q: 7.988\n",
      "\n",
      "Interval 4 (30000 steps performed)\n",
      " 9730/10000 [============================>.] - ETA: 1s - reward: 1.0277e-04"
     ]
    }
   ],
   "source": [
    "# training is here\n",
    "h = dqn.fit(env, nb_steps=50000, nb_max_episode_steps=bars_per_episode, visualize=False, verbose=1)\n",
    "rewards = h.history['episode_reward']"
   ]
  },
  {
   "cell_type": "code",
   "execution_count": null,
   "metadata": {},
   "outputs": [],
   "source": [
    "plot(rewards);"
   ]
  },
  {
   "cell_type": "code",
   "execution_count": null,
   "metadata": {},
   "outputs": [],
   "source": []
  },
  {
   "cell_type": "code",
   "execution_count": 9,
   "metadata": {},
   "outputs": [
    {
     "data": {
      "image/png": "[encoded data removed]",
      "text/plain": [
       "<matplotlib.figure.Figure at 0x7fcba47a7278>"
      ]
     },
     "metadata": {},
     "output_type": "display_data"
    }
   ],
   "source": [
    "# visualize the behavior for one random episode\n",
    "observation = env.reset()\n",
    "done = False\n",
    "navs = []\n",
    "while not done:\n",
    "    action = dqn.forward(observation)\n",
    "    observation, reward, done, info = env.step(action)\n",
    "    navs.append(reward)\n",
    "\n",
    "kl = []\n",
    "t = 0\n",
    "for n in navs:\n",
    "    t += n\n",
    "    kl.append(t)\n",
    "plot(kl);"
   ]
  },
  {
   "cell_type": "code",
   "execution_count": 10,
   "metadata": {
    "scrolled": true
   },
   "outputs": [
    {
     "name": "stderr",
     "output_type": "stream",
     "text": [
      "100% (1000 of 1000) |#####################| Elapsed Time: 0:05:28 Time: 0:05:28\n"
     ]
    },
    {
     "name": "stdout",
     "output_type": "stream",
     "text": [
      "Profit likelihood: 48.800%\n"
     ]
    }
   ],
   "source": [
    "# calculate the likelihood of success for any given episode\n",
    "l = 1000\n",
    "krl = []\n",
    "p = pb.ProgressBar(max_value=l)\n",
    "for i in range(l):\n",
    "    p.update(i)\n",
    "    observation = env.reset()\n",
    "    done = False\n",
    "    navs = []\n",
    "    while not done:\n",
    "        action = dqn.forward(observation)\n",
    "        observation, reward, done, info = env.step(action)\n",
    "        navs.append(reward)\n",
    "    krl.append(sum(navs))\n",
    "p.finish()\n",
    "\n",
    "krl = array(krl)\n",
    "print('Profit likelihood: %3.3f%%' % (100*(sum(krl > 0) / len(krl))))"
   ]
  },
  {
   "cell_type": "code",
   "execution_count": null,
   "metadata": {},
   "outputs": [],
   "source": []
  },
  {
   "cell_type": "code",
   "execution_count": null,
   "metadata": {},
   "outputs": [],
   "source": []
  },
  {
   "cell_type": "code",
   "execution_count": null,
   "metadata": {},
   "outputs": [],
   "source": []
  },
  {
   "cell_type": "code",
   "execution_count": null,
   "metadata": {},
   "outputs": [],
   "source": []
  },
  {
   "cell_type": "code",
   "execution_count": null,
   "metadata": {},
   "outputs": [],
   "source": []
  },
  {
   "cell_type": "code",
   "execution_count": null,
   "metadata": {},
   "outputs": [],
   "source": []
  }
 ],
 "metadata": {
  "kernelspec": {
   "display_name": "Python 3",
   "language": "python",
   "name": "python3"
  },
  "language_info": {
   "codemirror_mode": {
    "name": "ipython",
    "version": 3
   },
   "file_extension": ".py",
   "mimetype": "text/x-python",
   "name": "python",
   "nbconvert_exporter": "python",
   "pygments_lexer": "ipython3",
   "version": "3.6.8"
  },
  "toc": {
   "base_numbering": 1,
   "nav_menu": {},
   "number_sections": true,
   "sideBar": true,
   "skip_h1_title": false,
   "title_cell": "Table of Contents",
   "title_sidebar": "Contents",
   "toc_cell": false,
   "toc_position": {},
   "toc_section_display": true,
   "toc_window_display": false
  }
 },
 "nbformat": 4,
 "nbformat_minor": 2
}
