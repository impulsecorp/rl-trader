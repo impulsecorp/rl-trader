{
 "cells": [
  {
   "cell_type": "code",
   "execution_count": 1,
   "metadata": {},
   "outputs": [
    {
     "name": "stdout",
     "output_type": "stream",
     "text": [
      "Populating the interactive namespace from numpy and matplotlib\n"
     ]
    },
    {
     "name": "stderr",
     "output_type": "stream",
     "text": [
      "Using TensorFlow backend.\n"
     ]
    }
   ],
   "source": [
    "%pylab inline\n",
    "import random as rnd\n",
    "from tradesys import *\n",
    "from deap import base, creator, tools, algorithms\n",
    "import operator\n",
    "from IPython.parallel import Client\n",
    "import time"
   ]
  },
  {
   "cell_type": "code",
   "execution_count": 2,
   "metadata": {},
   "outputs": [],
   "source": [
    "from IPython.display import clear_output, display\n",
    "from empyrical import sortino_ratio, calmar_ratio, omega_ratio\n"
   ]
  },
  {
   "cell_type": "raw",
   "metadata": {},
   "source": []
  },
  {
   "cell_type": "code",
   "execution_count": 3,
   "metadata": {},
   "outputs": [],
   "source": [
    "# All signals used in evolution\n",
    "all_signals = [\"CROSSES(MA(5), MA(26))\", \"CROSSES(MA(5), PRICE)\", \"CROSSES(PRICE, PRICE)\", \"CROSSES(RSI(5), RSI(26))\",\n",
    "               \"RSI(14) > F(70.0)\", \"RSI(14) < F(30.0)\", \"B\", \n",
    "               \"ADX(14) > F(80.0)\", \"ADX(14) < F(20.0)\",\n",
    "               \"UP(MA(14))\", \"DOWN(MA(14))\", \n",
    "               \"UP(RSI(14))\", \"DOWN(RSI(14))\", \n",
    "               \"UP(ADX(14))\", \"DOWN(ADX(14))\", \n",
    "               ]"
   ]
  },
  {
   "cell_type": "code",
   "execution_count": 4,
   "metadata": {},
   "outputs": [
    {
     "name": "stdout",
     "output_type": "stream",
     "text": [
      "{}\n",
      "{'period': 5}\n",
      "{'period': 26}\n"
     ]
    }
   ],
   "source": [
    "ex = eval_stree_expr(all_signals[0])\n",
    "exl = ex.flatten_tree()\n",
    "for si in exl:\n",
    "    print(si.get_parameters(True))"
   ]
  },
  {
   "cell_type": "code",
   "execution_count": 5,
   "metadata": {
    "code_folding": [
     45,
     56,
     79
    ]
   },
   "outputs": [],
   "source": [
    "# The individual is a list of signals, that is later combined\n",
    "# to form a simple tree (a or b ~ c or d ~ e or f ~ trailing_stop ~ take_profit)\n",
    "def random_signal():\n",
    "    return rnd.choice(all_signals)\n",
    "def random_op():\n",
    "    return rnd.choice(['or', 'and'])\n",
    "\n",
    "class MyIndividual(object):\n",
    "    def __init__(self):\n",
    "        self.signals = []\n",
    "        self.ops = []\n",
    "        self.trail_stop = 5.0\n",
    "        self.take_profit = 5.0\n",
    "        \n",
    "    def get_strategy(self):\n",
    "        if len(self.signals)!= 6 or len(self.ops) != 3:\n",
    "            raise TypeError(\"Uninitialized individual!\")\n",
    "        return (\n",
    "\"\"\"\n",
    "BUY_IF (%s) %s (%s);\n",
    "\n",
    "SELL_IF (%s) %s (%s);\n",
    "\n",
    "CLOSE_IF ((CURRENT_PROFIT < F(0)) and (BARS_SINCE_ENTRY > I(800))) or ((%s) %s (%s));\n",
    "\n",
    "\"\"\"\n",
    "                % (self.signals[0], self.ops[0], self.signals[1], \n",
    "                   self.signals[2], self.ops[1], self.signals[3], \n",
    "                   self.signals[4], self.ops[2], self.signals[5], \n",
    "                   #self.trail_stop, self.take_profit\n",
    "                  ))\n",
    "    \n",
    "# Probabilities\n",
    "Crossover_Prob = 0.5\n",
    "Mutation_Prob = 0.05\n",
    "\n",
    "Mutation_Replace_Signal_Prob = 0.1 # probability for any signal to be replaced, otherwise it will only modify parameters\n",
    "Mutation_Replace_Parameter_Prob = 0.25 # probability for any parameter of a signal to be replaced witha random value\n",
    "\n",
    "Min_TrailStop = 0.05\n",
    "Max_TrailStop = 1.0\n",
    "\n",
    "Min_TakeProfit = 1.0\n",
    "Max_TakeProfit = 5.0\n",
    "\n",
    "def get_random_individual(ind_class):\n",
    "    ind = ind_class()\n",
    "    ind.signals = [random_signal() for _ in range(6)] # make 6 random signals or signal trees\n",
    "    ind.ops = [random_op() for _ in range(3)] # the ops connecting them\n",
    "    ind.trail_stop = rnd.uniform(Min_TrailStop, Max_TrailStop)\n",
    "    ind.take_profit = rnd.uniform(Min_TakeProfit, Max_TakeProfit)\n",
    "    return ind\n",
    "\n",
    "# Mate two individuals\n",
    "# They are both modified in place\n",
    "# The function returns a tuple with the new individuals\n",
    "def crossover(ind1, ind2):\n",
    "    # go through all signals and randomly swap them\n",
    "    for i in range(len(ind1.signals)):\n",
    "        if rnd.random() < 0.5:\n",
    "            ind1.signals[i], ind2.signals[i] = ind2.signals[i], ind1.signals[i]\n",
    "    # go through all ops and randomly swap them\n",
    "    for i in range(len(ind1.ops)):\n",
    "        if rnd.random() < 0.5:\n",
    "            ind1.ops[i], ind2.ops[i] = ind2.ops[i], ind1.ops[i]\n",
    "    # randomly choose between swap or merge for trail_stop\n",
    "    merge = rnd.random() < 0.5\n",
    "    if merge:\n",
    "        avg = (ind1.trail_stop + ind2.trail_stop)/2.0\n",
    "        ind1.trail_stop, ind2.trail_stop = avg, avg\n",
    "    else:\n",
    "        swap = rnd.random() < 0.5\n",
    "        if swap:\n",
    "            ind1.trail_stop, ind2.trail_stop = ind2.trail_stop, ind1.trail_stop\n",
    "    return (ind1, ind2)\n",
    "\n",
    "# Mutate an individual\n",
    "# It's modified in place\n",
    "# The function returns the new individual\n",
    "def mutation(ind):\n",
    "    # sometimes mutate the trail_stop/take profit\n",
    "    ts = rnd.random() < 0.2\n",
    "    if ts:\n",
    "        replace = rnd.random() < 0.5\n",
    "        if replace:\n",
    "            ind.trail_stop = rnd.uniform(Min_TrailStop, Max_TrailStop)\n",
    "        else:\n",
    "            ind.trail_stop += rnd.uniform(-0.2, 0.2)\n",
    "            ind.trail_stop = clip(ind.trail_stop, Min_TrailStop, Max_TrailStop)\n",
    "    tp = rnd.random() < 0.2\n",
    "    if tp:\n",
    "        replace = rnd.random() < 0.5\n",
    "        if replace:\n",
    "            ind.take_profit = rnd.uniform(Min_TakeProfit, Max_TakeProfit)\n",
    "        else:\n",
    "            ind.take_profit += rnd.uniform(-0.2, 0.2)\n",
    "            ind.take_profit = clip(ind.take_profit, Min_TakeProfit, Max_TakeProfit)\n",
    "    \n",
    "    # sometimes mutate ops\n",
    "    op_mutation = rnd.random() < 0.5\n",
    "    if op_mutation:\n",
    "        # mutate random op\n",
    "        idx = rnd.choice(range(len(ind.ops)))\n",
    "        ind.ops[idx] = random_op()\n",
    "    \n",
    "    # sometimes mutate signals\n",
    "    signal_mutation = rnd.random() < 0.5\n",
    "    if signal_mutation:\n",
    "        # mutate random signal\n",
    "        idx = rnd.choice(range(len(ind.signals)))\n",
    "        if rnd.random() < Mutation_Replace_Signal_Prob:\n",
    "            ind.signals[idx] = random_signal()\n",
    "        else: # tinker with the parameters in the tree\n",
    "            for i,s in enumerate(ind.signals):\n",
    "                ex = eval_stree_expr(s)\n",
    "                exl = ex.flatten_tree()\n",
    "                for si in exl:\n",
    "                    # si is a single signal object\n",
    "                    d = si.get_parameters(True) # the dict with parameters, can be empty\n",
    "                    if d:\n",
    "                        for k, v in d.items():\n",
    "                            # mutate/replace d[k] according to type of value \n",
    "                            replace = rnd.random() < Mutation_Replace_Parameter_Prob\n",
    "                            if v.__class__.__name__ == 'int':\n",
    "                                if replace:\n",
    "                                    d[k] = rnd.randint(1, 64)\n",
    "                                else:\n",
    "                                    d[k] += rnd.randint(-3, 3)\n",
    "                            if v.__class__.__name__ == 'float':\n",
    "                                if replace:\n",
    "                                    d[k] = rnd.uniform(0.0, 100.0)\n",
    "                                else:\n",
    "                                    d[k] += rnd.uniform(-1.0, 1.0)\n",
    "                            if v.__class__.__name__ == 'bool':\n",
    "                                if replace:\n",
    "                                    d[k] = rnd.choice([True, False])\n",
    "                        # write changes back to signal\n",
    "                        si.set_parameters(d)\n",
    "                # write changes back to signal tree\n",
    "                ind.signals[i] = ex.print_str()\n",
    "    return ind"
   ]
  },
  {
   "cell_type": "code",
   "execution_count": 6,
   "metadata": {},
   "outputs": [
    {
     "data": {
      "text/plain": [
       "'\\nBUY_IF (RSI(14) < F(30.0)) and (RSI(14) < F(30.0));\\n\\nSELL_IF (CROSSES(RSI(5), RSI(26))) or (CROSSES(RSI(5), RSI(26)));\\n\\nCLOSE_IF ((CURRENT_PROFIT < F(0)) and (BARS_SINCE_ENTRY > I(800))) or ((DOWN(ADX(14))) or (UP(MA(14))));\\n\\n'"
      ]
     },
     "execution_count": 6,
     "metadata": {},
     "output_type": "execute_result"
    }
   ],
   "source": [
    "get_random_individual(MyIndividual).get_strategy()"
   ]
  },
  {
   "cell_type": "code",
   "execution_count": 7,
   "metadata": {},
   "outputs": [],
   "source": [
    "# evolution stuff\n",
    "creator.create(\"FitnessMax\", base.Fitness, weights=(1.0,))\n",
    "creator.create(\"Individual\", MyIndividual, fitness=creator.FitnessMax)\n",
    "\n",
    "toolbox = base.Toolbox()\n",
    "toolbox.register(\"individual\", get_random_individual, creator.Individual)\n",
    "toolbox.register(\"population\", tools.initRepeat, list, toolbox.individual)\n",
    "\n",
    "toolbox.register(\"mate\", crossover)\n",
    "toolbox.register(\"mutate\", mutation)\n",
    "toolbox.register(\"select\", tools.selTournament, tournsize=3)"
   ]
  },
  {
   "cell_type": "code",
   "execution_count": null,
   "metadata": {},
   "outputs": [],
   "source": []
  },
  {
   "cell_type": "code",
   "execution_count": 8,
   "metadata": {},
   "outputs": [
    {
     "data": {
      "text/plain": [
       "(2018-01-01 12:00:00, 2019-02-28 11:00:00)"
      ]
     },
     "execution_count": 8,
     "metadata": {},
     "output_type": "execute_result"
    }
   ],
   "source": [
    "# data to train on\n",
    "train_data = DataMatrix()\n",
    "train_data.load_tsys('data.tsys')\n",
    "train_data.clip_dt(DateTime(2018,1), DateTime(2019,3))\n",
    "list(train_data.dt)[0], list(train_data.dt)[-1]"
   ]
  },
  {
   "cell_type": "code",
   "execution_count": 9,
   "metadata": {},
   "outputs": [],
   "source": [
    "# backtest options\n",
    "options = BacktestOptions()\n",
    "options.commission = 0\n",
    "options.slippage = 0.0\n",
    "options.market_open_time = Time(0)\n",
    "options.market_close_time = Time(0)"
   ]
  },
  {
   "cell_type": "code",
   "execution_count": null,
   "metadata": {},
   "outputs": [],
   "source": []
  },
  {
   "cell_type": "code",
   "execution_count": null,
   "metadata": {},
   "outputs": [],
   "source": []
  },
  {
   "cell_type": "code",
   "execution_count": 10,
   "metadata": {},
   "outputs": [],
   "source": [
    "# fitness function\n",
    "def evaluate_individual(s):\n",
    "\n",
    "    num_tests = 10\n",
    "    fits = []\n",
    "    \n",
    "    for test in range(num_tests):\n",
    "        data = tradesys.engine_data.slice_idx(random.randint(0, 250), 99999999)\n",
    "\n",
    "        info = tradesys.backtest(data, s, options=tradesys.engine_options)\n",
    "        if info.num_trades > 80*1: # 80 per year seems to be the best (avg 1 trade per 3.125 business days)\n",
    "            r = sortino_ratio(np.array([x.profit for x in list(info.list_of_trades)]))\n",
    "        else:\n",
    "            r = 0\n",
    "        \n",
    "        fits.append(r)\n",
    "        \n",
    "    return sum(fits) / float(len(fits)), "
   ]
  },
  {
   "cell_type": "code",
   "execution_count": 11,
   "metadata": {},
   "outputs": [],
   "source": [
    "PopSize = 100\n",
    "Generations = 50\n",
    "\n",
    "pop = toolbox.population(n=PopSize)"
   ]
  },
  {
   "cell_type": "raw",
   "metadata": {},
   "source": []
  },
  {
   "cell_type": "code",
   "execution_count": 12,
   "metadata": {},
   "outputs": [],
   "source": [
    "import tradesys\n",
    "tradesys.engine_data = train_data\n",
    "tradesys.engine_options = options"
   ]
  },
  {
   "cell_type": "code",
   "execution_count": 13,
   "metadata": {
    "scrolled": true
   },
   "outputs": [
    {
     "name": "stderr",
     "output_type": "stream",
     "text": [
      "100it [00:38,  2.67it/s]"
     ]
    },
    {
     "name": "stdout",
     "output_type": "stream",
     "text": [
      "CPU times: user 38.2 s, sys: 69.1 ms, total: 38.3 s\n",
      "Wall time: 38.3 s\n"
     ]
    },
    {
     "name": "stderr",
     "output_type": "stream",
     "text": [
      "\n"
     ]
    }
   ],
   "source": [
    "%%time\n",
    "\n",
    "from tqdm import tqdm\n",
    "\n",
    "# evaluate all individuals for a start\n",
    "fitnesses = []\n",
    "strategies = [x.get_strategy() for x in pop]\n",
    "#amr = lbview.map(evaluate_individual, strategies, ordered=True, block=False)\n",
    "#for i,fitness in tqdm(enumerate(amr)):\n",
    "#    fitnesses.append(fitness)\n",
    "for i,s in tqdm(enumerate(strategies)):\n",
    "    fitnesses.append( evaluate_individual(s) )\n",
    "for ind, fit in zip(pop, fitnesses):\n",
    "    ind.fitness.values = fit\n",
    "best_ever = pop[0]"
   ]
  },
  {
   "cell_type": "code",
   "execution_count": 14,
   "metadata": {},
   "outputs": [],
   "source": [
    "stagnation = 0"
   ]
  },
  {
   "cell_type": "code",
   "execution_count": 15,
   "metadata": {
    "code_folding": [
     47
    ]
   },
   "outputs": [
    {
     "data": {
      "image/png": "[encoded data removed]",
      "text/plain": [
       "<Figure size 432x288 with 1 Axes>"
      ]
     },
     "metadata": {},
     "output_type": "display_data"
    },
    {
     "name": "stderr",
     "output_type": "stream",
     "text": [
      "23it [00:08,  2.67it/s]\n"
     ]
    }
   ],
   "source": [
    "bestf_ever = -99999999999\n",
    "min_h, max_h, avg_h, gen_h = [], [], [], []\n",
    "\n",
    "f, ax = plt.subplots()\n",
    "\n",
    "# Begin the evolution\n",
    "try:\n",
    "    for g in range(Generations):\n",
    "        #print(\"-- Generation %i --\" % g)\n",
    "\n",
    "        # Select the next generation individuals\n",
    "        offspring = toolbox.select(pop, len(pop))\n",
    "        # Clone the selected individuals\n",
    "        offspring = list(map(toolbox.clone, offspring))\n",
    "\n",
    "        # Apply crossover and mutation on the offspring\n",
    "        for child1, child2 in zip(offspring[::2], offspring[1::2]):\n",
    "            if rnd.random() < Crossover_Prob:\n",
    "                toolbox.mate(child1, child2)\n",
    "                del child1.fitness.values\n",
    "                del child2.fitness.values\n",
    "\n",
    "        for mutant in offspring:\n",
    "            if rnd.random() < Mutation_Prob:\n",
    "                toolbox.mutate(mutant)\n",
    "                del mutant.fitness.values\n",
    "\n",
    "        # Evaluate the individuals with an invalid fitness\n",
    "        invalid_ind = [ind for ind in offspring if not ind.fitness.valid]\n",
    "        fitnesses = []\n",
    "        strategies = [x.get_strategy() for x in invalid_ind]\n",
    "        #amr = lbview.map(evaluate_individual, strategies, ordered=True, block=False)\n",
    "        #for i, fitness in enumerate(amr):\n",
    "        #    fitnesses.append(fitness)\n",
    "        for i,s in tqdm(enumerate(strategies)):\n",
    "            fitnesses.append( evaluate_individual(s) )\n",
    "        for ind, fit in zip(invalid_ind, fitnesses):\n",
    "            ind.fitness.values = fit\n",
    "\n",
    "        # replace the population with the offspring\n",
    "        pop[:] = offspring\n",
    "        \n",
    "        # elitism - the last one is always the best ever\n",
    "        pop[-1] = best_ever\n",
    "\n",
    "        # Gather all the fitnesses in one list and print the stats\n",
    "        fits = [ind.fitness.values[0] for ind in pop]\n",
    "        if fits:\n",
    "            min_index, min_value = min(enumerate(fits), key=operator.itemgetter(1))\n",
    "            max_index, max_value = max(enumerate(fits), key=operator.itemgetter(1))\n",
    "\n",
    "            length = len(pop)\n",
    "            mean = sum(fits) / length\n",
    "\n",
    "            min_h.append(min_value)\n",
    "            max_h.append(max_value)\n",
    "            avg_h.append(mean)\n",
    "            gen_h.append(g)\n",
    "\n",
    "            clear_output(wait=True)\n",
    "\n",
    "            cla()\n",
    "\n",
    "            plt.plot(gen_h, avg_h, label=\"average\");\n",
    "            #plt.plot(gen_h, min_h, label=\"minimum\");\n",
    "            plt.plot(gen_h, max_h, label=\"maximum\");\n",
    "            plt.xlabel(\"Generation\");\n",
    "            plt.ylabel(\"Fitness\");\n",
    "            plt.legend(loc=\"lower right\");\n",
    "\n",
    "            display(f)\n",
    "\n",
    "            best = pop[max_index]\n",
    "            bestf = fits[max_index]\n",
    "\n",
    "            if bestf > bestf_ever:\n",
    "                stagnation = 0\n",
    "                bestf_ever = bestf\n",
    "                best_ever = best\n",
    "            else:\n",
    "                stagnation += 1\n",
    "\n",
    "            #if stagnation:\n",
    "            #    print 'stagnation:', stagnation\n",
    "except KeyboardInterrupt:\n",
    "    pass\n",
    "\n",
    "plt.close()"
   ]
  },
  {
   "cell_type": "code",
   "execution_count": 16,
   "metadata": {},
   "outputs": [
    {
     "data": {
      "text/plain": [
       "\"\\nBUY_IF (BOOL(val=false)) and (CROSSES(RSI(5), RSI(26)));\\n\\nSELL_IF (UP(ADX(14))) and (CROSSES(MA(5), PRICE));\\n\\nCLOSE_IF ((CURRENT_PROFIT < F(0)) and (BARS_SINCE_ENTRY > I(800))) or ((CROSSES(PRICE(bars_back=0, price='close'), PRICE(bars_back=0, price='close'))) or ((RSI(bars_back=0, period=19, price='close')) > (FLOAT(val=70.10413956400635))));\\n\\n\""
      ]
     },
     "execution_count": 16,
     "metadata": {},
     "output_type": "execute_result"
    }
   ],
   "source": [
    "s = best_ever.get_strategy()\n",
    "s"
   ]
  },
  {
   "cell_type": "code",
   "execution_count": 25,
   "metadata": {},
   "outputs": [
    {
     "data": {
      "text/plain": [
       "(2019-01-01 12:00:00, 2019-02-28 11:00:00)"
      ]
     },
     "execution_count": 25,
     "metadata": {},
     "output_type": "execute_result"
    }
   ],
   "source": [
    "train_data = DataMatrix()\n",
    "train_data.load_tsys('data.tsys')\n",
    "train_data.clip_dt(DateTime(2019,1), DateTime(2019,3))\n",
    "list(train_data.dt)[0], list(train_data.dt)[-1]"
   ]
  },
  {
   "cell_type": "code",
   "execution_count": 26,
   "metadata": {},
   "outputs": [
    {
     "name": "stdout",
     "output_type": "stream",
     "text": [
      "--------------------\n",
      "Profit factor: 0.70\n",
      "Trades: 21\n",
      "Profit / Loss trades: 9 (42.9%) / 12 (57.1%)\n",
      "Gross profit: $12682.83\n",
      "Gross loss: $-18216.04\n",
      "Net profit: $-5533.21\n",
      "Long / Short positions: 0 (0.0%) / 21 (100.0%)\n",
      "--------------------\n",
      "\n"
     ]
    },
    {
     "data": {
      "image/png": "[encoded data removed]",
      "text/plain": [
       "<Figure size 432x288 with 1 Axes>"
      ]
     },
     "metadata": {
      "needs_background": "light"
     },
     "output_type": "display_data"
    }
   ],
   "source": [
    "info = backtest(train_data, s, options=options, prt=1, plot=1);"
   ]
  },
  {
   "cell_type": "code",
   "execution_count": null,
   "metadata": {},
   "outputs": [],
   "source": []
  },
  {
   "cell_type": "code",
   "execution_count": null,
   "metadata": {},
   "outputs": [],
   "source": []
  },
  {
   "cell_type": "code",
   "execution_count": null,
   "metadata": {},
   "outputs": [],
   "source": []
  },
  {
   "cell_type": "code",
   "execution_count": null,
   "metadata": {},
   "outputs": [],
   "source": []
  },
  {
   "cell_type": "code",
   "execution_count": null,
   "metadata": {},
   "outputs": [],
   "source": []
  },
  {
   "cell_type": "code",
   "execution_count": 19,
   "metadata": {},
   "outputs": [],
   "source": [
    "#info = backtest(db.get_symbol('EURUSD', period=15, period_type='m', \n",
    "#                date_range=((2014,4),(2014,6)), resample='base'),\n",
    "#                s, options=options, prt=1, plot=1);"
   ]
  },
  {
   "cell_type": "code",
   "execution_count": 20,
   "metadata": {},
   "outputs": [
    {
     "data": {
      "text/plain": [
       "(1697.8362857142868,\n",
       " 1660.4340000000018,\n",
       " -2076.7500000000005,\n",
       " -2083.4345714285714)"
      ]
     },
     "execution_count": 20,
     "metadata": {},
     "output_type": "execute_result"
    }
   ],
   "source": [
    "(info.average_runup_per_trade, info.average_profit_per_trade, info.average_loss_per_trade, info.average_drawdown_per_trade)"
   ]
  },
  {
   "cell_type": "code",
   "execution_count": null,
   "metadata": {},
   "outputs": [],
   "source": []
  },
  {
   "cell_type": "code",
   "execution_count": null,
   "metadata": {},
   "outputs": [],
   "source": []
  },
  {
   "cell_type": "code",
   "execution_count": null,
   "metadata": {},
   "outputs": [],
   "source": []
  },
  {
   "cell_type": "code",
   "execution_count": null,
   "metadata": {},
   "outputs": [],
   "source": []
  }
 ],
 "metadata": {
  "kernelspec": {
   "display_name": "Python 3",
   "language": "python",
   "name": "python3"
  },
  "language_info": {
   "codemirror_mode": {
    "name": "ipython",
    "version": 3
   },
   "file_extension": ".py",
   "mimetype": "text/x-python",
   "name": "python",
   "nbconvert_exporter": "python",
   "pygments_lexer": "ipython3",
   "version": "3.6.7"
  },
  "toc": {
   "base_numbering": 1,
   "nav_menu": {},
   "number_sections": true,
   "sideBar": true,
   "skip_h1_title": false,
   "title_cell": "Table of Contents",
   "title_sidebar": "Contents",
   "toc_cell": false,
   "toc_position": {},
   "toc_section_display": true,
   "toc_window_display": false
  }
 },
 "nbformat": 4,
 "nbformat_minor": 1
}
