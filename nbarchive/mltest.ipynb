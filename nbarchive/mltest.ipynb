{
 "cells": [
  {
   "cell_type": "code",
   "execution_count": 1,
   "metadata": {},
   "outputs": [
    {
     "name": "stdout",
     "output_type": "stream",
     "text": [
      "Populating the interactive namespace from numpy and matplotlib\n"
     ]
    }
   ],
   "source": [
    "%pylab inline"
   ]
  },
  {
   "cell_type": "code",
   "execution_count": 2,
   "metadata": {},
   "outputs": [
    {
     "name": "stderr",
     "output_type": "stream",
     "text": [
      "Using cuDNN version 5110 on context None\n",
      "Mapped name None to device cuda: GeForce GTX 950M (0000:01:00.0)\n",
      "Using Theano backend.\n"
     ]
    }
   ],
   "source": [
    "import sys\n",
    "sys.path.insert(0, '/home/peter/code/projects/tradesys/')\n",
    "from tradesys import *\n",
    "from tradesys.nbtools import *\n",
    "from tradesys.testing import *\n",
    "from tradesys.tstools import time_range, timedelta"
   ]
  },
  {
   "cell_type": "code",
   "execution_count": null,
   "metadata": {
    "collapsed": true
   },
   "outputs": [],
   "source": []
  },
  {
   "cell_type": "code",
   "execution_count": 3,
   "metadata": {},
   "outputs": [
    {
     "name": "stdout",
     "output_type": "stream",
     "text": [
      "(196000/196380)\n",
      "C0: 100050 C1: 96230\n",
      "\n"
     ]
    },
    {
     "data": {
      "image/png": "[encoded data removed]",
      "text/plain": [
       "<matplotlib.figure.Figure at 0x7f0d962cc780>"
      ]
     },
     "metadata": {},
     "output_type": "display_data"
    },
    {
     "data": {
      "image/png": "[encoded data removed]",
      "text/plain": [
       "<matplotlib.figure.Figure at 0x7f0e08755908>"
      ]
     },
     "metadata": {},
     "output_type": "display_data"
    }
   ],
   "source": [
    "input_source = np.load(open('data_spy.npy','rb'))\n",
    "to_predict = np.load(open('data_spy_targets.npy','rb'))\n",
    "\n",
    "to_predict[0:5]\n",
    "\n",
    "winlen = 1\n",
    "\n",
    "sliding_window_jump = 1\n",
    "predict_time_ahead = 1\n",
    "\n",
    "std_winlen = 60\n",
    "\n",
    "\n",
    "stds = []\n",
    "hls = []\n",
    "ms = []\n",
    "for i in range(0, to_predict.shape[1]-std_winlen, 1):\n",
    "    a = to_predict[3, i:i+std_winlen]\n",
    "    h = np.max(to_predict[2, i:i+std_winlen])\n",
    "    l = np.min(to_predict[3, i:i+std_winlen])\n",
    "    \n",
    "    mh = abs(np.max(a) - a[0])\n",
    "    ml = abs(np.min(a) - a[0])\n",
    "    hls.append(abs(h-l))\n",
    "    ms.append(max(mh,ml))\n",
    "    stds.append(np.std(a))\n",
    "    \n",
    "stds = array(stds)\n",
    "hls = array(hls)\n",
    "\n",
    "#stds[stds > 0.3] = 0.3\n",
    "\n",
    "hist(stds, 50);\n",
    "\n",
    "sp = 0.14\n",
    "len(stds[stds < sp]), len(stds[stds >= sp]) \n",
    "\n",
    "\n",
    "\n",
    "rnd.seed(int(time.clock()*10000))\n",
    "\n",
    "# create training set\n",
    "#sep = partition_data_num(to_predict, predict_time_ahead)\n",
    "\n",
    "x = []\n",
    "y = []\n",
    "\n",
    "c0 = []\n",
    "c1 = []\n",
    "\n",
    "for i in range(0, input_source.shape[1]-(winlen+100), sliding_window_jump):\n",
    "    # form the input\n",
    "    xs = input_source[:, i:i+winlen]\n",
    "    #xs = scale(xs)#, axis=1)\n",
    "    xs = xs.ravel()\n",
    "\n",
    "    # form the output\n",
    "    st = np.std(to_predict[3, i+winlen:i+winlen+std_winlen]) \n",
    "    \n",
    "    if st < sp:\n",
    "        c0.append( (xs, np.array([1, 0])) )\n",
    "    else:\n",
    "        c1.append( (xs, np.array([0, 1])) )\n",
    "    \n",
    "    if (i%1000)==0:\n",
    "        clear_output(wait=True)\n",
    "        print('({}/{})'.format(i, input_source.shape[1]-winlen))\n",
    "\n",
    "print('C0: {0} C1: {1}'.format(len(c0), len(c1)))\n",
    "print()\n",
    "\n",
    "samplesize = min(len(c0), len(c1))\n",
    "s1 = rnd.sample(c0, samplesize)\n",
    "s2 = rnd.sample(c1, samplesize)\n",
    "a = s1 + s2 \n",
    "rnd.shuffle(a)\n",
    "x = [x[0] for x in a]\n",
    "y = [x[1] for x in a]\n",
    "\n",
    "x = np.vstack(x)\n",
    "y = np.vstack(y)\n",
    "\n",
    "\n",
    "\n",
    "\n",
    "\n",
    "x.shape, y.shape\n",
    "\n",
    "x.shape = (x.shape[0], -1)\n",
    "\n",
    "x.shape\n",
    "\n",
    "matshow(x[400:500].T); colorbar();\n",
    "\n",
    "cutpoint = int(0.8 * x.shape[0])\n",
    "x_train = x[0:cutpoint]\n",
    "x_test = x[cutpoint:]\n",
    "y_train = y[0:cutpoint]\n",
    "y_test = y[cutpoint:]\n",
    "\n",
    "\n",
    "\n",
    "from sklearn.ensemble import AdaBoostClassifier\n",
    "\n",
    "# Classifiers\n",
    "from sklearn.neural_network import MLPClassifier\n",
    "from sklearn.neighbors import KNeighborsClassifier\n",
    "from sklearn.svm import SVC\n",
    "from sklearn.tree import DecisionTreeClassifier\n",
    "from sklearn.ensemble import RandomForestClassifier, AdaBoostClassifier, ExtraTreesClassifier, GradientBoostingClassifier \n",
    "from sklearn.naive_bayes import GaussianNB\n",
    "#from xgboost import XGBClassifier\n",
    "from sklearn.linear_model import LogisticRegression\n",
    "\n",
    "import sklearn as sk\n",
    "import time\n",
    "\n",
    "clf = GradientBoostingClassifier(n_estimators=100, loss='deviance')\n",
    "\n",
    "\n",
    "clf.fit(x_train, argmax(y_train, axis=1))\n",
    "\n",
    "# Here the model is saved\n",
    "pkl.dump(clf, open('test.pkl','wb'))"
   ]
  },
  {
   "cell_type": "code",
   "execution_count": 4,
   "metadata": {},
   "outputs": [
    {
     "data": {
      "text/plain": [
       "(0.78440974747999581, 0.7813571651252208)"
      ]
     },
     "execution_count": 4,
     "metadata": {},
     "output_type": "execute_result"
    }
   ],
   "source": [
    "clf.score(x_train, argmax(y_train, axis=1)), clf.score(x_test, argmax(y_test, axis=1))\n"
   ]
  },
  {
   "cell_type": "code",
   "execution_count": null,
   "metadata": {
    "collapsed": true
   },
   "outputs": [],
   "source": []
  },
  {
   "cell_type": "code",
   "execution_count": 5,
   "metadata": {
    "collapsed": true
   },
   "outputs": [],
   "source": [
    "data = DataMatrix()\n",
    "data.load_multicharts('../data/SPY_1_5_15_60_Minutes_01_01_10-10_31_16/SPY_1_Minute_01_01_2010-10_31_2016.txt')\n",
    "data.clip_dt(DateTime(2016,1,1), DateTime(2017,1,1))"
   ]
  },
  {
   "cell_type": "code",
   "execution_count": 6,
   "metadata": {},
   "outputs": [
    {
     "data": {
      "text/plain": [
       "99601"
      ]
     },
     "execution_count": 6,
     "metadata": {},
     "output_type": "execute_result"
    }
   ],
   "source": [
    "len(data)"
   ]
  },
  {
   "cell_type": "code",
   "execution_count": 7,
   "metadata": {},
   "outputs": [
    {
     "data": {
      "text/plain": [
       "81509"
      ]
     },
     "execution_count": 7,
     "metadata": {},
     "output_type": "execute_result"
    }
   ],
   "source": [
    "data = fill_incomplete_datamatrix(data)\n",
    "\n",
    "data.name = 'SPY'\n",
    "\n",
    "len(data)"
   ]
  },
  {
   "cell_type": "code",
   "execution_count": 8,
   "metadata": {
    "collapsed": true
   },
   "outputs": [],
   "source": [
    "opts = BacktestOptions()\n",
    "opts.commission = 0\n",
    "opts.slippage = 0.0\n",
    "opts.backtest_mode = BacktestMode.TRADESTATION\n",
    "opts.market_open_time = Time(9,30)\n",
    "opts.market_close_time = Time(16,0)"
   ]
  },
  {
   "cell_type": "code",
   "execution_count": null,
   "metadata": {
    "collapsed": true
   },
   "outputs": [],
   "source": []
  },
  {
   "cell_type": "code",
   "execution_count": 9,
   "metadata": {
    "collapsed": true
   },
   "outputs": [],
   "source": [
    "num_trials = 1"
   ]
  },
  {
   "cell_type": "code",
   "execution_count": 10,
   "metadata": {},
   "outputs": [
    {
     "name": "stdout",
     "output_type": "stream",
     "text": [
      "--------------------\n",
      "Profit factor: 1.09\n",
      "Trades: 476\n",
      "Profit / Loss trades: 298 (62.6%) / 174 (37.4%)\n",
      "Gross profit: $52545.92\n",
      "Gross loss: $-48065.99\n",
      "Net profit: $4479.93\n",
      "Long / Short positions: 231 (48.5%) / 245 (51.5%)\n",
      "--------------------\n",
      "\n",
      "trial: 0\n",
      "CPU times: user 24min 2s, sys: 5min 28s, total: 29min 31s\n",
      "Wall time: 29min 31s\n"
     ]
    },
    {
     "data": {
      "image/png": "[encoded data removed]",
      "text/plain": [
       "<matplotlib.figure.Figure at 0x7f0d49ae1ba8>"
      ]
     },
     "metadata": {},
     "output_type": "display_data"
    }
   ],
   "source": [
    "%%time\n",
    "\n",
    "res = []\n",
    "for trial in range(num_trials):\n",
    "\n",
    "    s = \"\"\"\n",
    "\n",
    "    AO = MLSIGNAL(300, 1, modelname='test', datamodel='datamodel_ta', modeltype='sklearn', dolog=true, noinput=false);\n",
    "\n",
    "    MK = AO == I(1);\n",
    "\n",
    "    K = CURRENT_BAR % I(60);\n",
    "\n",
    "    BO = K == I(0);\n",
    "\n",
    "    BUY_LIMIT_AT (PRICE('close')-F({dist})) ^ BO and MK;\n",
    "    SELL_LIMIT_AT (PRICE('close')+F({dist})) ^ BO and MK;\n",
    "\n",
    "    CLOSE_IF BO;\n",
    "\n",
    "    \"\"\".format(dist=0.05)\n",
    "    \n",
    "    clear_output()\n",
    "    info = backtest(data, s, options=opts, plot=1, prt=1, )\n",
    "    res.append(info)\n",
    "    print('trial:', trial)"
   ]
  },
  {
   "cell_type": "raw",
   "metadata": {},
   "source": [
    "hist([x.net_profit for x in res], 50);"
   ]
  },
  {
   "cell_type": "raw",
   "metadata": {},
   "source": [
    "mean([x.net_profit for x in res])"
   ]
  },
  {
   "cell_type": "raw",
   "metadata": {},
   "source": [
    "median([x.net_profit for x in res])"
   ]
  },
  {
   "cell_type": "raw",
   "metadata": {},
   "source": [
    "mean([x.profit_factor for x in res])"
   ]
  },
  {
   "cell_type": "raw",
   "metadata": {},
   "source": [
    "hist([x.profit_factor for x in res], 50);"
   ]
  },
  {
   "cell_type": "raw",
   "metadata": {},
   "source": [
    "a = array([x.profit_factor for x in res])\n",
    "\n",
    "len(a[a < 1.0]) / len(a) * 100, len(a[a > 1.0]) / len(a) * 100"
   ]
  },
  {
   "cell_type": "code",
   "execution_count": null,
   "metadata": {
    "collapsed": true
   },
   "outputs": [],
   "source": []
  },
  {
   "cell_type": "code",
   "execution_count": null,
   "metadata": {
    "collapsed": true
   },
   "outputs": [],
   "source": []
  },
  {
   "cell_type": "code",
   "execution_count": null,
   "metadata": {
    "collapsed": true
   },
   "outputs": [],
   "source": []
  },
  {
   "cell_type": "code",
   "execution_count": null,
   "metadata": {
    "collapsed": true
   },
   "outputs": [],
   "source": []
  },
  {
   "cell_type": "code",
   "execution_count": null,
   "metadata": {
    "collapsed": true
   },
   "outputs": [],
   "source": []
  },
  {
   "cell_type": "code",
   "execution_count": null,
   "metadata": {
    "collapsed": true
   },
   "outputs": [],
   "source": []
  },
  {
   "cell_type": "code",
   "execution_count": null,
   "metadata": {
    "collapsed": true
   },
   "outputs": [],
   "source": []
  },
  {
   "cell_type": "code",
   "execution_count": null,
   "metadata": {
    "collapsed": true
   },
   "outputs": [],
   "source": []
  },
  {
   "cell_type": "code",
   "execution_count": null,
   "metadata": {
    "collapsed": true
   },
   "outputs": [],
   "source": []
  },
  {
   "cell_type": "code",
   "execution_count": null,
   "metadata": {
    "collapsed": true
   },
   "outputs": [],
   "source": []
  },
  {
   "cell_type": "code",
   "execution_count": null,
   "metadata": {
    "collapsed": true
   },
   "outputs": [],
   "source": []
  },
  {
   "cell_type": "code",
   "execution_count": null,
   "metadata": {
    "collapsed": true
   },
   "outputs": [],
   "source": []
  },
  {
   "cell_type": "code",
   "execution_count": null,
   "metadata": {
    "collapsed": true
   },
   "outputs": [],
   "source": []
  },
  {
   "cell_type": "code",
   "execution_count": null,
   "metadata": {
    "collapsed": true
   },
   "outputs": [],
   "source": []
  },
  {
   "cell_type": "code",
   "execution_count": null,
   "metadata": {
    "collapsed": true
   },
   "outputs": [],
   "source": []
  }
 ],
 "metadata": {
  "kernelspec": {
   "display_name": "Python 3",
   "language": "python",
   "name": "python3"
  },
  "language_info": {
   "codemirror_mode": {
    "name": "ipython",
    "version": 3
   },
   "file_extension": ".py",
   "mimetype": "text/x-python",
   "name": "python",
   "nbconvert_exporter": "python",
   "pygments_lexer": "ipython3",
   "version": "3.5.2"
  }
 },
 "nbformat": 4,
 "nbformat_minor": 2
}
