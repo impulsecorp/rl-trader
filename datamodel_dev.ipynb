{
 "cells": [
  {
   "cell_type": "code",
   "execution_count": 1,
   "metadata": {
    "code_folding": [],
    "pycharm": {
     "is_executing": false
    }
   },
   "outputs": [
    {
     "name": "stdout",
     "output_type": "stream",
     "text": [
      "Populating the interactive namespace from numpy and matplotlib\n"
     ]
    },
    {
     "name": "stderr",
     "output_type": "stream",
     "text": [
      "Using Theano backend.\n"
     ]
    },
    {
     "name": "stdout",
     "output_type": "stream",
     "text": [
      "vizdoom could not be imported\n"
     ]
    }
   ],
   "source": [
    "# imports\n",
    "%pylab inline\n",
    "import numpy as np\n",
    "from numpy import *\n",
    "#sys.path.insert(0, '/home/peter/code/projects/tradesys/')\n",
    "from tradesys import DataMatrix, DateTime, get_stree_log\n",
    "import tradesys.ml as ml\n",
    "import talib as ta\n",
    "from sklearn.preprocessing import scale\n",
    "import os\n",
    "import pickle as pkl\n",
    "from sklearn.preprocessing import scale, robust_scale, normalize\n",
    "from statsmodels.tsa.statespace.sarimax import SARIMAX\n",
    "import statsmodels.api as sm\n",
    "from statsmodels.tsa.statespace.kalman_filter import KalmanFilter\n",
    "import collections\n",
    "import itertools as it\n",
    "from tqdm import tqdm_notebook as tqdm\n",
    "import random as rnd\n",
    "from sklearn.feature_selection import SelectKBest, SelectFromModel\n",
    "from sklearn.linear_model import LassoCV, LinearRegression\n",
    "from sklearn.svm import LinearSVC\n",
    "sys.path.append('/home/peter/code/projects')\n",
    "sys.path.append('/home/ubuntu')\n",
    "from aidevutil.denoise import remove_noise\n",
    "from pomegranate import NormalDistribution\n",
    "from sklearn.linear_model import RidgeClassifier"
   ]
  },
  {
   "cell_type": "raw",
   "metadata": {
    "pycharm": {
     "is_executing": false
    }
   },
   "source": [
    "datamatrix = DataMatrix()\n",
    "datamatrix.load_multicharts('../deep_learning_trader/data/EURUSD_1_Minute_01_01_2010-10_31_2016.txt')\n",
    "datamatrix.clip_dt(DateTime(2013,1,1), DateTime(2013,7,1))"
   ]
  },
  {
   "cell_type": "raw",
   "metadata": {},
   "source": [
    "df = pd.read_csv('data/Coinbase_LTCUSD_1h.csv')\n",
    "nd = []\n",
    "for i,(d,o,h,l,c,v) in df[['Date', 'Open', 'High', 'Low', 'Close', 'Volume LTC']].iterrows():\n",
    "    ds = d.split(' ')[0].split('-')\n",
    "    hs = d.split(' ')[1].split('-')[:-1]\n",
    "    ds = [int(x) for x in ds]\n",
    "    hs = [int(x) for x in hs]\n",
    "    nd.append(ds + hs + [0,0] + [o,h,l,c,v])\n",
    "datamatrix = DataMatrix()\n",
    "for y,mn,d,hr,m,s, o,h,l,c,v in nd[::-1]:\n",
    "    datamatrix.add_row(DateTime(y,mn,d,hr,m,s), o,h,l,c,int(v))"
   ]
  },
  {
   "cell_type": "code",
   "execution_count": 2,
   "metadata": {},
   "outputs": [],
   "source": [
    "df = pd.read_csv('data/EURUSD_1H.csv')\n",
    "nd = []\n",
    "for i,(d,t,o,h,l,c),*rest in df[['Date', 'Time', 'Open', 'High', 'Low', 'Close']].iterrows():\n",
    "    ds = d.split('-')\n",
    "    hs = t.split(':')[:]\n",
    "    ds = [int(x) for x in ds]\n",
    "    hs = [int(x) for x in hs]\n",
    "    nd.append(ds + hs + [0] + [o,h,l,c,1])\n",
    "datamatrix = DataMatrix()\n",
    "for y,mn,d,hr,m,s, o,h,l,c,v in nd:\n",
    "    datamatrix.add_row(DateTime(y,mn,d,hr,m,s), o,h,l,c,int(v))"
   ]
  },
  {
   "cell_type": "code",
   "execution_count": 3,
   "metadata": {},
   "outputs": [],
   "source": [
    "dataname = 'eurusd_1h'"
   ]
  },
  {
   "cell_type": "code",
   "execution_count": null,
   "metadata": {},
   "outputs": [],
   "source": []
  },
  {
   "cell_type": "code",
   "execution_count": null,
   "metadata": {},
   "outputs": [],
   "source": []
  },
  {
   "cell_type": "code",
   "execution_count": 4,
   "metadata": {
    "pycharm": {
     "is_executing": false
    }
   },
   "outputs": [
    {
     "data": {
      "text/plain": [
       "51823"
      ]
     },
     "execution_count": 4,
     "metadata": {},
     "output_type": "execute_result"
    }
   ],
   "source": [
    "len(datamatrix)"
   ]
  },
  {
   "cell_type": "code",
   "execution_count": null,
   "metadata": {
    "pycharm": {
     "is_executing": false
    }
   },
   "outputs": [],
   "source": []
  },
  {
   "cell_type": "code",
   "execution_count": 5,
   "metadata": {
    "pycharm": {
     "is_executing": false
    }
   },
   "outputs": [],
   "source": [
    "d_open = np.array(datamatrix.open)\n",
    "d_high = np.array(datamatrix.high)\n",
    "d_low = np.array(datamatrix.low)\n",
    "d_close = np.array(datamatrix.close)\n",
    "d_volume = np.array(datamatrix.volume)"
   ]
  },
  {
   "cell_type": "code",
   "execution_count": null,
   "metadata": {},
   "outputs": [],
   "source": []
  },
  {
   "cell_type": "code",
   "execution_count": null,
   "metadata": {},
   "outputs": [],
   "source": []
  },
  {
   "cell_type": "code",
   "execution_count": null,
   "metadata": {
    "pycharm": {
     "is_executing": false
    }
   },
   "outputs": [],
   "source": []
  },
  {
   "cell_type": "code",
   "execution_count": 6,
   "metadata": {
    "pycharm": {
     "is_executing": false
    }
   },
   "outputs": [],
   "source": [
    "register = {}"
   ]
  },
  {
   "cell_type": "code",
   "execution_count": 7,
   "metadata": {
    "pycharm": {
     "is_executing": false,
     "name": "#%%\n"
    }
   },
   "outputs": [],
   "source": [
    "periods_to_test = [3, 7, 14, 21, 32, 45, 60, 80]"
   ]
  },
  {
   "cell_type": "code",
   "execution_count": 8,
   "metadata": {
    "code_folding": [
     0
    ],
    "pycharm": {
     "is_executing": false
    }
   },
   "outputs": [],
   "source": [
    "def regall_single(key, dct, ars):\n",
    "    for i,a in enumerate(ars):\n",
    "        d = {**dct}\n",
    "        d['args'] = (a,)\n",
    "        register[key+'_'+str(i)] = d    "
   ]
  },
  {
   "cell_type": "code",
   "execution_count": 9,
   "metadata": {
    "code_folding": [
     0
    ]
   },
   "outputs": [],
   "source": [
    "def signal_maker(s):\n",
    "    return np.array(get_stree_log(s, datamatrix), dtype=np.float32)"
   ]
  },
  {
   "cell_type": "code",
   "execution_count": 10,
   "metadata": {
    "code_folding": [
     0
    ]
   },
   "outputs": [],
   "source": [
    "def denoised(x, wlen=128, st=0.8, pd=0.8):\n",
    "    w = NormalDistribution.from_samples(np.diff(x))\n",
    "    noise_sample = array([w.sample() for _ in range(10000)])\n",
    "    o= remove_noise(audio_clip=np.diff(x), noise_clip=noise_sample, n_std_thresh=st, prop_decrease=pd, \n",
    "                     n_fft=wlen, win_length=wlen, hop_length=1,verbose=False,visual=False)\n",
    "    o = hstack([array([0]), o])\n",
    "    return o"
   ]
  },
  {
   "cell_type": "code",
   "execution_count": null,
   "metadata": {},
   "outputs": [],
   "source": []
  },
  {
   "cell_type": "code",
   "execution_count": 11,
   "metadata": {
    "code_folding": [
     0
    ],
    "pycharm": {
     "is_executing": false
    }
   },
   "outputs": [],
   "source": [
    "d = { 'maker' : ta.MA,  # function to make the arrays\n",
    "       'args' : (d_open,), # arguments for the function\n",
    "       'kwargs' : {'timeperiod': 7}, # parameters with defaults\n",
    "       # parameter space for exploration\n",
    "       'space' : {'timeperiod': periods_to_test,\n",
    "                 },\n",
    "       # how many output arrays it returns and their output range, if any\n",
    "       'outputs' : [{'range': None, \n",
    "                     'type': 'price',\n",
    "                     'lag': 1,\n",
    "                     'abs': 0,\n",
    "                     'scale': 1,\n",
    "                     }], \n",
    "      }\n",
    "\n",
    "regall_single('MA', d, (d_open, d_high, d_low, d_close))"
   ]
  },
  {
   "cell_type": "code",
   "execution_count": 12,
   "metadata": {
    "code_folding": [
     0
    ],
    "pycharm": {
     "is_executing": false,
     "name": "#%%\n"
    }
   },
   "outputs": [],
   "source": [
    "d = { 'maker' : ta.EMA,  # function to make the arrays\n",
    "       'args' : (d_open,), # arguments for the function\n",
    "       'kwargs' : {'timeperiod': 7}, # parameters with defaults\n",
    "       # parameter space for exploration\n",
    "       'space' : {'timeperiod': periods_to_test,\n",
    "                 },\n",
    "       # how many output arrays it returns and their output range, if any\n",
    "       'outputs' : [{'range': None, \n",
    "                     'type': 'price',\n",
    "                     'lag': 1,\n",
    "                     'abs': 0,\n",
    "                     'scale': 1,\n",
    "                     }], \n",
    "      }\n",
    "\n",
    "regall_single('EMA', d, (d_open, d_high, d_low, d_close))"
   ]
  },
  {
   "cell_type": "code",
   "execution_count": 13,
   "metadata": {
    "code_folding": [
     0
    ],
    "pycharm": {
     "is_executing": false,
     "name": "#%%\n"
    }
   },
   "outputs": [],
   "source": [
    "d = { 'maker' : ta.DEMA,  # function to make the arrays\n",
    "       'args' : (d_open,), # arguments for the function\n",
    "       'kwargs' : {'timeperiod': 7}, # parameters with defaults\n",
    "       # parameter space for exploration\n",
    "       'space' : {'timeperiod': periods_to_test,\n",
    "                 },\n",
    "       # how many output arrays it returns and their output range, if any\n",
    "       'outputs' : [{'range': None, \n",
    "                     'type': 'price',\n",
    "                     'lag': 1,\n",
    "                     'abs': 0,\n",
    "                     'scale': 1,\n",
    "                     }], \n",
    "      }\n",
    "\n",
    "regall_single('DEMA', d, (d_open, d_high, d_low, d_close))"
   ]
  },
  {
   "cell_type": "code",
   "execution_count": 14,
   "metadata": {
    "code_folding": [
     0
    ],
    "pycharm": {
     "is_executing": false,
     "name": "#%%\n"
    }
   },
   "outputs": [],
   "source": [
    "d = { 'maker' : ta.KAMA,  # function to make the arrays\n",
    "       'args' : (d_open,), # arguments for the function\n",
    "       'kwargs' : {'timeperiod': 7}, # parameters with defaults\n",
    "       # parameter space for exploration\n",
    "       'space' : {'timeperiod': periods_to_test,\n",
    "                 },\n",
    "       # how many output arrays it returns and their output range, if any\n",
    "       'outputs' : [{'range': None, \n",
    "                     'type': 'price',\n",
    "                     'lag': 1,\n",
    "                     'abs': 0,\n",
    "                     'scale': 1,\n",
    "                     }], \n",
    "      }\n",
    "\n",
    "regall_single('KAMA', d, (d_open, d_high, d_low, d_close))"
   ]
  },
  {
   "cell_type": "code",
   "execution_count": 15,
   "metadata": {
    "code_folding": [
     0
    ],
    "pycharm": {
     "is_executing": false,
     "name": "#%%\n"
    }
   },
   "outputs": [],
   "source": [
    "d = { 'maker' : ta.TEMA,  # function to make the arrays\n",
    "       'args' : (d_open,), # arguments for the function\n",
    "       'kwargs' : {'timeperiod': 7}, # parameters with defaults\n",
    "       # parameter space for exploration\n",
    "       'space' : {'timeperiod': periods_to_test,\n",
    "                 },\n",
    "       # how many output arrays it returns and their output range, if any\n",
    "       'outputs' : [{'range': None, \n",
    "                     'type': 'price',\n",
    "                     'lag': 1,\n",
    "                     'abs': 0,\n",
    "                     'scale': 1,\n",
    "                     }], \n",
    "      }\n",
    "\n",
    "regall_single('TEMA', d, (d_open, d_high, d_low, d_close))"
   ]
  },
  {
   "cell_type": "code",
   "execution_count": 16,
   "metadata": {
    "code_folding": [
     0
    ],
    "pycharm": {
     "is_executing": false,
     "name": "#%%\n"
    }
   },
   "outputs": [],
   "source": [
    "d = { 'maker' : ta.TRIMA,  # function to make the arrays\n",
    "       'args' : (d_open,), # arguments for the function\n",
    "       'kwargs' : {'timeperiod': 7}, # parameters with defaults\n",
    "       # parameter space for exploration\n",
    "       'space' : {'timeperiod': periods_to_test,\n",
    "                 },\n",
    "       # how many output arrays it returns and their output range, if any\n",
    "       'outputs' : [{'range': None, \n",
    "                     'type': 'price',\n",
    "                     'lag': 1,\n",
    "                     'abs': 0,\n",
    "                     'scale': 1,\n",
    "                     }], \n",
    "      }\n",
    "\n",
    "regall_single('TRIMA', d, (d_open, d_high, d_low, d_close))"
   ]
  },
  {
   "cell_type": "code",
   "execution_count": 17,
   "metadata": {
    "code_folding": [
     0
    ],
    "pycharm": {
     "is_executing": false,
     "name": "#%%\n"
    }
   },
   "outputs": [],
   "source": [
    "d = { 'maker' : ta.WMA,  # function to make the arrays\n",
    "       'args' : (d_open,), # arguments for the function\n",
    "       'kwargs' : {'timeperiod': 7}, # parameters with defaults\n",
    "       # parameter space for exploration\n",
    "       'space' : {'timeperiod': periods_to_test,\n",
    "                 },\n",
    "       # how many output arrays it returns and their output range, if any\n",
    "       'outputs' : [{'range': None, \n",
    "                     'type': 'price',\n",
    "                     'lag': 1,\n",
    "                     'abs': 0,\n",
    "                     'scale': 1,\n",
    "                     }], \n",
    "      }\n",
    "\n",
    "regall_single('WMA', d, (d_open, d_high, d_low, d_close))"
   ]
  },
  {
   "cell_type": "code",
   "execution_count": 18,
   "metadata": {
    "code_folding": [
     0
    ],
    "pycharm": {
     "is_executing": false,
     "name": "#%%\n"
    }
   },
   "outputs": [],
   "source": [
    "d = { 'maker' : ta.T3,  # function to make the arrays\n",
    "       'args' : (d_open,), # arguments for the function\n",
    "       'kwargs' : {'timeperiod': 7,\n",
    "                   'vfactor':.07,\n",
    "                  }, # parameters with defaults\n",
    "       # parameter space for exploration\n",
    "       'space' : {'timeperiod': periods_to_test,\n",
    "                  'vfactor':[0.01, 0.03, 0.05, 0.07, 0.1, 0.15],\n",
    "                  },\n",
    "       # how many output arrays it returns and their output range, if any\n",
    "       'outputs' : [{'range': None, \n",
    "                     'type': 'price',\n",
    "                     'lag': 1,\n",
    "                     'abs': 0,\n",
    "                     'scale': 1,\n",
    "                     }], \n",
    "      }\n",
    "\n",
    "regall_single('T3', d, (d_open, d_high, d_low, d_close))"
   ]
  },
  {
   "cell_type": "code",
   "execution_count": 19,
   "metadata": {
    "code_folding": [
     0
    ],
    "pycharm": {
     "is_executing": false,
     "name": "#%%\n"
    }
   },
   "outputs": [],
   "source": [
    "d = { 'maker' : ta.BBANDS,  # function to make the arrays\n",
    "       'args' : (d_open,), # arguments for the function\n",
    "       'kwargs' : {'timeperiod': 7,\n",
    "                   'nbdevup': 1,\n",
    "                   'nbdevdn': 1,\n",
    "                   'matype': 0,\n",
    "                   }, # parameters with defaults\n",
    "       # parameter space for exploration\n",
    "       'space' : {'timeperiod': periods_to_test,\n",
    "                  'nbdevup': [1, 2, 3],\n",
    "                  'nbdevdn': [1, 2, 3],\n",
    "                  'matype': [0],\n",
    "                 },\n",
    "       # how many output arrays it returns and their output range, if any\n",
    "       'outputs' : [{'range': None, \n",
    "                     'type': 'price',\n",
    "                     'lag': 1,\n",
    "                     'abs': 0,\n",
    "                     'scale': 1,\n",
    "                     },\n",
    "                    \n",
    "                    {'range': None, \n",
    "                     'type': 'price',\n",
    "                     'lag': 1,\n",
    "                     'abs': 0,\n",
    "                     'scale': 1,\n",
    "                     },\n",
    "                    \n",
    "                    {'range': None, \n",
    "                     'type': 'price',\n",
    "                     'lag': 1,\n",
    "                     'abs': 0,\n",
    "                     'scale': 1,\n",
    "                     },\n",
    "                    ], \n",
    "      }\n",
    "\n",
    "regall_single('BBANDS', d, (d_open, d_high, d_low, d_close))"
   ]
  },
  {
   "cell_type": "code",
   "execution_count": 20,
   "metadata": {
    "code_folding": [
     0
    ],
    "pycharm": {
     "is_executing": false,
     "name": "#%%\n"
    }
   },
   "outputs": [],
   "source": [
    "d = { 'maker' : ta.MIDPOINT,  # function to make the arrays\n",
    "       'args' : (d_open,), # arguments for the function\n",
    "       'kwargs' : {'timeperiod': 7}, # parameters with defaults\n",
    "       # parameter space for exploration\n",
    "       'space' : {'timeperiod': periods_to_test,\n",
    "                 },\n",
    "       # how many output arrays it returns and their output range, if any\n",
    "       'outputs' : [{'range': None, \n",
    "                     'type': 'price',\n",
    "                     'lag': 1,\n",
    "                     'abs': 0,\n",
    "                     'scale': 1,\n",
    "                     }], \n",
    "      }\n",
    "\n",
    "regall_single('MIDPOINT', d, (d_open, d_high, d_low, d_close))"
   ]
  },
  {
   "cell_type": "code",
   "execution_count": 21,
   "metadata": {
    "code_folding": [
     0
    ],
    "pycharm": {
     "is_executing": false,
     "name": "#%%\n"
    }
   },
   "outputs": [],
   "source": [
    "register['MIDPRICE'] = { 'maker' : ta.MIDPRICE,  # function to make the arrays\n",
    "       'args' : (d_high, d_low), # arguments for the function\n",
    "       'kwargs' : {'timeperiod': 7}, # parameters with defaults\n",
    "       # parameter space for exploration\n",
    "       'space' : {'timeperiod': periods_to_test,\n",
    "                 },\n",
    "       # how many output arrays it returns and their output range, if any\n",
    "       'outputs' : [{'range': None, \n",
    "                     'type': 'price',\n",
    "                     'lag': 1,\n",
    "                     'abs': 0,\n",
    "                     'scale': 1,\n",
    "                     }], \n",
    "      }"
   ]
  },
  {
   "cell_type": "code",
   "execution_count": 22,
   "metadata": {
    "code_folding": [
     0
    ],
    "pycharm": {
     "is_executing": false,
     "name": "#%%\n"
    }
   },
   "outputs": [],
   "source": [
    "register['SAR'] = { 'maker' : ta.SAR,  # function to make the arrays\n",
    "       'args' : (d_high, d_low), # arguments for the function\n",
    "       'kwargs' : {'acceleration': .05,\n",
    "                   'maximum': .5}, # parameters with defaults\n",
    "       # parameter space for exploration\n",
    "       'space' : {'acceleration': [0.01, 0.02, 0.05, 0.075, 0.1, 0.2],\n",
    "                   'maximum': [0.05, 0.1, 0.25, 0.5, 0.75, 0.9, 1.0]\n",
    "                 },\n",
    "       # how many output arrays it returns and their output range, if any\n",
    "       'outputs' : [{'range': None, \n",
    "                     'type': 'price',\n",
    "                     'lag': 1,\n",
    "                     'abs': 0,\n",
    "                     'scale': 1,\n",
    "                     }], \n",
    "      }"
   ]
  },
  {
   "cell_type": "code",
   "execution_count": 23,
   "metadata": {
    "code_folding": [
     0
    ],
    "pycharm": {
     "is_executing": false,
     "name": "#%%\n"
    }
   },
   "outputs": [],
   "source": [
    "register['SAREXT'] = { 'maker' : ta.SAREXT,  # function to make the arrays\n",
    "       'args' : (d_high, d_low), # arguments for the function\n",
    "       'kwargs' : {'startvalue':0,\n",
    "                   'offsetonreverse':0, \n",
    "                   'accelerationinitlong':.05,\n",
    "                   'accelerationlong':.05,\n",
    "                   'accelerationmaxlong':.5, \n",
    "                   'accelerationinitshort':.05, \n",
    "                   'accelerationshort':.05,\n",
    "                   'accelerationmaxshort':.5, \n",
    "                   }, # parameters with defaults\n",
    "       # parameter space for exploration\n",
    "       'space' : {'startvalue':[0],\n",
    "                   'offsetonreverse':[0], \n",
    "                   'accelerationinitlong':[0.02, 0.05, 0.075],\n",
    "                   'accelerationlong':[0.02, 0.05, 0.075,],\n",
    "                   'accelerationmaxlong':[0.25, 0.5, 0.75], \n",
    "                   'accelerationinitshort':[0.02, 0.05, 0.075], \n",
    "                   'accelerationshort':[0.02, 0.05, 0.075],\n",
    "                   'accelerationmaxshort':[0.25, 0.5, 0.75],\n",
    "                 },\n",
    "       # how many output arrays it returns and their output range, if any\n",
    "       'outputs' : [{'range': [-1.25, 1.25], \n",
    "                     'type': 'osc',\n",
    "                     'lag': 0,\n",
    "                     'abs': 1,\n",
    "                     'scale': 0,\n",
    "                     }], \n",
    "      }"
   ]
  },
  {
   "cell_type": "code",
   "execution_count": 24,
   "metadata": {
    "code_folding": [
     0
    ],
    "pycharm": {
     "is_executing": false,
     "name": "#%%\n"
    }
   },
   "outputs": [],
   "source": [
    "register['ADX'] = { 'maker' : ta.ADX,  # function to make the arrays\n",
    "       'args' : (d_high, d_low, d_close), # arguments for the function\n",
    "       'kwargs' : {'timeperiod': 14,\n",
    "                   }, # parameters with defaults\n",
    "       # parameter space for exploration\n",
    "       'space' : {'timeperiod': periods_to_test,\n",
    "                 },\n",
    "       # how many output arrays it returns and their output range, if any\n",
    "       'outputs' : [{'range': [0, 100], \n",
    "                     'type': 'osc',\n",
    "                     'lag': 0,\n",
    "                     'abs': 0,\n",
    "                     'scale': 0,\n",
    "                     }], \n",
    "      }"
   ]
  },
  {
   "cell_type": "code",
   "execution_count": 25,
   "metadata": {
    "code_folding": [
     0
    ],
    "pycharm": {
     "is_executing": false,
     "name": "#%%\n"
    }
   },
   "outputs": [],
   "source": [
    "register['ADXR'] = { 'maker' : ta.ADXR,  # function to make the arrays\n",
    "       'args' : (d_high, d_low, d_close), # arguments for the function\n",
    "       'kwargs' : {'timeperiod': 14,\n",
    "                   }, # parameters with defaults\n",
    "       # parameter space for exploration\n",
    "       'space' : {'timeperiod': periods_to_test,\n",
    "                 },\n",
    "       # how many output arrays it returns and their output range, if any\n",
    "       'outputs' : [{'range': [0, 100], \n",
    "                     'type': 'osc',\n",
    "                     'lag': 0,\n",
    "                     'abs': 0,\n",
    "                     'scale': 0,\n",
    "                     }], \n",
    "      }"
   ]
  },
  {
   "cell_type": "code",
   "execution_count": 26,
   "metadata": {
    "code_folding": [
     0
    ],
    "pycharm": {
     "is_executing": false,
     "name": "#%%\n"
    }
   },
   "outputs": [],
   "source": [
    "d = { 'maker' : ta.APO,  # function to make the arrays\n",
    "       'args' : (d_open,), # arguments for the function\n",
    "       'kwargs' : {'fastperiod': 7, \n",
    "                   'slowperiod': 14, \n",
    "                   'matype' : 0\n",
    "                   }, # parameters with defaults\n",
    "       # parameter space for exploration\n",
    "       'space' : { 'fastperiod': periods_to_test, \n",
    "                   'slowperiod': periods_to_test, \n",
    "                   'matype' : [0]\n",
    "                 },\n",
    "       # how many output arrays it returns and their output range, if any\n",
    "       'outputs' : [{'range': None, \n",
    "                     'type': 'osc',\n",
    "                     'lag': 0,\n",
    "                     'abs': 0,\n",
    "                     'scale': 1,\n",
    "                     }], \n",
    "      }\n",
    "\n",
    "regall_single('APO', d, (d_open, d_high, d_low, d_close))"
   ]
  },
  {
   "cell_type": "code",
   "execution_count": 27,
   "metadata": {
    "code_folding": [
     0
    ],
    "pycharm": {
     "is_executing": false,
     "name": "#%%\n"
    }
   },
   "outputs": [],
   "source": [
    "register['AROON'] = { 'maker' : ta.AROON,  # function to make the arrays\n",
    "       'args' : (d_high, d_low), # arguments for the function\n",
    "       'kwargs' : {'timeperiod': 7}, # parameters with defaults\n",
    "       # parameter space for exploration\n",
    "       'space' : {'timeperiod': periods_to_test,\n",
    "                 },\n",
    "       # how many output arrays it returns and their output range, if any\n",
    "       'outputs' : [{'range': [0, 100], \n",
    "                     'type': 'osc',\n",
    "                     'lag': 0,\n",
    "                     'abs': 0,\n",
    "                     'scale': 0,\n",
    "                     },\n",
    "                    \n",
    "                    {'range': [0, 100], \n",
    "                     'type': 'osc',\n",
    "                     'lag': 0,\n",
    "                     'abs': 0,\n",
    "                     'scale': 0,\n",
    "                     },\n",
    "                    ], \n",
    "      }"
   ]
  },
  {
   "cell_type": "code",
   "execution_count": 28,
   "metadata": {
    "code_folding": [
     0
    ],
    "pycharm": {
     "is_executing": false,
     "name": "#%%\n"
    }
   },
   "outputs": [],
   "source": [
    "register['AROONOSC'] = { 'maker' : ta.AROONOSC,  # function to make the arrays\n",
    "       'args' : (d_high, d_low), # arguments for the function\n",
    "       'kwargs' : {'timeperiod': 7}, # parameters with defaults\n",
    "       # parameter space for exploration\n",
    "       'space' : {'timeperiod': periods_to_test,\n",
    "                 },\n",
    "       # how many output arrays it returns and their output range, if any\n",
    "       'outputs' : [{'range': [-100, 100], \n",
    "                     'type': 'osc',\n",
    "                     'lag': 0,\n",
    "                     'abs': 0,\n",
    "                     'scale': 0,\n",
    "                     },\n",
    "                    ], \n",
    "      }"
   ]
  },
  {
   "cell_type": "code",
   "execution_count": 29,
   "metadata": {
    "code_folding": [
     0
    ],
    "pycharm": {
     "is_executing": false,
     "name": "#%%\n"
    }
   },
   "outputs": [],
   "source": [
    "register['CCI'] = { 'maker' : ta.CCI,  # function to make the arrays\n",
    "       'args' : (d_high, d_low, d_close), # arguments for the function\n",
    "       'kwargs' : {'timeperiod': 7}, # parameters with defaults\n",
    "       # parameter space for exploration\n",
    "       'space' : {'timeperiod': periods_to_test,\n",
    "                 },\n",
    "       # how many output arrays it returns and their output range, if any\n",
    "       'outputs' : [{'range': None, \n",
    "                     'type': 'osc',\n",
    "                     'lag': 0,\n",
    "                     'abs': 0,\n",
    "                     'scale': 1,\n",
    "                     },\n",
    "                    ], \n",
    "       }"
   ]
  },
  {
   "cell_type": "code",
   "execution_count": 30,
   "metadata": {
    "code_folding": [
     0
    ],
    "pycharm": {
     "is_executing": false,
     "name": "#%%\n"
    }
   },
   "outputs": [],
   "source": [
    "d = { 'maker' : ta.CMO,  # function to make the arrays\n",
    "       'args' : (d_open,), # arguments for the function\n",
    "       'kwargs' : {'timeperiod': 7, \n",
    "                   }, # parameters with defaults\n",
    "       # parameter space for exploration\n",
    "       'space' : { 'timeperiod': periods_to_test, \n",
    "                 },\n",
    "       # how many output arrays it returns and their output range, if any\n",
    "       'outputs' : [{'range': [-100, 100], \n",
    "                     'type': 'osc',\n",
    "                     'lag': 0,\n",
    "                     'abs': 0,\n",
    "                     'scale': 0,\n",
    "                     }], \n",
    "      }\n",
    "\n",
    "regall_single('CMO', d, (d_open, d_high, d_low, d_close))"
   ]
  },
  {
   "cell_type": "code",
   "execution_count": 31,
   "metadata": {
    "code_folding": [
     0
    ],
    "pycharm": {
     "is_executing": false,
     "name": "#%%\n"
    }
   },
   "outputs": [],
   "source": [
    "register['DX'] = { 'maker' : ta.DX,  # function to make the arrays\n",
    "       'args' : (d_high, d_low, d_close), # arguments for the function\n",
    "       'kwargs' : {'timeperiod': 7}, # parameters with defaults\n",
    "       # parameter space for exploration\n",
    "       'space' : {'timeperiod': periods_to_test,\n",
    "                 },\n",
    "       # how many output arrays it returns and their output range, if any\n",
    "       'outputs' : [{'range': [0, 100], \n",
    "                     'type': 'osc',\n",
    "                     'lag': 0,\n",
    "                     'abs': 0,\n",
    "                     'scale': 0,\n",
    "                     },\n",
    "                    ], \n",
    "       }"
   ]
  },
  {
   "cell_type": "code",
   "execution_count": 32,
   "metadata": {
    "code_folding": [
     0
    ],
    "pycharm": {
     "is_executing": false,
     "name": "#%%\n"
    }
   },
   "outputs": [],
   "source": [
    "d = {  'maker' : ta.MACD,  # function to make the arrays\n",
    "       'args' : (d_open,), # arguments for the function\n",
    "       'kwargs' : {'fastperiod': 7, \n",
    "                   'slowperiod': 14, \n",
    "                   'signalperiod' : 10,\n",
    "                   }, # parameters with defaults\n",
    "       # parameter space for exploration\n",
    "       'space' : { 'fastperiod': periods_to_test, \n",
    "                   'slowperiod': periods_to_test, \n",
    "                   'signalperiod' : periods_to_test,\n",
    "                 },\n",
    "       # how many output arrays it returns and their output range, if any\n",
    "       'outputs' : [{'range': None, \n",
    "                     'type': 'osc',\n",
    "                     'lag': 0,\n",
    "                     'abs': 0,\n",
    "                     'scale': 1,\n",
    "                     }, \n",
    "                    \n",
    "                    {'range': None, \n",
    "                     'type': 'osc',\n",
    "                     'lag': 0,\n",
    "                     'abs': 0,\n",
    "                     'scale': 1,\n",
    "                     },\n",
    "                    \n",
    "                    {'range': None, \n",
    "                     'type': 'osc',\n",
    "                     'lag': 0,\n",
    "                     'abs': 0,\n",
    "                     'scale': 1,\n",
    "                     }, \n",
    "                    ], \n",
    "      }\n",
    "\n",
    "regall_single('MACD', d, (d_open, d_high, d_low, d_close))"
   ]
  },
  {
   "cell_type": "code",
   "execution_count": 33,
   "metadata": {
    "code_folding": [
     0
    ],
    "pycharm": {
     "is_executing": false,
     "name": "#%%\n"
    }
   },
   "outputs": [],
   "source": [
    "d = {  'maker' : ta.MACDFIX,  # function to make the arrays\n",
    "       'args' : (d_open,), # arguments for the function\n",
    "       'kwargs' : {\n",
    "                   'signalperiod' : 10,\n",
    "                   }, # parameters with defaults\n",
    "       # parameter space for exploration\n",
    "       'space' : {  \n",
    "                   'signalperiod' : periods_to_test,\n",
    "                 },\n",
    "       # how many output arrays it returns and their output range, if any\n",
    "       'outputs' : [{'range': None, \n",
    "                     'type': 'osc',\n",
    "                     'lag': 0,\n",
    "                     'abs': 0,\n",
    "                     'scale': 1,\n",
    "                     }, \n",
    "                    \n",
    "                    {'range': None, \n",
    "                     'type': 'osc',\n",
    "                     'lag': 0,\n",
    "                     'abs': 0,\n",
    "                     'scale': 1,\n",
    "                     },\n",
    "                    \n",
    "                    {'range': None, \n",
    "                     'type': 'osc',\n",
    "                     'lag': 0,\n",
    "                     'abs': 0,\n",
    "                     'scale': 1,\n",
    "                     }, \n",
    "                    ], \n",
    "      }\n",
    "\n",
    "regall_single('MACDFIX', d, (d_open, d_high, d_low, d_close))"
   ]
  },
  {
   "cell_type": "code",
   "execution_count": 34,
   "metadata": {
    "code_folding": [
     0
    ],
    "pycharm": {
     "is_executing": false,
     "name": "#%%\n"
    }
   },
   "outputs": [],
   "source": [
    "register['MINUS_DI'] = { 'maker' : ta.MINUS_DI,  # function to make the arrays\n",
    "       'args' : (d_high, d_low, d_close), # arguments for the function\n",
    "       'kwargs' : {'timeperiod': 7}, # parameters with defaults\n",
    "       # parameter space for exploration\n",
    "       'space' : {'timeperiod': periods_to_test,\n",
    "                 },\n",
    "       # how many output arrays it returns and their output range, if any\n",
    "       'outputs' : [{'range': [0, 100], \n",
    "                     'type': 'osc',\n",
    "                     'lag': 0,\n",
    "                     'abs': 0,\n",
    "                     'scale': 0,\n",
    "                     },\n",
    "                    ], \n",
    "       }"
   ]
  },
  {
   "cell_type": "code",
   "execution_count": 35,
   "metadata": {
    "code_folding": [
     0
    ],
    "pycharm": {
     "is_executing": false,
     "name": "#%%\n"
    }
   },
   "outputs": [],
   "source": [
    "register['PLUS_DI'] = { 'maker' : ta.PLUS_DI,  # function to make the arrays\n",
    "       'args' : (d_high, d_low, d_close), # arguments for the function\n",
    "       'kwargs' : {'timeperiod': 7}, # parameters with defaults\n",
    "       # parameter space for exploration\n",
    "       'space' : {'timeperiod': periods_to_test,\n",
    "                 },\n",
    "       # how many output arrays it returns and their output range, if any\n",
    "       'outputs' : [{'range': [0, 100], \n",
    "                     'type': 'osc',\n",
    "                     'lag': 0,\n",
    "                     'abs': 0,\n",
    "                     'scale': 0,\n",
    "                     },\n",
    "                    ], \n",
    "       }"
   ]
  },
  {
   "cell_type": "code",
   "execution_count": 36,
   "metadata": {
    "code_folding": [
     0
    ],
    "pycharm": {
     "is_executing": false,
     "name": "#%%\n"
    }
   },
   "outputs": [],
   "source": [
    "register['MINUS_DM'] = { 'maker' : ta.MINUS_DM,  # function to make the arrays\n",
    "       'args' : (d_high, d_low), # arguments for the function\n",
    "       'kwargs' : {'timeperiod': 7}, # parameters with defaults\n",
    "       # parameter space for exploration\n",
    "       'space' : {'timeperiod': periods_to_test,\n",
    "                 },\n",
    "       # how many output arrays it returns and their output range, if any\n",
    "       'outputs' : [{'range': None, \n",
    "                     'type': 'osc',\n",
    "                     'lag': 0,\n",
    "                     'abs': 0,\n",
    "                     'scale': 1,\n",
    "                     },\n",
    "                    ], \n",
    "       }"
   ]
  },
  {
   "cell_type": "code",
   "execution_count": 37,
   "metadata": {
    "code_folding": [
     0
    ],
    "pycharm": {
     "is_executing": false,
     "name": "#%%\n"
    }
   },
   "outputs": [],
   "source": [
    "register['PLUS_DM'] = { 'maker' : ta.PLUS_DM,  # function to make the arrays\n",
    "       'args' : (d_high, d_low), # arguments for the function\n",
    "       'kwargs' : {'timeperiod': 7}, # parameters with defaults\n",
    "       # parameter space for exploration\n",
    "       'space' : {'timeperiod': periods_to_test,\n",
    "                 },\n",
    "       # how many output arrays it returns and their output range, if any\n",
    "       'outputs' : [{'range': None, \n",
    "                     'type': 'osc',\n",
    "                     'lag': 0,\n",
    "                     'abs': 0,\n",
    "                     'scale': 1,\n",
    "                     },\n",
    "                    ], \n",
    "       }"
   ]
  },
  {
   "cell_type": "code",
   "execution_count": 38,
   "metadata": {
    "code_folding": [
     0
    ],
    "pycharm": {
     "is_executing": false,
     "name": "#%%\n"
    }
   },
   "outputs": [],
   "source": [
    "d = { 'maker' : ta.MOM,  # function to make the arrays\n",
    "       'args' : (d_open,), # arguments for the function\n",
    "       'kwargs' : {'timeperiod': 7}, # parameters with defaults\n",
    "       # parameter space for exploration\n",
    "       'space' : {'timeperiod': periods_to_test,\n",
    "                 },\n",
    "       # how many output arrays it returns and their output range, if any\n",
    "       'outputs' : [{'range': None, \n",
    "                     'type': 'osc',\n",
    "                     'lag': 0,\n",
    "                     'abs': 0,\n",
    "                     'scale': 1,\n",
    "                     }], \n",
    "      }\n",
    "\n",
    "regall_single('MOM', d, (d_open, d_high, d_low, d_close))"
   ]
  },
  {
   "cell_type": "code",
   "execution_count": 39,
   "metadata": {
    "code_folding": [
     0
    ],
    "pycharm": {
     "is_executing": false,
     "name": "#%%\n"
    }
   },
   "outputs": [],
   "source": [
    "d = { 'maker' : ta.PPO,  # function to make the arrays\n",
    "       'args' : (d_open,), # arguments for the function\n",
    "       'kwargs' : {'fastperiod': 7, \n",
    "                   'slowperiod': 14, \n",
    "                   'matype' : 0}, # parameters with defaults\n",
    "       # parameter space for exploration\n",
    "       'space' : {'fastperiod': periods_to_test, \n",
    "                   'slowperiod': periods_to_test, \n",
    "                   'matype' : [0]},\n",
    "       'outputs' : [{'range': [-1, 1], \n",
    "                     'type': 'osc',\n",
    "                     'lag': 0,\n",
    "                     'abs': 1,\n",
    "                     'scale': 1,                     \n",
    "                     }], # how many output arrays it returns and their output range, if any\n",
    "      }\n",
    "\n",
    "regall_single('PPO', d, (d_open, d_high, d_low, d_close))"
   ]
  },
  {
   "cell_type": "code",
   "execution_count": 40,
   "metadata": {
    "code_folding": [
     0
    ],
    "pycharm": {
     "is_executing": false,
     "name": "#%%\n"
    }
   },
   "outputs": [],
   "source": [
    "d = { 'maker' : ta.ROC,  # function to make the arrays\n",
    "       'args' : (d_open,), # arguments for the function\n",
    "       'kwargs' : {'timeperiod': 7}, # parameters with defaults\n",
    "       # parameter space for exploration\n",
    "       'space' : {'timeperiod': periods_to_test,\n",
    "                 },\n",
    "       # how many output arrays it returns and their output range, if any\n",
    "       'outputs' : [{'range': None, \n",
    "                     'type': 'osc',\n",
    "                     'lag': 0,\n",
    "                     'abs': 0,\n",
    "                     'scale': 1,\n",
    "                     }], \n",
    "      }\n",
    "\n",
    "regall_single('ROC', d, (d_open, d_high, d_low, d_close))"
   ]
  },
  {
   "cell_type": "code",
   "execution_count": 41,
   "metadata": {
    "code_folding": [
     0
    ],
    "pycharm": {
     "is_executing": false,
     "name": "#%%\n"
    }
   },
   "outputs": [],
   "source": [
    "d = { 'maker' : ta.ROCP,  # function to make the arrays\n",
    "       'args' : (d_open,), # arguments for the function\n",
    "       'kwargs' : {'timeperiod': 7}, # parameters with defaults\n",
    "       # parameter space for exploration\n",
    "       'space' : {'timeperiod': periods_to_test,\n",
    "                 },\n",
    "       # how many output arrays it returns and their output range, if any\n",
    "       'outputs' : [{'range': None, \n",
    "                     'type': 'osc',\n",
    "                     'lag': 0,\n",
    "                     'abs': 0,\n",
    "                     'scale': 1,\n",
    "                     }], \n",
    "      }\n",
    "\n",
    "regall_single('ROCP', d, (d_open, d_high, d_low, d_close))"
   ]
  },
  {
   "cell_type": "code",
   "execution_count": 42,
   "metadata": {
    "code_folding": [
     0
    ],
    "pycharm": {
     "is_executing": false,
     "name": "#%%\n"
    }
   },
   "outputs": [],
   "source": [
    "d = { 'maker' : ta.ROCR,  # function to make the arrays\n",
    "       'args' : (d_open,), # arguments for the function\n",
    "       'kwargs' : {'timeperiod': 7}, # parameters with defaults\n",
    "       # parameter space for exploration\n",
    "       'space' : {'timeperiod': periods_to_test,\n",
    "                 },\n",
    "       # how many output arrays it returns and their output range, if any\n",
    "       'outputs' : [{'range': None, \n",
    "                     'type': 'osc',\n",
    "                     'lag': 0,\n",
    "                     'abs': 0,\n",
    "                     'scale': 1,\n",
    "                     }], \n",
    "      }\n",
    "\n",
    "regall_single('ROCR', d, (d_open, d_high, d_low, d_close))"
   ]
  },
  {
   "cell_type": "code",
   "execution_count": 43,
   "metadata": {
    "code_folding": [
     0
    ],
    "pycharm": {
     "is_executing": false,
     "name": "#%%\n"
    }
   },
   "outputs": [],
   "source": [
    "d = { 'maker' : ta.ROCR100,  # function to make the arrays\n",
    "       'args' : (d_open,), # arguments for the function\n",
    "       'kwargs' : {'timeperiod': 7}, # parameters with defaults\n",
    "       # parameter space for exploration\n",
    "       'space' : {'timeperiod': periods_to_test,\n",
    "                 },\n",
    "       # how many output arrays it returns and their output range, if any\n",
    "       'outputs' : [{'range': None, \n",
    "                     'type': 'osc',\n",
    "                     'lag': 0,\n",
    "                     'abs': 0,\n",
    "                     'scale': 1,\n",
    "                     }], \n",
    "      }\n",
    "\n",
    "regall_single('ROCR100', d, (d_open, d_high, d_low, d_close))"
   ]
  },
  {
   "cell_type": "code",
   "execution_count": 44,
   "metadata": {
    "code_folding": [
     0
    ],
    "pycharm": {
     "is_executing": false,
     "name": "#%%\n"
    }
   },
   "outputs": [],
   "source": [
    "d = { 'maker' : ta.RSI,  # function to make the arrays\n",
    "       'args' : (d_open,), # arguments for the function\n",
    "       'kwargs' : {'timeperiod': 7}, # parameters with defaults\n",
    "       # parameter space for exploration\n",
    "       'space' : {'timeperiod': periods_to_test,\n",
    "                 },\n",
    "       # how many output arrays it returns and their output range, if any\n",
    "       'outputs' : [{'range': [0, 100], \n",
    "                     'type': 'osc',\n",
    "                     'lag': 0,\n",
    "                     'abs': 0,\n",
    "                     'scale': 0,\n",
    "                     }], \n",
    "      }\n",
    "\n",
    "regall_single('RSI', d, (d_open, d_high, d_low, d_close))"
   ]
  },
  {
   "cell_type": "code",
   "execution_count": 45,
   "metadata": {
    "code_folding": [
     0
    ],
    "pycharm": {
     "is_executing": false,
     "name": "#%%\n"
    }
   },
   "outputs": [],
   "source": [
    "register['STOCH'] = { 'maker' : ta.STOCH,  # function to make the arrays\n",
    "       'args' : (d_high, d_low, d_close), # arguments for the function\n",
    "       'kwargs' : {'fastk_period': 10, \n",
    "                   'slowk_period': 5, \n",
    "                   'slowd_period': 5, \n",
    "                   'slowd_matype': 0,\n",
    "                   'slowk_matype': 0, \n",
    "                   }, # parameters with defaults\n",
    "       # parameter space for exploration\n",
    "       'space' : { 'fastk_period': periods_to_test, \n",
    "                   'slowk_period': periods_to_test, \n",
    "                   'slowd_period': periods_to_test, \n",
    "                   'slowd_matype': [0],\n",
    "                   'slowk_matype': [0],\n",
    "                 },\n",
    "       # how many output arrays it returns and their output range, if any\n",
    "       'outputs' : [{'range': None, \n",
    "                     'type': 'osc',\n",
    "                     'lag': 0,\n",
    "                     'abs': 0,\n",
    "                     'scale': 1,\n",
    "                     },\n",
    "                    \n",
    "                    {'range': None, \n",
    "                     'type': 'osc',\n",
    "                     'lag': 0,\n",
    "                     'abs': 0,\n",
    "                     'scale': 1,\n",
    "                     },\n",
    "                    ], \n",
    "       }\n"
   ]
  },
  {
   "cell_type": "code",
   "execution_count": 46,
   "metadata": {
    "code_folding": [
     0
    ],
    "pycharm": {
     "is_executing": false,
     "name": "#%%\n"
    }
   },
   "outputs": [],
   "source": [
    "register['STOCHF'] = { 'maker' : ta.STOCHF,  # function to make the arrays\n",
    "       'args' : (d_high, d_low, d_close), # arguments for the function\n",
    "       'kwargs' : {'fastk_period': 10, \n",
    "                   'fastd_period': 5, \n",
    "                   'fastd_matype': 0, \n",
    "                   }, # parameters with defaults\n",
    "       # parameter space for exploration\n",
    "       'space' : { 'fastk_period': periods_to_test, \n",
    "                   'fastd_period': periods_to_test, \n",
    "                   'fastd_matype': [0], \n",
    "                 },\n",
    "       # how many output arrays it returns and their output range, if any\n",
    "       'outputs' : [{'range': None, \n",
    "                     'type': 'osc',\n",
    "                     'lag': 0,\n",
    "                     'abs': 0,\n",
    "                     'scale': 1,\n",
    "                     },\n",
    "                    \n",
    "                    {'range': None, \n",
    "                     'type': 'osc',\n",
    "                     'lag': 0,\n",
    "                     'abs': 0,\n",
    "                     'scale': 1,\n",
    "                     },\n",
    "                    ], \n",
    "       }"
   ]
  },
  {
   "cell_type": "code",
   "execution_count": 47,
   "metadata": {
    "code_folding": [
     0
    ],
    "pycharm": {
     "is_executing": false,
     "name": "#%%\n"
    }
   },
   "outputs": [],
   "source": [
    "d = { 'maker' : ta.TRIX,  # function to make the arrays\n",
    "       'args' : (d_open,), # arguments for the function\n",
    "       'kwargs' : {'timeperiod': 7}, # parameters with defaults\n",
    "       # parameter space for exploration\n",
    "       'space' : {'timeperiod': periods_to_test,\n",
    "                 },\n",
    "       # how many output arrays it returns and their output range, if any\n",
    "       'outputs' : [{'range': None, \n",
    "                     'type': 'osc',\n",
    "                     'lag': 0,\n",
    "                     'abs': 0,\n",
    "                     'scale': 1,\n",
    "                     }], \n",
    "      }\n",
    "\n",
    "regall_single('TRIX', d, (d_open, d_high, d_low, d_close))"
   ]
  },
  {
   "cell_type": "code",
   "execution_count": 48,
   "metadata": {
    "code_folding": [
     0
    ],
    "pycharm": {
     "is_executing": false,
     "name": "#%%\n"
    }
   },
   "outputs": [],
   "source": [
    "d = { 'maker' : ta.TSF,  # function to make the arrays\n",
    "       'args' : (d_open,), # arguments for the function\n",
    "       'kwargs' : {'timeperiod': 7}, # parameters with defaults\n",
    "       # parameter space for exploration\n",
    "       'space' : {'timeperiod': periods_to_test,\n",
    "                 },\n",
    "       # how many output arrays it returns and their output range, if any\n",
    "       'outputs' : [{'range': None, \n",
    "                     'type': 'osc',\n",
    "                     'lag': 0,\n",
    "                     'abs': 0,\n",
    "                     'scale': 1,\n",
    "                     }], \n",
    "      }\n",
    "\n",
    "regall_single('TSF', d, (d_open, d_high, d_low, d_close))"
   ]
  },
  {
   "cell_type": "code",
   "execution_count": 49,
   "metadata": {
    "code_folding": [
     0
    ],
    "pycharm": {
     "is_executing": false,
     "name": "#%%\n"
    }
   },
   "outputs": [],
   "source": [
    "register['ULTOSC'] = { 'maker' : ta.ULTOSC,  # function to make the arrays\n",
    "       'args' : (d_high, d_low, d_close), # arguments for the function\n",
    "       'kwargs' : {'timeperiod1': 10, \n",
    "                   'timeperiod2': 20, \n",
    "                   'timeperiod3': 30, \n",
    "                   }, # parameters with defaults\n",
    "       # parameter space for exploration\n",
    "       'space' : { 'timeperiod1': periods_to_test, \n",
    "                   'timeperiod2': periods_to_test, \n",
    "                   'timeperiod3': periods_to_test, \n",
    "                 },\n",
    "       # how many output arrays it returns and their output range, if any\n",
    "       'outputs' : [{'range': [0, 100], \n",
    "                     'type': 'osc',\n",
    "                     'lag': 0,\n",
    "                     'abs': 0,\n",
    "                     'scale': 0,\n",
    "                     },\n",
    "                    \n",
    "                    ], \n",
    "       }"
   ]
  },
  {
   "cell_type": "code",
   "execution_count": 50,
   "metadata": {
    "code_folding": [
     0
    ],
    "pycharm": {
     "is_executing": false,
     "name": "#%%\n"
    }
   },
   "outputs": [],
   "source": [
    "register['WILLR'] = { 'maker' : ta.WILLR,  # function to make the arrays\n",
    "       'args' : (d_high, d_low, d_close), # arguments for the function\n",
    "       'kwargs' : {'timeperiod': 10, \n",
    "                   }, # parameters with defaults\n",
    "       # parameter space for exploration\n",
    "       'space' : { 'timeperiod': periods_to_test, \n",
    "                 },\n",
    "       # how many output arrays it returns and their output range, if any\n",
    "       'outputs' : [{'range': [-100, 0], \n",
    "                     'type': 'osc',\n",
    "                     'lag': 0,\n",
    "                     'abs': 0,\n",
    "                     'scale': 0,\n",
    "                     },\n",
    "                    \n",
    "                    ], \n",
    "       }"
   ]
  },
  {
   "cell_type": "code",
   "execution_count": 51,
   "metadata": {
    "code_folding": [
     0
    ],
    "pycharm": {
     "is_executing": false,
     "name": "#%%\n"
    }
   },
   "outputs": [],
   "source": [
    "register['ATR'] = { 'maker' : ta.ATR,  # function to make the arrays\n",
    "       'args' : (d_high, d_low, d_close), # arguments for the function\n",
    "       'kwargs' : {'timeperiod': 10, \n",
    "                   }, # parameters with defaults\n",
    "       # parameter space for exploration\n",
    "       'space' : { 'timeperiod': periods_to_test, \n",
    "                 },\n",
    "       # how many output arrays it returns and their output range, if any\n",
    "       'outputs' : [{'range': None, \n",
    "                     'type': 'osc',\n",
    "                     'lag': 0,\n",
    "                     'abs': 0,\n",
    "                     'scale': 1,\n",
    "                     },\n",
    "                    \n",
    "                    ], \n",
    "       }\n"
   ]
  },
  {
   "cell_type": "code",
   "execution_count": 52,
   "metadata": {
    "code_folding": [
     0
    ],
    "pycharm": {
     "is_executing": false,
     "name": "#%%\n"
    }
   },
   "outputs": [],
   "source": [
    "register['NATR'] = { 'maker' : ta.NATR,  # function to make the arrays\n",
    "       'args' : (d_high, d_low, d_close), # arguments for the function\n",
    "       'kwargs' : {'timeperiod': 10, \n",
    "                   }, # parameters with defaults\n",
    "       # parameter space for exploration\n",
    "       'space' : { 'timeperiod': periods_to_test, \n",
    "                 },\n",
    "       # how many output arrays it returns and their output range, if any\n",
    "       'outputs' : [{'range': None, \n",
    "                     'type': 'osc',\n",
    "                     'lag': 0,\n",
    "                     'abs': 0,\n",
    "                     'scale': 1,\n",
    "                     },\n",
    "                    \n",
    "                    ], \n",
    "       }"
   ]
  },
  {
   "cell_type": "code",
   "execution_count": 53,
   "metadata": {
    "code_folding": [
     0
    ],
    "pycharm": {
     "is_executing": false,
     "name": "#%%\n"
    }
   },
   "outputs": [],
   "source": [
    "register['BETA'] = { 'maker' : ta.BETA,  # function to make the arrays\n",
    "       'args' : (d_high, d_low,), # arguments for the function\n",
    "       'kwargs' : {'timeperiod': 10, \n",
    "                   }, # parameters with defaults\n",
    "       # parameter space for exploration\n",
    "       'space' : { 'timeperiod': periods_to_test, \n",
    "                 },\n",
    "       # how many output arrays it returns and their output range, if any\n",
    "       'outputs' : [{'range': None, \n",
    "                     'type': 'osc',\n",
    "                     'lag': 0,\n",
    "                     'abs': 0,\n",
    "                     'scale': 1,\n",
    "                     },\n",
    "                    \n",
    "                    ], \n",
    "       }"
   ]
  },
  {
   "cell_type": "code",
   "execution_count": 54,
   "metadata": {
    "code_folding": [
     0
    ],
    "pycharm": {
     "is_executing": false,
     "name": "#%%\n"
    }
   },
   "outputs": [],
   "source": [
    "d = { 'maker' : ta.LINEARREG_ANGLE,  # function to make the arrays\n",
    "       'args' : (d_open,), # arguments for the function\n",
    "       'kwargs' : {'timeperiod': 7}, # parameters with defaults\n",
    "       # parameter space for exploration\n",
    "       'space' : {'timeperiod': periods_to_test,\n",
    "                 },\n",
    "       # how many output arrays it returns and their output range, if any\n",
    "       'outputs' : [{'range': None, \n",
    "                     'type': 'osc',\n",
    "                     'lag': 0,\n",
    "                     'abs': 0,\n",
    "                     'scale': 1,\n",
    "                     }], \n",
    "      }\n",
    "\n",
    "regall_single('LINEARREG_ANGLE', d, (d_open, d_high, d_low, d_close))"
   ]
  },
  {
   "cell_type": "code",
   "execution_count": 55,
   "metadata": {
    "code_folding": [
     0
    ],
    "pycharm": {
     "is_executing": false,
     "name": "#%%\n"
    }
   },
   "outputs": [],
   "source": [
    "d = { 'maker' : ta.LINEARREG,  # function to make the arrays\n",
    "       'args' : (d_open,), # arguments for the function\n",
    "       'kwargs' : {'timeperiod': 7}, # parameters with defaults\n",
    "       # parameter space for exploration\n",
    "       'space' : {'timeperiod': periods_to_test,\n",
    "                 },\n",
    "       # how many output arrays it returns and their output range, if any\n",
    "       'outputs' : [{'range': None, \n",
    "                     'type': 'osc',\n",
    "                     'lag': 0,\n",
    "                     'abs': 0,\n",
    "                     'scale': 1,\n",
    "                     }], \n",
    "      }\n",
    "\n",
    "regall_single('LINEARREG', d, (d_open, d_high, d_low, d_close))"
   ]
  },
  {
   "cell_type": "code",
   "execution_count": 56,
   "metadata": {
    "code_folding": [
     0
    ],
    "pycharm": {
     "is_executing": false,
     "name": "#%%\n"
    }
   },
   "outputs": [],
   "source": [
    "d = { 'maker' : ta.LINEARREG_SLOPE,  # function to make the arrays\n",
    "       'args' : (d_open,), # arguments for the function\n",
    "       'kwargs' : {'timeperiod': 7}, # parameters with defaults\n",
    "       # parameter space for exploration\n",
    "       'space' : {'timeperiod': periods_to_test,\n",
    "                 },\n",
    "       # how many output arrays it returns and their output range, if any\n",
    "       'outputs' : [{'range': None, \n",
    "                     'type': 'osc',\n",
    "                     'lag': 0,\n",
    "                     'abs': 0,\n",
    "                     'scale': 1,\n",
    "                     }], \n",
    "      }\n",
    "\n",
    "regall_single('LINEARREG_SLOPE', d, (d_open, d_high, d_low, d_close))"
   ]
  },
  {
   "cell_type": "code",
   "execution_count": 57,
   "metadata": {
    "code_folding": [
     0
    ],
    "pycharm": {
     "is_executing": false,
     "name": "#%%\n"
    }
   },
   "outputs": [],
   "source": [
    "d = { 'maker' : ta.STDDEV,  # function to make the arrays\n",
    "       'args' : (d_open,), # arguments for the function\n",
    "       'kwargs' : {'timeperiod': 7}, # parameters with defaults\n",
    "       # parameter space for exploration\n",
    "       'space' : {'timeperiod': periods_to_test,\n",
    "                 },\n",
    "       # how many output arrays it returns and their output range, if any\n",
    "       'outputs' : [{'range': None, \n",
    "                     'type': 'osc',\n",
    "                     'lag': 0,\n",
    "                     'abs': 0,\n",
    "                     'scale': 1,\n",
    "                     }], \n",
    "      }\n",
    "\n",
    "regall_single('STDDEV', d, (d_open, d_high, d_low, d_close))"
   ]
  },
  {
   "cell_type": "code",
   "execution_count": 58,
   "metadata": {
    "code_folding": [
     0
    ],
    "pycharm": {
     "is_executing": false,
     "name": "#%%\n"
    }
   },
   "outputs": [],
   "source": [
    "d = { 'maker' : ta.VAR,  # function to make the arrays\n",
    "       'args' : (d_open,), # arguments for the function\n",
    "       'kwargs' : {'timeperiod': 7}, # parameters with defaults\n",
    "       # parameter space for exploration\n",
    "       'space' : {'timeperiod': periods_to_test,\n",
    "                 },\n",
    "       # how many output arrays it returns and their output range, if any\n",
    "       'outputs' : [{'range': None, \n",
    "                     'type': 'osc',\n",
    "                     'lag': 0,\n",
    "                     'abs': 0,\n",
    "                     'scale': 1,\n",
    "                     }], \n",
    "      }\n",
    "\n",
    "regall_single('VAR', d, (d_open, d_high, d_low, d_close))"
   ]
  },
  {
   "cell_type": "code",
   "execution_count": 59,
   "metadata": {
    "code_folding": [
     0
    ],
    "pycharm": {
     "is_executing": false,
     "name": "#%%\n"
    }
   },
   "outputs": [],
   "source": [
    "d = { 'maker' : ta.MAX,  # function to make the arrays\n",
    "       'args' : (d_open,), # arguments for the function\n",
    "       'kwargs' : {'timeperiod': 7}, # parameters with defaults\n",
    "       # parameter space for exploration\n",
    "       'space' : {'timeperiod': periods_to_test,\n",
    "                 },\n",
    "       # how many output arrays it returns and their output range, if any\n",
    "       'outputs' : [{'range': None, \n",
    "                     'type': 'price',\n",
    "                     'lag': 1,\n",
    "                     'abs': 0,\n",
    "                     'scale': 1,\n",
    "                     }], \n",
    "      }\n",
    "\n",
    "regall_single('MAX', d, (d_open, d_high, d_low, d_close))"
   ]
  },
  {
   "cell_type": "code",
   "execution_count": 60,
   "metadata": {
    "code_folding": [
     0
    ],
    "pycharm": {
     "is_executing": false,
     "name": "#%%\n"
    }
   },
   "outputs": [],
   "source": [
    "d = { 'maker' : ta.MIN,  # function to make the arrays\n",
    "       'args' : (d_open,), # arguments for the function\n",
    "       'kwargs' : {'timeperiod': 7}, # parameters with defaults\n",
    "       # parameter space for exploration\n",
    "       'space' : {'timeperiod': periods_to_test,\n",
    "                 },\n",
    "       # how many output arrays it returns and their output range, if any\n",
    "       'outputs' : [{'range': None, \n",
    "                     'type': 'price',\n",
    "                     'lag': 1,\n",
    "                     'abs': 0,\n",
    "                     'scale': 1,\n",
    "                     }], \n",
    "      }\n",
    "\n",
    "regall_single('MIN', d, (d_open, d_high, d_low, d_close))"
   ]
  },
  {
   "cell_type": "code",
   "execution_count": 61,
   "metadata": {
    "code_folding": [
     0
    ],
    "pycharm": {
     "is_executing": false,
     "name": "#%%\n"
    }
   },
   "outputs": [],
   "source": [
    "# TradeSys signals"
   ]
  },
  {
   "cell_type": "code",
   "execution_count": 62,
   "metadata": {
    "code_folding": [
     0,
     4
    ],
    "pycharm": {
     "is_executing": false,
     "name": "#%%\n"
    }
   },
   "outputs": [],
   "source": [
    "s = \"\"\"((Price('high') - Price('close')) /\n",
    "          (Price('high') - Price('low') + F(0.000000001)) * F(100.0))\n",
    "        \"\"\"\n",
    "\n",
    "register['intrabar_percent'] = { 'maker' : signal_maker,  # function to make the arrays \n",
    "       'args' : (s,), # arguments for the function\n",
    "       'kwargs' : {}, # parameters with defaults\n",
    "       # parameter space for exploration\n",
    "       'space' : {},\n",
    "       # how many output arrays it returns and their output range, if any\n",
    "       'outputs' : [{'range': None, \n",
    "                     'type': 'osc',\n",
    "                     'lag': 0,\n",
    "                     'abs': 0,\n",
    "                     'scale': 1,\n",
    "                     },\n",
    "                   ], \n",
    "       }"
   ]
  },
  {
   "cell_type": "code",
   "execution_count": 63,
   "metadata": {
    "code_folding": [
     0,
     4
    ],
    "pycharm": {
     "is_executing": false,
     "name": "#%%\n"
    }
   },
   "outputs": [],
   "source": [
    "s = \"\"\" (PRICE('high') - PRICE('low')) / IFTHENELSE( ABS(PRICE('open') - (PRICE('close'))) != F(0.0),\n",
    "        ABS(PRICE('open') - (PRICE('close'))),\n",
    "        F(1.0) ) \"\"\"\n",
    "\n",
    "register['some_percent'] = { 'maker' : signal_maker,  # function to make the arrays \n",
    "       'args' : (s,), # arguments for the function\n",
    "       'kwargs' : {}, # parameters with defaults\n",
    "       # parameter space for exploration\n",
    "       'space' : {},\n",
    "       # how many output arrays it returns and their output range, if any\n",
    "       'outputs' : [{'range': None, \n",
    "                     'type': 'osc',\n",
    "                     'lag': 0,\n",
    "                     'abs': 0,\n",
    "                     'scale': 1,\n",
    "                     },\n",
    "                   ], \n",
    "       }"
   ]
  },
  {
   "cell_type": "code",
   "execution_count": 64,
   "metadata": {
    "code_folding": [
     0,
     10
    ],
    "pycharm": {
     "is_executing": false,
     "name": "#%%\n"
    }
   },
   "outputs": [],
   "source": [
    "s = \"\"\"(\n",
    "\n",
    "        ((PRICE('close', bars_back=1) > PRICE('open', bars_back=1)) and (PRICE('close') < PRICE('open')))\n",
    "\n",
    "        or\n",
    "\n",
    "        ((PRICE('close', bars_back=1) < PRICE('open', bars_back=1)) and (PRICE('close') > PRICE('open')))\n",
    "\n",
    "        )\"\"\"\n",
    "\n",
    "register['prev_opposite_bar'] = { 'maker' : signal_maker,  # function to make the arrays \n",
    "       'args' : (s,), # arguments for the function\n",
    "       'kwargs' : {}, # parameters with defaults\n",
    "       # parameter space for exploration\n",
    "       'space' : {},\n",
    "       # how many output arrays it returns and their output range, if any\n",
    "       'outputs' : [{'range': None, \n",
    "                     'type': 'osc',\n",
    "                     'lag': 0,\n",
    "                     'abs': 0,\n",
    "                     'scale': 1,\n",
    "                     },\n",
    "                   ], \n",
    "       }"
   ]
  },
  {
   "cell_type": "code",
   "execution_count": 65,
   "metadata": {
    "code_folding": [
     0,
     10
    ],
    "pycharm": {
     "is_executing": false,
     "name": "#%%\n"
    }
   },
   "outputs": [],
   "source": [
    "s = \"\"\"(\n",
    "\n",
    "        ((PRICE('close', bars_back=1) > PRICE('open', bars_back=1)) and (PRICE('close') > PRICE('open')))\n",
    "\n",
    "        or\n",
    "\n",
    "        ((PRICE('close', bars_back=1) < PRICE('open', bars_back=1)) and (PRICE('close') < PRICE('open')))\n",
    "\n",
    "        )\"\"\"\n",
    "\n",
    "register['prev_same_bar'] = { 'maker' : signal_maker,  # function to make the arrays \n",
    "       'args' : (s,), # arguments for the function\n",
    "       'kwargs' : {}, # parameters with defaults\n",
    "       # parameter space for exploration\n",
    "       'space' : {},\n",
    "       # how many output arrays it returns and their output range, if any\n",
    "       'outputs' : [{'range': None, \n",
    "                     'type': 'osc',\n",
    "                     'lag': 0,\n",
    "                     'abs': 0,\n",
    "                     'scale': 1,\n",
    "                     },\n",
    "                   ], \n",
    "       }"
   ]
  },
  {
   "cell_type": "code",
   "execution_count": 66,
   "metadata": {
    "code_folding": [
     0,
     6
    ],
    "pycharm": {
     "is_executing": false,
     "name": "#%%\n"
    }
   },
   "outputs": [],
   "source": [
    "s = \"\"\"(((PRICE('close', data={0}) -\n",
    "                       VALUE_AT_TIME(PRICE('open', data={0}), ['open_time',09:31],\n",
    "                       days_ago=['days_ago', 0], reset_overnight=true)) /\n",
    "                       VALUE_AT_TIME(PRICE('open', data={0}), ['open_time',09:31],\n",
    "                       days_ago=['days_ago', 0], reset_overnight=true))*F(100.0))\"\"\".format(0)\n",
    "\n",
    "register['pmove'] = { 'maker' : signal_maker,  # function to make the arrays \n",
    "       'args' : (s,), # arguments for the function\n",
    "       'kwargs' : {}, # parameters with defaults\n",
    "       # parameter space for exploration\n",
    "       'space' : {},\n",
    "       # how many output arrays it returns and their output range, if any\n",
    "       'outputs' : [{'range': None, \n",
    "                     'type': 'osc',\n",
    "                     'lag': 0,\n",
    "                     'abs': 0,\n",
    "                     'scale': 1,\n",
    "                     },\n",
    "                   ], \n",
    "       }"
   ]
  },
  {
   "cell_type": "code",
   "execution_count": 67,
   "metadata": {
    "code_folding": [
     0,
     6
    ],
    "pycharm": {
     "is_executing": false,
     "name": "#%%\n"
    }
   },
   "outputs": [],
   "source": [
    "s = \"\"\"(((PRICE('close', data={0}) -\n",
    "                       VALUE_AT_TIME(PRICE('open', data={0}), ['open_time',04:00],\n",
    "                       days_ago=['days_ago', 0], reset_overnight=true)) /\n",
    "                       VALUE_AT_TIME(PRICE('open', data={0}), ['open_time',04:00],\n",
    "                       days_ago=['days_ago', 0], reset_overnight=true))*F(100.0))\"\"\".format(0)\n",
    "\n",
    "register['pmove2'] = { 'maker' : signal_maker,  # function to make the arrays \n",
    "       'args' : (s,), # arguments for the function\n",
    "       'kwargs' : {}, # parameters with defaults\n",
    "       # parameter space for exploration\n",
    "       'space' : {},\n",
    "       # how many output arrays it returns and their output range, if any\n",
    "       'outputs' : [{'range': None, \n",
    "                     'type': 'osc',\n",
    "                     'lag': 0,\n",
    "                     'abs': 0,\n",
    "                     'scale': 1,\n",
    "                     },\n",
    "                   ], \n",
    "       }"
   ]
  },
  {
   "cell_type": "code",
   "execution_count": 68,
   "metadata": {
    "code_folding": [
     2,
     8
    ],
    "pycharm": {
     "is_executing": false,
     "name": "#%%\n"
    }
   },
   "outputs": [],
   "source": [
    "s = \"TIMES_IN_ROW(PRICE('open') < PRICE('close'))\"\n",
    "\n",
    "register['up_bars_in_row'] = { 'maker' : signal_maker,  # function to make the arrays \n",
    "       'args' : (s,), # arguments for the function\n",
    "       'kwargs' : {}, # parameters with defaults\n",
    "       # parameter space for exploration\n",
    "       'space' : {},\n",
    "       # how many output arrays it returns and their output range, if any\n",
    "       'outputs' : [{'range': None, \n",
    "                     'type': 'osc',\n",
    "                     'lag': 0,\n",
    "                     'abs': 0,\n",
    "                     'scale': 1,\n",
    "                     },\n",
    "                   ], \n",
    "       }"
   ]
  },
  {
   "cell_type": "code",
   "execution_count": 69,
   "metadata": {
    "code_folding": [
     2
    ],
    "pycharm": {
     "is_executing": false,
     "name": "#%%\n"
    }
   },
   "outputs": [],
   "source": [
    "s = \"TIMES_IN_ROW(PRICE('open') > PRICE('close'))\"\n",
    "\n",
    "register['down_bars_in_row'] = { 'maker' : signal_maker,  # function to make the arrays \n",
    "       'args' : (s,), # arguments for the function\n",
    "       'kwargs' : {}, # parameters with defaults\n",
    "       # parameter space for exploration\n",
    "       'space' : {},\n",
    "       # how many output arrays it returns and their output range, if any\n",
    "       'outputs' : [{'range': None, \n",
    "                     'type': 'osc',\n",
    "                     'lag': 0,\n",
    "                     'abs': 0,\n",
    "                     'scale': 1,\n",
    "                     },\n",
    "                   ], \n",
    "       }"
   ]
  },
  {
   "cell_type": "code",
   "execution_count": 70,
   "metadata": {
    "code_folding": [
     1
    ],
    "pycharm": {
     "is_executing": false,
     "name": "#%%\n"
    }
   },
   "outputs": [],
   "source": [
    "# some denoised data\n",
    "d = { 'maker' : denoised,  # function to make the arrays \n",
    "       'args' : (d_close,), # arguments for the function\n",
    "       'kwargs' : {'wlen' : 128,\n",
    "                   'st' : 0.8, \n",
    "                   'pd' : 0.8}, # parameters with defaults\n",
    "       # parameter space for exploration\n",
    "       'space' : {'wlen' : [32, 64, 128, 256],\n",
    "                  'st' : [0.5, 0.8, 1.2],\n",
    "                  'pd' : [0.5, 0.8, 1.0],\n",
    "                 },\n",
    "       # how many output arrays it returns and their output range, if any\n",
    "       'outputs' : [{'range': None, \n",
    "                     'type': 'osc',\n",
    "                     'lag': 0,\n",
    "                     'abs': 0,\n",
    "                     'scale': 1,\n",
    "                     },\n",
    "                   ], \n",
    "       }\n",
    "\n",
    "regall_single('raw_denoised', d, (d_open, d_high, d_low, d_close))"
   ]
  },
  {
   "cell_type": "code",
   "execution_count": null,
   "metadata": {},
   "outputs": [],
   "source": []
  },
  {
   "cell_type": "code",
   "execution_count": null,
   "metadata": {},
   "outputs": [],
   "source": []
  },
  {
   "cell_type": "code",
   "execution_count": null,
   "metadata": {},
   "outputs": [],
   "source": []
  },
  {
   "cell_type": "code",
   "execution_count": null,
   "metadata": {
    "pycharm": {
     "is_executing": false,
     "name": "#%%\n"
    }
   },
   "outputs": [],
   "source": []
  },
  {
   "cell_type": "code",
   "execution_count": 71,
   "metadata": {
    "code_folding": [
     5
    ],
    "pycharm": {
     "is_executing": false,
     "name": "#%%\n"
    }
   },
   "outputs": [
    {
     "data": {
      "application/vnd.jupyter.widget-view+json": {
       "model_id": "4313ab1ebc534e06afd2595d64aafc92",
       "version_major": 2,
       "version_minor": 0
      },
      "text/plain": [
       "HBox(children=(IntProgress(value=0, max=152), HTML(value='')))"
      ]
     },
     "metadata": {},
     "output_type": "display_data"
    },
    {
     "name": "stdout",
     "output_type": "stream",
     "text": [
      "[-44.571457 -43.400326 -43.148872 -43.311638 -43.12988  -43.261253\n",
      " -43.527557 -43.38136  -43.314075 -43.31104  -43.149727 -43.37256\n",
      " -43.31867  -43.098522 -43.22916  -43.29213  -44.18127 ] -98.40763\n",
      "[-41.16341  -40.37345  -40.34564  -40.23014  -40.345196 -40.320034\n",
      " -40.804066 -40.234802 -40.09162  -40.584206 -40.38004  -40.10849\n",
      " -40.381496 -39.888355 -40.352867 -40.099907 -39.93052  -40.113213\n",
      " -40.134216 -40.443363 -40.427456 -40.4723   -40.812855 -40.62317\n",
      " -40.47097  -40.736805 -40.95333  -41.14819  -40.989166 -40.4812\n",
      " -40.169785 -40.11383  -41.288708] -98.02967\n",
      "[-38.104332 -36.936253 -37.384632 -37.047024 -37.075367 -37.28129\n",
      " -37.158466 -37.360527 -36.646553 -37.706173 -37.93402  -37.707497\n",
      " -37.65835  -37.8525   -37.70373  -37.98075  -37.775784 -37.981495\n",
      " -37.84817  -37.25334  -36.56648  -36.95833  -37.825245 -37.790913\n",
      " -37.187607 -36.75347  -37.664474 -38.02156  -37.028114 -36.786648\n",
      " -37.219578 -37.443283 -37.37056  -37.654587 -37.3085   -37.286423\n",
      " -37.062424 -37.37463  -37.636734 -37.693665 -37.736954 -37.764435\n",
      " -37.389816 -36.93857  -37.43995  -38.016518 -37.49034  -37.525597\n",
      " -37.78324  -37.74274  -37.689007 -37.035038 -36.81393  -36.96579\n",
      " -37.47018  -37.65834  -37.72426  -37.32907  -36.848675 -36.71879\n",
      " -36.93389  -37.0561   -37.25869  -38.54572  -39.983253] -97.77461\n",
      "[-36.692764 -35.26545  -34.539364 -33.887028 -33.85827  -34.389797\n",
      " -34.50352  -34.46735  -34.113388 -34.31773  -34.539135 -33.92607\n",
      " -34.299416 -33.783344 -34.44067  -35.236763 -34.33029  -34.834015\n",
      " -34.53472  -34.61453  -34.64898  -33.93739  -34.30404  -34.400223\n",
      " -33.853954 -34.646004 -34.551277 -34.206024 -34.355556 -33.98635\n",
      " -34.023853 -33.751385 -33.78876  -34.66474  -34.810387 -34.268894\n",
      " -34.00669  -34.19264  -33.95763  -34.38577  -35.0984   -34.167088\n",
      " -34.46705  -34.23237  -34.746387 -35.05982  -34.272068 -33.862015\n",
      " -33.254555 -33.863724 -34.35427  -34.731712 -34.182724 -33.069378\n",
      " -33.298347 -33.528725 -34.48378  -33.82176  -33.93571  -34.352898\n",
      " -34.16014  -33.80714  -34.27959  -34.418312 -34.409206 -34.13069\n",
      " -34.837273 -34.77453  -34.635857 -34.43147  -34.46695  -34.501534\n",
      " -34.335632 -34.89203  -34.99029  -34.26662  -34.208073 -33.89677\n",
      " -34.267803 -34.648186 -34.9673   -33.724754 -33.164154 -33.605083\n",
      " -34.114124 -34.936676 -34.49384  -34.519714 -34.395008 -34.691307\n",
      " -35.180294 -35.382214 -35.27716  -35.628746 -34.60593  -33.76464\n",
      " -34.276047 -34.348633 -33.72752  -34.074287 -34.207176 -34.525204\n",
      " -34.711857 -34.475075 -34.670547 -35.44873  -34.760975 -34.353546\n",
      " -34.425068 -34.48439  -34.97873  -34.77903  -34.659462 -33.874218\n",
      " -34.447918 -34.59109  -33.703472 -33.397526 -33.418854 -33.80409\n",
      " -33.829384 -33.590405 -34.031204 -34.25118  -34.265854 -33.78398\n",
      " -34.425533 -33.896717 -34.741817] -97.57155\n",
      "[-41.395752 -41.647682 -41.665016 -41.713955 -41.65873  -41.75598\n",
      " -41.611916 -41.672153 -41.84256  -41.776524 -41.785275 -41.495266\n",
      " -41.64237  -41.720497 -41.69909  -41.537785 -41.212536] -98.40763\n",
      "[-38.65411  -38.679775 -38.40186  -38.522984 -38.792923 -38.643517\n",
      " -38.616386 -38.50215  -38.522278 -38.907185 -38.93184  -38.838547\n",
      " -38.818424 -38.996502 -38.404827 -38.198742 -38.497543 -38.85339\n",
      " -38.580532 -38.78763  -38.95649  -38.615158 -38.870102 -38.89729\n",
      " -38.80402  -38.741714 -38.42019  -38.427013 -38.3693   -38.51074\n",
      " -39.05334  -39.09176  -38.59046 ] -98.02967\n",
      "[-34.183067 -34.972836 -35.134434 -35.83409  -36.369633 -36.178524\n",
      " -36.25367  -36.441444 -35.938145 -35.477695 -35.58774  -35.603756\n",
      " -35.503098 -35.90534  -35.36637  -35.52807  -36.037487 -35.564262\n",
      " -35.71923  -35.725334 -36.19918  -35.67559  -35.096672 -35.268166\n",
      " -35.518105 -35.65079  -36.147934 -36.21386  -35.811607 -35.82847\n",
      " -35.236553 -35.739014 -35.987053 -35.41097  -35.422073 -35.14595\n",
      " -35.202908 -35.669502 -35.962345 -35.843136 -35.905434 -35.806637\n",
      " -35.66423  -35.354836 -35.90103  -35.618805 -34.965515 -35.24175\n",
      " -35.121117 -35.445015 -35.00104  -35.816048 -35.883125 -36.02255\n",
      " -36.14068  -35.97352  -36.019947 -36.17089  -36.330883 -36.199703\n",
      " -35.725517 -35.462902 -35.11361  -35.481873 -35.43631 ] -97.77461\n",
      "[-30.70044  -31.534698 -32.664974 -33.00102  -32.67065  -32.903233\n",
      " -32.847626 -33.07759  -32.67843  -32.289993 -32.7059   -32.019337\n",
      " -32.53569  -33.41536  -33.50605  -32.69509  -32.85073  -33.377953\n",
      " -32.85786  -32.329205 -32.458485 -32.382065 -32.893326 -33.292572\n",
      " -32.3714   -33.192722 -32.551136 -31.977415 -32.295425 -32.794384\n",
      " -32.818558 -31.800081 -31.483511 -31.962093 -32.380127 -33.09227\n",
      " -34.223686 -33.34612  -32.10906  -32.149113 -32.804108 -32.6895\n",
      " -32.08647  -32.770515 -33.199093 -32.45945  -33.036793 -32.975822\n",
      " -32.545662 -31.755653 -32.556164 -33.067123 -33.2765   -33.090034\n",
      " -32.569885 -32.410904 -32.46341  -32.529312 -31.96663  -31.84587\n",
      " -32.270542 -32.35865  -32.505436 -31.999256 -31.614363 -32.11352\n",
      " -32.734325 -31.77501  -32.508926 -32.741215 -32.31618  -33.12433\n",
      " -32.846195 -32.779488 -32.62446  -33.76129  -33.893875 -32.65496\n",
      " -32.203712 -32.75691  -33.447956 -33.798946 -33.334312 -33.346764\n",
      " -32.931313 -32.47322  -32.621147 -33.039448 -32.70032  -32.76807\n",
      " -32.60901  -32.285934 -31.67749  -32.76552  -32.396824 -32.954586\n",
      " -33.81552  -32.863823 -32.110226 -32.519085 -33.6319   -33.69506\n",
      " -32.918    -32.47803  -32.2042   -31.85083  -32.05988  -33.23313\n",
      " -33.218372 -32.282852 -32.36757  -32.664383 -33.12628  -32.513527\n",
      " -32.939594 -33.875645 -33.688114 -32.579338 -32.6686   -32.52728\n",
      " -32.817924 -32.873085 -32.051483 -32.346634 -32.53773  -32.04981\n",
      " -31.621819 -32.938663 -32.50529 ] -97.57155\n",
      "[-37.794838 -39.723576 -39.36531  -39.25223  -39.246716 -39.52836\n",
      " -39.438698 -39.106777 -39.06117  -39.26132  -39.46971  -39.695866\n",
      " -39.702324 -39.351006 -39.54656  -39.524845 -37.50457 ] -98.40763\n",
      "[-34.748848 -36.570953 -36.459553 -36.42674  -36.308365 -36.4646\n",
      " -36.269703 -36.370945 -36.598537 -36.409847 -36.22608  -35.972286\n",
      " -36.523594 -36.74923  -36.48758  -36.638676 -36.45143  -36.320713\n",
      " -36.624752 -36.348034 -36.166542 -36.19272  -36.45429  -36.642048\n",
      " -36.5345   -36.573048 -36.537235 -35.832603 -35.99637  -36.560333\n",
      " -36.556793 -36.747128 -34.69906 ] -98.02967\n",
      "[-31.455149 -32.942253 -32.84328  -33.34926  -33.643482 -33.755215\n",
      " -33.92806  -33.708103 -33.71676  -33.806587 -33.908623 -33.580864\n",
      " -34.02615  -33.733856 -33.853916 -32.75001  -33.141304 -32.883427\n",
      " -32.770634 -33.535362 -33.69706  -33.438057 -33.749252 -34.24435\n",
      " -33.842487 -33.605747 -33.556705 -33.470863 -33.80651  -33.151443\n",
      " -33.089138 -33.367256 -33.883575 -33.69853  -32.892937 -33.886826\n",
      " -33.56519  -33.563797 -34.257103 -34.651867 -33.979843 -33.805588\n",
      " -33.33674  -33.298756 -33.15208  -33.309494 -33.201965 -33.05415\n",
      " -33.183533 -33.06901  -33.3552   -33.251335 -34.251385 -34.670383\n",
      " -33.885303 -33.25449  -33.060596 -33.587494 -33.280327 -32.92027\n",
      " -33.39213  -32.85614  -33.015114 -33.219387 -32.070503] -97.77461\n",
      "[-27.80447  -29.991646 -30.789684 -31.58204  -31.35753  -30.450375\n",
      " -30.323938 -30.169369 -29.525017 -30.586946 -30.571522 -29.785612\n",
      " -30.460344 -30.68441  -31.246923 -31.658161 -30.455252 -30.604197\n",
      " -30.591305 -30.48885  -30.295536 -30.53377  -31.264774 -30.70425\n",
      " -30.465908 -30.814724 -31.287718 -31.01825  -30.46387  -30.723341\n",
      " -30.808409 -30.352749 -30.442707 -30.34936  -30.384134 -30.094124\n",
      " -30.221329 -30.530321 -30.33432  -30.06818  -30.582033 -30.846918\n",
      " -30.344315 -29.523523 -29.594017 -30.394222 -30.272762 -30.642786\n",
      " -30.729889 -30.477345 -30.25967  -30.221546 -30.641556 -31.39567\n",
      " -30.388939 -30.037914 -30.005215 -30.688164 -30.992277 -31.650461\n",
      " -30.625992 -30.006317 -30.17214  -30.503574 -30.918016 -30.320745\n",
      " -29.831287 -31.185953 -30.557156 -30.906534 -30.443676 -29.740934\n",
      " -29.945911 -29.995285 -29.920864 -29.588652 -30.429882 -31.099527\n",
      " -30.492416 -30.963999 -31.029587 -29.375103 -29.860302 -30.264969\n",
      " -29.761103 -30.148642 -30.199049 -31.044903 -29.845562 -29.864326\n",
      " -30.645348 -30.254232 -30.619013 -31.375006 -30.823471 -30.832932\n",
      " -30.297663 -30.207588 -30.91505  -30.370108 -29.63712  -29.928265\n",
      " -30.049929 -29.977337 -30.165401 -30.228786 -30.09105  -29.952785\n",
      " -30.6038   -30.297255 -30.73755  -30.639116 -30.219315 -30.950096\n",
      " -29.762297 -30.852968 -30.595598 -30.647903 -30.96302  -30.471884\n",
      " -30.894413 -30.609728 -30.104399 -30.394886 -30.159054 -30.146074\n",
      " -30.772865 -30.555632 -29.009333] -97.57155\n"
     ]
    },
    {
     "name": "stdout",
     "output_type": "stream",
     "text": [
      "[-44.218166 -43.32008  -43.475574 -43.41997  -43.234066 -43.40287\n",
      " -43.42576  -43.583504 -43.514496 -43.418236 -43.379093 -43.876774\n",
      " -43.76945  -43.38813  -43.17444  -43.239758 -44.26617 ] -98.40763\n",
      "[-41.434574 -40.226665 -40.272636 -40.31825  -40.32505  -40.640007\n",
      " -40.562813 -40.70745  -40.406467 -40.279175 -40.701958 -40.667694\n",
      " -40.53066  -40.210316 -40.298737 -40.214466 -40.49867  -40.418835\n",
      " -40.591595 -40.705643 -40.725796 -40.545834 -40.345898 -40.77832\n",
      " -40.334946 -39.979443 -40.19179  -40.12184  -40.250473 -39.92023\n",
      " -39.758194 -39.737713 -40.62496 ] -98.02967\n",
      "[-37.583733 -36.93098  -37.28625  -37.46709  -37.772312 -37.692425\n",
      " -37.914227 -37.9117   -37.65211  -37.4957   -37.76399  -37.077007\n",
      " -37.256325 -37.752777 -37.869446 -37.609997 -37.46765  -37.519676\n",
      " -37.672867 -37.67057  -37.42116  -37.042866 -37.653564 -37.985676\n",
      " -37.36914  -37.203876 -37.1019   -37.039642 -37.270943 -37.548115\n",
      " -37.844917 -37.609447 -38.185486 -38.392166 -37.747692 -37.284782\n",
      " -36.89724  -36.925236 -37.789375 -37.97036  -37.459316 -37.839108\n",
      " -37.825985 -38.056786 -37.996468 -37.672974 -37.357395 -37.00274\n",
      " -36.78865  -37.159332 -36.903862 -36.945038 -37.263786 -36.75506\n",
      " -36.781765 -36.972023 -36.984966 -37.68994  -37.339146 -37.063713\n",
      " -37.628925 -38.131336 -37.404076 -37.633575 -38.877136] -97.77461\n",
      "[-34.256187 -34.50702  -34.47686  -34.33267  -34.82262  -34.400368\n",
      " -34.95037  -34.634647 -33.790955 -34.79046  -34.88187  -34.371613\n",
      " -34.28441  -34.36882  -33.803127 -34.07316  -34.09719  -34.07078\n",
      " -34.529575 -34.222107 -34.231136 -34.043575 -34.456715 -33.73606\n",
      " -33.582268 -34.023087 -34.3328   -34.00868  -34.229008 -35.214153\n",
      " -34.95954  -34.407604 -33.78321  -34.27095  -34.22679  -34.652306\n",
      " -34.50382  -33.895596 -34.609623 -35.175682 -34.756298 -34.350132\n",
      " -34.170082 -34.310337 -34.87089  -34.51563  -34.378918 -35.17882\n",
      " -35.44613  -34.73142  -34.846626 -33.958267 -33.932007 -33.802803\n",
      " -34.648087 -35.6139   -35.285137 -34.131298 -34.32863  -34.729748\n",
      " -34.84786  -34.899944 -34.8227   -34.69863  -33.924404 -33.98262\n",
      " -34.58272  -34.344585 -34.717995 -34.340084 -34.741714 -34.26774\n",
      " -34.37325  -34.162956 -33.634514 -34.257915 -34.209885 -34.784855\n",
      " -34.33445  -34.706406 -34.645428 -34.737194 -35.172203 -34.85994\n",
      " -34.78205  -35.008236 -35.52625  -34.93845  -34.600914 -33.88505\n",
      " -34.48269  -35.057297 -33.815666 -33.52894  -33.74766  -34.85169\n",
      " -34.610493 -34.29533  -34.37014  -34.05414  -34.973804 -34.524544\n",
      " -34.0302   -34.4461   -34.353344 -34.652096 -34.672493 -34.6708\n",
      " -34.074303 -33.62923  -33.857525 -34.561928 -34.08452  -33.85062\n",
      " -33.969185 -34.579807 -34.74482  -34.41972  -33.778603 -33.797676\n",
      " -33.66569  -34.064236 -34.610477 -34.234608 -33.832886 -32.948975\n",
      " -33.42055  -33.51216  -35.30746 ] -97.57155\n",
      "[-41.36833  -41.652122 -41.74417  -41.705135 -41.406796 -41.43781\n",
      " -41.485336 -41.59058  -41.868378 -41.81063  -41.962154 -41.787907\n",
      " -41.580467 -41.75379  -41.954628 -41.80582  -41.538788] -98.40763\n",
      "[-38.77619  -38.967255 -38.78896  -38.47616  -38.74862  -38.56366\n",
      " -38.82769  -38.82681  -38.992397 -38.85239  -38.422684 -38.344456\n",
      " -38.181442 -38.194016 -38.838703 -39.08977  -38.858322 -38.9698\n",
      " -38.984238 -39.014576 -38.977207 -38.89231  -38.315823 -38.639286\n",
      " -38.91012  -38.77347  -38.680183 -38.344273 -38.497005 -38.856884\n",
      " -38.89193  -39.1214   -38.816753] -98.02967\n",
      "[-36.22091  -35.80736  -35.59595  -36.088886 -35.64698  -35.98346\n",
      " -36.07824  -35.235832 -35.119972 -35.55795  -35.7106   -35.681366\n",
      " -35.539474 -35.01027  -35.968426 -35.673714 -35.74999  -35.98457\n",
      " -35.710426 -35.80324  -35.233505 -35.39089  -36.144333 -35.840816\n",
      " -35.582302 -35.645332 -35.957233 -35.078907 -35.05779  -36.11236\n",
      " -35.9656   -34.98161  -35.6639   -35.89799  -35.44558  -35.414047\n",
      " -35.644764 -35.41031  -35.771523 -35.75972  -35.428387 -35.199894\n",
      " -35.347233 -35.186417 -35.200733 -35.711685 -35.757565 -35.675957\n",
      " -35.648563 -35.91495  -36.124626 -35.966896 -35.693565 -35.354866\n",
      " -35.269493 -35.865334 -35.790497 -35.69278  -35.885765 -35.67353\n",
      " -34.772896 -35.16921  -35.727512 -35.640865 -35.571877] -97.77461\n",
      "[-32.417892 -32.254887 -31.960262 -32.584538 -32.738293 -33.0773\n",
      " -32.91336  -32.721497 -32.324913 -31.56952  -31.561127 -31.285496\n",
      " -31.747473 -32.319878 -32.545506 -33.03873  -33.484413 -33.718082\n",
      " -33.30165  -33.055325 -32.76319  -32.638447 -32.68754  -33.304962\n",
      " -32.987953 -32.525597 -32.09452  -31.889086 -32.065628 -32.513107\n",
      " -32.557945 -32.8054   -32.16188  -32.63324  -32.716354 -32.57563\n",
      " -33.779682 -33.69375  -33.527233 -33.029182 -32.378925 -32.911392\n",
      " -32.765846 -31.961124 -32.52306  -32.768295 -32.60086  -32.780983\n",
      " -33.070747 -33.16576  -32.866123 -32.973022 -33.531857 -33.02658\n",
      " -32.672333 -33.12977  -33.1249   -32.527836 -33.050694 -32.815575\n",
      " -32.58379  -32.60517  -32.047733 -33.16468  -33.05489  -32.84408\n",
      " -32.866074 -31.991331 -32.547707 -32.790836 -33.05844  -33.557137\n",
      " -33.9329   -33.31348  -32.21583  -32.870148 -33.65965  -32.796227\n",
      " -31.858412 -32.263535 -32.86003  -33.089134 -33.003365 -32.566788\n",
      " -32.79055  -33.020397 -32.416252 -32.00414  -31.701405 -31.86961\n",
      " -32.42031  -32.698364 -32.823395 -33.09201  -32.497425 -32.75499\n",
      " -32.978043 -32.865337 -32.597023 -32.588463 -32.74244  -32.85784\n",
      " -33.09859  -33.48068  -32.82342  -32.72659  -33.310936 -32.554115\n",
      " -31.896324 -33.28224  -32.75001  -32.473347 -33.207424 -32.69712\n",
      " -32.17904  -32.287888 -32.867306 -32.244934 -32.425186 -33.09148\n",
      " -32.867985 -32.666397 -33.11221  -32.068413 -31.205223 -32.773453\n",
      " -32.952442 -33.09751  -32.292866] -97.57155\n",
      "[-36.759995 -39.1031   -39.331917 -39.406925 -39.071796 -39.178555\n",
      " -39.4408   -39.645855 -39.617607 -39.53505  -39.649876 -39.519547\n",
      " -39.2306   -39.26202  -39.11438  -39.720863 -37.78051 ] -98.40763\n",
      "[-35.035202 -36.088226 -36.17483  -36.66927  -36.600845 -36.28621\n",
      " -36.18518  -36.285614 -36.383667 -36.36283  -36.375626 -36.08136\n",
      " -36.33648  -36.436882 -36.47019  -36.401802 -36.344795 -36.40207\n",
      " -36.57531  -36.441513 -36.848186 -36.569542 -36.26898  -36.488907\n",
      " -36.618332 -36.26238  -36.24804  -36.675823 -36.73242  -36.680183\n",
      " -36.72886  -36.178337 -34.227848] -98.02967\n",
      "[-30.90549  -33.17932  -33.38534  -33.913387 -33.958813 -33.161648\n",
      " -32.84195  -34.16732  -33.873837 -33.77028  -33.57838  -33.358776\n",
      " -32.72212  -32.82529  -33.22246  -33.9868   -34.05197  -33.43287\n",
      " -34.13346  -33.50594  -33.2963   -33.86894  -33.79421  -33.748\n",
      " -33.893753 -33.834854 -34.060974 -34.4025   -33.659576 -33.57087\n",
      " -33.52253  -33.093307 -33.649994 -34.040016 -34.456726 -33.753895\n",
      " -33.500656 -33.40615  -33.526707 -33.65942  -32.875465 -33.448338\n",
      " -33.55598  -33.68834  -33.546295 -33.098198 -33.157063 -33.878742\n",
      " -33.46717  -33.221333 -33.911037 -33.559425 -33.579178 -34.121296\n",
      " -34.11621  -33.506386 -33.19709  -33.23418  -33.79428  -33.96283\n",
      " -34.161057 -33.55742  -33.424343 -33.814285 -32.07113 ] -97.77461\n",
      "[-29.505825 -31.59631  -31.04918  -30.503252 -31.049511 -30.796133\n",
      " -30.096922 -30.015818 -30.759966 -30.489367 -30.247194 -30.10036\n",
      " -29.979265 -30.182932 -30.583935 -30.362118 -30.774843 -31.448772\n",
      " -30.821117 -30.77905  -30.912165 -31.31295  -30.579865 -30.542313\n",
      " -30.870752 -29.55226  -29.224491 -30.897768 -31.023426 -30.873585\n",
      " -30.990461 -30.67068  -30.541107 -30.093822 -30.61115  -30.565382\n",
      " -30.104078 -31.055176 -30.996605 -31.254505 -30.341846 -29.946947\n",
      " -30.87677  -30.477722 -30.32936  -30.729927 -30.538399 -30.237741\n",
      " -30.162819 -30.8348   -30.959154 -30.089745 -30.785456 -30.140863\n",
      " -29.876879 -30.802439 -30.45452  -31.012049 -31.282537 -32.353012\n",
      " -32.35557  -31.9093   -30.132982 -30.713821 -30.975863 -30.686874\n",
      " -30.931921 -30.917088 -31.082062 -30.855972 -30.814747 -31.039156\n",
      " -31.467815 -31.507023 -30.586143 -29.986856 -30.275967 -31.173754\n",
      " -31.365948 -31.222479 -30.5955   -30.524607 -30.7648   -30.33711\n",
      " -30.198614 -30.712421 -31.327824 -31.047184 -30.580803 -30.186575\n",
      " -29.937838 -29.958246 -30.380037 -29.772524 -30.601088 -31.073618\n",
      " -31.180113 -30.326603 -29.960665 -29.892069 -30.787834 -30.84093\n",
      " -30.126879 -29.628683 -30.256552 -30.097435 -30.272905 -30.510246\n",
      " -30.549719 -29.976828 -30.69451  -30.831547 -29.655087 -29.445692\n",
      " -30.28019  -30.65451  -30.14875  -30.383757 -30.503807 -29.79912\n",
      " -29.777119 -30.577269 -30.72834  -30.525473 -30.607779 -30.510244\n",
      " -30.622581 -30.024532 -28.440027] -97.57155\n"
     ]
    },
    {
     "name": "stdout",
     "output_type": "stream",
     "text": [
      "[-44.471867 -43.68203  -43.587612 -43.327057 -43.23509  -43.370533\n",
      " -43.37017  -43.327606 -43.48543  -43.74434  -43.767933 -43.714207\n",
      " -43.34824  -43.08662  -43.257683 -43.506676 -44.349586] -98.40763\n",
      "[-41.602913 -40.461098 -40.024723 -40.28293  -40.616936 -40.394596\n",
      " -40.248177 -40.19017  -40.429955 -40.39986  -40.486458 -40.42906\n",
      " -40.60921  -39.974815 -40.135452 -40.309826 -40.42496  -40.60831\n",
      " -40.54371  -40.36169  -40.093487 -39.89322  -40.036667 -40.659527\n",
      " -40.44847  -40.229225 -40.37935  -40.427322 -40.48397  -40.40494\n",
      " -40.57113  -40.82259  -41.7799  ] -98.02967\n",
      "[-38.491848 -37.71013  -37.56279  -37.55137  -37.342854 -37.135162\n",
      " -37.1019   -37.302986 -37.47773  -37.273132 -37.10911  -37.25092\n",
      " -37.009377 -37.278763 -37.128494 -37.211002 -37.15861  -37.481\n",
      " -37.59253  -37.385635 -37.479797 -37.159607 -37.09651  -38.07873\n",
      " -37.716877 -37.36329  -36.982323 -37.20318  -37.658543 -37.732014\n",
      " -38.047573 -38.243355 -37.66559  -37.837948 -37.53348  -37.349663\n",
      " -37.26176  -37.20651  -37.182713 -36.95718  -36.61573  -37.60919\n",
      " -38.030754 -37.31842  -37.493835 -37.535515 -37.1566   -37.080162\n",
      " -37.065548 -37.604122 -37.451054 -37.13458  -36.946346 -37.34377\n",
      " -37.10371  -36.936527 -37.17396  -37.51525  -37.93594  -37.971676\n",
      " -38.045864 -37.57482  -37.13038  -37.0092   -38.54247 ] -97.77461\n",
      "[-35.471394 -35.056602 -35.34927  -34.783466 -34.58841  -34.798347\n",
      " -35.006824 -34.73349  -34.201965 -33.853855 -34.477413 -34.605637\n",
      " -34.576477 -33.66506  -33.898808 -34.534912 -34.73591  -34.435177\n",
      " -35.05378  -34.959354 -35.520126 -35.69262  -34.211155 -33.356583\n",
      " -34.159924 -34.45879  -34.526054 -34.51529  -34.32942  -34.6388\n",
      " -34.22887  -33.77179  -33.62565  -33.523067 -33.351357 -34.119225\n",
      " -34.677464 -33.865677 -34.869034 -35.249992 -34.666996 -34.856632\n",
      " -34.19641  -33.435524 -33.64563  -33.64336  -33.529316 -34.47437\n",
      " -34.158028 -33.461685 -34.217743 -33.585754 -33.956604 -34.213966\n",
      " -34.08582  -34.35336  -34.551254 -34.678623 -34.418953 -34.505737\n",
      " -34.745884 -34.071007 -33.914738 -33.63086  -33.9619   -34.008938\n",
      " -34.579315 -34.04772  -33.9846   -34.450294 -33.70685  -34.58222\n",
      " -34.21281  -34.499447 -34.44181  -33.818527 -33.631626 -34.097046\n",
      " -35.647484 -35.063873 -34.47706  -34.04532  -34.21304  -34.04331\n",
      " -33.969685 -34.58923  -34.583744 -34.7084   -35.434746 -34.08545\n",
      " -34.086704 -35.108173 -34.269447 -34.106003 -34.742264 -34.54361\n",
      " -34.20973  -33.82345  -34.2204   -35.17185  -34.539326 -34.162975\n",
      " -34.57437  -35.08258  -34.98029  -35.030582 -35.23016  -34.853436\n",
      " -34.319687 -34.877975 -34.112495 -33.852676 -34.154644 -33.816338\n",
      " -33.947823 -35.05342  -33.999603 -34.45374  -34.570343 -34.05797\n",
      " -33.08768  -34.12055  -34.643795 -35.297203 -34.98556  -34.14583\n",
      " -34.203247 -34.250298 -36.38896 ] -97.57155\n",
      "[-41.640766 -41.858032 -41.67073  -41.70756  -41.804726 -41.51854\n",
      " -41.593388 -41.419975 -41.4998   -41.630836 -41.640717 -41.914406\n",
      " -41.7177   -41.779995 -41.681473 -41.60063  -41.43688 ] -98.40763\n",
      "[-38.762875 -38.564915 -38.483788 -38.650837 -38.82142  -38.811012\n",
      " -38.774265 -38.528687 -38.594303 -38.835304 -38.62704  -38.669575\n",
      " -38.51814  -38.384575 -38.43274  -38.403503 -38.305992 -38.366302\n",
      " -38.505157 -38.579784 -38.792854 -38.514797 -38.28907  -38.51326\n",
      " -39.144745 -39.005775 -38.566013 -38.408665 -38.426315 -38.482407\n",
      " -38.715946 -38.548252 -38.1266  ] -98.02967\n",
      "[-36.05492  -36.14207  -35.19816  -35.36959  -35.7614   -35.798653\n",
      " -35.420433 -35.75107  -36.17387  -35.97395  -35.608902 -35.627052\n",
      " -35.84423  -35.97832  -35.724968 -35.228397 -35.394245 -36.298546\n",
      " -36.145893 -35.65129  -35.43396  -36.168472 -35.610554 -35.614677\n",
      " -35.716488 -35.609642 -35.902435 -35.757137 -35.418728 -35.658947\n",
      " -35.504894 -35.607323 -35.79367  -35.579056 -35.909893 -35.810104\n",
      " -35.644398 -35.174118 -35.40911  -35.449615 -35.539627 -35.62355\n",
      " -35.80029  -35.490475 -35.27365  -35.776707 -35.687843 -35.821968\n",
      " -35.942852 -35.81888  -35.39304  -34.978962 -35.27426  -36.21057\n",
      " -36.016186 -35.801495 -36.296947 -35.70912  -35.692368 -35.91706\n",
      " -35.855553 -35.837822 -35.922417 -35.16023  -34.476494] -97.77461\n",
      "[-31.436607 -32.493565 -32.791306 -32.839542 -32.408905 -31.69678\n",
      " -31.812004 -31.90749  -31.845345 -32.216667 -32.69505  -33.229134\n",
      " -33.142868 -32.207493 -32.769337 -33.757668 -33.477432 -32.75033\n",
      " -33.06534  -32.88253  -34.049377 -33.422832 -33.385128 -33.402798\n",
      " -32.722137 -32.353554 -32.0236   -32.44368  -33.28702  -33.353466\n",
      " -32.281387 -32.74618  -32.030224 -32.569008 -32.123676 -31.921484\n",
      " -32.361645 -32.594433 -32.430653 -32.09757  -31.83334  -33.224586\n",
      " -33.31661  -32.905445 -33.132706 -32.91738  -32.558422 -32.437965\n",
      " -33.089615 -33.397316 -32.063713 -32.262527 -32.528225 -32.502575\n",
      " -32.686127 -32.779106 -33.553764 -33.29342  -33.46037  -33.280525\n",
      " -32.820175 -32.76217  -32.88425  -32.708435 -32.979324 -32.466843\n",
      " -32.20049  -32.305527 -32.22892  -32.35302  -31.807617 -32.402576\n",
      " -31.907858 -31.689745 -32.54021  -32.799202 -32.713753 -32.76621\n",
      " -32.969692 -33.219265 -33.233166 -33.15285  -32.688847 -32.963795\n",
      " -33.32689  -32.588356 -33.303596 -32.667126 -32.828808 -32.698822\n",
      " -33.31626  -32.90728  -32.887257 -33.174133 -32.85308  -33.36633\n",
      " -33.038185 -31.28771  -32.29442  -33.088493 -33.147636 -33.52076\n",
      " -33.43606  -32.638298 -32.770145 -32.765755 -33.26724  -33.289886\n",
      " -32.74749  -33.280415 -33.562893 -33.06431  -32.521027 -32.61948\n",
      " -32.793728 -32.718365 -33.18873  -32.96558  -31.658594 -31.22088\n",
      " -32.145546 -32.571156 -32.367134 -32.536057 -32.729107 -31.912277\n",
      " -32.18492  -31.646818 -31.438343] -97.57155\n",
      "[-37.249172 -39.112152 -39.10686  -39.626476 -39.554104 -39.53396\n",
      " -39.42695  -39.07852  -39.234966 -39.641636 -39.551765 -39.620193\n",
      " -39.579662 -39.47073  -39.479923 -39.312893 -37.422184] -98.40763\n",
      "[-34.405346 -36.409836 -36.753235 -36.41896  -36.342697 -36.360973\n",
      " -36.305836 -36.774662 -36.273975 -36.47099  -36.566265 -36.54082\n",
      " -36.2583   -36.764458 -36.47082  -36.39304  -36.69659  -36.4718\n",
      " -36.89155  -36.7634   -36.825623 -36.531677 -36.51303  -36.581112\n",
      " -36.796623 -36.15547  -36.178223 -36.369816 -36.65939  -36.09741\n",
      " -36.166813 -36.185974 -34.5883  ] -98.02967\n",
      "[-31.456356 -32.88658  -33.324917 -33.32028  -33.257225 -33.664333\n",
      " -33.018337 -33.434574 -33.95232  -33.28545  -33.26741  -33.231216\n",
      " -33.355167 -33.58159  -32.997314 -33.34949  -33.822704 -33.50648\n",
      " -33.747192 -33.441887 -33.22131  -33.877773 -33.86656  -33.552124\n",
      " -33.88522  -33.28529  -33.50112  -33.17535  -33.84053  -33.83902\n",
      " -34.257473 -34.045753 -33.709465 -34.079006 -33.828697 -33.837208\n",
      " -33.180374 -33.360767 -33.77725  -33.6994   -33.6847   -33.433926\n",
      " -33.40676  -33.21526  -32.852234 -33.80226  -33.45395  -33.57257\n",
      " -33.63843  -33.96431  -33.49412  -33.452847 -33.144943 -33.149544\n",
      " -33.095634 -32.372707 -33.29047  -33.625168 -34.080208 -33.840008\n",
      " -33.315983 -33.41062  -33.95372  -33.545685 -31.696383] -97.77461\n",
      "[-28.25541  -29.409227 -29.330498 -30.72398  -31.139507 -29.924374\n",
      " -30.8411   -30.350384 -29.719002 -30.173037 -30.12117  -30.604506\n",
      " -29.619144 -28.734478 -30.013659 -31.084698 -31.257515 -31.143867\n",
      " -29.81488  -29.793484 -30.103273 -30.368933 -30.404375 -30.750607\n",
      " -30.587715 -30.3138   -30.890003 -30.64034  -30.510273 -30.8198\n",
      " -30.057957 -30.74802  -30.965223 -29.81415  -30.40849  -29.870333\n",
      " -30.557804 -32.002007 -31.607733 -31.405128 -30.851421 -30.098537\n",
      " -30.695559 -30.571419 -30.139868 -30.144468 -30.718304 -30.51912\n",
      " -30.823763 -30.555256 -30.66879  -30.72624  -30.46604  -30.4017\n",
      " -30.574148 -29.97104  -30.452047 -29.962677 -29.99319  -30.108562\n",
      " -30.432621 -30.30735  -31.02462  -31.257626 -30.603413 -30.13114\n",
      " -30.419353 -30.628618 -29.972115 -30.843155 -30.901524 -30.298298\n",
      " -30.995262 -30.49466  -30.838255 -30.632938 -30.773228 -30.32507\n",
      " -30.215515 -28.790478 -30.009436 -31.113396 -30.872126 -30.638025\n",
      " -30.723186 -30.705551 -30.38529  -30.006777 -29.931744 -29.48647\n",
      " -30.205145 -30.039162 -30.615273 -30.306095 -29.321917 -29.59071\n",
      " -30.060608 -30.36985  -30.134668 -30.429272 -31.42596  -30.772345\n",
      " -30.83001  -30.424982 -31.394136 -31.368473 -30.235811 -29.820139\n",
      " -30.091883 -30.118992 -30.155441 -30.141209 -29.84491  -30.067238\n",
      " -30.594242 -30.868391 -30.755735 -30.897083 -30.657822 -31.135368\n",
      " -31.626055 -29.564175 -29.951458 -29.740973 -30.569927 -31.055813\n",
      " -32.00886  -31.18956  -28.887762] -97.57155\n"
     ]
    },
    {
     "name": "stdout",
     "output_type": "stream",
     "text": [
      "[-44.59452  -43.772144 -43.59568  -43.33715  -43.474518 -43.64614\n",
      " -43.7201   -43.76039  -43.59498  -43.540115 -43.69401  -43.52656\n",
      " -43.56358  -43.50672  -43.562164 -43.646736 -44.816833] -98.357315\n",
      "[-41.84999  -40.56156  -40.36766  -40.872055 -41.287907 -41.142937\n",
      " -41.0097   -40.984673 -40.67957  -40.73625  -40.720486 -40.79995\n",
      " -40.91807  -40.904083 -40.74141  -40.57827  -40.579796 -40.762737\n",
      " -40.82132  -40.696415 -40.70259  -40.585518 -40.890755 -40.577908\n",
      " -40.679195 -40.733685 -40.880547 -40.592796 -40.41185  -40.539043\n",
      " -40.49136  -40.5163   -41.353645] -98.29793\n",
      "[-38.29203  -37.698807 -37.97225  -37.95614  -38.252712 -38.109444\n",
      " -37.75588  -37.173557 -37.40673  -37.754936 -38.343815 -37.828323\n",
      " -37.923813 -38.137115 -38.263706 -38.097317 -37.610657 -37.259243\n",
      " -37.970165 -37.9883   -37.500443 -37.425842 -37.296535 -37.657017\n",
      " -37.4295   -37.345078 -37.39576  -38.29162  -37.821445 -37.918587\n",
      " -38.594406 -38.059986 -37.585354 -37.828594 -37.433643 -36.81283\n",
      " -37.133327 -37.621857 -37.704967 -38.160984 -38.368652 -37.306305\n",
      " -37.69153  -37.534126 -37.270004 -37.005016 -37.302444 -37.272514\n",
      " -37.37502  -37.517212 -38.08145  -37.563583 -37.11319  -37.408558\n",
      " -37.118744 -37.37492  -37.925846 -37.808704 -37.656357 -37.647472\n",
      " -38.03101  -37.70369  -36.978886 -37.06326  -38.5092  ] -98.078186\n",
      "[-35.76396  -35.517517 -35.734013 -35.736626 -34.922142 -33.85361\n",
      " -34.521046 -34.682312 -34.425858 -34.36571  -34.889328 -35.60674\n",
      " -35.539555 -35.797783 -35.9572   -35.399033 -34.07644  -34.497272\n",
      " -34.65085  -34.980595 -34.57317  -34.367283 -35.001915 -34.189533\n",
      " -34.14016  -34.476685 -34.10685  -33.629887 -34.413815 -34.71106\n",
      " -34.839275 -34.741272 -35.130653 -35.04409  -34.748135 -34.859646\n",
      " -35.394096 -36.202614 -35.29373  -33.48023  -33.84319  -34.743683\n",
      " -34.95836  -34.16276  -34.256306 -33.96292  -34.430107 -34.19783\n",
      " -33.907066 -34.531403 -34.34505  -34.47748  -34.843296 -34.289825\n",
      " -34.639046 -35.23911  -34.7068   -34.22195  -34.315098 -35.12782\n",
      " -35.248985 -34.810528 -34.465225 -34.751057 -34.692596 -34.584526\n",
      " -34.810215 -35.57617  -35.42743  -35.40952  -35.481304 -35.817375\n",
      " -35.464565 -34.405945 -34.06682  -34.59846  -34.09055  -34.224033\n",
      " -34.528687 -34.030544 -34.606785 -35.404808 -34.82072  -35.055077\n",
      " -35.05368  -35.117607 -34.522896 -34.548164 -33.690155 -35.132763\n",
      " -35.48506  -35.213135 -35.182198 -34.43367  -34.565002 -34.303345\n",
      " -34.580627 -34.575768 -34.50092  -34.236557 -34.725937 -34.63351\n",
      " -34.58724  -34.7277   -35.155647 -34.661087 -34.71525  -35.425617\n",
      " -34.708992 -33.948994 -34.502716 -34.594845 -34.801975 -35.49506\n",
      " -34.874096 -33.91125  -34.916862 -34.895855 -34.49645  -34.484154\n",
      " -34.420486 -34.73644  -34.063515 -34.72491  -34.7929   -35.033413\n",
      " -35.416515 -34.45876  -34.4816  ] -97.23412\n",
      "[-42.181545 -42.381287 -42.060738 -41.89059  -41.7427   -42.21811\n",
      " -42.03062  -42.15614  -42.07484  -42.152878 -42.17336  -41.86208\n",
      " -41.995995 -42.184162 -42.137825 -41.995075 -41.38805 ] -98.357315\n",
      "[-39.061005 -39.006283 -38.874325 -39.084923 -38.924343 -38.867847\n",
      " -38.96225  -38.767693 -38.888565 -39.118053 -38.96123  -39.195187\n",
      " -39.369633 -39.350098 -39.040512 -38.96191  -39.04187  -38.836098\n",
      " -38.944866 -39.123978 -39.306267 -39.149014 -39.061657 -38.878067\n",
      " -39.18918  -39.227455 -39.24831  -39.0304   -38.93209  -39.1373\n",
      " -39.11651  -39.47226  -39.27461 ] -98.29793\n",
      "[-36.8078   -36.842236 -35.7402   -35.686523 -35.755592 -36.00563\n",
      " -35.778816 -36.226044 -36.288418 -35.94126  -35.841934 -36.09243\n",
      " -36.108746 -35.885754 -36.152702 -36.28861  -35.306805 -35.866913\n",
      " -36.34715  -36.810905 -37.22606  -36.322617 -35.65398  -36.71174\n",
      " -36.782867 -36.439106 -36.04949  -36.045517 -36.065643 -36.212097\n",
      " -36.060936 -36.170483 -35.806313 -36.496998 -35.59992  -35.818764\n",
      " -36.33177  -36.420258 -36.388268 -36.407413 -36.58088  -36.324486\n",
      " -36.079765 -35.830975 -35.800285 -35.93986  -36.095356 -36.06539\n",
      " -35.819897 -35.830875 -36.01208  -36.35063  -36.13678  -36.007675\n",
      " -35.884136 -36.087177 -36.3965   -36.604145 -36.060802 -35.61066\n",
      " -35.79215  -36.490875 -36.11493  -36.19471  -36.22259 ] -98.078186\n",
      "[-32.6846   -33.717243 -33.780556 -33.950695 -33.71556  -33.273243\n",
      " -33.311516 -32.596912 -31.848858 -32.469116 -32.436714 -32.93384\n",
      " -33.084747 -32.499615 -32.6749   -33.138157 -33.2696   -33.215034\n",
      " -33.432888 -33.53725  -33.309574 -32.805325 -32.25734  -32.640194\n",
      " -33.67845  -33.995903 -33.855083 -33.64985  -32.935284 -32.691414\n",
      " -33.11593  -33.92491  -33.967255 -33.205364 -32.69587  -32.120502\n",
      " -32.571762 -33.007652 -32.784782 -32.965984 -32.88816  -32.993637\n",
      " -32.588966 -33.051094 -32.81982  -32.084473 -32.12673  -32.74353\n",
      " -33.05842  -32.94497  -32.87688  -33.18095  -34.019997 -33.725105\n",
      " -33.3203   -33.41321  -33.13037  -32.160065 -33.102474 -33.25862\n",
      " -32.42135  -32.892258 -32.25989  -32.75263  -33.34384  -33.85456\n",
      " -33.25505  -33.326336 -33.006687 -32.619877 -32.891586 -33.345276\n",
      " -32.725662 -32.23973  -32.557632 -32.823845 -32.89956  -32.63578\n",
      " -32.44512  -32.85784  -33.37773  -33.196922 -33.498013 -32.82298\n",
      " -32.85736  -32.744335 -32.676086 -32.58025  -32.567406 -32.18921\n",
      " -32.606327 -33.378765 -33.242973 -32.91847  -33.563705 -33.740303\n",
      " -33.422672 -32.347916 -32.131325 -32.49234  -32.822453 -33.27821\n",
      " -33.24908  -33.04638  -33.393536 -32.979187 -32.79883  -32.40381\n",
      " -33.33401  -33.704178 -33.23512  -32.90249  -33.515842 -33.288376\n",
      " -32.087795 -32.31118  -32.441833 -32.45963  -33.321445 -33.38057\n",
      " -32.64811  -32.714333 -33.274895 -32.59826  -33.291992 -33.380375\n",
      " -32.829628 -33.16171  -34.008717] -97.23412\n",
      "[-38.01581  -39.889484 -39.608685 -39.452366 -39.777683 -39.903786\n",
      " -39.714256 -39.793056 -39.973648 -40.154236 -39.703068 -39.51791\n",
      " -39.369396 -39.701397 -39.59738  -40.07095  -38.450226] -98.357315\n",
      "[-35.027054 -36.53429  -36.839203 -37.15346  -36.939762 -36.73583\n",
      " -36.794827 -36.993877 -36.822807 -36.760796 -36.90723  -37.27498\n",
      " -37.028477 -36.89169  -36.648952 -36.961845 -37.0275   -36.58221\n",
      " -36.93369  -36.631046 -36.68406  -37.162186 -37.335144 -36.863934\n",
      " -36.646843 -36.319298 -36.77879  -37.099163 -36.798706 -36.408516\n",
      " -36.669575 -37.032257 -35.336597] -98.29793\n",
      "[-31.561483 -32.88279  -33.536    -34.332375 -34.25021  -33.444588\n",
      " -34.195526 -34.48648  -33.864216 -33.821804 -33.851967 -33.86817\n",
      " -33.9613   -34.268272 -34.33864  -33.53286  -33.684574 -34.69142\n",
      " -34.728054 -34.066227 -33.328537 -33.58662  -33.749073 -33.9233\n",
      " -33.263012 -33.99053  -34.23848  -34.49904  -34.420525 -33.937088\n",
      " -33.60222  -33.045826 -32.929653 -33.54239  -33.862404 -34.126358\n",
      " -33.68741  -33.7068   -33.66252  -34.295567 -33.82155  -33.32092\n",
      " -33.92325  -33.518574 -34.30461  -34.23218  -33.997627 -33.70959\n",
      " -33.648655 -33.643574 -33.508522 -33.68167  -34.236725 -34.052773\n",
      " -33.661777 -34.029396 -33.59297  -33.250015 -33.35396  -33.599167\n",
      " -33.312195 -33.72403  -33.77402  -32.665966 -31.343578] -98.078186\n",
      "[-29.191061 -30.591188 -30.829453 -30.623243 -30.595224 -30.917166\n",
      " -30.595867 -30.438103 -30.367075 -30.506645 -30.692184 -31.041443\n",
      " -30.547068 -30.186733 -30.733614 -31.41814  -30.04634  -30.370596\n",
      " -30.797884 -30.781067 -31.179653 -31.104805 -30.77051  -31.125336\n",
      " -31.131498 -30.660831 -31.02599  -31.325603 -31.315958 -30.315872\n",
      " -30.507607 -30.161924 -30.061148 -31.049654 -31.563572 -31.18432\n",
      " -30.443031 -31.193043 -31.315449 -30.390926 -30.220135 -30.002275\n",
      " -30.635857 -30.59163  -31.221813 -31.120678 -31.721788 -31.436213\n",
      " -31.463455 -31.132027 -30.675564 -31.502892 -30.488098 -30.482615\n",
      " -30.179142 -31.115572 -31.62466  -31.76342  -31.270588 -30.234447\n",
      " -30.649073 -30.66631  -30.305397 -31.36485  -31.66019  -31.510988\n",
      " -31.718199 -30.819363 -30.72924  -31.163305 -31.089714 -31.069998\n",
      " -30.188026 -30.85689  -30.75999  -31.367474 -30.144226 -30.575562\n",
      " -31.626818 -31.76505  -31.636255 -30.867306 -31.418427 -31.077501\n",
      " -31.157442 -31.000744 -30.373959 -30.679325 -30.544012 -29.588596\n",
      " -30.79309  -30.663332 -30.836166 -31.019434 -29.541462 -29.304825\n",
      " -29.51093  -31.773844 -31.101692 -31.254667 -30.636518 -30.987938\n",
      " -31.212889 -31.057396 -30.999866 -31.006035 -30.393906 -30.65579\n",
      " -30.308594 -30.890255 -30.722042 -30.721    -31.080849 -31.347643\n",
      " -30.058609 -29.389011 -31.190155 -31.095015 -30.802782 -30.687504\n",
      " -30.943123 -31.614296 -31.867163 -31.202251 -31.087147 -30.902418\n",
      " -30.598293 -31.019972 -28.655901] -97.23412\n"
     ]
    },
    {
     "name": "stdout",
     "output_type": "stream",
     "text": [
      "[-45.046566 -43.595764 -43.469994 -43.53474  -43.542652 -43.600033\n",
      " -43.828674 -43.817097 -43.808437 -43.80242  -44.019768 -43.79669\n",
      " -43.76875  -43.48973  -43.741207 -44.001114 -44.58843 ] -98.357315\n",
      "[-41.287407 -40.255672 -40.068188 -40.45565  -40.981808 -40.801056\n",
      " -41.050095 -40.748856 -40.240063 -40.814514 -40.8902   -40.9141\n",
      " -40.618233 -40.3263   -40.3689   -40.665257 -40.87937  -40.91812\n",
      " -40.681828 -40.388863 -40.557114 -40.77738  -40.91165  -40.923435\n",
      " -40.42836  -40.484867 -40.895973 -40.649418 -40.594868 -40.60269\n",
      " -40.852936 -40.929443 -41.405663] -98.29793\n",
      "[-38.648216 -37.83999  -37.978138 -37.871017 -37.62797  -37.09686\n",
      " -37.176132 -37.380604 -37.5703   -37.47715  -37.59362  -37.766914\n",
      " -37.79089  -37.853027 -37.323914 -37.283863 -37.725933 -37.95841\n",
      " -37.408966 -37.71768  -37.53753  -37.94066  -37.987957 -37.45021\n",
      " -38.11062  -37.92376  -37.62661  -37.970882 -37.87256  -37.747124\n",
      " -37.160255 -37.04937  -37.761414 -38.018974 -37.34115  -37.84566\n",
      " -37.76048  -36.987976 -36.95711  -37.10792  -37.40051  -37.87013\n",
      " -37.62369  -37.233383 -37.63681  -38.20233  -38.576065 -37.880127\n",
      " -37.21048  -37.63502  -37.796486 -37.960327 -37.820663 -37.74037\n",
      " -38.07315  -37.696167 -38.359764 -38.350216 -37.577045 -37.441555\n",
      " -38.006012 -38.170383 -37.835438 -37.639137 -38.089405] -98.078186\n",
      "[-34.491764 -33.923702 -33.925404 -34.63841  -34.80785  -35.351387\n",
      " -34.859173 -34.409595 -35.65311  -35.810745 -35.019478 -34.706593\n",
      " -34.622078 -34.61939  -33.70166  -34.372932 -34.4723   -34.75083\n",
      " -34.592274 -34.174175 -34.171772 -35.299522 -35.072792 -34.34941\n",
      " -33.814407 -34.16075  -34.1024   -34.997704 -35.669548 -34.69316\n",
      " -34.26909  -34.724163 -34.9637   -35.81488  -35.55196  -33.84238\n",
      " -33.617744 -35.063274 -34.86683  -35.17383  -34.388626 -33.925083\n",
      " -34.453514 -34.60199  -34.44325  -33.72152  -34.06192  -34.976738\n",
      " -34.605213 -35.01248  -35.753284 -35.015583 -34.736687 -34.405067\n",
      " -34.428932 -35.023327 -34.95689  -34.916023 -34.9049   -35.529003\n",
      " -34.606518 -34.436325 -34.28584  -34.292953 -34.01567  -34.797375\n",
      " -34.73723  -35.077583 -34.086864 -34.37242  -34.557827 -35.049816\n",
      " -34.73583  -34.969646 -34.46247  -33.60515  -34.68534  -35.0239\n",
      " -35.130974 -34.829075 -34.30446  -34.63723  -34.757908 -34.56918\n",
      " -34.07412  -34.37073  -34.013454 -34.58539  -35.47102  -35.298088\n",
      " -34.222416 -34.742393 -34.441826 -34.094997 -34.58755  -34.86133\n",
      " -34.80391  -34.64663  -35.582073 -34.678715 -34.14858  -33.815544\n",
      " -33.796375 -35.1353   -35.558117 -35.213833 -34.57591  -34.07446\n",
      " -35.015594 -34.75771  -35.091125 -35.227932 -34.58575  -34.775322\n",
      " -34.503098 -34.595474 -35.214123 -34.515644 -34.034935 -34.848106\n",
      " -34.051228 -34.063442 -35.77484  -35.000732 -34.77441  -35.197308\n",
      " -34.205235 -33.962147 -35.254322] -97.23412\n",
      "[-41.765625 -42.16021  -42.242756 -42.132946 -42.14554  -42.018017\n",
      " -42.05813  -42.08827  -41.78693  -41.993324 -42.01207  -42.200417\n",
      " -42.054333 -41.95796  -42.24465  -42.21978  -41.875492] -98.357315\n",
      "[-39.52075  -39.436962 -39.099247 -38.907665 -39.067688 -39.14161\n",
      " -39.189377 -39.54154  -39.41182  -39.112076 -39.27271  -39.23123\n",
      " -39.348095 -39.183926 -38.9778   -39.3575   -39.49717  -39.19735\n",
      " -39.45282  -39.157658 -38.91574  -39.118538 -39.199783 -39.100006\n",
      " -38.576965 -38.7948   -39.02959  -39.091484 -38.935474 -39.270283\n",
      " -39.39165  -38.95521  -38.89411 ] -98.29793\n",
      "[-35.35883  -35.771065 -36.01434  -36.34754  -36.284306 -36.43577\n",
      " -36.51196  -35.90716  -35.68582  -36.06961  -35.94527  -35.33672\n",
      " -35.94655  -36.510284 -36.65488  -36.54177  -36.24634  -36.214508\n",
      " -36.157974 -36.261505 -36.221497 -36.15673  -36.099182 -35.815174\n",
      " -35.629215 -36.111393 -36.150562 -36.406445 -36.067894 -35.546555\n",
      " -36.320724 -35.803223 -35.69906  -35.96114  -35.67948  -35.688416\n",
      " -36.36552  -36.57352  -36.335514 -36.189217 -35.976753 -35.95612\n",
      " -35.960373 -36.76668  -36.108185 -35.852386 -35.463177 -35.83395\n",
      " -35.812595 -35.744633 -36.20042  -35.918503 -36.06047  -36.27221\n",
      " -36.125637 -36.37597  -36.360165 -35.96654  -35.991676 -35.888935\n",
      " -36.115536 -36.281303 -36.706745 -36.352352 -35.78658 ] -98.078186\n",
      "[-32.5667   -32.806976 -32.584568 -33.63382  -33.645485 -33.36554\n",
      " -33.715782 -32.39333  -32.436314 -33.144936 -32.46955  -33.00457\n",
      " -33.32274  -33.02797  -32.862267 -32.692284 -32.898346 -32.516766\n",
      " -32.229954 -32.547688 -33.044476 -32.6255   -33.509068 -32.953217\n",
      " -32.934414 -33.108498 -33.46779  -32.83952  -32.968323 -32.124886\n",
      " -31.99554  -32.726166 -32.93166  -32.630196 -32.625618 -33.04727\n",
      " -33.123924 -33.276073 -34.025032 -33.240772 -32.91365  -32.92482\n",
      " -33.412254 -32.797577 -32.070633 -31.98881  -32.22189  -32.550365\n",
      " -32.510723 -32.320312 -33.369545 -33.366096 -34.12781  -34.03289\n",
      " -32.44028  -32.39066  -32.828613 -33.153202 -32.92398  -32.94766\n",
      " -33.60424  -33.37421  -32.492977 -32.081875 -32.75202  -33.347004\n",
      " -32.88287  -33.15386  -33.64663  -32.830795 -32.20534  -32.395077\n",
      " -32.524025 -33.00043  -33.544987 -33.419235 -33.38081  -33.80815\n",
      " -32.922264 -33.684883 -33.34414  -32.50725  -32.752987 -33.327168\n",
      " -33.91647  -32.88467  -32.456474 -33.162872 -32.77105  -32.733715\n",
      " -33.63743  -33.477043 -32.569645 -32.35043  -33.110184 -33.506374\n",
      " -32.993286 -32.48043  -33.071877 -33.359333 -33.182587 -32.50935\n",
      " -32.404827 -32.66835  -33.545753 -34.059856 -33.259655 -32.81205\n",
      " -32.93368  -33.77419  -33.438496 -32.466198 -32.736835 -32.99695\n",
      " -32.673077 -32.881516 -33.690144 -33.447884 -32.801285 -32.07415\n",
      " -32.39998  -33.013504 -32.57325  -32.7262   -32.40331  -32.35336\n",
      " -32.10452  -32.05232  -32.171043] -97.23412\n",
      "[-38.069542 -39.67675  -39.889786 -39.917355 -39.862717 -39.52056\n",
      " -39.73307  -39.80365  -39.769836 -39.962387 -40.242123 -40.000027\n",
      " -39.792706 -39.65943  -40.07334  -39.545204 -37.79685 ] -98.357315\n",
      "[-34.88513  -37.036    -36.56261  -36.90434  -36.62789  -36.675255\n",
      " -36.78529  -37.23725  -36.611713 -36.760895 -36.94768  -36.831284\n",
      " -36.614166 -36.530174 -37.01618  -36.938766 -36.282734 -37.01363\n",
      " -37.181145 -37.187836 -36.546906 -36.719624 -37.351852 -36.9808\n",
      " -36.42038  -36.855255 -36.819866 -36.661163 -36.521572 -36.87842\n",
      " -37.064217 -36.765213 -34.506916] -98.29793\n",
      "[-31.558495 -33.60679  -33.336582 -33.696754 -33.500546 -33.21122\n",
      " -33.268787 -33.256596 -34.60249  -34.40189  -33.8872   -34.28776\n",
      " -33.414814 -33.478264 -34.528683 -34.881947 -34.626373 -34.373917\n",
      " -34.55714  -33.859577 -33.602863 -33.776546 -33.223873 -33.624477\n",
      " -33.912315 -33.72181  -34.408085 -33.907658 -33.878014 -33.820694\n",
      " -34.040154 -33.735363 -34.02251  -34.316196 -33.795784 -33.610035\n",
      " -34.404606 -34.026962 -33.896206 -34.336033 -33.476376 -33.945557\n",
      " -34.01795  -33.72392  -33.49745  -34.06279  -33.93211  -33.859562\n",
      " -33.471973 -33.200783 -33.74414  -34.066196 -33.438854 -33.601143\n",
      " -33.54241  -33.275623 -33.401592 -33.89183  -34.18803  -34.184826\n",
      " -33.84148  -34.02198  -32.93049  -33.767086 -32.085197] -98.078186\n",
      "[-28.500534 -30.910326 -31.031178 -30.8871   -30.246536 -30.17709\n",
      " -30.68357  -30.46699  -30.379463 -29.90801  -29.585379 -30.428123\n",
      " -30.525396 -30.5858   -30.878777 -31.196522 -32.050533 -32.207413\n",
      " -31.307564 -30.831337 -30.524937 -31.155878 -31.25754  -31.611414\n",
      " -30.909792 -30.672523 -30.51415  -30.98647  -31.507765 -31.308342\n",
      " -30.715342 -30.795021 -30.040733 -29.989723 -31.42736  -31.073658\n",
      " -30.023773 -29.766722 -30.140915 -31.065632 -31.071896 -30.731655\n",
      " -31.02268  -30.718147 -30.755354 -30.992243 -32.295753 -30.86856\n",
      " -30.209076 -30.71321  -30.70179  -31.27854  -30.711702 -30.848328\n",
      " -30.524826 -30.687859 -31.559835 -30.134207 -29.983648 -30.778223\n",
      " -30.497103 -31.354853 -31.440622 -30.73096  -30.978771 -31.336494\n",
      " -31.360874 -31.036152 -31.599907 -31.378138 -31.234232 -31.746021\n",
      " -31.584566 -30.807005 -30.830402 -30.671602 -30.165596 -30.077108\n",
      " -30.895493 -30.635784 -30.330515 -30.245934 -30.96529  -31.487087\n",
      " -31.491018 -31.097918 -31.823185 -31.610796 -30.544353 -31.074272\n",
      " -31.053577 -30.316257 -30.408972 -30.221771 -31.327541 -31.71843\n",
      " -30.529686 -30.582832 -30.506554 -30.898344 -30.504574 -31.232485\n",
      " -30.530704 -30.132612 -31.019001 -31.285942 -31.475302 -30.934086\n",
      " -30.987389 -31.396534 -31.024588 -30.2278   -30.636961 -30.977097\n",
      " -32.077114 -32.33596  -30.849123 -30.547642 -30.769173 -31.24117\n",
      " -31.514402 -31.120281 -30.74273  -30.767818 -31.01382  -31.389246\n",
      " -30.968416 -31.161884 -29.960564] -97.23412\n"
     ]
    },
    {
     "name": "stdout",
     "output_type": "stream",
     "text": [
      "[-44.581364 -43.79081  -43.925865 -43.706036 -43.627544 -43.452133\n",
      " -43.247135 -43.59278  -43.673782 -43.829758 -43.952328 -43.886547\n",
      " -43.876156 -43.56941  -43.530376 -43.87541  -45.126404] -98.357315\n",
      "[-41.461597 -40.768913 -40.827557 -40.865276 -40.913418 -40.789207\n",
      " -40.5972   -40.75928  -40.727146 -40.79512  -40.850098 -40.855156\n",
      " -41.001118 -40.60831  -40.95915  -40.79801  -40.528534 -40.88994\n",
      " -40.976513 -40.679253 -40.299957 -40.59877  -40.417248 -40.4447\n",
      " -40.38226  -40.532024 -40.627644 -40.57398  -40.391384 -40.626274\n",
      " -40.329918 -39.931572 -41.156227] -98.29793\n",
      "[-38.106388 -37.68056  -37.341118 -37.56734  -37.47794  -37.842815\n",
      " -37.519207 -37.17169  -37.406193 -37.577957 -37.95336  -37.64797\n",
      " -37.56152  -38.541203 -38.817966 -38.51187  -37.803867 -36.911526\n",
      " -36.974968 -37.45481  -37.38287  -37.081123 -37.32995  -37.569714\n",
      " -38.27016  -38.19047  -37.79656  -37.867996 -37.47167  -37.87893\n",
      " -37.658733 -37.648693 -37.564564 -37.91487  -37.82587  -38.017612\n",
      " -37.974854 -37.69352  -37.264027 -36.747147 -37.526234 -37.96954\n",
      " -37.596046 -37.287174 -37.99862  -38.082565 -37.674957 -37.60624\n",
      " -37.38501  -36.93794  -37.279907 -37.41274  -37.870354 -37.51374\n",
      " -38.045177 -38.137016 -38.1874   -38.1426   -38.13707  -37.41103\n",
      " -37.78969  -38.231846 -37.459736 -37.335495 -39.39808 ] -98.078186\n",
      "[-36.465946 -34.86686  -34.45119  -34.148827 -34.9395   -35.017265\n",
      " -34.302017 -34.503944 -34.027332 -34.448387 -35.290184 -34.435932\n",
      " -34.041313 -34.806732 -35.202244 -34.928833 -34.595985 -35.069077\n",
      " -34.63049  -34.636684 -34.36268  -35.14811  -35.165646 -34.667747\n",
      " -34.083405 -34.4515   -34.46259  -34.106262 -34.67042  -34.668736\n",
      " -34.221104 -34.29512  -35.079605 -34.93365  -34.44781  -35.22765\n",
      " -35.581745 -35.421658 -34.556793 -34.22899  -35.00483  -34.815918\n",
      " -34.293846 -34.362186 -34.288574 -34.246956 -34.48725  -34.207268\n",
      " -34.412514 -35.597523 -35.081974 -34.24682  -34.39739  -35.24391\n",
      " -35.455395 -34.678833 -33.567696 -33.827526 -35.00067  -34.77858\n",
      " -34.49301  -34.333298 -34.555817 -34.418457 -34.70786  -34.93785\n",
      " -34.71798  -34.426846 -34.369007 -34.283985 -35.60493  -35.43675\n",
      " -34.532253 -34.63196  -34.666225 -35.547665 -35.25884  -35.24587\n",
      " -34.503613 -33.78831  -34.46482  -34.774452 -35.09014  -35.06792\n",
      " -35.31477  -35.250286 -35.41146  -34.648777 -33.886715 -34.817482\n",
      " -34.90985  -34.293873 -34.394623 -35.2547   -34.692463 -34.23376\n",
      " -34.50694  -35.09757  -35.261837 -34.20757  -33.763508 -35.13473\n",
      " -34.956505 -34.793636 -35.765404 -34.87957  -34.10699  -34.446297\n",
      " -34.806423 -35.020798 -35.362118 -35.677025 -35.576073 -34.73217\n",
      " -35.107094 -34.42965  -33.409233 -33.78917  -34.070343 -34.874474\n",
      " -34.29179  -34.462875 -34.50742  -34.616505 -35.01843  -34.575104\n",
      " -34.012856 -34.783447 -36.15537 ] -97.23412\n",
      "[-42.385345 -42.457092 -42.239357 -42.151592 -42.331573 -42.141724\n",
      " -42.16004  -41.881958 -41.81641  -42.04947  -42.40613  -42.246525\n",
      " -42.015083 -42.00452  -41.849815 -42.236828 -42.109425] -98.357315\n",
      "[-38.58899  -38.864685 -39.082874 -39.49015  -39.396366 -39.388355\n",
      " -39.21357  -38.947723 -38.932194 -38.824078 -38.73664  -38.9338\n",
      " -38.478554 -38.5913   -38.913826 -39.167175 -39.058895 -38.633816\n",
      " -39.194107 -39.393208 -39.291492 -39.005493 -39.0158   -39.305504\n",
      " -39.26925  -38.818672 -39.032326 -39.64459  -39.29594  -38.89343\n",
      " -38.766544 -39.00972  -39.07036 ] -98.29793\n",
      "[-35.836945 -35.90531  -35.70701  -35.68754  -35.839706 -35.418053\n",
      " -35.281265 -35.485558 -36.02066  -36.172913 -36.104527 -36.32498\n",
      " -36.36492  -35.855988 -35.578255 -35.83831  -36.48165  -36.39006\n",
      " -36.607586 -35.86982  -36.07662  -36.089508 -35.85758  -36.367138\n",
      " -36.203228 -36.37462  -36.06486  -36.293503 -36.489086 -36.006607\n",
      " -36.14451  -36.356655 -36.07202  -36.08873  -36.050236 -35.585884\n",
      " -35.71441  -36.01702  -35.29315  -36.151478 -36.5011   -36.086052\n",
      " -35.82375  -36.588844 -36.729202 -36.172977 -35.870655 -35.650604\n",
      " -35.7976   -36.140255 -36.00094  -35.90722  -35.33975  -35.912617\n",
      " -36.43716  -36.752747 -36.202534 -36.247654 -35.67301  -35.851944\n",
      " -36.416107 -36.25678  -35.84709  -35.830753 -36.084496] -98.078186\n",
      "[-33.623074 -33.868923 -33.623215 -33.25421  -32.788612 -32.184753\n",
      " -32.538918 -32.410748 -33.47387  -33.809402 -33.483566 -34.127487\n",
      " -33.275867 -33.180313 -33.27969  -33.257072 -32.822823 -32.15009\n",
      " -32.48773  -32.210682 -32.12674  -32.103363 -33.18587  -33.393974\n",
      " -32.694572 -32.353653 -32.268253 -33.096233 -32.158653 -32.01697\n",
      " -32.137962 -32.71738  -32.43994  -32.298977 -32.484203 -34.288788\n",
      " -33.706043 -32.825134 -32.63814  -32.585663 -32.861324 -33.254295\n",
      " -32.903385 -33.213867 -33.408245 -33.079277 -33.30918  -33.01661\n",
      " -32.284435 -33.154243 -32.88062  -32.962334 -33.459774 -33.39856\n",
      " -33.543304 -33.766953 -33.18193  -33.657722 -33.281593 -33.456318\n",
      " -33.601765 -33.869404 -33.81733  -33.3951   -34.021572 -34.061707\n",
      " -32.873077 -33.037807 -33.313652 -33.206055 -33.074253 -32.926598\n",
      " -32.687916 -33.949104 -34.121906 -33.762978 -33.409264 -33.863575\n",
      " -33.0745   -32.392063 -32.931793 -33.107056 -33.439285 -32.971237\n",
      " -33.489105 -33.335526 -33.008167 -32.394707 -32.760612 -33.339516\n",
      " -33.484703 -33.402027 -32.85345  -32.77061  -33.38723  -33.40088\n",
      " -33.68066  -33.66083  -32.89569  -32.57189  -33.2624   -33.549053\n",
      " -33.696896 -34.212154 -33.166817 -32.58443  -33.04048  -33.103813\n",
      " -32.398106 -33.211643 -33.34017  -32.55972  -32.615864 -32.982716\n",
      " -33.748253 -32.854706 -32.178696 -33.01706  -32.894905 -32.575504\n",
      " -33.01855  -33.127686 -33.020397 -33.43414  -33.07779  -32.944622\n",
      " -33.10192  -33.064915 -31.872208] -97.23412\n",
      "[-38.01883  -39.912304 -39.669792 -39.95047  -39.941933 -39.74092\n",
      " -39.75628  -39.8852   -39.631798 -39.996967 -40.289845 -40.285427\n",
      " -40.081543 -39.872513 -40.039963 -40.001835 -38.001087] -98.357315\n",
      "[-34.75238  -36.575287 -37.029613 -36.91742  -36.87022  -36.77478\n",
      " -36.990524 -37.329796 -36.909454 -36.633533 -36.36827  -36.642464\n",
      " -36.930122 -36.67922  -36.90066  -37.184433 -36.8066   -36.799976\n",
      " -37.147835 -36.820198 -36.481964 -36.72952  -36.579372 -37.221554\n",
      " -37.216816 -36.699554 -37.09266  -37.046505 -37.028667 -37.12244\n",
      " -37.26362  -37.102814 -35.13139 ] -98.29793\n",
      "[-32.17953  -33.964375 -34.24043  -34.745663 -33.749287 -33.914215\n",
      " -33.510376 -34.099445 -33.688618 -33.882874 -34.052177 -34.547813\n",
      " -34.031673 -33.505997 -33.475983 -33.48011  -33.30093  -33.551\n",
      " -33.21693  -33.898746 -34.40766  -34.003033 -33.349518 -33.940712\n",
      " -33.81423  -34.12815  -33.558807 -33.977024 -34.365395 -33.691006\n",
      " -33.582836 -33.757095 -34.016838 -34.201027 -33.459393 -32.883785\n",
      " -33.593987 -34.045532 -33.87189  -33.979637 -33.50076  -33.90509\n",
      " -33.530228 -33.2578   -33.0651   -34.079826 -33.66543  -34.046898\n",
      " -33.687576 -33.92851  -33.74877  -34.286766 -33.429768 -33.099586\n",
      " -33.392334 -33.640358 -33.548798 -33.61266  -33.866093 -33.876347\n",
      " -34.165447 -34.331215 -34.270107 -33.784527 -31.41376 ] -98.078186\n",
      "[-28.367926 -29.957464 -30.161837 -30.045687 -30.4456   -30.254581\n",
      " -30.347095 -30.897718 -30.99545  -30.155699 -31.27141  -31.324883\n",
      " -31.330923 -30.84159  -30.696934 -31.23121  -31.824333 -31.201452\n",
      " -30.889448 -31.044115 -29.812836 -31.032904 -31.083628 -31.25269\n",
      " -30.975653 -29.888746 -30.684483 -31.62175  -30.991146 -31.131397\n",
      " -31.076336 -30.686728 -30.107492 -30.612743 -30.912785 -30.465313\n",
      " -30.762915 -31.756924 -30.973583 -31.235209 -31.476568 -30.393091\n",
      " -30.503038 -30.95882  -30.669903 -31.026512 -30.982754 -31.097927\n",
      " -30.816103 -30.6151   -30.889587 -30.67157  -30.58896  -30.501398\n",
      " -30.96302  -30.617554 -30.336893 -31.134293 -30.584528 -30.905903\n",
      " -31.90533  -30.430494 -30.86571  -30.97623  -30.676575 -30.653305\n",
      " -30.845406 -30.222275 -30.561226 -31.840767 -31.214125 -30.57669\n",
      " -30.664333 -30.926601 -30.906437 -30.531794 -30.370844 -30.523207\n",
      " -30.926632 -31.478605 -31.075418 -30.972569 -30.604214 -30.761631\n",
      " -30.636606 -30.716433 -31.333313 -31.234539 -31.276955 -30.644014\n",
      " -30.279583 -31.015163 -31.486967 -31.559404 -30.913525 -30.820488\n",
      " -30.69217  -31.35733  -30.606226 -29.858074 -30.016754 -31.193108\n",
      " -31.281288 -31.281103 -30.814213 -30.494118 -30.698498 -31.273266\n",
      " -31.511341 -31.383202 -31.766272 -31.818428 -31.555973 -30.684744\n",
      " -30.46495  -30.791384 -30.996601 -30.207243 -30.87915  -31.083364\n",
      " -29.75799  -29.8753   -30.902056 -30.587465 -30.749092 -30.315857\n",
      " -30.174273 -30.398731 -28.387642] -97.23412\n"
     ]
    },
    {
     "name": "stdout",
     "output_type": "stream",
     "text": [
      "[-45.398945 -44.495243 -44.154213 -44.191887 -44.03446  -43.96189\n",
      " -43.939224 -43.90135  -44.171185 -44.173058 -44.2822   -44.54387\n",
      " -44.182774 -44.06037  -44.37872  -44.177402 -44.935993] -106.57518\n",
      "[-41.867508 -40.95584  -41.19713  -41.349354 -41.436455 -41.83099\n",
      " -41.407246 -41.555527 -41.73146  -41.304436 -41.158447 -41.31911\n",
      " -41.374977 -41.613808 -41.596676 -41.263367 -41.25384  -41.23369\n",
      " -41.375046 -41.50499  -41.63466  -41.179527 -41.528046 -41.366074\n",
      " -41.232555 -41.40094  -41.259514 -41.117577 -40.920284 -41.092304\n",
      " -41.25422  -41.667908 -42.574226] -104.92849\n",
      "[-39.052574 -37.9002   -38.538254 -38.253098 -37.669743 -37.98595\n",
      " -37.96823  -38.067608 -38.27753  -37.806522 -37.988297 -37.839134\n",
      " -37.818542 -37.609028 -37.387432 -37.89763  -37.7313   -38.08126\n",
      " -37.814728 -37.85009  -38.119698 -38.302795 -38.316494 -38.21495\n",
      " -38.31473  -38.54849  -38.173847 -38.247765 -38.033318 -37.900105\n",
      " -38.1623   -38.58207  -38.32476  -37.813725 -37.88144  -38.608692\n",
      " -38.729374 -38.580715 -38.60156  -38.089508 -38.070744 -38.4952\n",
      " -38.144363 -38.442924 -38.04974  -37.696465 -38.065968 -38.098827\n",
      " -38.137573 -37.66622  -37.801483 -37.936363 -37.86008  -38.1569\n",
      " -38.19419  -38.32453  -38.069023 -38.076538 -38.239277 -38.464138\n",
      " -38.797947 -38.491432 -38.116413 -38.50259  -38.618355] -101.81501\n",
      "[-35.82383  -34.869    -34.842148 -34.594498 -35.260403 -35.484406\n",
      " -34.914562 -34.733284 -35.480183 -34.632076 -34.992134 -35.637253\n",
      " -35.893616 -35.178444 -35.006687 -35.484787 -35.6013   -34.85361\n",
      " -34.90657  -35.54268  -34.74528  -34.76837  -35.199017 -35.461533\n",
      " -35.465645 -35.77334  -36.317432 -36.181355 -35.602962 -34.04661\n",
      " -34.2422   -35.086502 -35.34659  -36.214733 -36.035988 -35.550644\n",
      " -35.225384 -35.23922  -35.505623 -35.63775  -34.719    -34.610085\n",
      " -34.90622  -35.226948 -34.943737 -35.711864 -36.01437  -36.367733\n",
      " -35.741352 -35.229893 -35.0204   -33.968655 -33.972664 -34.62626\n",
      " -34.492706 -35.451733 -35.99629  -36.192574 -35.623276 -35.27275\n",
      " -35.149757 -35.99307  -35.871452 -35.873795 -35.102676 -35.289417\n",
      " -35.466232 -35.2789   -34.301083 -34.62769  -35.125134 -35.407097\n",
      " -34.967297 -35.058205 -35.689835 -36.05115  -35.454742 -35.12531\n",
      " -35.36898  -34.874104 -35.425762 -35.20748  -34.896896 -35.72705\n",
      " -35.146877 -35.13878  -35.81256  -34.948093 -34.493614 -33.67186\n",
      " -34.45402  -34.541725 -34.09803  -35.373787 -34.493572 -34.85274\n",
      " -35.06873  -34.719467 -34.928104 -35.55707  -35.82883  -35.50322\n",
      " -35.437847 -34.993397 -34.34128  -34.516907 -34.929214 -34.870842\n",
      " -35.77848  -35.64505  -35.071796 -35.309956 -35.220413 -34.959614\n",
      " -35.501125 -35.315178 -35.531048 -35.81351  -35.408485 -35.174118\n",
      " -34.923813 -35.340385 -34.977528 -34.69462  -35.635944 -35.15964\n",
      " -34.930923 -35.155365 -36.744522] -99.06997\n",
      "[-42.566246 -42.618298 -42.617626 -42.617733 -42.655693 -42.53464\n",
      " -42.34083  -42.344227 -42.34864  -42.389668 -42.63031  -42.850395\n",
      " -42.75584  -42.52668  -42.729683 -42.659126 -42.40566 ] -106.57518\n",
      "[-39.25179  -39.26856  -39.186153 -39.568684 -39.530262 -39.503586\n",
      " -39.8515   -39.543686 -39.72209  -39.820114 -39.775288 -39.660526\n",
      " -39.816425 -39.84855  -39.54485  -39.77765  -39.752235 -39.426636\n",
      " -39.547176 -39.663586 -39.62052  -39.227577 -39.333176 -39.465935\n",
      " -39.70748  -39.807186 -39.621227 -39.35211  -39.16268  -39.40213\n",
      " -39.505135 -39.863827 -39.92269 ] -104.92849\n",
      "[-36.70459  -36.46266  -36.97726  -37.140804 -36.139717 -36.265903\n",
      " -36.207287 -35.92508  -36.26101  -36.798687 -37.039276 -36.329834\n",
      " -36.696316 -36.90454  -36.583744 -36.756374 -35.914173 -36.301636\n",
      " -37.045643 -36.93892  -36.475567 -36.683655 -36.352093 -36.455032\n",
      " -36.241867 -36.123604 -35.775776 -36.552135 -36.8128   -36.25519\n",
      " -36.50899  -36.517197 -36.577595 -36.377125 -36.343872 -36.3563\n",
      " -36.85204  -36.815296 -36.561413 -36.4868   -36.469006 -36.4686\n",
      " -36.476498 -36.28475  -36.61116  -36.711464 -36.691483 -36.554314\n",
      " -36.41959  -36.644897 -36.817917 -36.920086 -36.65002  -36.937378\n",
      " -36.768326 -36.52018  -36.867775 -37.20511  -37.30137  -36.84739\n",
      " -36.90844  -36.87737  -36.36533  -36.31197  -37.06273 ] -101.81501\n",
      "[-33.417023 -34.100777 -33.76307  -33.78053  -33.930576 -34.152992\n",
      " -35.140972 -34.37383  -33.07059  -33.637764 -33.658607 -33.30872\n",
      " -33.38071  -33.401173 -33.81795  -34.397984 -33.848343 -34.411095\n",
      " -32.976242 -33.01071  -33.751816 -33.302006 -33.047623 -33.13297\n",
      " -34.152733 -32.907806 -32.363167 -33.769966 -33.18229  -33.26203\n",
      " -33.349537 -34.037254 -34.021637 -33.485054 -33.340046 -33.37584\n",
      " -33.127888 -32.906693 -34.02816  -33.876495 -33.785667 -34.27818\n",
      " -34.15305  -34.2102   -34.434803 -34.303413 -33.294067 -33.20213\n",
      " -33.373363 -33.610897 -33.54623  -33.452854 -33.78393  -33.48586\n",
      " -32.625328 -33.750225 -33.784515 -34.09762  -33.722115 -33.955727\n",
      " -33.313667 -33.202293 -32.35876  -33.519997 -34.166428 -34.333595\n",
      " -34.237984 -33.332253 -33.233116 -33.430313 -33.521416 -33.165565\n",
      " -32.708733 -33.311844 -33.944115 -33.471436 -33.091785 -32.33892\n",
      " -33.663177 -33.107506 -33.66796  -33.484505 -33.242367 -34.352146\n",
      " -34.081882 -33.372208 -33.6608   -33.132725 -33.255394 -34.096176\n",
      " -33.965828 -33.38551  -33.43788  -33.777523 -33.70554  -33.49539\n",
      " -33.438385 -33.069122 -32.81948  -33.5158   -34.251465 -34.377357\n",
      " -34.077843 -33.504265 -33.673447 -33.128742 -32.377804 -32.53472\n",
      " -32.864994 -33.415874 -33.934467 -33.604027 -33.19769  -32.854553\n",
      " -33.513187 -34.56441  -34.068928 -33.409298 -33.184193 -33.396873\n",
      " -34.654854 -34.22158  -33.486504 -33.321808 -33.334354 -33.63611\n",
      " -34.103558 -34.299114 -34.810738] -99.06997\n",
      "[-38.529167 -40.43493  -40.586666 -40.3724   -40.48278  -40.357983\n",
      " -40.21663  -40.088036 -40.154858 -40.451874 -40.361282 -40.347343\n",
      " -40.322227 -40.36047  -40.47731  -40.697083 -38.444687] -106.57518\n",
      "[-35.22338  -36.77114  -37.16671  -37.152653 -36.960655 -36.964542\n",
      " -37.030125 -37.2041   -37.46809  -37.530857 -37.494823 -37.477226\n",
      " -37.71952  -37.247246 -37.38963  -37.193382 -37.391026 -37.692722\n",
      " -37.55977  -37.07372  -37.796474 -37.576126 -37.376648 -37.49812\n",
      " -37.668274 -37.549957 -37.196    -36.59571  -37.135105 -37.396877\n",
      " -37.31556  -37.278053 -35.164062] -104.92849\n",
      "[-32.525608 -33.977062 -34.227955 -34.346443 -34.994095 -34.423843\n",
      " -34.998005 -34.753666 -34.588245 -34.410534 -34.478783 -34.511524\n",
      " -34.859013 -34.47215  -34.04146  -34.373577 -34.297287 -34.53955\n",
      " -34.285152 -34.862904 -35.00987  -34.784508 -34.304657 -34.200123\n",
      " -34.3228   -34.740353 -34.900646 -34.472847 -34.562428 -34.145664\n",
      " -34.28814  -34.740337 -34.26757  -33.92126  -34.355614 -35.14791\n",
      " -34.153732 -34.378983 -34.53972  -34.605484 -35.031746 -34.812126\n",
      " -34.381004 -34.784943 -34.803036 -34.38311  -34.15272  -34.5885\n",
      " -34.613903 -34.29424  -34.602055 -34.664204 -35.238663 -33.96948\n",
      " -34.116184 -34.564735 -34.492718 -34.205647 -34.27379  -34.533417\n",
      " -34.614326 -34.68361  -34.279633 -34.274067 -32.665344] -101.81501\n",
      "[-29.843513 -31.456408 -31.427464 -31.829294 -31.503208 -31.865866\n",
      " -31.816206 -31.943453 -31.621286 -32.038857 -31.236725 -31.952744\n",
      " -31.904243 -31.499641 -31.829002 -32.15445  -31.075264 -31.839725\n",
      " -30.902542 -30.054783 -30.396198 -30.353798 -31.527418 -31.16182\n",
      " -31.562115 -31.92647  -31.583845 -30.600187 -31.020294 -31.813482\n",
      " -31.745813 -31.39399  -31.817245 -31.091194 -31.784428 -31.295631\n",
      " -31.034336 -31.352343 -31.656607 -31.905163 -30.70043  -30.259663\n",
      " -31.726326 -32.454174 -32.028606 -30.953127 -31.311157 -31.292393\n",
      " -30.623508 -30.93868  -31.236404 -31.337704 -31.224081 -30.406483\n",
      " -31.89367  -31.517258 -30.865515 -31.25671  -31.263838 -30.916138\n",
      " -31.653658 -31.58762  -31.793884 -31.625275 -31.55192  -31.425959\n",
      " -29.8672   -30.108328 -30.168707 -30.434414 -31.721592 -31.94402\n",
      " -32.187454 -31.764439 -31.509045 -31.494957 -30.910183 -30.768738\n",
      " -31.433678 -31.037426 -31.562231 -31.516573 -31.82138  -32.120243\n",
      " -31.539427 -31.415249 -30.811035 -31.41669  -31.028336 -31.166676\n",
      " -30.684849 -30.538494 -30.254824 -31.43133  -31.617882 -30.740175\n",
      " -31.266726 -30.623346 -31.148056 -31.627033 -31.321186 -31.606194\n",
      " -31.530832 -31.163658 -31.4646   -31.244814 -31.078497 -30.54115\n",
      " -30.358795 -30.077808 -30.70907  -31.157095 -31.274492 -30.311245\n",
      " -30.98502  -31.286137 -30.859354 -30.569672 -30.373577 -31.01819\n",
      " -31.776617 -31.306866 -31.457602 -30.69907  -31.409851 -32.394184\n",
      " -31.966534 -31.529009 -29.875969] -99.06997\n"
     ]
    },
    {
     "name": "stdout",
     "output_type": "stream",
     "text": [
      "[-45.571144 -44.606155 -44.233383 -44.274063 -44.468075 -44.346695\n",
      " -44.312416 -44.39237  -44.454384 -44.234856 -44.258896 -44.212673\n",
      " -44.174366 -44.467823 -44.4059   -44.247086 -45.065777] -106.57518\n",
      "[-42.592594 -41.489418 -41.37703  -41.19633  -41.050365 -41.024597\n",
      " -41.238323 -41.03425  -40.804184 -41.339222 -41.296497 -41.029945\n",
      " -41.467262 -41.173767 -40.742756 -41.148983 -41.298187 -41.070194\n",
      " -41.255493 -41.230595 -40.874657 -41.40706  -41.307606 -41.127098\n",
      " -41.70937  -41.998028 -41.45493  -40.854725 -41.185696 -41.07428\n",
      " -41.204304 -41.058826 -42.069626] -104.92849\n",
      "[-39.234386 -38.06773  -38.140747 -38.242065 -38.326714 -38.234512\n",
      " -38.187782 -37.99039  -37.636623 -38.04799  -38.161716 -38.545177\n",
      " -38.05611  -38.074696 -38.358517 -38.29476  -38.534794 -39.0223\n",
      " -38.669243 -37.927734 -37.574738 -37.869667 -38.01153  -38.141502\n",
      " -38.72493  -38.558117 -38.314102 -37.830975 -37.736298 -37.79273\n",
      " -37.78274  -38.64754  -38.502415 -38.163677 -38.18756  -38.26434\n",
      " -37.86481  -37.81456  -38.356575 -38.1932   -37.876392 -38.161892\n",
      " -38.31309  -38.57949  -38.72175  -38.66341  -38.291656 -38.425926\n",
      " -37.934193 -38.234055 -38.62439  -38.486984 -38.59423  -38.390903\n",
      " -38.242653 -38.760197 -38.41478  -38.1165   -38.492565 -38.169395\n",
      " -38.29164  -37.829933 -38.67982  -38.608345 -39.23411 ] -101.81501\n",
      "[-35.59118  -35.19962  -34.94764  -35.410152 -35.626385 -35.177174\n",
      " -35.255447 -35.45229  -34.872246 -34.804005 -34.853756 -35.647465\n",
      " -35.64995  -35.280495 -34.63545  -34.659668 -35.606094 -35.948463\n",
      " -35.748676 -35.751446 -34.911724 -35.480076 -34.742992 -34.903297\n",
      " -34.84572  -35.06367  -35.221294 -35.36951  -34.796677 -34.73438\n",
      " -34.624195 -35.052288 -35.34255  -34.503365 -35.448524 -35.51198\n",
      " -35.5103   -35.19184  -34.874813 -35.082882 -35.163677 -35.32239\n",
      " -35.27289  -35.329586 -35.758305 -35.546005 -35.0537   -35.940933\n",
      " -35.957848 -34.74022  -35.04295  -34.72687  -34.978294 -35.65358\n",
      " -35.424484 -35.48122  -35.41415  -34.962036 -34.97889  -35.54621\n",
      " -35.122326 -34.83935  -34.955425 -35.43481  -35.247993 -35.176067\n",
      " -34.446266 -34.44802  -34.8312   -35.801754 -36.479393 -35.44476\n",
      " -35.114517 -35.61792  -34.85552  -35.489784 -35.839302 -35.53797\n",
      " -34.85149  -34.560356 -34.23535  -34.01554  -34.95592  -35.102177\n",
      " -35.748608 -36.06973  -34.9265   -35.201946 -35.440098 -35.066803\n",
      " -35.964836 -35.206165 -34.65977  -34.907555 -35.656273 -35.457474\n",
      " -35.207397 -35.71117  -36.25565  -36.083374 -35.862892 -35.28832\n",
      " -35.0932   -35.439686 -35.25566  -35.525932 -35.360466 -35.511356\n",
      " -36.12608  -35.5994   -35.359806 -35.43278  -35.628998 -36.012287\n",
      " -36.050434 -35.502277 -35.010532 -35.49643  -34.903095 -34.25157\n",
      " -34.89542  -35.215244 -35.792114 -35.156147 -34.962257 -35.459103\n",
      " -35.688965 -35.947144 -37.351833] -99.06997\n",
      "[-42.222885 -42.4155   -42.495724 -43.100204 -43.004288 -42.498203\n",
      " -42.509815 -42.69913  -42.57988  -42.54248  -42.76489  -42.622665\n",
      " -42.48325  -42.40334  -42.562386 -42.62308  -42.471184] -106.57518\n",
      "[-39.833626 -39.834915 -39.58337  -39.603836 -39.58861  -39.341343\n",
      " -39.402615 -39.727043 -39.658596 -39.560505 -39.686886 -40.049545\n",
      " -39.6509   -39.92608  -39.748627 -39.612488 -39.36622  -39.190815\n",
      " -39.297935 -39.12421  -39.38365  -39.65366  -39.43311  -39.796387\n",
      " -39.896847 -39.63102  -39.571095 -39.560616 -39.54957  -39.393\n",
      " -39.40255  -39.08459  -38.98773 ] -104.92849\n",
      "[-36.50126  -37.036022 -37.499416 -37.09732  -36.74797  -36.61696\n",
      " -36.03437  -36.158913 -36.354885 -36.419098 -37.024208 -36.672775\n",
      " -36.19481  -36.150303 -36.33859  -36.25817  -36.177834 -36.37629\n",
      " -36.55841  -35.629158 -36.456547 -36.398537 -36.602695 -37.29594\n",
      " -37.2068   -36.880333 -36.71396  -36.388092 -36.00153  -36.707893\n",
      " -36.9609   -36.97549  -37.023087 -37.01062  -36.70079  -36.309483\n",
      " -36.9433   -37.013332 -36.631683 -36.21828  -36.21749  -36.77346\n",
      " -37.48404  -37.15012  -36.89914  -36.707214 -36.763145 -37.004944\n",
      " -36.98468  -36.59315  -36.76603  -36.915524 -36.744904 -36.423492\n",
      " -36.546967 -37.354492 -37.44466  -36.527096 -36.77441  -36.50783\n",
      " -36.366295 -36.33855  -36.65007  -36.546867 -35.398235] -101.81501\n",
      "[-33.066387 -33.9401   -34.119213 -33.94096  -33.125698 -33.39206\n",
      " -32.9272   -32.81844  -34.107956 -33.37007  -33.21877  -33.300026\n",
      " -32.608585 -33.10814  -33.752254 -34.161777 -34.597008 -34.213596\n",
      " -33.607075 -34.05849  -33.96678  -33.009304 -33.268528 -33.982872\n",
      " -33.71294  -33.431995 -33.322258 -33.83487  -33.66777  -33.959736\n",
      " -33.806442 -34.06652  -33.892353 -33.513485 -33.36276  -34.21708\n",
      " -33.839157 -32.65386  -32.73445  -33.69954  -33.882347 -33.412315\n",
      " -33.051456 -33.21944  -33.495155 -32.83749  -33.207268 -33.437443\n",
      " -33.804073 -33.750214 -33.916573 -33.65503  -33.945004 -34.543507\n",
      " -33.858482 -33.44587  -34.218517 -33.978226 -33.781063 -33.629326\n",
      " -33.32639  -33.941208 -34.033745 -33.72791  -33.963512 -33.72333\n",
      " -34.05224  -33.955368 -34.02883  -33.931164 -34.691505 -33.0598\n",
      " -33.134117 -33.48163  -33.15909  -33.61507  -34.357765 -34.584995\n",
      " -34.457947 -34.30671  -33.78362  -34.346535 -33.924862 -33.456425\n",
      " -33.453766 -33.255627 -33.039204 -33.530895 -32.655216 -32.499638\n",
      " -33.130505 -33.743073 -33.423737 -33.315548 -33.18105  -32.672188\n",
      " -32.27914  -32.914417 -33.537502 -33.318993 -32.83135  -33.598354\n",
      " -33.734146 -34.098866 -33.30976  -32.85244  -32.888813 -33.313293\n",
      " -33.986427 -33.967278 -34.169655 -32.930748 -31.811771 -32.554188\n",
      " -33.382717 -33.59863  -33.495796 -33.23004  -33.4265   -33.493164\n",
      " -33.09693  -32.78286  -33.447662 -32.86826  -32.717663 -33.63681\n",
      " -32.73806  -32.10563  -32.628796] -99.06997\n",
      "[-38.563778 -40.47876  -40.430317 -40.340168 -40.548992 -40.5542\n",
      " -40.14198  -40.254158 -40.42924  -40.348877 -40.204376 -40.425987\n",
      " -40.38904  -40.343468 -40.597588 -40.45458  -38.471077] -106.57518\n",
      "[-35.4047   -37.249657 -37.258472 -36.600258 -36.88088  -37.33767\n",
      " -37.167606 -36.93024  -36.96532  -37.323296 -37.584457 -37.31588\n",
      " -37.256927 -37.548225 -37.918915 -37.403416 -37.39919  -37.641888\n",
      " -37.285625 -37.86792  -37.605698 -37.281326 -37.251564 -37.26721\n",
      " -37.65797  -37.55437  -37.19551  -37.51396  -37.718307 -37.309864\n",
      " -37.61593  -37.94657  -35.798134] -104.92849\n",
      "[-33.293716 -34.673748 -34.54603  -34.96903  -34.200714 -34.126934\n",
      " -34.510143 -34.172085 -34.47754  -34.63058  -34.766266 -34.99613\n",
      " -34.844887 -35.093372 -34.949192 -33.98509  -33.648445 -34.006577\n",
      " -34.29562  -34.107635 -33.86293  -33.91526  -34.47688  -34.72553\n",
      " -34.537582 -34.38538  -34.222942 -33.96052  -34.840412 -35.158573\n",
      " -34.589745 -34.329456 -35.08902  -34.220074 -33.79741  -34.14047\n",
      " -33.742    -34.008167 -34.804794 -34.66841  -33.985847 -33.94405\n",
      " -34.04998  -34.753117 -34.148018 -34.82627  -34.69781  -34.28829\n",
      " -34.34826  -34.511448 -34.22008  -34.14265  -34.465214 -34.36271\n",
      " -34.729984 -34.1663   -33.95916  -34.169044 -34.04863  -34.776554\n",
      " -34.496906 -34.023228 -33.933456 -34.56124  -32.02111 ] -101.81501\n",
      "[-28.380894 -31.174337 -31.561466 -31.271809 -30.693382 -31.70423\n",
      " -31.821266 -31.092306 -31.142952 -30.934446 -31.739136 -30.720428\n",
      " -30.757069 -30.690033 -30.664635 -29.565289 -29.941267 -30.960136\n",
      " -30.953838 -30.878883 -30.894535 -31.466017 -31.581766 -31.39561\n",
      " -30.477812 -30.008755 -30.670967 -31.539772 -32.461254 -31.920376\n",
      " -31.757187 -31.489426 -30.50735  -30.946606 -31.289215 -32.25389\n",
      " -32.605095 -31.461088 -31.270079 -31.098816 -30.840229 -30.814146\n",
      " -31.980648 -32.082947 -32.05713  -31.526775 -31.140379 -31.281462\n",
      " -30.35758  -31.161503 -31.704252 -31.430943 -31.279734 -31.618904\n",
      " -30.949778 -31.195341 -31.200954 -31.063644 -31.266636 -30.677748\n",
      " -31.64753  -31.974203 -32.363987 -32.139866 -32.537006 -31.790451\n",
      " -30.79495  -30.966629 -30.944328 -31.440218 -31.853916 -31.097975\n",
      " -31.422316 -30.79656  -30.961063 -31.072033 -31.682138 -31.639498\n",
      " -30.58293  -30.583065 -31.513134 -31.932087 -32.17259  -31.420792\n",
      " -31.900352 -31.776932 -31.330223 -31.927002 -31.640175 -31.497013\n",
      " -31.379509 -31.812017 -31.502113 -30.698988 -30.066101 -31.104473\n",
      " -31.25172  -31.874943 -31.310345 -31.356936 -30.199554 -30.772015\n",
      " -31.752504 -31.978094 -31.612299 -31.715206 -31.103182 -31.16735\n",
      " -31.085262 -31.443392 -31.574442 -31.282135 -31.30717  -31.474766\n",
      " -32.042694 -32.421227 -31.215342 -31.454855 -31.449287 -30.677996\n",
      " -30.665026 -31.430008 -31.526047 -31.375456 -31.289122 -31.315666\n",
      " -32.059616 -32.29681  -29.664585] -99.06997\n"
     ]
    },
    {
     "name": "stdout",
     "output_type": "stream",
     "text": [
      "[-45.746037 -44.5983   -44.169594 -44.01004  -44.149757 -44.39017\n",
      " -44.404865 -44.440414 -44.31617  -43.998394 -44.142525 -44.178196\n",
      " -44.39927  -44.53679  -44.401024 -44.02443  -45.068954] -106.57518\n",
      "[-42.271137 -41.206535 -41.357674 -41.18709  -41.466896 -41.369293\n",
      " -40.99427  -41.50214  -41.770954 -41.44469  -41.56337  -41.649742\n",
      " -41.295906 -41.355583 -41.146805 -40.977474 -40.981434 -41.41179\n",
      " -41.302097 -41.281517 -41.001297 -41.199326 -41.57478  -41.41936\n",
      " -41.305084 -41.226776 -40.92979  -41.24794  -41.365997 -41.18496\n",
      " -40.861736 -41.124786 -41.797382] -104.92849\n",
      "[-39.543217 -38.502842 -38.813946 -38.308125 -37.806473 -37.689888\n",
      " -37.990246 -38.080585 -38.131668 -38.055843 -37.78165  -37.756252\n",
      " -38.690693 -38.578182 -38.217087 -38.19565  -38.338955 -38.403687\n",
      " -37.98812  -37.882126 -37.9619   -38.639343 -38.662678 -38.244442\n",
      " -37.7937   -37.549255 -38.28956  -38.003864 -38.02523  -37.92183\n",
      " -37.75271  -38.31744  -38.06331  -38.3037   -38.492764 -38.822525\n",
      " -38.171227 -37.78952  -38.276222 -38.490612 -37.68183  -37.859432\n",
      " -37.839844 -37.826088 -37.93557  -38.408497 -38.35465  -38.058167\n",
      " -37.981983 -38.13703  -37.73924  -37.92974  -37.99487  -37.946632\n",
      " -38.34496  -38.5507   -38.653904 -38.391914 -38.448326 -38.466534\n",
      " -38.126892 -38.19708  -38.595295 -38.57331  -40.06967 ] -101.81501\n",
      "[-36.404587 -35.474476 -35.01355  -34.965977 -35.064667 -35.15715\n",
      " -35.51411  -35.147217 -35.783123 -36.251476 -35.354294 -36.297695\n",
      " -35.71107  -35.280888 -35.055832 -35.460693 -35.02498  -34.85261\n",
      " -36.06709  -36.27835  -36.143166 -36.312325 -36.01282  -35.335632\n",
      " -34.904327 -35.234306 -35.19669  -35.088757 -35.009087 -34.9813\n",
      " -35.18181  -35.209625 -35.152645 -34.758068 -34.439415 -35.333893\n",
      " -34.851032 -35.000725 -35.06126  -34.751034 -34.97069  -34.69802\n",
      " -34.071037 -34.256454 -35.273087 -35.420444 -34.979736 -34.724884\n",
      " -34.621788 -35.234142 -35.413906 -35.477123 -35.582035 -35.615067\n",
      " -35.289623 -35.152763 -34.50362  -34.89706  -35.85674  -36.207428\n",
      " -35.8564   -35.22135  -35.303513 -36.01465  -36.256874 -36.29708\n",
      " -35.70315  -35.42638  -35.160545 -35.686375 -35.152866 -34.622437\n",
      " -34.438942 -35.350204 -35.96197  -35.708263 -35.43812  -36.609142\n",
      " -35.92682  -34.956223 -35.22719  -35.90248  -36.17256  -35.07935\n",
      " -35.600544 -35.794006 -35.457092 -35.784554 -35.317245 -34.178608\n",
      " -33.940453 -34.493984 -34.74909  -35.294777 -36.004765 -36.05993\n",
      " -35.023216 -34.948837 -34.835476 -34.86537  -35.07216  -34.33885\n",
      " -34.425205 -34.986042 -35.492474 -35.471336 -35.68384  -34.626305\n",
      " -34.352848 -34.965916 -35.09415  -35.693245 -35.767292 -34.797012\n",
      " -34.54017  -35.09437  -35.152313 -35.46524  -35.482983 -35.51368\n",
      " -34.63923  -34.763737 -35.40715  -35.48484  -35.531425 -35.686043\n",
      " -35.260372 -34.91423  -35.364548] -99.06997\n",
      "[-42.233047 -42.672333 -42.63537  -42.392418 -42.630642 -42.69665\n",
      " -42.48548  -42.61322  -42.66779  -42.38032  -42.363358 -42.667583\n",
      " -42.754055 -42.45476  -42.48145  -42.416237 -42.296463] -106.57518\n",
      "[-39.251057 -39.795273 -39.50873  -39.354713 -39.13928  -39.19248\n",
      " -39.349514 -39.29708  -39.65813  -39.77315  -39.89916  -40.007248\n",
      " -39.6448   -39.55788  -39.69397  -39.421707 -39.587162 -39.234528\n",
      " -39.324028 -39.37417  -39.50288  -39.572594 -39.317383 -39.045803\n",
      " -39.3463   -39.669594 -39.814434 -39.821167 -39.706493 -39.536327\n",
      " -39.45389  -39.55044  -38.79866 ] -104.92849\n",
      "[-37.024364 -36.768322 -36.37913  -36.838985 -36.28713  -36.665794\n",
      " -36.596664 -36.817528 -36.665493 -36.507072 -36.225407 -36.344154\n",
      " -36.594334 -36.8904   -36.782196 -36.66963  -36.399548 -36.176434\n",
      " -36.69259  -36.378212 -36.22486  -36.17667  -36.31085  -36.10248\n",
      " -36.691387 -37.4602   -36.9784   -37.000336 -36.87133  -36.041664\n",
      " -35.82724  -35.95693  -36.272724 -36.312115 -36.394836 -36.454758\n",
      " -36.315453 -36.639843 -36.942635 -36.25453  -35.898975 -36.008827\n",
      " -36.732986 -36.817314 -36.193073 -36.427956 -36.47166  -36.312836\n",
      " -36.342064 -36.626053 -36.25964  -36.81959  -37.026863 -36.59108\n",
      " -36.888596 -36.755375 -36.585114 -36.436077 -36.521225 -37.056274\n",
      " -37.229504 -36.90995  -36.714622 -36.717636 -35.927334] -101.81501\n",
      "[-34.514744 -33.507618 -33.823925 -33.249798 -33.82082  -33.375763\n",
      " -33.325676 -33.65894  -33.887157 -33.740383 -34.069378 -33.692196\n",
      " -33.367996 -33.79238  -32.99099  -33.105927 -33.915833 -33.142876\n",
      " -32.14881  -32.430424 -33.426163 -34.07937  -33.468407 -33.008736\n",
      " -32.930103 -32.927746 -32.66244  -33.469814 -33.85064  -33.619873\n",
      " -33.78435  -33.60152  -33.75069  -33.926964 -33.821285 -34.34639\n",
      " -34.398514 -33.299473 -32.856445 -33.45062  -33.931145 -33.718094\n",
      " -34.18925  -34.00979  -33.28618  -33.813614 -34.727894 -33.582916\n",
      " -33.461544 -34.056023 -33.7751   -33.473454 -33.598    -34.6474\n",
      " -34.5722   -34.142063 -33.832535 -33.0501   -32.951744 -33.219753\n",
      " -33.40382  -33.76424  -34.49888  -34.17618  -33.90862  -33.433098\n",
      " -32.409103 -32.518818 -33.434467 -33.42162  -33.130253 -33.575825\n",
      " -34.014885 -35.06898  -34.668995 -34.006966 -33.65296  -33.247757\n",
      " -33.08826  -34.063007 -33.221165 -32.998108 -33.28836  -33.39167\n",
      " -32.69327  -33.189926 -34.064465 -33.3566   -34.225883 -33.79313\n",
      " -32.714725 -32.859314 -33.364685 -33.1942   -33.092003 -34.030373\n",
      " -34.501064 -33.788082 -33.1403   -33.786335 -34.127827 -34.052628\n",
      " -34.044037 -33.39061  -32.881123 -33.682117 -33.662556 -33.194942\n",
      " -33.398872 -33.27973  -33.741364 -33.71891  -33.347427 -33.67067\n",
      " -33.481102 -33.481876 -33.23387  -33.588257 -33.65861  -34.364864\n",
      " -33.799942 -33.231308 -33.561737 -33.278366 -33.85416  -34.129124\n",
      " -33.859756 -33.69165  -33.611423] -99.06997\n",
      "[-38.285812 -40.356018 -40.207817 -40.26308  -40.56406  -40.70706\n",
      " -40.55939  -40.44315  -40.384758 -40.502567 -40.23011  -40.54561\n",
      " -39.861706 -39.87593  -40.434803 -40.390015 -38.677727] -106.57518\n",
      "[-35.665817 -37.324444 -37.4351   -37.1811   -37.31299  -37.397938\n",
      " -37.231915 -37.492443 -37.127724 -37.203426 -37.39686  -37.287018\n",
      " -37.128265 -37.24036  -37.22097  -36.90451  -36.99875  -37.34342\n",
      " -37.138298 -36.905003 -37.288765 -37.02591  -37.262577 -36.767574\n",
      " -37.49579  -37.44351  -37.032513 -37.47609  -37.32395  -37.234028\n",
      " -37.264145 -36.73267  -34.57606 ] -104.92849\n",
      "[-31.758259 -34.42914  -34.682194 -34.639282 -34.033405 -35.17209\n",
      " -34.501427 -33.700207 -33.58074  -34.005016 -33.998425 -34.058537\n",
      " -33.89956  -33.842873 -33.760353 -34.553062 -34.92452  -34.647266\n",
      " -34.359413 -34.192383 -34.477848 -34.45426  -33.978405 -33.82515\n",
      " -34.404602 -34.587902 -34.09026  -34.74469  -34.307636 -34.681778\n",
      " -34.730625 -34.512547 -34.01154  -33.659687 -33.845943 -33.81287\n",
      " -34.363853 -34.29679  -34.552605 -34.340645 -34.314117 -34.539978\n",
      " -33.63107  -34.038754 -33.651104 -34.077785 -34.1921   -34.624912\n",
      " -34.77584  -34.705704 -34.4194   -34.15503  -34.01789  -34.552082\n",
      " -34.203022 -34.363068 -33.839584 -34.045853 -33.61748  -34.3132\n",
      " -34.317005 -33.94222  -34.294643 -34.246803 -32.56457 ] -101.81501\n",
      "[-28.55589  -31.694149 -30.995176 -30.966837 -31.387188 -30.467999\n",
      " -30.901022 -31.490889 -31.715284 -31.894022 -30.328333 -30.846169\n",
      " -30.741985 -31.529629 -31.912277 -31.523788 -30.981646 -30.739841\n",
      " -31.219994 -31.293335 -32.013885 -31.68966  -31.309263 -31.192036\n",
      " -30.600769 -32.37531  -32.57121  -31.280502 -31.22558  -31.32592\n",
      " -31.581793 -30.991844 -31.634712 -30.773922 -31.39895  -31.215591\n",
      " -30.897343 -31.420197 -31.179565 -30.828562 -31.312344 -30.768303\n",
      " -31.234978 -31.442158 -30.770819 -30.874651 -30.918024 -31.138361\n",
      " -31.042866 -31.22292  -31.615618 -31.669155 -31.546993 -31.686192\n",
      " -31.835674 -30.956886 -31.224983 -31.344109 -31.839943 -31.325893\n",
      " -31.798903 -31.1509   -30.09002  -30.759775 -31.510962 -31.759886\n",
      " -31.841461 -31.02063  -30.610146 -31.574173 -32.11467  -31.99862\n",
      " -31.76015  -31.57808  -32.44007  -31.21608  -30.654839 -31.301527\n",
      " -31.150526 -31.140999 -31.811714 -31.83538  -31.328014 -30.971151\n",
      " -30.938915 -31.054482 -32.10491  -31.749283 -30.856335 -30.770147\n",
      " -30.800465 -31.283775 -31.03403  -31.902664 -32.157112 -31.02221\n",
      " -30.647293 -31.1097   -31.48001  -31.461803 -31.365631 -31.934967\n",
      " -31.121084 -31.06397  -31.48082  -30.660358 -31.888714 -32.29256\n",
      " -32.30532  -31.856537 -31.86528  -32.04417  -31.927221 -32.408463\n",
      " -31.901617 -32.16231  -31.088215 -31.510073 -31.604496 -30.910652\n",
      " -29.986578 -30.423874 -31.265448 -31.083223 -30.974243 -30.804379\n",
      " -31.385887 -31.853836 -29.91663 ] -99.06997\n"
     ]
    },
    {
     "name": "stdout",
     "output_type": "stream",
     "text": [
      "[-44.247593 -43.342587 -43.353233 -43.42925  -43.55685  -43.478493\n",
      " -43.68562  -43.830368 -43.773087 -43.794415 -43.721203 -43.505463\n",
      " -43.19806  -43.442947 -43.385185 -43.42247  -44.01236 ] -106.16701\n",
      "[-40.770226 -40.394703 -40.77107  -41.033268 -40.90913  -40.60619\n",
      " -40.64979  -40.558643 -40.94093  -40.728985 -40.70345  -40.291824\n",
      " -40.10021  -40.095642 -40.25636  -40.318604 -40.26775  -40.50872\n",
      " -40.541195 -40.503414 -40.45375  -40.815346 -40.751965 -40.53883\n",
      " -40.308533 -40.689415 -40.48615  -40.417442 -40.527824 -40.660442\n",
      " -40.60726  -40.13698  -41.437134] -103.95833\n",
      "[-38.16344  -37.490433 -37.725025 -37.644455 -37.329597 -37.392075\n",
      " -37.779747 -38.271744 -37.775463 -37.59177  -37.27338  -36.768623\n",
      " -37.50922  -37.433838 -37.185375 -37.869053 -37.95862  -37.16789\n",
      " -37.71414  -37.0789   -36.638504 -36.82541  -37.29629  -37.826084\n",
      " -37.74326  -37.882965 -37.609436 -37.346756 -38.006496 -37.395947\n",
      " -37.37849  -37.774883 -37.168015 -36.981606 -37.176228 -37.931522\n",
      " -38.41087  -37.82328  -37.089626 -37.28018  -37.89361  -37.73727\n",
      " -37.068935 -37.691723 -37.42355  -37.69188  -36.961082 -36.789597\n",
      " -37.442677 -37.530537 -37.71372  -37.4772   -37.264885 -37.828876\n",
      " -38.087494 -37.562073 -37.57735  -37.6617   -37.65172  -37.08246\n",
      " -37.602547 -37.90649  -38.04076  -37.085594 -37.572548] -99.86254\n",
      "[-36.797543 -34.789207 -34.555473 -34.84639  -34.776768 -34.243267\n",
      " -34.051403 -33.522327 -34.46004  -34.727455 -35.101685 -35.389557\n",
      " -33.59117  -33.288967 -33.718433 -34.380085 -34.52516  -35.202618\n",
      " -35.626183 -34.869766 -34.38825  -34.340748 -34.204636 -34.81664\n",
      " -35.061363 -35.566803 -34.535202 -34.15535  -35.191795 -35.313053\n",
      " -34.65558  -34.126083 -35.07495  -35.58281  -34.988197 -34.551926\n",
      " -35.021393 -35.27791  -34.830463 -34.470837 -35.59049  -34.50861\n",
      " -34.906925 -34.83051  -35.310852 -35.057045 -34.238506 -33.832348\n",
      " -34.832947 -34.86677  -34.417835 -34.172062 -34.596466 -34.084236\n",
      " -34.20902  -34.252144 -34.55603  -34.511696 -35.000782 -35.047005\n",
      " -34.08101  -34.79065  -35.274075 -35.004444 -35.03601  -35.22099\n",
      " -34.81635  -34.160988 -34.963474 -34.612457 -34.30943  -34.795856\n",
      " -34.610973 -34.481895 -34.523994 -34.654587 -34.02112  -34.384247\n",
      " -34.188248 -34.54775  -34.916553 -34.78175  -34.609352 -34.564323\n",
      " -34.490036 -34.52004  -34.757942 -34.992565 -34.314487 -35.16646\n",
      " -34.817432 -34.776814 -34.62112  -35.137722 -34.698223 -34.244946\n",
      " -34.54233  -34.029488 -33.77046  -33.368103 -34.56061  -34.53613\n",
      " -33.769505 -34.15695  -34.213646 -34.343536 -35.047626 -35.07963\n",
      " -35.356953 -35.675587 -35.052288 -34.377716 -34.682457 -34.876045\n",
      " -34.217434 -33.95912  -33.861103 -34.259205 -34.68424  -34.851948\n",
      " -34.779415 -35.077126 -34.836273 -34.19565  -33.685085 -34.199516\n",
      " -35.161026 -34.78393  -35.488716] -97.625046\n",
      "[-42.233864 -41.96983  -41.887802 -41.927258 -41.97564  -41.562122\n",
      " -41.667183 -42.206364 -42.04573  -41.606804 -41.6262   -41.918095\n",
      " -42.091602 -41.773743 -41.732674 -41.79922  -41.982758] -106.16701\n",
      "[-37.748817 -38.674965 -38.811504 -38.485798 -38.810043 -38.820854\n",
      " -38.43859  -38.85485  -38.75499  -38.804325 -38.79171  -38.697956\n",
      " -38.81218  -38.99137  -38.842274 -39.153156 -39.053696 -38.956993\n",
      " -39.035496 -38.934402 -39.20823  -39.221653 -38.811306 -38.74863\n",
      " -38.960625 -39.048428 -39.114704 -38.979942 -38.818386 -38.77228\n",
      " -38.831764 -38.833557 -38.983807] -103.95833\n",
      "[-35.22546  -36.004772 -36.053085 -35.827423 -36.30194  -36.00868\n",
      " -35.937653 -35.999588 -36.249878 -35.998566 -35.742397 -35.80882\n",
      " -36.38858  -36.08858  -36.50202  -36.3452   -35.474228 -35.745235\n",
      " -35.8793   -35.718437 -35.328144 -35.76787  -36.53867  -36.661453\n",
      " -36.036663 -35.12029  -35.430813 -35.927486 -35.61078  -35.696808\n",
      " -35.932644 -35.92182  -35.34323  -35.843414 -35.85737  -35.96997\n",
      " -35.8559   -36.063713 -36.178543 -35.944004 -36.13488  -36.5225\n",
      " -35.554977 -35.60785  -36.16274  -35.55236  -35.95388  -36.61302\n",
      " -36.32099  -35.803764 -36.13247  -36.058952 -35.70309  -35.868732\n",
      " -36.09675  -35.752518 -35.947678 -35.823025 -35.38794  -35.735596\n",
      " -36.470463 -36.014668 -35.857555 -35.47795  -35.37491 ] -99.86254\n",
      "[-31.925394 -33.00346  -32.638294 -33.049793 -33.61755  -33.527813\n",
      " -32.825638 -33.138138 -32.843975 -32.670845 -33.05697  -33.043488\n",
      " -32.338737 -32.449104 -32.85066  -33.571365 -33.86152  -33.1098\n",
      " -32.98123  -34.471684 -33.536835 -33.189766 -33.02493  -33.03133\n",
      " -33.464993 -32.971172 -33.35487  -33.806892 -33.084103 -33.11024\n",
      " -32.645767 -33.092445 -33.44204  -32.688354 -32.575623 -32.71732\n",
      " -32.18152  -32.317112 -32.167236 -32.923626 -33.019592 -33.528164\n",
      " -33.447525 -32.04045  -32.554207 -33.091816 -33.5067   -33.025314\n",
      " -32.23587  -32.496025 -32.22531  -32.660145 -33.491318 -33.629173\n",
      " -32.89257  -33.63452  -33.319004 -32.971672 -32.563953 -32.878033\n",
      " -32.682022 -32.861195 -32.791634 -32.584442 -33.376633 -33.197388\n",
      " -32.901707 -33.267433 -33.25065  -32.94667  -33.182415 -32.806053\n",
      " -33.0447   -32.836494 -32.137337 -33.10115  -33.4458   -32.65483\n",
      " -32.708477 -33.1255   -33.316315 -33.44038  -33.156273 -32.19614\n",
      " -31.956896 -32.55403  -32.48036  -32.19158  -32.67412  -32.580887\n",
      " -32.725662 -32.46935  -32.9998   -33.52472  -32.992435 -32.63929\n",
      " -33.32211  -33.711914 -33.706947 -33.833965 -33.98642  -33.14327\n",
      " -32.551033 -32.645752 -33.185726 -33.313633 -33.382057 -32.96135\n",
      " -33.157932 -33.74603  -33.343285 -32.65812  -32.828655 -32.52329\n",
      " -32.78993  -32.706177 -32.918465 -33.32592  -33.172924 -33.20411\n",
      " -32.79908  -32.584846 -32.488873 -32.40605  -33.3031   -32.892944\n",
      " -33.11165  -33.323032 -32.117245] -97.625046\n",
      "[-37.626427 -39.583862 -39.547283 -39.583103 -39.306747 -39.75858\n",
      " -39.771008 -39.792526 -39.732536 -39.64756  -39.79468  -39.629673\n",
      " -39.709972 -39.370693 -39.36312  -39.327564 -37.52069 ] -106.16701\n",
      "[-34.404007 -36.282322 -36.61868  -36.551117 -36.338844 -36.67982\n",
      " -36.4283   -35.96952  -36.360237 -36.55384  -37.006554 -37.075134\n",
      " -36.800877 -36.56726  -36.65287  -36.92499  -36.509815 -36.56181\n",
      " -36.915337 -37.00579  -36.762226 -36.730488 -36.547764 -36.82388\n",
      " -37.04381  -36.42257  -36.624844 -36.55612  -36.77572  -36.414696\n",
      " -36.664734 -37.11966  -35.065384] -103.95833\n",
      "[-32.09189  -33.86767  -33.90927  -33.475586 -33.603836 -33.88275\n",
      " -33.991653 -33.97476  -34.50172  -34.482723 -33.60053  -33.83968\n",
      " -34.39257  -34.19972  -33.97115  -34.061363 -34.092854 -33.287476\n",
      " -33.881252 -33.38397  -33.485027 -33.59422  -33.573544 -33.465958\n",
      " -33.559177 -33.279842 -33.830643 -33.501347 -33.72413  -34.326874\n",
      " -34.05909  -33.65892  -33.759224 -34.061134 -34.670647 -33.59469\n",
      " -33.689445 -33.817554 -33.435497 -33.269386 -33.710453 -33.57056\n",
      " -34.065525 -33.934917 -33.705032 -33.490005 -34.04599  -34.747795\n",
      " -33.96111  -33.994797 -33.740612 -34.079014 -33.995354 -33.382492\n",
      " -33.159313 -33.369762 -34.12296  -34.215115 -33.632343 -33.108475\n",
      " -33.57153  -33.967365 -34.015247 -34.033012 -31.798601] -99.86254\n",
      "[-28.885605 -30.912498 -31.21664  -31.586277 -30.397545 -30.779577\n",
      " -30.448717 -30.49553  -30.69648  -30.404453 -30.594505 -30.912577\n",
      " -31.534061 -31.109077 -30.594612 -30.782999 -30.459051 -30.482391\n",
      " -30.375116 -31.117296 -31.121948 -31.236637 -31.653072 -31.46676\n",
      " -30.75671  -30.520123 -30.53013  -30.653    -30.756924 -30.511883\n",
      " -31.674265 -30.930315 -30.71571  -31.075039 -30.59357  -30.120972\n",
      " -31.157015 -30.59053  -30.732878 -30.836906 -30.581326 -30.965975\n",
      " -30.869156 -31.134233 -30.866507 -30.631794 -31.073812 -29.904547\n",
      " -29.651005 -30.109842 -30.215393 -30.071245 -30.25924  -30.385126\n",
      " -30.405613 -30.041805 -29.95417  -30.36877  -29.85155  -30.63403\n",
      " -30.951138 -30.214264 -30.44823  -30.808523 -31.806852 -31.152454\n",
      " -30.721573 -30.65092  -29.851942 -30.44392  -31.16653  -30.671179\n",
      " -30.951723 -30.711914 -30.675323 -31.251663 -30.687952 -30.666594\n",
      " -30.807388 -30.507936 -30.307573 -31.135632 -30.691929 -30.803318\n",
      " -30.796799 -30.527092 -30.16821  -31.488604 -31.070423 -30.600262\n",
      " -30.683071 -30.69173  -30.562973 -29.77053  -30.096031 -30.488157\n",
      " -30.717861 -31.341246 -30.712914 -30.918373 -31.024765 -30.993113\n",
      " -31.014606 -30.470287 -30.564415 -30.761917 -30.29363  -31.474886\n",
      " -31.174099 -31.442337 -31.792866 -31.579157 -31.110123 -30.765985\n",
      " -30.309008 -30.13159  -30.34336  -30.755127 -31.180592 -31.082407\n",
      " -31.641577 -30.571571 -30.62412  -31.532274 -31.311592 -29.862701\n",
      " -30.421322 -31.094269 -30.264977] -97.625046\n"
     ]
    },
    {
     "name": "stdout",
     "output_type": "stream",
     "text": [
      "[-44.806786 -43.574173 -43.395576 -43.588814 -43.424644 -43.47985\n",
      " -43.29165  -43.271324 -43.349762 -43.49175  -43.63778  -43.847168\n",
      " -43.402718 -43.511627 -43.91775  -43.996326 -44.69651 ] -106.16701\n",
      "[-42.181007 -40.923656 -40.83464  -40.773003 -40.402927 -40.055153\n",
      " -40.37394  -40.6815   -40.697918 -40.633102 -40.383953 -40.470364\n",
      " -40.630013 -40.79532  -40.31506  -40.310055 -40.407543 -40.278645\n",
      " -40.27002  -40.52128  -40.578423 -40.32813  -40.808876 -40.74108\n",
      " -40.59034  -40.88432  -41.043762 -40.543613 -40.577385 -40.655674\n",
      " -40.480293 -40.410873 -41.120094] -103.95833\n",
      "[-39.38417  -37.573452 -37.371754 -37.605648 -37.761143 -37.551125\n",
      " -37.334995 -37.509888 -38.529224 -38.479435 -38.420235 -37.68143\n",
      " -37.878395 -37.57585  -37.399998 -37.53197  -37.83605  -37.560326\n",
      " -38.12575  -37.77372  -37.90164  -37.640636 -37.3211   -37.61388\n",
      " -37.86994  -37.52439  -37.69286  -37.79369  -37.554398 -37.49171\n",
      " -37.923172 -38.030773 -37.741833 -37.398785 -36.767685 -37.583523\n",
      " -37.924458 -37.70873  -37.25232  -37.643726 -37.977535 -38.009026\n",
      " -38.246326 -37.935196 -37.33332  -36.9572   -37.338505 -37.245872\n",
      " -37.065308 -37.646366 -37.493923 -37.109615 -37.436317 -37.37342\n",
      " -37.450745 -37.88074  -37.731426 -37.79142  -37.879322 -37.151978\n",
      " -37.0886   -37.248764 -37.488995 -37.874035 -39.808304] -99.86254\n",
      "[-34.054028 -34.27685  -35.347805 -35.216076 -34.39705  -33.633327\n",
      " -34.487797 -34.14714  -34.580612 -34.62625  -34.5493   -34.173374\n",
      " -34.194004 -34.97089  -34.793663 -34.081886 -34.399185 -34.36958\n",
      " -34.74811  -34.411095 -33.664574 -33.76167  -34.616295 -34.384495\n",
      " -34.082466 -34.259064 -33.67856  -33.680256 -34.533257 -35.31923\n",
      " -35.009148 -34.21268  -34.778843 -35.098503 -34.39914  -33.65887\n",
      " -34.65873  -35.03475  -34.056953 -33.977947 -34.328667 -35.484226\n",
      " -34.789413 -34.825245 -34.145412 -34.015995 -33.73397  -34.295803\n",
      " -34.975838 -34.483196 -33.92498  -34.448242 -34.912888 -34.763863\n",
      " -34.304592 -34.374058 -34.692303 -33.827473 -34.720676 -35.522404\n",
      " -34.48536  -34.217525 -33.66977  -33.491314 -33.87021  -34.973454\n",
      " -35.029644 -34.24556  -34.45659  -34.733475 -34.39322  -34.033092\n",
      " -34.33752  -33.998085 -33.959946 -33.792015 -34.835297 -34.032238\n",
      " -34.027588 -33.58547  -34.20064  -35.120987 -35.187813 -35.66428\n",
      " -35.514816 -35.665092 -35.198208 -33.79599  -34.320717 -34.62365\n",
      " -34.30807  -34.1581   -34.18177  -34.07786  -33.866547 -34.348396\n",
      " -34.622807 -34.225197 -34.18805  -34.47843  -34.986576 -34.88885\n",
      " -34.914337 -35.150146 -35.069485 -34.3823   -34.271526 -34.293938\n",
      " -34.168354 -34.404896 -35.096123 -34.240334 -34.268612 -34.235165\n",
      " -34.158134 -34.527897 -34.63948  -34.475758 -35.047253 -35.39301\n",
      " -35.17079  -34.40471  -34.469234 -35.356544 -35.785694 -35.387283\n",
      " -34.07911  -34.154007 -35.754215] -97.625046\n",
      "[-41.656364 -41.966373 -42.079548 -41.98399  -42.051426 -41.852444\n",
      " -41.690502 -41.992565 -41.94248  -41.543102 -41.484127 -41.75435\n",
      " -41.506878 -41.52044  -41.59403  -41.749012 -41.550495] -106.16701\n",
      "[-38.55537  -38.885468 -38.665623 -38.926804 -39.501072 -39.37056\n",
      " -39.16974  -38.8858   -39.073303 -39.271484 -38.992714 -38.685978\n",
      " -38.613445 -38.58243  -38.43255  -38.781033 -38.845142 -38.549294\n",
      " -38.40115  -38.67937  -38.918964 -39.11029  -38.8727   -38.70597\n",
      " -39.240044 -39.60157  -39.302734 -39.06167  -39.24     -39.18218\n",
      " -38.95207  -38.858685 -38.42403 ] -103.95833\n",
      "[-35.276554 -36.131866 -36.261314 -36.495636 -36.429947 -36.842747\n",
      " -36.295227 -35.94256  -35.706493 -35.517082 -35.723328 -35.96597\n",
      " -35.3693   -35.24014  -35.890663 -35.986935 -35.827835 -36.306908\n",
      " -36.4234   -36.5251   -36.60641  -36.030228 -35.74798  -36.154873\n",
      " -36.153706 -36.01981  -36.322174 -36.056732 -35.601017 -35.12095\n",
      " -35.5075   -36.17224  -35.43701  -35.349487 -35.712837 -35.730125\n",
      " -35.90717  -36.287045 -36.300385 -36.24466  -35.99215  -36.163692\n",
      " -36.2838   -35.918324 -35.85801  -35.96116  -36.223217 -36.330143\n",
      " -36.418694 -36.139256 -35.825764 -35.77968  -35.874195 -36.547447\n",
      " -36.15457  -36.07201  -36.05951  -35.62084  -35.64261  -36.297733\n",
      " -36.09939  -35.72103  -35.810596 -35.841873 -35.922676] -99.86254\n",
      "[-33.294037 -33.269897 -33.10934  -32.727646 -32.448135 -33.380318\n",
      " -33.741314 -33.628933 -32.37532  -32.377876 -32.866165 -31.984941\n",
      " -32.36694  -32.84761  -32.412216 -32.36981  -33.58359  -33.67431\n",
      " -33.36383  -33.330307 -33.057655 -33.186573 -33.146408 -32.79226\n",
      " -33.321404 -32.91796  -32.568825 -33.21702  -32.686733 -32.42681\n",
      " -32.904366 -32.799454 -31.909624 -32.796185 -33.458385 -32.998104\n",
      " -33.197536 -33.012535 -33.077343 -33.119843 -32.952732 -32.762325\n",
      " -32.3838   -32.36236  -32.882233 -33.19885  -34.06869  -33.021465\n",
      " -32.910072 -32.358326 -32.84205  -33.170982 -32.980637 -32.46648\n",
      " -32.94706  -33.37324  -32.92543  -33.189026 -33.599274 -33.358883\n",
      " -33.691017 -33.1135   -32.546947 -33.28788  -33.253624 -33.564476\n",
      " -33.489674 -33.421185 -33.708008 -33.561565 -33.845474 -33.535187\n",
      " -32.89759  -32.434822 -32.39725  -32.61997  -32.33813  -32.13601\n",
      " -32.81416  -32.885983 -33.306076 -33.486767 -33.19259  -33.273785\n",
      " -33.02665  -32.83727  -33.001385 -32.36631  -32.800674 -33.757435\n",
      " -33.527966 -33.304325 -32.52052  -32.575665 -33.788105 -33.202797\n",
      " -32.846935 -33.647507 -33.381813 -32.657566 -32.896072 -33.927166\n",
      " -33.53043  -32.9646   -32.88173  -32.916397 -32.428577 -32.276928\n",
      " -32.452713 -32.45688  -32.912926 -33.47047  -32.634007 -33.07993\n",
      " -33.31996  -32.556915 -33.153896 -33.104694 -33.06622  -33.10941\n",
      " -33.120575 -32.925476 -32.617664 -32.729576 -32.891396 -32.561157\n",
      " -32.064667 -32.817383 -33.43215 ] -97.625046\n",
      "[-37.56057  -39.288887 -39.321407 -39.286613 -39.583664 -39.5354\n",
      " -39.625645 -39.775585 -39.677563 -39.604443 -39.547382 -39.847126\n",
      " -39.767788 -39.845985 -39.53627  -39.469975 -37.48793 ] -106.16701\n",
      "[-34.748756 -36.54995  -36.923004 -36.92625  -36.576366 -36.41303\n",
      " -36.772926 -36.561462 -35.99532  -36.454185 -36.664406 -36.78709\n",
      " -36.392834 -36.470673 -36.413227 -36.787037 -36.66343  -37.22789\n",
      " -36.78754  -36.9404   -37.0044   -37.492676 -37.037437 -36.37576\n",
      " -36.518387 -37.09533  -36.637695 -36.406948 -36.611797 -36.433212\n",
      " -36.70286  -36.392902 -34.021713] -103.95833\n",
      "[-31.763218 -34.22238  -34.315945 -33.534973 -34.03768  -33.95088\n",
      " -33.239754 -33.62521  -33.334957 -33.69272  -33.885918 -33.894085\n",
      " -33.7105   -33.728416 -33.457897 -33.822803 -34.26789  -34.238316\n",
      " -33.866653 -34.04951  -33.835228 -34.3264   -33.55928  -33.80198\n",
      " -33.79248  -33.48804  -33.619755 -33.6496   -33.05822  -32.94162\n",
      " -33.187424 -33.71331  -33.784653 -33.34234  -33.712074 -33.693707\n",
      " -33.769463 -33.529007 -33.14734  -33.87378  -34.034554 -33.768806\n",
      " -33.662857 -33.76498  -33.537735 -33.431377 -32.820194 -32.63348\n",
      " -33.007618 -33.718292 -34.590153 -33.87004  -33.577576 -34.300026\n",
      " -34.375286 -33.90821  -33.875107 -33.602673 -33.812435 -33.821815\n",
      " -34.1655   -33.590275 -33.51109  -33.65089  -31.555687] -99.86254\n",
      "[-28.641361 -30.215828 -30.59029  -30.552841 -30.555481 -30.885471\n",
      " -30.402418 -30.560514 -30.091087 -30.94712  -30.03361  -30.100422\n",
      " -30.1385   -30.04424  -30.591496 -30.505857 -29.681917 -30.572971\n",
      " -30.5032   -30.409342 -29.601696 -29.705427 -31.127317 -31.01506\n",
      " -30.81461  -30.351637 -30.407389 -30.775394 -31.510609 -30.576496\n",
      " -29.836824 -30.407291 -31.160767 -30.57795  -30.47287  -29.896833\n",
      " -30.582342 -31.03828  -31.0056   -31.355757 -31.28969  -30.620195\n",
      " -30.751137 -30.075321 -31.087336 -31.50027  -31.481197 -30.181149\n",
      " -29.808975 -29.422619 -30.112011 -30.606682 -31.023836 -30.563097\n",
      " -29.771053 -30.93742  -31.578783 -30.574085 -30.152636 -29.673239\n",
      " -30.840487 -31.61072  -31.024765 -30.301899 -30.492561 -31.288128\n",
      " -30.803963 -30.662834 -30.288757 -30.221601 -30.302368 -29.888227\n",
      " -30.74741  -31.043146 -30.41447  -29.98325  -30.698849 -30.875664\n",
      " -30.478899 -30.518055 -30.855444 -31.74145  -31.166054 -30.63996\n",
      " -30.356316 -30.742931 -31.778042 -30.774765 -30.6334   -30.24759\n",
      " -30.180172 -30.825659 -30.628098 -30.846767 -30.9291   -30.416307\n",
      " -30.670359 -30.464031 -30.210823 -30.210777 -30.083534 -30.184984\n",
      " -31.050486 -31.05006  -31.744453 -30.72073  -29.9333   -30.01249\n",
      " -30.340176 -30.553333 -31.104548 -31.45811  -31.29429  -30.80335\n",
      " -30.79546  -31.589592 -30.251963 -30.40791  -31.287971 -29.871735\n",
      " -30.791525 -31.283455 -30.41879  -30.200602 -29.685604 -30.223104\n",
      " -30.857145 -30.910767 -29.101555] -97.625046\n"
     ]
    },
    {
     "name": "stdout",
     "output_type": "stream",
     "text": [
      "[-44.156513 -43.450947 -43.665142 -43.548172 -43.52775  -43.522865\n",
      " -43.70507  -43.750454 -43.414307 -43.25423  -43.340935 -43.635773\n",
      " -43.525425 -43.27984  -43.364532 -43.584106 -44.29178 ] -106.16701\n",
      "[-41.379364 -40.447712 -40.623764 -40.83654  -40.41816  -40.717003\n",
      " -41.16652  -41.22156  -41.20278  -40.64246  -40.37986  -40.64089\n",
      " -40.3718   -40.420685 -40.59239  -40.848946 -40.750614 -40.70836\n",
      " -40.24691  -40.51808  -41.00751  -40.81037  -40.610153 -40.30844\n",
      " -40.261913 -40.77963  -40.71296  -40.81916  -41.004128 -40.5434\n",
      " -40.340096 -40.39832  -41.17995 ] -103.95833\n",
      "[-38.945435 -37.927612 -37.947872 -37.569813 -37.43653  -37.620533\n",
      " -37.356686 -37.38118  -37.631226 -38.395542 -37.987465 -38.40895\n",
      " -37.840546 -37.701717 -37.62955  -37.28624  -37.52073  -37.930576\n",
      " -37.575268 -37.374218 -37.539124 -37.13204  -37.067795 -37.261036\n",
      " -37.496147 -37.679462 -37.463688 -37.58089  -37.62828  -37.833416\n",
      " -37.44066  -37.30397  -37.741493 -37.153088 -37.69331  -37.46719\n",
      " -37.14429  -37.78271  -37.495735 -37.228855 -38.016544 -37.894264\n",
      " -37.32667  -37.699764 -37.83884  -37.553158 -37.78789  -38.00101\n",
      " -37.608974 -37.941406 -38.237186 -37.661972 -37.5787   -37.51378\n",
      " -37.418667 -37.13106  -37.04974  -37.477016 -37.840263 -37.94113\n",
      " -38.0077   -38.240547 -38.27085  -37.389427 -37.96401 ] -99.86254\n",
      "[-35.179626 -34.649067 -34.321186 -33.992825 -33.978245 -34.814552\n",
      " -35.66047  -35.263996 -34.750954 -34.815613 -34.714172 -34.195892\n",
      " -34.48207  -34.76189  -34.72305  -34.605934 -34.664406 -33.988125\n",
      " -34.195835 -33.982002 -33.869305 -34.166782 -33.84484  -34.392117\n",
      " -34.646076 -34.681908 -34.83442  -35.261326 -35.61793  -34.698338\n",
      " -34.53989  -35.318027 -34.895287 -34.53302  -34.570625 -35.243317\n",
      " -33.951496 -34.27867  -35.176872 -34.84641  -35.109097 -34.76099\n",
      " -34.603497 -34.4412   -34.431    -34.95437  -35.259113 -35.486156\n",
      " -35.324463 -34.21422  -33.930225 -34.273956 -34.98645  -34.570545\n",
      " -34.548836 -34.45844  -34.490177 -34.181305 -33.641357 -34.38237\n",
      " -34.986977 -34.973164 -34.256603 -35.41851  -34.8491   -34.707184\n",
      " -34.69771  -35.190506 -34.677288 -34.315754 -34.654495 -34.64959\n",
      " -34.732357 -34.22762  -34.76327  -34.59687  -35.21192  -34.930443\n",
      " -34.50323  -34.710293 -34.251156 -34.624344 -34.57542  -34.33435\n",
      " -34.88545  -34.818104 -34.830795 -35.00343  -34.75312  -34.94374\n",
      " -34.62674  -34.926838 -34.735794 -34.666466 -34.07428  -33.706394\n",
      " -34.144676 -33.92428  -33.99807  -34.57914  -34.349846 -34.650528\n",
      " -34.374958 -34.313683 -33.64015  -34.07875  -33.651714 -34.105522\n",
      " -34.75439  -34.614227 -35.115128 -35.342735 -34.600323 -33.94983\n",
      " -33.783318 -34.676155 -34.120132 -34.329273 -35.578964 -35.011982\n",
      " -34.43818  -34.25441  -34.513416 -34.27248  -34.925915 -34.65115\n",
      " -34.78549  -34.915977 -35.08156 ] -97.625046\n",
      "[-41.355263 -41.961876 -41.834465 -41.93715  -42.212353 -42.0367\n",
      " -41.704254 -42.02201  -42.14433  -41.857315 -41.66129  -41.937298\n",
      " -42.043636 -41.753895 -41.7743   -42.020844 -41.62855 ] -106.16701\n",
      "[-38.818375 -39.33036  -39.54597  -39.20433  -38.89969  -38.98587\n",
      " -38.658703 -39.116756 -38.903038 -38.874798 -39.0149   -39.43941\n",
      " -39.323055 -38.601376 -38.805676 -39.08123  -38.787483 -38.92252\n",
      " -39.012592 -39.010273 -39.050743 -39.37605  -39.418613 -39.32248\n",
      " -39.006233 -38.608093 -38.787    -38.787704 -38.61516  -38.92049\n",
      " -39.059216 -39.513874 -38.92447 ] -103.95833\n",
      "[-35.246685 -35.558487 -36.14525  -36.281265 -35.99575  -35.698692\n",
      " -35.604317 -35.586494 -36.138798 -36.142124 -35.729244 -35.711376\n",
      " -35.537197 -35.09321  -35.80637  -35.69533  -35.195732 -35.65451\n",
      " -35.728565 -36.002422 -36.46146  -36.1421   -35.88848  -35.83191\n",
      " -36.081593 -35.725533 -35.713215 -35.46515  -36.271656 -35.83944\n",
      " -35.999294 -35.570488 -35.490818 -35.782593 -35.475616 -35.43633\n",
      " -36.20476  -36.241074 -36.34626  -35.792465 -35.710773 -36.338783\n",
      " -35.88724  -35.46406  -35.39995  -35.343994 -35.383724 -36.096317\n",
      " -35.738136 -34.99151  -35.10462  -35.612022 -36.02018  -36.28086\n",
      " -35.744606 -35.9578   -36.61754  -36.332207 -36.110626 -36.55241\n",
      " -36.480835 -35.64873  -35.87842  -36.173653 -36.000465] -99.86254\n",
      "[-33.074646 -33.344433 -33.687557 -33.615376 -32.801083 -32.2385\n",
      " -32.67014  -33.24928  -33.91055  -33.02706  -32.98814  -32.60403\n",
      " -32.574562 -32.934067 -33.669262 -33.743885 -33.105465 -32.620457\n",
      " -32.661133 -32.84897  -33.37493  -33.326515 -33.263927 -33.842175\n",
      " -33.28819  -32.406197 -33.029854 -33.67833  -33.64835  -33.784973\n",
      " -32.709393 -33.192596 -32.576714 -32.36075  -32.991745 -33.05976\n",
      " -33.046646 -32.794727 -31.944641 -32.03067  -32.283066 -32.266247\n",
      " -32.00455  -32.43945  -32.24888  -33.48549  -33.26832  -32.168373\n",
      " -32.53752  -32.90239  -32.8244   -33.60501  -33.497154 -33.37447\n",
      " -33.252346 -33.7493   -33.041016 -33.814426 -33.662144 -33.47729\n",
      " -33.329655 -33.045044 -32.795364 -33.315945 -33.115295 -32.151134\n",
      " -32.268475 -33.15597  -33.142467 -33.184345 -32.351982 -31.82434\n",
      " -32.851913 -32.906605 -33.24287  -34.22637  -33.573864 -32.941116\n",
      " -33.79669  -33.590454 -33.18884  -31.890825 -32.36805  -32.345955\n",
      " -32.81528  -33.10107  -33.18123  -32.845646 -32.94523  -33.60765\n",
      " -33.957256 -32.951797 -32.82976  -33.52884  -32.97427  -33.85071\n",
      " -33.50138  -32.945484 -32.635292 -32.375877 -32.744316 -32.69432\n",
      " -33.483257 -33.65445  -34.207146 -33.825974 -32.99611  -32.022964\n",
      " -32.165913 -32.593967 -32.15925  -32.199783 -32.700417 -32.554848\n",
      " -32.324287 -32.966793 -32.99953  -32.89936  -33.051144 -32.60087\n",
      " -32.409004 -33.118816 -33.290066 -33.31376  -32.77399  -33.14123\n",
      " -33.412235 -33.507404 -32.90568 ] -97.625046\n",
      "[-38.04754  -40.06689  -39.899082 -39.858784 -39.493874 -39.450024\n",
      " -39.570656 -39.541992 -39.601276 -40.027958 -39.769493 -39.63963\n",
      " -39.776283 -39.65718  -39.745163 -39.59688  -37.551376] -106.16701\n",
      "[-35.533684 -37.13899  -36.7114   -36.47671  -36.95472  -37.048153\n",
      " -36.76074  -36.78367  -37.241764 -37.13058  -36.699097 -36.64312\n",
      " -36.58115  -36.5796   -36.930138 -36.78447  -36.674797 -36.295235\n",
      " -36.521595 -36.08939  -36.068233 -36.60183  -36.51425  -36.728977\n",
      " -37.014675 -37.01674  -36.634567 -36.97821  -37.02366  -37.048664\n",
      " -36.76641  -36.47056  -34.452564] -103.95833\n",
      "[-31.76321  -33.279015 -33.25418  -33.31162  -33.664524 -33.44157\n",
      " -33.69526  -34.219868 -34.360073 -34.068398 -33.593185 -33.766285\n",
      " -33.75367  -34.241035 -33.592617 -33.633194 -33.49989  -33.36566\n",
      " -33.323467 -33.70487  -33.951878 -33.800495 -34.29937  -33.631588\n",
      " -33.77319  -33.74717  -33.818584 -34.1074   -33.888203 -33.719193\n",
      " -33.820637 -33.987617 -33.92627  -33.90327  -33.77322  -33.170063\n",
      " -33.184784 -33.475433 -33.7576   -33.63058  -34.775055 -34.553757\n",
      " -33.95453  -33.89837  -33.880608 -33.472015 -33.22036  -34.091423\n",
      " -34.35731  -33.57665  -33.384315 -33.66357  -33.879906 -33.48468\n",
      " -33.839317 -33.70933  -33.68371  -33.59803  -33.256226 -33.385525\n",
      " -34.285564 -34.141636 -34.198875 -34.14226  -31.754452] -99.86254\n",
      "[-29.60278  -30.92182  -30.849712 -30.706757 -29.776001 -29.572887\n",
      " -30.209503 -30.637585 -30.781786 -30.418314 -30.66565  -30.335743\n",
      " -31.129152 -31.93061  -31.668846 -31.555786 -30.721987 -31.02329\n",
      " -30.22469  -30.498783 -31.175106 -30.330036 -30.572323 -30.471745\n",
      " -30.161959 -30.267555 -30.68071  -30.87612  -31.504522 -30.710293\n",
      " -30.283176 -31.489595 -30.961613 -29.995472 -30.558605 -31.523165\n",
      " -30.91963  -29.805935 -30.313925 -30.341496 -29.737837 -29.999271\n",
      " -30.00999  -30.011078 -29.342445 -30.091333 -30.800673 -30.775175\n",
      " -30.540833 -30.356594 -30.642815 -30.935286 -31.140104 -30.827244\n",
      " -30.69323  -30.53439  -30.845213 -31.371464 -30.46432  -30.246\n",
      " -30.247585 -29.887852 -30.350548 -31.04883  -31.72786  -31.470293\n",
      " -31.114998 -30.852837 -30.199799 -30.15955  -29.830639 -30.159517\n",
      " -31.780613 -31.379578 -30.190023 -30.163319 -30.289524 -31.43663\n",
      " -31.00257  -30.489735 -30.674759 -30.391674 -30.249025 -31.032698\n",
      " -30.963724 -31.255867 -31.052181 -31.298765 -30.983498 -30.391903\n",
      " -30.153236 -30.518066 -31.057932 -30.995983 -31.140179 -30.940697\n",
      " -30.921452 -31.012922 -30.986563 -30.407616 -30.27404  -30.083704\n",
      " -30.744251 -31.102747 -31.177742 -31.323957 -31.312742 -31.38757\n",
      " -30.756191 -30.121168 -30.492971 -30.337646 -30.388294 -31.0316\n",
      " -30.235762 -31.043705 -30.244518 -31.072933 -31.01677  -31.117636\n",
      " -30.656136 -30.827919 -30.48177  -31.19893  -30.7651   -31.503197\n",
      " -31.097404 -31.477034 -29.9094  ] -97.625046\n"
     ]
    },
    {
     "name": "stdout",
     "output_type": "stream",
     "text": [
      "\n"
     ]
    }
   ],
   "source": [
    "# the assembly code\n",
    "\n",
    "data = []\n",
    "rkeys = sorted(list(register.keys()))\n",
    "\n",
    "for k in tqdm(rkeys):\n",
    "    # generate all kwargs combinations for r\n",
    "    ck= {ka:va for ka,va in register[k]['space'].items()}\n",
    "    mk= list(it.product(*[v for k,v in sorted(ck.items())]))\n",
    "    ks = [k for k,v in sorted(ck.items())]\n",
    "    # start generating\n",
    "    for kw in mk: \n",
    "        kwargs = dict(zip(ks, kw))\n",
    "        datalines = register[k]['maker'](*register[k]['args'], **kwargs)\n",
    "        if not isinstance(datalines, tuple):\n",
    "            datalines = (datalines,)\n",
    "        # process each data line as specified in the outputs\n",
    "        pdatalns = []\n",
    "        for od,dl in zip(register[k]['outputs'], datalines):\n",
    "            if od['range']: \n",
    "                pass # modify dl to fit the [-1 .. 1] range\n",
    "                dl -= od['range'][0] # -= min\n",
    "                dl /= (od['range'][1]  - od['range'][0])# /= (max-min)\n",
    "                dl -= 0.5\n",
    "                dl *= 2.0 \n",
    "            if od['lag']:\n",
    "                # lag dl\n",
    "                b = dl[1:] - dl[0:-1]\n",
    "                b = np.hstack([np.array([np.nan]), b])\n",
    "                dl = b\n",
    "            if od['scale']:\n",
    "                dl = scale(dl)\n",
    "            # todo: other possiblie modifiers, like scaling, etc. \n",
    "            pdatalns.append(dl)\n",
    "        # add the datalines to the big array\n",
    "        data += pdatalns\n",
    "\n",
    "# stack the data now \n",
    "data = vstack(data)"
   ]
  },
  {
   "cell_type": "code",
   "execution_count": 72,
   "metadata": {},
   "outputs": [
    {
     "data": {
      "text/plain": [
       "(11291, 51823)"
      ]
     },
     "execution_count": 72,
     "metadata": {},
     "output_type": "execute_result"
    }
   ],
   "source": [
    "data.shape"
   ]
  },
  {
   "cell_type": "code",
   "execution_count": 73,
   "metadata": {
    "code_folding": [
     3
    ],
    "pycharm": {
     "is_executing": false
    }
   },
   "outputs": [],
   "source": [
    "# cut the nans\n",
    "# find the real start of the data (without NaN)\n",
    "nc = 0\n",
    "for cl in range(data.shape[1]):\n",
    "    a = data[:, cl].reshape(-1)\n",
    "    if len(a[np.isnan(a)]) > 0:\n",
    "        nc = cl\n",
    "# cut off the parts that contain NaN\n",
    "data = data[:, nc + 1:]\n",
    "nc = nc+1"
   ]
  },
  {
   "cell_type": "code",
   "execution_count": 74,
   "metadata": {
    "code_folding": [
     1
    ],
    "pycharm": {
     "is_executing": false
    }
   },
   "outputs": [],
   "source": [
    "# the to_predict part of the data \n",
    "tgt = np.vstack([d_open[nc:], \n",
    "                 d_high[nc:], \n",
    "                 d_low[nc:], \n",
    "                 d_close[nc:]])"
   ]
  },
  {
   "cell_type": "code",
   "execution_count": 75,
   "metadata": {
    "pycharm": {
     "is_executing": false
    }
   },
   "outputs": [],
   "source": [
    "#imshow(data[:, 0:data.shape[0]]); colorbar();"
   ]
  },
  {
   "cell_type": "code",
   "execution_count": 76,
   "metadata": {
    "code_folding": [
     7,
     16,
     47
    ],
    "pycharm": {
     "is_executing": false,
     "name": "#%%\n"
    }
   },
   "outputs": [
    {
     "name": "stdout",
     "output_type": "stream",
     "text": [
      "(51000/51347)\n",
      "Ups: 25366 Downs: 25881\n",
      "Separator: 0.00000\n",
      "\n"
     ]
    }
   ],
   "source": [
    "winlen = 1\n",
    "sliding_window_jump = 1\n",
    "predict_time_ahead = 1\n",
    "sep = 0.000001\n",
    "binary = 1\n",
    "\n",
    "# extract the relevant information only through SeleckKBest\n",
    "def prepare_data(input_source, to_predict, binary=1):\n",
    "\n",
    "    x = []\n",
    "    y = []\n",
    "\n",
    "    ups = []\n",
    "    downs = []\n",
    "    mids = []\n",
    "\n",
    "    for i in range(0, input_source.shape[1]-(winlen+100), sliding_window_jump):\n",
    "        # form the input\n",
    "        txs = input_source[:, i:i+winlen]#.astype(np.float64)\n",
    "        #xs = scale(xs, axis=1)\n",
    "        xs = txs.ravel()\n",
    "\n",
    "        # for the output\n",
    "        now = to_predict[i+winlen-1]# close\n",
    "        future = to_predict[i+winlen+(predict_time_ahead-1)] # next close\n",
    "\n",
    "        ys = future-now\n",
    "        magn = abs(ys)\n",
    "\n",
    "        if not binary:\n",
    "            if magn < sep:\n",
    "                mids.append( (xs, (np.array([1]))) )\n",
    "            else:\n",
    "                if ys < 0:\n",
    "                    downs.append( (xs, (np.array([2]))) )\n",
    "                else:\n",
    "                    ups.append( (xs, (np.array([0]))) )\n",
    "        else:\n",
    "            if ys <= 0:\n",
    "                downs.append( (xs, (np.array([1]))) )\n",
    "            else:\n",
    "                ups.append( (xs, (np.array([0]))) )\n",
    "                \n",
    "        if (i%1000)==0:\n",
    "            clear_output(wait=True)\n",
    "            print('({}/{})'.format(i, input_source.shape[1]-winlen))\n",
    "\n",
    "    if not binary:\n",
    "        print('Ups: {0} Mids: {1} Downs: {2}'.format(len(ups), len(mids), len(downs)))\n",
    "        print('Separator: %3.5f' % sep)\n",
    "    else:\n",
    "        print('Ups: {0} Downs: {1}'.format(len(ups), len(downs)))\n",
    "        print('Separator: %3.5f' % sep)        \n",
    "    print()\n",
    "\n",
    "    if not binary:\n",
    "        samplesize = min(len(ups), len(downs), len(mids))\n",
    "        s1 = rnd.sample(ups, samplesize)\n",
    "        s2 = rnd.sample(downs, samplesize)\n",
    "        s3 = rnd.sample(mids, samplesize)\n",
    "        a = s1 + s2 + s3\n",
    "    else:\n",
    "        samplesize = min(len(ups), len(downs))\n",
    "        s1 = rnd.sample(ups, samplesize)\n",
    "        s2 = rnd.sample(downs, samplesize)\n",
    "        a = s1 + s2 \n",
    "    rnd.shuffle(a)\n",
    "    x = [x[0] for x in a]\n",
    "    y = [x[1] for x in a]\n",
    "\n",
    "    x = np.vstack(x)\n",
    "    y = np.vstack(y)\n",
    "    \n",
    "    x.shape = (x.shape[0], -1)\n",
    "    cutpoint = int(0.8 * x.shape[0])\n",
    "    x_train = x[0:cutpoint]\n",
    "    x_test = x[cutpoint:]\n",
    "    y_train = y[0:cutpoint]\n",
    "    y_test = y[cutpoint:]\n",
    "    \n",
    "    return x_train, x_test, y_train.reshape(-1), y_test.reshape(-1)\n",
    "\n",
    "x_train, x_test, y_train, y_test = prepare_data(data, tgt[3])"
   ]
  },
  {
   "cell_type": "code",
   "execution_count": 77,
   "metadata": {},
   "outputs": [
    {
     "data": {
      "text/plain": [
       "[(40585, 11291), (10147, 11291), (40585,), (10147,)]"
      ]
     },
     "execution_count": 77,
     "metadata": {},
     "output_type": "execute_result"
    }
   ],
   "source": [
    "[x.shape for x in [x_train, x_test, y_train, y_test]]"
   ]
  },
  {
   "cell_type": "code",
   "execution_count": 78,
   "metadata": {
    "pycharm": {
     "is_executing": false,
     "name": "#%%\n"
    }
   },
   "outputs": [
    {
     "name": "stdout",
     "output_type": "stream",
     "text": [
      "Extracting best features..\n"
     ]
    }
   ],
   "source": [
    "# Select K Best\n",
    "print('Extracting best features..')"
   ]
  },
  {
   "cell_type": "raw",
   "metadata": {
    "pycharm": {
     "is_executing": false,
     "name": "#%%\n"
    }
   },
   "source": [
    "K = 100 #int(0.1 * data.shape[0]) # top 10% \n",
    "sl = SelectKBest(k=K)\n",
    "sl.fit(x_train, y_train)\n",
    "\n",
    "data = sl.transform(data.T).T"
   ]
  },
  {
   "cell_type": "code",
   "execution_count": 79,
   "metadata": {},
   "outputs": [
    {
     "name": "stdout",
     "output_type": "stream",
     "text": [
      "CPU times: user 8min 46s, sys: 1min 44s, total: 10min 30s\n",
      "Wall time: 1min 45s\n"
     ]
    }
   ],
   "source": [
    "%%time\n",
    "\n",
    "clf = RidgeClassifier().fit(x_train, y_train)"
   ]
  },
  {
   "cell_type": "code",
   "execution_count": 80,
   "metadata": {},
   "outputs": [
    {
     "name": "stdout",
     "output_type": "stream",
     "text": [
      "CPU times: user 11 µs, sys: 2 µs, total: 13 µs\n",
      "Wall time: 16.5 µs\n"
     ]
    }
   ],
   "source": [
    "%%time\n",
    "\n",
    "sfm = SelectFromModel(clf, prefit=True, threshold='mean', max_features=320)"
   ]
  },
  {
   "cell_type": "code",
   "execution_count": 81,
   "metadata": {},
   "outputs": [
    {
     "name": "stdout",
     "output_type": "stream",
     "text": [
      "CPU times: user 603 ms, sys: 315 µs, total: 604 ms\n",
      "Wall time: 604 ms\n"
     ]
    },
    {
     "data": {
      "text/plain": [
       "320"
      ]
     },
     "execution_count": 81,
     "metadata": {},
     "output_type": "execute_result"
    }
   ],
   "source": [
    "%%time\n",
    "\n",
    "n_features = sfm.transform(x_train).shape[1]\n",
    "n_features"
   ]
  },
  {
   "cell_type": "code",
   "execution_count": 82,
   "metadata": {},
   "outputs": [
    {
     "name": "stdout",
     "output_type": "stream",
     "text": [
      "CPU times: user 411 ms, sys: 8.59 ms, total: 419 ms\n",
      "Wall time: 418 ms\n"
     ]
    }
   ],
   "source": [
    "%%time\n",
    "\n",
    "data = sfm.transform(data.T).T"
   ]
  },
  {
   "cell_type": "code",
   "execution_count": 83,
   "metadata": {
    "pycharm": {
     "is_executing": false,
     "name": "#%%\n"
    }
   },
   "outputs": [
    {
     "name": "stdout",
     "output_type": "stream",
     "text": [
      "done.\n"
     ]
    }
   ],
   "source": [
    "print('done.')"
   ]
  },
  {
   "cell_type": "code",
   "execution_count": null,
   "metadata": {},
   "outputs": [],
   "source": []
  },
  {
   "cell_type": "code",
   "execution_count": 84,
   "metadata": {},
   "outputs": [],
   "source": [
    "#data = scale(data, axis=1)"
   ]
  },
  {
   "cell_type": "code",
   "execution_count": 85,
   "metadata": {
    "pycharm": {
     "is_executing": false,
     "name": "#%%\n"
    }
   },
   "outputs": [],
   "source": [
    "#imshow(data[:, 0:data.shape[0]*2]); colorbar();"
   ]
  },
  {
   "cell_type": "code",
   "execution_count": 86,
   "metadata": {
    "pycharm": {
     "is_executing": false
    }
   },
   "outputs": [],
   "source": [
    "np.save(\"data/data_%s.npy\" % dataname, data)\n",
    "np.save(\"data/data_%s_targets.npy\" % dataname, tgt)"
   ]
  },
  {
   "cell_type": "code",
   "execution_count": null,
   "metadata": {
    "pycharm": {
     "is_executing": false
    }
   },
   "outputs": [],
   "source": []
  },
  {
   "cell_type": "code",
   "execution_count": 87,
   "metadata": {
    "pycharm": {
     "is_executing": false
    }
   },
   "outputs": [],
   "source": [
    "#np.min(data, axis=1)"
   ]
  },
  {
   "cell_type": "code",
   "execution_count": 88,
   "metadata": {
    "pycharm": {
     "is_executing": false
    }
   },
   "outputs": [],
   "source": [
    "#np.max(data, axis=1)"
   ]
  },
  {
   "cell_type": "code",
   "execution_count": null,
   "metadata": {
    "pycharm": {
     "is_executing": false
    }
   },
   "outputs": [],
   "source": []
  },
  {
   "cell_type": "code",
   "execution_count": null,
   "metadata": {
    "pycharm": {
     "is_executing": false
    }
   },
   "outputs": [],
   "source": []
  }
 ],
 "metadata": {
  "kernelspec": {
   "display_name": "Python 3",
   "language": "python",
   "name": "python3"
  },
  "language_info": {
   "codemirror_mode": {
    "name": "ipython",
    "version": 3
   },
   "file_extension": ".py",
   "mimetype": "text/x-python",
   "name": "python",
   "nbconvert_exporter": "python",
   "pygments_lexer": "ipython3",
   "version": "3.6.8"
  },
  "pycharm": {
   "stem_cell": {
    "cell_type": "raw",
    "metadata": {
     "collapsed": false
    },
    "source": []
   }
  },
  "toc": {
   "base_numbering": 1,
   "nav_menu": {},
   "number_sections": true,
   "sideBar": true,
   "skip_h1_title": false,
   "title_cell": "Table of Contents",
   "title_sidebar": "Contents",
   "toc_cell": false,
   "toc_position": {},
   "toc_section_display": true,
   "toc_window_display": false
  }
 },
 "nbformat": 4,
 "nbformat_minor": 1
}
